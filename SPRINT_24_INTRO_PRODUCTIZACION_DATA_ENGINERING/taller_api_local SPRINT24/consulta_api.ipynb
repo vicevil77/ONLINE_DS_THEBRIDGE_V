{
 "cells": [
  {
   "cell_type": "code",
   "execution_count": 13,
   "metadata": {},
   "outputs": [],
   "source": [
    "import requests\n",
    "import json\n",
    "url= \"http://127.0.0.1:5000/\"\n",
    "\n",
    "endpoint_get= \"api/v2/resources/book\"\n",
    "\n",
    "datos ={\"id\":\"3\"}\n",
    "respuesta= requests.get(url+endpoint_get, json=datos)"
   ]
  },
  {
   "cell_type": "code",
   "execution_count": 14,
   "metadata": {},
   "outputs": [
    {
     "data": {
      "text/plain": [
       "200"
      ]
     },
     "execution_count": 14,
     "metadata": {},
     "output_type": "execute_result"
    }
   ],
   "source": [
    "respuesta.status_code"
   ]
  },
  {
   "cell_type": "code",
   "execution_count": 15,
   "metadata": {},
   "outputs": [
    {
     "data": {
      "text/plain": [
       "'{\\n  \"author\": \"Jaime G. P\\\\u00e1ramo\",\\n  \"first_sentence\": \"There were tears on her eyes and fears trapped her mind but, inside, the courage of those who have nothing to lose and all to win, flown wild and free.\",\\n  \"id\": 3,\\n  \"published\": \"2025\",\\n  \"title\": \"The Chain\"\\n}\\n'"
      ]
     },
     "execution_count": 15,
     "metadata": {},
     "output_type": "execute_result"
    }
   ],
   "source": [
    "respuesta.text\n"
   ]
  },
  {
   "cell_type": "code",
   "execution_count": 16,
   "metadata": {},
   "outputs": [
    {
     "name": "stdout",
     "output_type": "stream",
     "text": [
      "{'author': 'Jaime G. Páramo', 'first_sentence': 'There were tears on her eyes and fears trapped her mind but, inside, the courage of those who have nothing to lose and all to win, flown wild and free.', 'id': 3, 'published': '2025', 'title': 'The Chain'}\n"
     ]
    }
   ],
   "source": [
    "print(respuesta.json())"
   ]
  },
  {
   "cell_type": "code",
   "execution_count": 17,
   "metadata": {},
   "outputs": [],
   "source": [
    "books = {'id': 4, \n",
    "     'title': 'Las aventuras de Jaime e Ivan', \n",
    "     'author': 'Victor Martinez', \n",
    "     'first_sentence': '!Dios mio!, que paciencia tuvieron conmigo.', \n",
    "     'year_published': '2024'}"
   ]
  },
  {
   "cell_type": "code",
   "execution_count": 18,
   "metadata": {},
   "outputs": [],
   "source": [
    "endpoint_post= 'api/v1/resources/book'\n",
    "\n",
    "respuesta= requests.post(url+endpoint_post, json=books)"
   ]
  },
  {
   "cell_type": "code",
   "execution_count": 19,
   "metadata": {},
   "outputs": [
    {
     "data": {
      "text/plain": [
       "200"
      ]
     },
     "execution_count": 19,
     "metadata": {},
     "output_type": "execute_result"
    }
   ],
   "source": [
    "respuesta.status_code"
   ]
  },
  {
   "cell_type": "code",
   "execution_count": 27,
   "metadata": {},
   "outputs": [],
   "source": [
    "endpoint_bd= \"api/v1/resources/book/filter\"\n",
    "book2= {\"author\":\"Arthur C. Clarke\", \"published\":\"1980\"}\n",
    "respuesta= requests.get(url+endpoint_bd, json=book2)"
   ]
  },
  {
   "cell_type": "code",
   "execution_count": 28,
   "metadata": {},
   "outputs": [
    {
     "data": {
      "text/plain": [
       "200"
      ]
     },
     "execution_count": 28,
     "metadata": {},
     "output_type": "execute_result"
    }
   ],
   "source": [
    "respuesta.status_code"
   ]
  },
  {
   "cell_type": "code",
   "execution_count": 29,
   "metadata": {},
   "outputs": [
    {
     "name": "stdout",
     "output_type": "stream",
     "text": [
      "{'books': [[None,\n",
      "            1980,\n",
      "            'Arthur C. Clarke',\n",
      "            'The Fountains of Paradise',\n",
      "            'The crown grew heavier with each passing year.']]}\n"
     ]
    }
   ],
   "source": [
    "from pprint import pprint\n",
    "\n",
    "pprint(respuesta.json())\n"
   ]
  }
 ],
 "metadata": {
  "kernelspec": {
   "display_name": "SD-kerascv",
   "language": "python",
   "name": "python3"
  },
  "language_info": {
   "codemirror_mode": {
    "name": "ipython",
    "version": 3
   },
   "file_extension": ".py",
   "mimetype": "text/x-python",
   "name": "python",
   "nbconvert_exporter": "python",
   "pygments_lexer": "ipython3",
   "version": "3.8.19"
  }
 },
 "nbformat": 4,
 "nbformat_minor": 2
}

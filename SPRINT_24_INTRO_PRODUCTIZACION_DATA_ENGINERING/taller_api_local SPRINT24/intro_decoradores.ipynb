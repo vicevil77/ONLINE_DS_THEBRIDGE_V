{
 "cells": [
  {
   "cell_type": "markdown",
   "metadata": {},
   "source": [
    "### **BREVE INTRO A LOS DECORADORES**"
   ]
  },
  {
   "cell_type": "markdown",
   "metadata": {},
   "source": [
    "Los decoradores en Python son una característica poderosa y flexible que permite modificar o extender el comportamiento de funciones o métodos de forma transparente. Los decoradores son funciones que toman otra función o método como argumento y retornan una nueva función o método con algún tipo de modificación.\n",
    "\n",
    "Aquí hay tres ejemplos simples de cómo usar decoradores en Python:\n",
    "\n",
    "1. **Registro de tiempo de ejecución:**\n",
    "Supongamos que queremos medir el tiempo que tarda una función en ejecutarse. Podemos crear un decorador para esto:\n"
   ]
  },
  {
   "cell_type": "code",
   "execution_count": null,
   "metadata": {},
   "outputs": [],
   "source": [
    "\n",
    "import time\n",
    "\n",
    "def calcular_tiempo_ejecucion(funcion):\n",
    "    def wrapper(*args, **kwargs):\n",
    "        inicio = time.time()\n",
    "        resultado = funcion(*args, **kwargs)\n",
    "        fin = time.time()\n",
    "        print(f\"Tiempo de ejecución de {funcion.__name__}: {fin - inicio} segundos\")\n",
    "        return resultado\n",
    "    return wrapper\n",
    "\n",
    "@calcular_tiempo_ejecucion\n",
    "def mi_funcion():\n",
    "    # Supongamos que esta es una función que hace algo que queremos medir\n",
    "    time.sleep(2)\n",
    "    print(\"Función ejecutada\")\n",
    "\n",
    "mi_funcion()\n"
   ]
  },
  {
   "cell_type": "markdown",
   "metadata": {},
   "source": [
    "\n",
    "\n",
    "Este decorador `calcular_tiempo_ejecucion` envuelve la función `mi_funcion` y calcula el tiempo que tarda en ejecutarse.\n",
    "\n",
    "2. **Validación de entrada:**\n",
    "Podemos usar un decorador para validar los argumentos de una función:\n",
    "\n"
   ]
  },
  {
   "cell_type": "code",
   "execution_count": null,
   "metadata": {},
   "outputs": [],
   "source": [
    "\n",
    "def validar_argumentos(funcion):\n",
    "    def wrapper(*args, **kwargs):\n",
    "        for arg in args:\n",
    "            if not isinstance(arg, int):\n",
    "                raise TypeError(\"Los argumentos deben ser enteros\")\n",
    "        return funcion(*args, **kwargs)\n",
    "    return wrapper\n",
    "\n",
    "@validar_argumentos\n",
    "def suma(a, b):\n",
    "    return a + b\n",
    "\n",
    "# Esto funcionará\n",
    "print(suma(3, 5))\n",
    "\n",
    "# Esto lanzará un error\n",
    "print(suma(3, \"5\"))\n"
   ]
  },
  {
   "cell_type": "markdown",
   "metadata": {},
   "source": [
    "\n",
    "\n",
    "Este decorador `validar_argumentos` asegura que todos los argumentos pasados a la función `suma` sean enteros.\n",
    "\n",
    "3. **Autenticación de usuario:**\n",
    "Supongamos que queremos asegurarnos de que solo los usuarios autenticados puedan acceder a ciertas funciones:\n"
   ]
  },
  {
   "cell_type": "code",
   "execution_count": null,
   "metadata": {},
   "outputs": [],
   "source": [
    "\n",
    "\n",
    "usuario_autenticado = False\n",
    "\n",
    "def requerir_autenticacion(funcion):\n",
    "    def wrapper(*args, **kwargs):\n",
    "        if usuario_autenticado:\n",
    "            return funcion(*args, **kwargs)\n",
    "        else:\n",
    "            raise PermissionError(\"Debe iniciar sesión para acceder a esta función\")\n",
    "    return wrapper\n",
    "\n",
    "@requerir_autenticacion\n",
    "def funcion_privada():\n",
    "    print(\"Esta es una función privada\")\n",
    "\n",
    "# Intentamos llamar a la función sin autenticarnos\n",
    "funcion_privada()  # Esto lanzará un error\n",
    "\n",
    "# Simulamos autenticación\n",
    "usuario_autenticado = True\n",
    "\n",
    "# Ahora podemos llamar a la función sin problemas\n",
    "funcion_privada()\n"
   ]
  },
  {
   "cell_type": "markdown",
   "metadata": {},
   "source": [
    "\n",
    "\n",
    "Este decorador `requerir_autenticacion` verifica si el usuario está autenticado antes de permitir el acceso a la función `funcion_privada`.\n",
    "\n",
    "Estos son solo ejemplos básicos para ilustrar el concepto de decoradores en Python. Se pueden crear decoradores mucho más complejos para realizar una variedad de tareas útiles, como el manejo de errores, la caché de resultados, la transformación de datos, entre otros."
   ]
  },
  {
   "cell_type": "markdown",
   "metadata": {},
   "source": []
  }
 ],
 "metadata": {
  "kernelspec": {
   "display_name": "Curso_Online_DATA",
   "language": "python",
   "name": "python3"
  },
  "language_info": {
   "codemirror_mode": {
    "name": "ipython",
    "version": 3
   },
   "file_extension": ".py",
   "mimetype": "text/x-python",
   "name": "python",
   "nbconvert_exporter": "python",
   "pygments_lexer": "ipython3",
   "version": "3.11.9"
  }
 },
 "nbformat": 4,
 "nbformat_minor": 2
}

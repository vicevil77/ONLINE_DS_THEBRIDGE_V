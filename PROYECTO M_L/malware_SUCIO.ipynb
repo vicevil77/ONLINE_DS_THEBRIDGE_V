{
 "cells": [
  {
   "cell_type": "code",
   "execution_count": null,
   "metadata": {},
   "outputs": [],
   "source": [
    "columnas_numericas = df.drop([\"Target\"], axis=1).select_dtypes(include=['number'])\n",
    "scaler = MinMaxScaler()\n",
    "\n",
    "# Escalo datos\n",
    "col_num_scal = scaler.fit_transform(columnas_numericas)\n",
    "\n",
    "# rangos que queremos\n",
    "rango_deseado_min = 0\n",
    "rango_deseado_max = 1\n",
    "\n",
    "# Multiplica los datos x los rangos\n",
    "col_num_scal_rangos= col_num_scal * (rango_deseado_max - rango_deseado_min) + rango_deseado_min\n",
    "\n",
    "# Redondea los datos escalados rescalados al entero más cercano\n",
    "col_num_scal_round = pd.DataFrame(col_num_scal_rangos).round().astype(int)\n",
    "\n",
    "# Concatena los datos rescalados enteros con la columna \"Target\" y el resto del DataFrame original\n",
    "df = pd.concat([df[\"Target\"], col_num_scal_round], axis=1)"
   ]
  },
  {
   "cell_type": "code",
   "execution_count": null,
   "metadata": {},
   "outputs": [],
   "source": []
  },
  {
   "cell_type": "code",
   "execution_count": null,
   "metadata": {},
   "outputs": [],
   "source": []
  },
  {
   "cell_type": "code",
   "execution_count": null,
   "metadata": {},
   "outputs": [],
   "source": []
  },
  {
   "cell_type": "code",
   "execution_count": null,
   "metadata": {},
   "outputs": [],
   "source": []
  },
  {
   "cell_type": "code",
   "execution_count": null,
   "metadata": {},
   "outputs": [],
   "source": []
  },
  {
   "cell_type": "code",
   "execution_count": null,
   "metadata": {},
   "outputs": [],
   "source": []
  },
  {
   "cell_type": "code",
   "execution_count": null,
   "metadata": {},
   "outputs": [],
   "source": []
  },
  {
   "cell_type": "code",
   "execution_count": null,
   "metadata": {},
   "outputs": [],
   "source": []
  },
  {
   "cell_type": "code",
   "execution_count": null,
   "metadata": {},
   "outputs": [],
   "source": []
  },
  {
   "cell_type": "code",
   "execution_count": null,
   "metadata": {},
   "outputs": [],
   "source": []
  },
  {
   "cell_type": "code",
   "execution_count": null,
   "metadata": {},
   "outputs": [],
   "source": []
  }
 ],
 "metadata": {
  "language_info": {
   "name": "python"
  }
 },
 "nbformat": 4,
 "nbformat_minor": 2
}

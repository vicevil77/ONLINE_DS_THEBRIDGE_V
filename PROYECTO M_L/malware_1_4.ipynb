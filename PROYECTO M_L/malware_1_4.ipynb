{
 "cells": [
  {
   "cell_type": "code",
   "execution_count": 1,
   "metadata": {},
   "outputs": [],
   "source": [
    "import os\n",
    "import tensorflow as tf\n",
    "\n",
    "os.environ[\"CUDA_VISIBLE_DEVICES\"] = \"0\" # Selecciona el índice de la GPU\n",
    "\n",
    "physical_devices = tf.config.list_physical_devices('GPU')\n",
    "\n",
    "tf.config.experimental.set_memory_growth(physical_devices[0], True)\n"
   ]
  },
  {
   "cell_type": "code",
   "execution_count": null,
   "metadata": {},
   "outputs": [],
   "source": [
    "\"\"\"from tensorboard import program\n",
    "\n",
    "log_dir = \"./home/vicevil/Documentos/graficas/logs\"\n",
    "tb=program.TensorBoard()\n",
    "tb.configure(argv=[None, '--logdir', log_dir])\n",
    "url = tb.launch() #  lanza TensorBoard en el navegador\"\"\""
   ]
  },
  {
   "cell_type": "code",
   "execution_count": 2,
   "metadata": {},
   "outputs": [],
   "source": [
    "import numpy as np\n",
    "import pandas as pd\n",
    "import matplotlib.pyplot as plt\n",
    "#import seaborn as sns\n",
    "import os\n",
    "#from scipy.sparse import hstack\n",
    "#import funciones_ML as bt\n",
    "from sklearn.feature_extraction.text import TfidfVectorizer, FeatureHasher\n",
    "from sklearn.model_selection import train_test_split, GridSearchCV, RandomizedSearchCV\n",
    "from sklearn.preprocessing import StandardScaler, OneHotEncoder, MinMaxScaler, LabelEncoder, Normalizer,MaxAbsScaler\n",
    "from sklearn.metrics import accuracy_score, ConfusionMatrixDisplay,classification_report,r2_score,RocCurveDisplay,confusion_matrix, accuracy_score,recall_score,f1_score,precision_score,precision_recall_fscore_support\n",
    "from sklearn.linear_model import LogisticRegression, LinearRegression, Ridge, Lasso, ElasticNet, SGDRegressor, SGDClassifier, RidgeClassifier\n",
    "from sklearn.tree import DecisionTreeClassifier, DecisionTreeRegressor\n",
    "from sklearn.ensemble import RandomForestClassifier, RandomForestRegressor, GradientBoostingClassifier, GradientBoostingRegressor\n",
    "from sklearn.svm import SVC, SVR\n",
    "from sklearn.pipeline import Pipeline\n",
    "from sklearn.compose import ColumnTransformer\n",
    "from sklearn.cluster import KMeans\n",
    "#from imblearn.under_sampling import RandomUnderSampler\n",
    "\n",
    "from tensorflow.keras.optimizers import Adam, SGD\n",
    "from tensorflow.keras.models import Sequential\n",
    "from tensorflow.keras.layers import Conv2D, MaxPooling2D, Flatten, Dense,Dropout\n",
    "from tensorflow.keras.utils import to_categorical\n",
    "from tensorflow.keras.callbacks import TensorBoard, ModelCheckpoint,ReduceLROnPlateau,CallbackList\n",
    "from tensorflow.keras.regularizers import l2, l1, l1_l2\n",
    "from tensorflow.keras import regularizers\n",
    "from tensorflow.keras.losses import CategoricalCrossentropy, sparse_categorical_crossentropy, binary_crossentropy\n",
    "from tensorflow.keras.layers import Activation\n",
    "from tensorflow.keras.callbacks import ReduceLROnPlateau\n",
    "\n",
    "\n",
    "\n",
    "\n",
    "\n",
    "# Configurar pandas para mostrar todas las filas y columnas\n",
    "#pd.set_option('display.max_rows', None)\n",
    "pd.set_option('display.max_columns', None)\n",
    "pd.set_option('display.width', None)\n",
    "pd.set_option('display.max_colwidth', None)\n",
    "\n",
    "\n",
    "# Código para los tamaños de las fuentes y los \"ticks\" de los ejes:\n",
    "plt.rc('font', size=6)\n",
    "plt.rc('xtick', labelsize=10)\n",
    "plt.rc('ytick', labelsize=10)"
   ]
  },
  {
   "cell_type": "code",
   "execution_count": 3,
   "metadata": {},
   "outputs": [],
   "source": [
    "import ray\n",
    "import ray as rd\n",
    "from ray.data import Dataset\n",
    "from ray.train import xgboost\n",
    "from ray.data.block import BlockAccessor\n",
    "import warnings\n",
    "\n"
   ]
  },
  {
   "cell_type": "code",
   "execution_count": 6,
   "metadata": {},
   "outputs": [
    {
     "name": "stderr",
     "output_type": "stream",
     "text": [
      "2024-04-01 16:12:37,249\tINFO worker.py:1743 -- Started a local Ray instance. View the dashboard at \u001b[1m\u001b[32m127.0.0.1:8265 \u001b[39m\u001b[22m\n"
     ]
    },
    {
     "name": "stdout",
     "output_type": "stream",
     "text": [
      "1\n"
     ]
    }
   ],
   "source": [
    "ray.init()\n",
    "\n",
    "@ray.remote\n",
    "def my_function():\n",
    "    return 1\n",
    "\n",
    "# Llamada a la función remota.\n",
    "result_id = my_function.remote()\n",
    "result = ray.get(result_id) \n",
    "print(result)\n"
   ]
  },
  {
   "cell_type": "markdown",
   "metadata": {},
   "source": [
    "APLICACION RED NEURONAL AL DATASET LIMPIO MENOS LAS 3 TRAS EL ESTUDIO DE CORRELACION"
   ]
  },
  {
   "cell_type": "code",
   "execution_count": 8,
   "metadata": {},
   "outputs": [],
   "source": [
    "# Ruta al archivo CSV gigante\n",
    "file_path_wsl = \"/mnt/d/Cursos/REPOSITORIOS/DATASET/malware_total/original/df_one_hot_full_ml_mm.csv\"\n",
    "file_path_w11= \"D:\\Cursos\\REPOSITORIOS\\DATASET\\malware_total\\original\\df_one_hot_full_ml_mm.csv\""
   ]
  },
  {
   "cell_type": "code",
   "execution_count": 19,
   "metadata": {},
   "outputs": [
    {
     "data": {
      "text/plain": [
       "''"
      ]
     },
     "execution_count": 19,
     "metadata": {},
     "output_type": "execute_result"
    }
   ],
   "source": [
    "ds = ray.data.read_csv(file_path_w11)\n",
    "ds.repartition(4)\n",
    "repartitioned_ds.stats()\n"
   ]
  },
  {
   "cell_type": "code",
   "execution_count": null,
   "metadata": {},
   "outputs": [],
   "source": [
    "repartitioned_ds.show(2)"
   ]
  },
  {
   "cell_type": "code",
   "execution_count": null,
   "metadata": {},
   "outputs": [
    {
     "name": "stderr",
     "output_type": "stream",
     "text": [
      "2024-04-01 16:14:57,142\tINFO dataset.py:2368 -- Tip: Use `take_batch()` instead of `take() / show()` to return records in pandas or numpy batch format.\n",
      "2024-04-01 16:14:57,152\tINFO streaming_executor.py:115 -- Starting execution of Dataset. Full log is in C:\\Users\\victo\\AppData\\Local\\Temp\\ray\\session_2024-04-01_16-12-34_041718_5112\\logs/ray-data.log\n",
      "2024-04-01 16:14:57,152\tINFO streaming_executor.py:116 -- Execution plan of Dataset: InputDataBuffer[Input] -> TaskPoolMapOperator[ReadCSV] -> LimitOperator[limit=8]\n",
      "\n"
     ]
    },
    {
     "data": {
      "application/vnd.jupyter.widget-view+json": {
       "model_id": "25bfed82765143f8839c2e967b98e454",
       "version_major": 2,
       "version_minor": 0
      },
      "text/plain": [
       "- ReadCSV 1:   0%|          | 0/1 [00:00<?, ?it/s]"
      ]
     },
     "metadata": {},
     "output_type": "display_data"
    },
    {
     "data": {
      "application/vnd.jupyter.widget-view+json": {
       "model_id": "a921cd2691624115a84b952db4fa06cd",
       "version_major": 2,
       "version_minor": 0
      },
      "text/plain": [
       "- limit=8 2:   0%|          | 0/1 [00:00<?, ?it/s]"
      ]
     },
     "metadata": {},
     "output_type": "display_data"
    },
    {
     "data": {
      "application/vnd.jupyter.widget-view+json": {
       "model_id": "fa6ec14b17ac4a109a28b507828580ea",
       "version_major": 2,
       "version_minor": 0
      },
      "text/plain": [
       "Running 0:   0%|          | 0/1 [00:00<?, ?it/s]"
      ]
     },
     "metadata": {},
     "output_type": "display_data"
    },
    {
     "name": "stdout",
     "output_type": "stream",
     "text": [
      "{'': 0, '0': 0.0003509575, '1': 4.5435716e-08, '2': 0.0, '3': 0.0, '4': 0.36363637, '5': 0.65217394, '6': 0.0, 'proto_icmp': 0.0, 'proto_tcp': 1.0, 'proto_udp': 0.0, 'conn_state_OTH': 0.0, 'conn_state_REJ': 0.0, 'conn_state_RSTO': 0.0, 'conn_state_RSTOS0': 0.0, 'conn_state_RSTR': 0.0, 'conn_state_RSTRH': 0.0, 'conn_state_S0': 1.0, 'conn_state_S1': 0.0, 'conn_state_S2': 0.0, 'conn_state_S3': 0.0, 'conn_state_SF': 0.0, 'conn_state_SH': 0.0, 'conn_state_SHR': 0.0, 'history_Aa': 0.0, 'history_Ar': 0.0, 'history_C': 0.0, 'history_CCC': 0.0, 'history_CCCC': 0.0, 'history_D': 0.0, 'history_DAd': 0.0, 'history_DFafA': 0.0, 'history_DFr': 0.0, 'history_DT': 0.0, 'history_DTT': 0.0, 'history_D^': 0.0, 'history_D^d': 0.0, 'history_DaFfA': 0.0, 'history_Dd': 0.0, 'history_DdA': 0.0, 'history_DdAa': 0.0, 'history_DdAaFf': 0.0, 'history_DdAtaFf': 0.0, 'history_Dr': 0.0, 'history_DrF': 0.0, 'history_F': 0.0, 'history_Fa': 0.0, 'history_FaAr': 0.0, 'history_FaR': 0.0, 'history_FfA': 0.0, 'history_Ffa': 0.0, 'history_Fr': 0.0, 'history_HaADdFf': 0.0, 'history_HaDdAFTf': 0.0, 'history_HaDdAFf': 0.0, 'history_HaDdAfF': 0.0, 'history_HaDdAr': 0.0, 'history_HaDdR': 0.0, 'history_HaDdTAFf': 0.0, 'history_HaFfA': 0.0, 'history_HaR': 0.0, 'history_HafFr': 0.0, 'history_I': 0.0, 'history_R': 0.0, 'history_S': 1.0, 'history_SAD': 0.0, 'history_SI': 0.0, 'history_SaR': 0.0, 'history_SahAdDF': 0.0, 'history_SahAdDFRf': 0.0, 'history_SahAdDFf': 0.0, 'history_SahAdDrfR': 0.0, 'history_SahAdDtFf': 0.0, 'history_ShA': 0.0, 'history_ShAD': 0.0, 'history_ShADCaGcgd': 0.0, 'history_ShADCaGdfF': 0.0, 'history_ShADF': 0.0, 'history_ShADFa': 0.0, 'history_ShADFaR': 0.0, 'history_ShADFadfR': 0.0, 'history_ShADFadfRR': 0.0, 'history_ShADFar': 0.0, 'history_ShADFfR': 0.0, 'history_ShADFfa': 0.0, 'history_ShADFr': 0.0, 'history_ShADa': 0.0, 'history_ShADaCGcgdF': 0.0, 'history_ShADaCGdt': 0.0, 'history_ShADaCGdtfF': 0.0, 'history_ShADaCGr': 0.0, 'history_ShADaF': 0.0, 'history_ShADaFr': 0.0, 'history_ShADaR': 0.0, 'history_ShADacdtfF': 0.0, 'history_ShADad': 0.0, 'history_ShADadFf': 0.0, 'history_ShADadFfR': 0.0, 'history_ShADadR': 0.0, 'history_ShADadRf': 0.0, 'history_ShADadf': 0.0, 'history_ShADadfF': 0.0, 'history_ShADadfR': 0.0, 'history_ShADadfr': 0.0, 'history_ShADadfrr': 0.0, 'history_ShADadftFR': 0.0, 'history_ShADadtFf': 0.0, 'history_ShADadtRf': 0.0, 'history_ShADadtcfF': 0.0, 'history_ShADadtctfF': 0.0, 'history_ShADadtctfFR': 0.0, 'history_ShADadtfF': 0.0, 'history_ShADadttFf': 0.0, 'history_ShADadttcfF': 0.0, 'history_ShADadttfF': 0.0, 'history_ShADafF': 0.0, 'history_ShADafdtF': 0.0, 'history_ShADafr': 0.0, 'history_ShADar': 0.0, 'history_ShADarfF': 0.0, 'history_ShADdFaf': 0.0, 'history_ShADdFf': 0.0, 'history_ShADda': 0.0, 'history_ShADdaf': 0.0, 'history_ShADdafR': 0.0, 'history_ShADdattFfR': 0.0, 'history_ShADdf': 0.0, 'history_ShADdfF': 0.0, 'history_ShADdfFa': 0.0, 'history_ShADdfR': 0.0, 'history_ShADdtaFf': 0.0, 'history_ShADdtatFfR': 0.0, 'history_ShADfF': 0.0, 'history_ShADfFa': 0.0, 'history_ShADfFr': 0.0, 'history_ShADfFrr': 0.0, 'history_ShADfR': 0.0, 'history_ShADfaF': 0.0, 'history_ShADfdtFaR': 0.0, 'history_ShADfdtR': 0.0, 'history_ShADfrF': 0.0, 'history_ShADfrFr': 0.0, 'history_ShADr': 0.0, 'history_ShADrfR': 0.0, 'history_ShAF': 0.0, 'history_ShAFa': 0.0, 'history_ShAFafR': 0.0, 'history_ShAFdRfR': 0.0, 'history_ShAFdfRt': 0.0, 'history_ShAFf': 0.0, 'history_ShAFfR': 0.0, 'history_ShAFr': 0.0, 'history_ShAa': 0.0, 'history_ShAadDFR': 0.0, 'history_ShAadDFRf': 0.0, 'history_ShAadDFf': 0.0, 'history_ShAadDfF': 0.0, 'history_ShAadDr': 0.0, 'history_ShAafF': 0.0, 'history_ShAar': 0.0, 'history_ShAaw': 0.0, 'history_ShAaww': 0.0, 'history_ShAdD': 0.0, 'history_ShAdDFaf': 0.0, 'history_ShAdDFar': 0.0, 'history_ShAdDFf': 0.0, 'history_ShAdDFfR': 0.0, 'history_ShAdDR': 0.0, 'history_ShAdDTafF': 0.0, 'history_ShAdDa': 0.0, 'history_ShAdDaF': 0.0, 'history_ShAdDaFR': 0.0, 'history_ShAdDaFRR': 0.0, 'history_ShAdDaFRRRf': 0.0, 'history_ShAdDaFRRf': 0.0, 'history_ShAdDaFRRfR': 0.0, 'history_ShAdDaFRf': 0.0, 'history_ShAdDaFRfR': 0.0, 'history_ShAdDaFRfRR': 0.0, 'history_ShAdDaFRr': 0.0, 'history_ShAdDaFT': 0.0, 'history_ShAdDaFTf': 0.0, 'history_ShAdDaFf': 0.0, 'history_ShAdDaFfR': 0.0, 'history_ShAdDaFfRR': 0.0, 'history_ShAdDaFfr': 0.0, 'history_ShAdDaFr': 0.0, 'history_ShAdDaFrR': 0.0, 'history_ShAdDaR': 0.0, 'history_ShAdDaRR': 0.0, 'history_ShAdDaRRR': 0.0, 'history_ShAdDaRr': 0.0, 'history_ShAdDaT': 0.0, 'history_ShAdDaTF': 0.0, 'history_ShAdDaTFR': 0.0, 'history_ShAdDaTFRf': 0.0, 'history_ShAdDaTFf': 0.0, 'history_ShAdDaTFfR': 0.0, 'history_ShAdDaTR': 0.0, 'history_ShAdDaTRf': 0.0, 'history_ShAdDaTRft': 0.0, 'history_ShAdDaTRr': 0.0, 'history_ShAdDaTTRf': 0.0, 'history_ShAdDaTfF': 0.0, 'history_ShAdDaTfR': 0.0, 'history_ShAdDaTfRr': 0.0, 'history_ShAdDaTfr': 0.0, 'history_ShAdDaf': 0.0, 'history_ShAdDafF': 0.0, 'history_ShAdDafFR': 0.0, 'history_ShAdDafFr': 0.0, 'history_ShAdDafFrR': 0.0, 'history_ShAdDafFrr': 0.0, 'history_ShAdDafR': 0.0, 'history_ShAdDafr': 0.0, 'history_ShAdDafrFr': 0.0, 'history_ShAdDafrR': 0.0, 'history_ShAdDaft': 0.0, 'history_ShAdDaftF': 0.0, 'history_ShAdDaftFR': 0.0, 'history_ShAdDar': 0.0, 'history_ShAdDarfR': 0.0, 'history_ShAdDarr': 0.0, 'history_ShAdDatFf': 0.0, 'history_ShAdDatFr': 0.0, 'history_ShAdDatFrR': 0.0, 'history_ShAdDatR': 0.0, 'history_ShAdDatRRR': 0.0, 'history_ShAdDatf': 0.0, 'history_ShAdDatfF': 0.0, 'history_ShAdDatfr': 0.0, 'history_ShAdDatrfR': 0.0, 'history_ShAdDfFa': 0.0, 'history_ShAdDfFr': 0.0, 'history_ShAdDfr': 0.0, 'history_ShAdDr': 0.0, 'history_ShAdDtaFf': 0.0, 'history_ShAdDtaFr': 0.0, 'history_ShAdDtaR': 0.0, 'history_ShAdDtafF': 0.0, 'history_ShAdDtafFr': 0.0, 'history_ShAdF': 0.0, 'history_ShAdFaRf': 0.0, 'history_ShAdFaf': 0.0, 'history_ShAdaDR': 0.0, 'history_ShAdaFr': 0.0, 'history_ShAdfDF': 0.0, 'history_ShAdfDFr': 0.0, 'history_ShAdfDr': 0.0, 'history_ShAdfF': 0.0, 'history_ShAdfFa': 0.0, 'history_ShAdfr': 0.0, 'history_ShAdr': 0.0, 'history_ShAdtDaFr': 0.0, 'history_ShAdtDaFrR': 0.0, 'history_ShAdtDafF': 0.0, 'history_ShAdtfFa': 0.0, 'history_ShAfF': 0.0, 'history_ShAfFa': 0.0, 'history_ShAfFr': 0.0, 'history_ShAfdtDFr': 0.0, 'history_ShAfdtDr': 0.0, 'history_ShAfdtF': 0.0, 'history_ShAfdtFa': 0.0, 'history_ShAfr': 0.0, 'history_ShAr': 0.0, 'history_ShArR': 0.0, 'history_ShArr': 0.0, 'history_ShDadAf': 0.0, 'history_ShR': 0.0, 'history_ShrA': 0.0, 'history_ShwA': 0.0, 'history_ShwAr': 0.0, 'history_Sr': 0.0, 'history_^aA': 0.0, 'history_^aR': 0.0, 'history_^c': 0.0, 'history_^d': 0.0, 'history_^dDA': 0.0, 'history_^dtt': 0.0, 'history_^hA': 0.0, 'history_^hADFr': 0.0, 'history_^hADadfR': 0.0, 'history_^hADafF': 0.0, 'history_^hADr': 0.0, 'history_^hR': 0.0, 'history_^r': 0.0, 'history_nan': 0.0}\n",
      "{'': 1, '0': 0.0003509575, '1': 1.5145238e-08, '2': 0.0, '3': 0.0, '4': 0.36363637, '5': 0.65217394, '6': 0.0, 'proto_icmp': 0.0, 'proto_tcp': 1.0, 'proto_udp': 0.0, 'conn_state_OTH': 0.0, 'conn_state_REJ': 0.0, 'conn_state_RSTO': 0.0, 'conn_state_RSTOS0': 0.0, 'conn_state_RSTR': 0.0, 'conn_state_RSTRH': 0.0, 'conn_state_S0': 1.0, 'conn_state_S1': 0.0, 'conn_state_S2': 0.0, 'conn_state_S3': 0.0, 'conn_state_SF': 0.0, 'conn_state_SH': 0.0, 'conn_state_SHR': 0.0, 'history_Aa': 0.0, 'history_Ar': 0.0, 'history_C': 0.0, 'history_CCC': 0.0, 'history_CCCC': 0.0, 'history_D': 0.0, 'history_DAd': 0.0, 'history_DFafA': 0.0, 'history_DFr': 0.0, 'history_DT': 0.0, 'history_DTT': 0.0, 'history_D^': 0.0, 'history_D^d': 0.0, 'history_DaFfA': 0.0, 'history_Dd': 0.0, 'history_DdA': 0.0, 'history_DdAa': 0.0, 'history_DdAaFf': 0.0, 'history_DdAtaFf': 0.0, 'history_Dr': 0.0, 'history_DrF': 0.0, 'history_F': 0.0, 'history_Fa': 0.0, 'history_FaAr': 0.0, 'history_FaR': 0.0, 'history_FfA': 0.0, 'history_Ffa': 0.0, 'history_Fr': 0.0, 'history_HaADdFf': 0.0, 'history_HaDdAFTf': 0.0, 'history_HaDdAFf': 0.0, 'history_HaDdAfF': 0.0, 'history_HaDdAr': 0.0, 'history_HaDdR': 0.0, 'history_HaDdTAFf': 0.0, 'history_HaFfA': 0.0, 'history_HaR': 0.0, 'history_HafFr': 0.0, 'history_I': 0.0, 'history_R': 0.0, 'history_S': 1.0, 'history_SAD': 0.0, 'history_SI': 0.0, 'history_SaR': 0.0, 'history_SahAdDF': 0.0, 'history_SahAdDFRf': 0.0, 'history_SahAdDFf': 0.0, 'history_SahAdDrfR': 0.0, 'history_SahAdDtFf': 0.0, 'history_ShA': 0.0, 'history_ShAD': 0.0, 'history_ShADCaGcgd': 0.0, 'history_ShADCaGdfF': 0.0, 'history_ShADF': 0.0, 'history_ShADFa': 0.0, 'history_ShADFaR': 0.0, 'history_ShADFadfR': 0.0, 'history_ShADFadfRR': 0.0, 'history_ShADFar': 0.0, 'history_ShADFfR': 0.0, 'history_ShADFfa': 0.0, 'history_ShADFr': 0.0, 'history_ShADa': 0.0, 'history_ShADaCGcgdF': 0.0, 'history_ShADaCGdt': 0.0, 'history_ShADaCGdtfF': 0.0, 'history_ShADaCGr': 0.0, 'history_ShADaF': 0.0, 'history_ShADaFr': 0.0, 'history_ShADaR': 0.0, 'history_ShADacdtfF': 0.0, 'history_ShADad': 0.0, 'history_ShADadFf': 0.0, 'history_ShADadFfR': 0.0, 'history_ShADadR': 0.0, 'history_ShADadRf': 0.0, 'history_ShADadf': 0.0, 'history_ShADadfF': 0.0, 'history_ShADadfR': 0.0, 'history_ShADadfr': 0.0, 'history_ShADadfrr': 0.0, 'history_ShADadftFR': 0.0, 'history_ShADadtFf': 0.0, 'history_ShADadtRf': 0.0, 'history_ShADadtcfF': 0.0, 'history_ShADadtctfF': 0.0, 'history_ShADadtctfFR': 0.0, 'history_ShADadtfF': 0.0, 'history_ShADadttFf': 0.0, 'history_ShADadttcfF': 0.0, 'history_ShADadttfF': 0.0, 'history_ShADafF': 0.0, 'history_ShADafdtF': 0.0, 'history_ShADafr': 0.0, 'history_ShADar': 0.0, 'history_ShADarfF': 0.0, 'history_ShADdFaf': 0.0, 'history_ShADdFf': 0.0, 'history_ShADda': 0.0, 'history_ShADdaf': 0.0, 'history_ShADdafR': 0.0, 'history_ShADdattFfR': 0.0, 'history_ShADdf': 0.0, 'history_ShADdfF': 0.0, 'history_ShADdfFa': 0.0, 'history_ShADdfR': 0.0, 'history_ShADdtaFf': 0.0, 'history_ShADdtatFfR': 0.0, 'history_ShADfF': 0.0, 'history_ShADfFa': 0.0, 'history_ShADfFr': 0.0, 'history_ShADfFrr': 0.0, 'history_ShADfR': 0.0, 'history_ShADfaF': 0.0, 'history_ShADfdtFaR': 0.0, 'history_ShADfdtR': 0.0, 'history_ShADfrF': 0.0, 'history_ShADfrFr': 0.0, 'history_ShADr': 0.0, 'history_ShADrfR': 0.0, 'history_ShAF': 0.0, 'history_ShAFa': 0.0, 'history_ShAFafR': 0.0, 'history_ShAFdRfR': 0.0, 'history_ShAFdfRt': 0.0, 'history_ShAFf': 0.0, 'history_ShAFfR': 0.0, 'history_ShAFr': 0.0, 'history_ShAa': 0.0, 'history_ShAadDFR': 0.0, 'history_ShAadDFRf': 0.0, 'history_ShAadDFf': 0.0, 'history_ShAadDfF': 0.0, 'history_ShAadDr': 0.0, 'history_ShAafF': 0.0, 'history_ShAar': 0.0, 'history_ShAaw': 0.0, 'history_ShAaww': 0.0, 'history_ShAdD': 0.0, 'history_ShAdDFaf': 0.0, 'history_ShAdDFar': 0.0, 'history_ShAdDFf': 0.0, 'history_ShAdDFfR': 0.0, 'history_ShAdDR': 0.0, 'history_ShAdDTafF': 0.0, 'history_ShAdDa': 0.0, 'history_ShAdDaF': 0.0, 'history_ShAdDaFR': 0.0, 'history_ShAdDaFRR': 0.0, 'history_ShAdDaFRRRf': 0.0, 'history_ShAdDaFRRf': 0.0, 'history_ShAdDaFRRfR': 0.0, 'history_ShAdDaFRf': 0.0, 'history_ShAdDaFRfR': 0.0, 'history_ShAdDaFRfRR': 0.0, 'history_ShAdDaFRr': 0.0, 'history_ShAdDaFT': 0.0, 'history_ShAdDaFTf': 0.0, 'history_ShAdDaFf': 0.0, 'history_ShAdDaFfR': 0.0, 'history_ShAdDaFfRR': 0.0, 'history_ShAdDaFfr': 0.0, 'history_ShAdDaFr': 0.0, 'history_ShAdDaFrR': 0.0, 'history_ShAdDaR': 0.0, 'history_ShAdDaRR': 0.0, 'history_ShAdDaRRR': 0.0, 'history_ShAdDaRr': 0.0, 'history_ShAdDaT': 0.0, 'history_ShAdDaTF': 0.0, 'history_ShAdDaTFR': 0.0, 'history_ShAdDaTFRf': 0.0, 'history_ShAdDaTFf': 0.0, 'history_ShAdDaTFfR': 0.0, 'history_ShAdDaTR': 0.0, 'history_ShAdDaTRf': 0.0, 'history_ShAdDaTRft': 0.0, 'history_ShAdDaTRr': 0.0, 'history_ShAdDaTTRf': 0.0, 'history_ShAdDaTfF': 0.0, 'history_ShAdDaTfR': 0.0, 'history_ShAdDaTfRr': 0.0, 'history_ShAdDaTfr': 0.0, 'history_ShAdDaf': 0.0, 'history_ShAdDafF': 0.0, 'history_ShAdDafFR': 0.0, 'history_ShAdDafFr': 0.0, 'history_ShAdDafFrR': 0.0, 'history_ShAdDafFrr': 0.0, 'history_ShAdDafR': 0.0, 'history_ShAdDafr': 0.0, 'history_ShAdDafrFr': 0.0, 'history_ShAdDafrR': 0.0, 'history_ShAdDaft': 0.0, 'history_ShAdDaftF': 0.0, 'history_ShAdDaftFR': 0.0, 'history_ShAdDar': 0.0, 'history_ShAdDarfR': 0.0, 'history_ShAdDarr': 0.0, 'history_ShAdDatFf': 0.0, 'history_ShAdDatFr': 0.0, 'history_ShAdDatFrR': 0.0, 'history_ShAdDatR': 0.0, 'history_ShAdDatRRR': 0.0, 'history_ShAdDatf': 0.0, 'history_ShAdDatfF': 0.0, 'history_ShAdDatfr': 0.0, 'history_ShAdDatrfR': 0.0, 'history_ShAdDfFa': 0.0, 'history_ShAdDfFr': 0.0, 'history_ShAdDfr': 0.0, 'history_ShAdDr': 0.0, 'history_ShAdDtaFf': 0.0, 'history_ShAdDtaFr': 0.0, 'history_ShAdDtaR': 0.0, 'history_ShAdDtafF': 0.0, 'history_ShAdDtafFr': 0.0, 'history_ShAdF': 0.0, 'history_ShAdFaRf': 0.0, 'history_ShAdFaf': 0.0, 'history_ShAdaDR': 0.0, 'history_ShAdaFr': 0.0, 'history_ShAdfDF': 0.0, 'history_ShAdfDFr': 0.0, 'history_ShAdfDr': 0.0, 'history_ShAdfF': 0.0, 'history_ShAdfFa': 0.0, 'history_ShAdfr': 0.0, 'history_ShAdr': 0.0, 'history_ShAdtDaFr': 0.0, 'history_ShAdtDaFrR': 0.0, 'history_ShAdtDafF': 0.0, 'history_ShAdtfFa': 0.0, 'history_ShAfF': 0.0, 'history_ShAfFa': 0.0, 'history_ShAfFr': 0.0, 'history_ShAfdtDFr': 0.0, 'history_ShAfdtDr': 0.0, 'history_ShAfdtF': 0.0, 'history_ShAfdtFa': 0.0, 'history_ShAfr': 0.0, 'history_ShAr': 0.0, 'history_ShArR': 0.0, 'history_ShArr': 0.0, 'history_ShDadAf': 0.0, 'history_ShR': 0.0, 'history_ShrA': 0.0, 'history_ShwA': 0.0, 'history_ShwAr': 0.0, 'history_Sr': 0.0, 'history_^aA': 0.0, 'history_^aR': 0.0, 'history_^c': 0.0, 'history_^d': 0.0, 'history_^dDA': 0.0, 'history_^dtt': 0.0, 'history_^hA': 0.0, 'history_^hADFr': 0.0, 'history_^hADadfR': 0.0, 'history_^hADafF': 0.0, 'history_^hADr': 0.0, 'history_^hR': 0.0, 'history_^r': 0.0, 'history_nan': 0.0}\n",
      "{'': 2, '0': 0.0003509575, '1': 1.5145238e-08, '2': 0.0, '3': 0.0, '4': 0.36363637, '5': 0.65217394, '6': 0.0, 'proto_icmp': 0.0, 'proto_tcp': 1.0, 'proto_udp': 0.0, 'conn_state_OTH': 0.0, 'conn_state_REJ': 0.0, 'conn_state_RSTO': 0.0, 'conn_state_RSTOS0': 0.0, 'conn_state_RSTR': 0.0, 'conn_state_RSTRH': 0.0, 'conn_state_S0': 1.0, 'conn_state_S1': 0.0, 'conn_state_S2': 0.0, 'conn_state_S3': 0.0, 'conn_state_SF': 0.0, 'conn_state_SH': 0.0, 'conn_state_SHR': 0.0, 'history_Aa': 0.0, 'history_Ar': 0.0, 'history_C': 0.0, 'history_CCC': 0.0, 'history_CCCC': 0.0, 'history_D': 0.0, 'history_DAd': 0.0, 'history_DFafA': 0.0, 'history_DFr': 0.0, 'history_DT': 0.0, 'history_DTT': 0.0, 'history_D^': 0.0, 'history_D^d': 0.0, 'history_DaFfA': 0.0, 'history_Dd': 0.0, 'history_DdA': 0.0, 'history_DdAa': 0.0, 'history_DdAaFf': 0.0, 'history_DdAtaFf': 0.0, 'history_Dr': 0.0, 'history_DrF': 0.0, 'history_F': 0.0, 'history_Fa': 0.0, 'history_FaAr': 0.0, 'history_FaR': 0.0, 'history_FfA': 0.0, 'history_Ffa': 0.0, 'history_Fr': 0.0, 'history_HaADdFf': 0.0, 'history_HaDdAFTf': 0.0, 'history_HaDdAFf': 0.0, 'history_HaDdAfF': 0.0, 'history_HaDdAr': 0.0, 'history_HaDdR': 0.0, 'history_HaDdTAFf': 0.0, 'history_HaFfA': 0.0, 'history_HaR': 0.0, 'history_HafFr': 0.0, 'history_I': 0.0, 'history_R': 0.0, 'history_S': 1.0, 'history_SAD': 0.0, 'history_SI': 0.0, 'history_SaR': 0.0, 'history_SahAdDF': 0.0, 'history_SahAdDFRf': 0.0, 'history_SahAdDFf': 0.0, 'history_SahAdDrfR': 0.0, 'history_SahAdDtFf': 0.0, 'history_ShA': 0.0, 'history_ShAD': 0.0, 'history_ShADCaGcgd': 0.0, 'history_ShADCaGdfF': 0.0, 'history_ShADF': 0.0, 'history_ShADFa': 0.0, 'history_ShADFaR': 0.0, 'history_ShADFadfR': 0.0, 'history_ShADFadfRR': 0.0, 'history_ShADFar': 0.0, 'history_ShADFfR': 0.0, 'history_ShADFfa': 0.0, 'history_ShADFr': 0.0, 'history_ShADa': 0.0, 'history_ShADaCGcgdF': 0.0, 'history_ShADaCGdt': 0.0, 'history_ShADaCGdtfF': 0.0, 'history_ShADaCGr': 0.0, 'history_ShADaF': 0.0, 'history_ShADaFr': 0.0, 'history_ShADaR': 0.0, 'history_ShADacdtfF': 0.0, 'history_ShADad': 0.0, 'history_ShADadFf': 0.0, 'history_ShADadFfR': 0.0, 'history_ShADadR': 0.0, 'history_ShADadRf': 0.0, 'history_ShADadf': 0.0, 'history_ShADadfF': 0.0, 'history_ShADadfR': 0.0, 'history_ShADadfr': 0.0, 'history_ShADadfrr': 0.0, 'history_ShADadftFR': 0.0, 'history_ShADadtFf': 0.0, 'history_ShADadtRf': 0.0, 'history_ShADadtcfF': 0.0, 'history_ShADadtctfF': 0.0, 'history_ShADadtctfFR': 0.0, 'history_ShADadtfF': 0.0, 'history_ShADadttFf': 0.0, 'history_ShADadttcfF': 0.0, 'history_ShADadttfF': 0.0, 'history_ShADafF': 0.0, 'history_ShADafdtF': 0.0, 'history_ShADafr': 0.0, 'history_ShADar': 0.0, 'history_ShADarfF': 0.0, 'history_ShADdFaf': 0.0, 'history_ShADdFf': 0.0, 'history_ShADda': 0.0, 'history_ShADdaf': 0.0, 'history_ShADdafR': 0.0, 'history_ShADdattFfR': 0.0, 'history_ShADdf': 0.0, 'history_ShADdfF': 0.0, 'history_ShADdfFa': 0.0, 'history_ShADdfR': 0.0, 'history_ShADdtaFf': 0.0, 'history_ShADdtatFfR': 0.0, 'history_ShADfF': 0.0, 'history_ShADfFa': 0.0, 'history_ShADfFr': 0.0, 'history_ShADfFrr': 0.0, 'history_ShADfR': 0.0, 'history_ShADfaF': 0.0, 'history_ShADfdtFaR': 0.0, 'history_ShADfdtR': 0.0, 'history_ShADfrF': 0.0, 'history_ShADfrFr': 0.0, 'history_ShADr': 0.0, 'history_ShADrfR': 0.0, 'history_ShAF': 0.0, 'history_ShAFa': 0.0, 'history_ShAFafR': 0.0, 'history_ShAFdRfR': 0.0, 'history_ShAFdfRt': 0.0, 'history_ShAFf': 0.0, 'history_ShAFfR': 0.0, 'history_ShAFr': 0.0, 'history_ShAa': 0.0, 'history_ShAadDFR': 0.0, 'history_ShAadDFRf': 0.0, 'history_ShAadDFf': 0.0, 'history_ShAadDfF': 0.0, 'history_ShAadDr': 0.0, 'history_ShAafF': 0.0, 'history_ShAar': 0.0, 'history_ShAaw': 0.0, 'history_ShAaww': 0.0, 'history_ShAdD': 0.0, 'history_ShAdDFaf': 0.0, 'history_ShAdDFar': 0.0, 'history_ShAdDFf': 0.0, 'history_ShAdDFfR': 0.0, 'history_ShAdDR': 0.0, 'history_ShAdDTafF': 0.0, 'history_ShAdDa': 0.0, 'history_ShAdDaF': 0.0, 'history_ShAdDaFR': 0.0, 'history_ShAdDaFRR': 0.0, 'history_ShAdDaFRRRf': 0.0, 'history_ShAdDaFRRf': 0.0, 'history_ShAdDaFRRfR': 0.0, 'history_ShAdDaFRf': 0.0, 'history_ShAdDaFRfR': 0.0, 'history_ShAdDaFRfRR': 0.0, 'history_ShAdDaFRr': 0.0, 'history_ShAdDaFT': 0.0, 'history_ShAdDaFTf': 0.0, 'history_ShAdDaFf': 0.0, 'history_ShAdDaFfR': 0.0, 'history_ShAdDaFfRR': 0.0, 'history_ShAdDaFfr': 0.0, 'history_ShAdDaFr': 0.0, 'history_ShAdDaFrR': 0.0, 'history_ShAdDaR': 0.0, 'history_ShAdDaRR': 0.0, 'history_ShAdDaRRR': 0.0, 'history_ShAdDaRr': 0.0, 'history_ShAdDaT': 0.0, 'history_ShAdDaTF': 0.0, 'history_ShAdDaTFR': 0.0, 'history_ShAdDaTFRf': 0.0, 'history_ShAdDaTFf': 0.0, 'history_ShAdDaTFfR': 0.0, 'history_ShAdDaTR': 0.0, 'history_ShAdDaTRf': 0.0, 'history_ShAdDaTRft': 0.0, 'history_ShAdDaTRr': 0.0, 'history_ShAdDaTTRf': 0.0, 'history_ShAdDaTfF': 0.0, 'history_ShAdDaTfR': 0.0, 'history_ShAdDaTfRr': 0.0, 'history_ShAdDaTfr': 0.0, 'history_ShAdDaf': 0.0, 'history_ShAdDafF': 0.0, 'history_ShAdDafFR': 0.0, 'history_ShAdDafFr': 0.0, 'history_ShAdDafFrR': 0.0, 'history_ShAdDafFrr': 0.0, 'history_ShAdDafR': 0.0, 'history_ShAdDafr': 0.0, 'history_ShAdDafrFr': 0.0, 'history_ShAdDafrR': 0.0, 'history_ShAdDaft': 0.0, 'history_ShAdDaftF': 0.0, 'history_ShAdDaftFR': 0.0, 'history_ShAdDar': 0.0, 'history_ShAdDarfR': 0.0, 'history_ShAdDarr': 0.0, 'history_ShAdDatFf': 0.0, 'history_ShAdDatFr': 0.0, 'history_ShAdDatFrR': 0.0, 'history_ShAdDatR': 0.0, 'history_ShAdDatRRR': 0.0, 'history_ShAdDatf': 0.0, 'history_ShAdDatfF': 0.0, 'history_ShAdDatfr': 0.0, 'history_ShAdDatrfR': 0.0, 'history_ShAdDfFa': 0.0, 'history_ShAdDfFr': 0.0, 'history_ShAdDfr': 0.0, 'history_ShAdDr': 0.0, 'history_ShAdDtaFf': 0.0, 'history_ShAdDtaFr': 0.0, 'history_ShAdDtaR': 0.0, 'history_ShAdDtafF': 0.0, 'history_ShAdDtafFr': 0.0, 'history_ShAdF': 0.0, 'history_ShAdFaRf': 0.0, 'history_ShAdFaf': 0.0, 'history_ShAdaDR': 0.0, 'history_ShAdaFr': 0.0, 'history_ShAdfDF': 0.0, 'history_ShAdfDFr': 0.0, 'history_ShAdfDr': 0.0, 'history_ShAdfF': 0.0, 'history_ShAdfFa': 0.0, 'history_ShAdfr': 0.0, 'history_ShAdr': 0.0, 'history_ShAdtDaFr': 0.0, 'history_ShAdtDaFrR': 0.0, 'history_ShAdtDafF': 0.0, 'history_ShAdtfFa': 0.0, 'history_ShAfF': 0.0, 'history_ShAfFa': 0.0, 'history_ShAfFr': 0.0, 'history_ShAfdtDFr': 0.0, 'history_ShAfdtDr': 0.0, 'history_ShAfdtF': 0.0, 'history_ShAfdtFa': 0.0, 'history_ShAfr': 0.0, 'history_ShAr': 0.0, 'history_ShArR': 0.0, 'history_ShArr': 0.0, 'history_ShDadAf': 0.0, 'history_ShR': 0.0, 'history_ShrA': 0.0, 'history_ShwA': 0.0, 'history_ShwAr': 0.0, 'history_Sr': 0.0, 'history_^aA': 0.0, 'history_^aR': 0.0, 'history_^c': 0.0, 'history_^d': 0.0, 'history_^dDA': 0.0, 'history_^dtt': 0.0, 'history_^hA': 0.0, 'history_^hADFr': 0.0, 'history_^hADadfR': 0.0, 'history_^hADafF': 0.0, 'history_^hADr': 0.0, 'history_^hR': 0.0, 'history_^r': 0.0, 'history_nan': 0.0}\n",
      "{'': 3, '0': 0.0003509575, '1': 4.5435716e-08, '2': 0.0, '3': 0.0, '4': 0.36363637, '5': 0.65217394, '6': 0.0, 'proto_icmp': 0.0, 'proto_tcp': 1.0, 'proto_udp': 0.0, 'conn_state_OTH': 0.0, 'conn_state_REJ': 0.0, 'conn_state_RSTO': 0.0, 'conn_state_RSTOS0': 0.0, 'conn_state_RSTR': 0.0, 'conn_state_RSTRH': 0.0, 'conn_state_S0': 1.0, 'conn_state_S1': 0.0, 'conn_state_S2': 0.0, 'conn_state_S3': 0.0, 'conn_state_SF': 0.0, 'conn_state_SH': 0.0, 'conn_state_SHR': 0.0, 'history_Aa': 0.0, 'history_Ar': 0.0, 'history_C': 0.0, 'history_CCC': 0.0, 'history_CCCC': 0.0, 'history_D': 0.0, 'history_DAd': 0.0, 'history_DFafA': 0.0, 'history_DFr': 0.0, 'history_DT': 0.0, 'history_DTT': 0.0, 'history_D^': 0.0, 'history_D^d': 0.0, 'history_DaFfA': 0.0, 'history_Dd': 0.0, 'history_DdA': 0.0, 'history_DdAa': 0.0, 'history_DdAaFf': 0.0, 'history_DdAtaFf': 0.0, 'history_Dr': 0.0, 'history_DrF': 0.0, 'history_F': 0.0, 'history_Fa': 0.0, 'history_FaAr': 0.0, 'history_FaR': 0.0, 'history_FfA': 0.0, 'history_Ffa': 0.0, 'history_Fr': 0.0, 'history_HaADdFf': 0.0, 'history_HaDdAFTf': 0.0, 'history_HaDdAFf': 0.0, 'history_HaDdAfF': 0.0, 'history_HaDdAr': 0.0, 'history_HaDdR': 0.0, 'history_HaDdTAFf': 0.0, 'history_HaFfA': 0.0, 'history_HaR': 0.0, 'history_HafFr': 0.0, 'history_I': 0.0, 'history_R': 0.0, 'history_S': 1.0, 'history_SAD': 0.0, 'history_SI': 0.0, 'history_SaR': 0.0, 'history_SahAdDF': 0.0, 'history_SahAdDFRf': 0.0, 'history_SahAdDFf': 0.0, 'history_SahAdDrfR': 0.0, 'history_SahAdDtFf': 0.0, 'history_ShA': 0.0, 'history_ShAD': 0.0, 'history_ShADCaGcgd': 0.0, 'history_ShADCaGdfF': 0.0, 'history_ShADF': 0.0, 'history_ShADFa': 0.0, 'history_ShADFaR': 0.0, 'history_ShADFadfR': 0.0, 'history_ShADFadfRR': 0.0, 'history_ShADFar': 0.0, 'history_ShADFfR': 0.0, 'history_ShADFfa': 0.0, 'history_ShADFr': 0.0, 'history_ShADa': 0.0, 'history_ShADaCGcgdF': 0.0, 'history_ShADaCGdt': 0.0, 'history_ShADaCGdtfF': 0.0, 'history_ShADaCGr': 0.0, 'history_ShADaF': 0.0, 'history_ShADaFr': 0.0, 'history_ShADaR': 0.0, 'history_ShADacdtfF': 0.0, 'history_ShADad': 0.0, 'history_ShADadFf': 0.0, 'history_ShADadFfR': 0.0, 'history_ShADadR': 0.0, 'history_ShADadRf': 0.0, 'history_ShADadf': 0.0, 'history_ShADadfF': 0.0, 'history_ShADadfR': 0.0, 'history_ShADadfr': 0.0, 'history_ShADadfrr': 0.0, 'history_ShADadftFR': 0.0, 'history_ShADadtFf': 0.0, 'history_ShADadtRf': 0.0, 'history_ShADadtcfF': 0.0, 'history_ShADadtctfF': 0.0, 'history_ShADadtctfFR': 0.0, 'history_ShADadtfF': 0.0, 'history_ShADadttFf': 0.0, 'history_ShADadttcfF': 0.0, 'history_ShADadttfF': 0.0, 'history_ShADafF': 0.0, 'history_ShADafdtF': 0.0, 'history_ShADafr': 0.0, 'history_ShADar': 0.0, 'history_ShADarfF': 0.0, 'history_ShADdFaf': 0.0, 'history_ShADdFf': 0.0, 'history_ShADda': 0.0, 'history_ShADdaf': 0.0, 'history_ShADdafR': 0.0, 'history_ShADdattFfR': 0.0, 'history_ShADdf': 0.0, 'history_ShADdfF': 0.0, 'history_ShADdfFa': 0.0, 'history_ShADdfR': 0.0, 'history_ShADdtaFf': 0.0, 'history_ShADdtatFfR': 0.0, 'history_ShADfF': 0.0, 'history_ShADfFa': 0.0, 'history_ShADfFr': 0.0, 'history_ShADfFrr': 0.0, 'history_ShADfR': 0.0, 'history_ShADfaF': 0.0, 'history_ShADfdtFaR': 0.0, 'history_ShADfdtR': 0.0, 'history_ShADfrF': 0.0, 'history_ShADfrFr': 0.0, 'history_ShADr': 0.0, 'history_ShADrfR': 0.0, 'history_ShAF': 0.0, 'history_ShAFa': 0.0, 'history_ShAFafR': 0.0, 'history_ShAFdRfR': 0.0, 'history_ShAFdfRt': 0.0, 'history_ShAFf': 0.0, 'history_ShAFfR': 0.0, 'history_ShAFr': 0.0, 'history_ShAa': 0.0, 'history_ShAadDFR': 0.0, 'history_ShAadDFRf': 0.0, 'history_ShAadDFf': 0.0, 'history_ShAadDfF': 0.0, 'history_ShAadDr': 0.0, 'history_ShAafF': 0.0, 'history_ShAar': 0.0, 'history_ShAaw': 0.0, 'history_ShAaww': 0.0, 'history_ShAdD': 0.0, 'history_ShAdDFaf': 0.0, 'history_ShAdDFar': 0.0, 'history_ShAdDFf': 0.0, 'history_ShAdDFfR': 0.0, 'history_ShAdDR': 0.0, 'history_ShAdDTafF': 0.0, 'history_ShAdDa': 0.0, 'history_ShAdDaF': 0.0, 'history_ShAdDaFR': 0.0, 'history_ShAdDaFRR': 0.0, 'history_ShAdDaFRRRf': 0.0, 'history_ShAdDaFRRf': 0.0, 'history_ShAdDaFRRfR': 0.0, 'history_ShAdDaFRf': 0.0, 'history_ShAdDaFRfR': 0.0, 'history_ShAdDaFRfRR': 0.0, 'history_ShAdDaFRr': 0.0, 'history_ShAdDaFT': 0.0, 'history_ShAdDaFTf': 0.0, 'history_ShAdDaFf': 0.0, 'history_ShAdDaFfR': 0.0, 'history_ShAdDaFfRR': 0.0, 'history_ShAdDaFfr': 0.0, 'history_ShAdDaFr': 0.0, 'history_ShAdDaFrR': 0.0, 'history_ShAdDaR': 0.0, 'history_ShAdDaRR': 0.0, 'history_ShAdDaRRR': 0.0, 'history_ShAdDaRr': 0.0, 'history_ShAdDaT': 0.0, 'history_ShAdDaTF': 0.0, 'history_ShAdDaTFR': 0.0, 'history_ShAdDaTFRf': 0.0, 'history_ShAdDaTFf': 0.0, 'history_ShAdDaTFfR': 0.0, 'history_ShAdDaTR': 0.0, 'history_ShAdDaTRf': 0.0, 'history_ShAdDaTRft': 0.0, 'history_ShAdDaTRr': 0.0, 'history_ShAdDaTTRf': 0.0, 'history_ShAdDaTfF': 0.0, 'history_ShAdDaTfR': 0.0, 'history_ShAdDaTfRr': 0.0, 'history_ShAdDaTfr': 0.0, 'history_ShAdDaf': 0.0, 'history_ShAdDafF': 0.0, 'history_ShAdDafFR': 0.0, 'history_ShAdDafFr': 0.0, 'history_ShAdDafFrR': 0.0, 'history_ShAdDafFrr': 0.0, 'history_ShAdDafR': 0.0, 'history_ShAdDafr': 0.0, 'history_ShAdDafrFr': 0.0, 'history_ShAdDafrR': 0.0, 'history_ShAdDaft': 0.0, 'history_ShAdDaftF': 0.0, 'history_ShAdDaftFR': 0.0, 'history_ShAdDar': 0.0, 'history_ShAdDarfR': 0.0, 'history_ShAdDarr': 0.0, 'history_ShAdDatFf': 0.0, 'history_ShAdDatFr': 0.0, 'history_ShAdDatFrR': 0.0, 'history_ShAdDatR': 0.0, 'history_ShAdDatRRR': 0.0, 'history_ShAdDatf': 0.0, 'history_ShAdDatfF': 0.0, 'history_ShAdDatfr': 0.0, 'history_ShAdDatrfR': 0.0, 'history_ShAdDfFa': 0.0, 'history_ShAdDfFr': 0.0, 'history_ShAdDfr': 0.0, 'history_ShAdDr': 0.0, 'history_ShAdDtaFf': 0.0, 'history_ShAdDtaFr': 0.0, 'history_ShAdDtaR': 0.0, 'history_ShAdDtafF': 0.0, 'history_ShAdDtafFr': 0.0, 'history_ShAdF': 0.0, 'history_ShAdFaRf': 0.0, 'history_ShAdFaf': 0.0, 'history_ShAdaDR': 0.0, 'history_ShAdaFr': 0.0, 'history_ShAdfDF': 0.0, 'history_ShAdfDFr': 0.0, 'history_ShAdfDr': 0.0, 'history_ShAdfF': 0.0, 'history_ShAdfFa': 0.0, 'history_ShAdfr': 0.0, 'history_ShAdr': 0.0, 'history_ShAdtDaFr': 0.0, 'history_ShAdtDaFrR': 0.0, 'history_ShAdtDafF': 0.0, 'history_ShAdtfFa': 0.0, 'history_ShAfF': 0.0, 'history_ShAfFa': 0.0, 'history_ShAfFr': 0.0, 'history_ShAfdtDFr': 0.0, 'history_ShAfdtDr': 0.0, 'history_ShAfdtF': 0.0, 'history_ShAfdtFa': 0.0, 'history_ShAfr': 0.0, 'history_ShAr': 0.0, 'history_ShArR': 0.0, 'history_ShArr': 0.0, 'history_ShDadAf': 0.0, 'history_ShR': 0.0, 'history_ShrA': 0.0, 'history_ShwA': 0.0, 'history_ShwAr': 0.0, 'history_Sr': 0.0, 'history_^aA': 0.0, 'history_^aR': 0.0, 'history_^c': 0.0, 'history_^d': 0.0, 'history_^dDA': 0.0, 'history_^dtt': 0.0, 'history_^hA': 0.0, 'history_^hADFr': 0.0, 'history_^hADadfR': 0.0, 'history_^hADafF': 0.0, 'history_^hADr': 0.0, 'history_^hR': 0.0, 'history_^r': 0.0, 'history_nan': 0.0}\n",
      "{'': 4, '0': 0.0003509575, '1': 1.5145238e-08, '2': 0.0, '3': 0.0, '4': 0.36363637, '5': 0.65217394, '6': 0.0, 'proto_icmp': 0.0, 'proto_tcp': 1.0, 'proto_udp': 0.0, 'conn_state_OTH': 0.0, 'conn_state_REJ': 0.0, 'conn_state_RSTO': 0.0, 'conn_state_RSTOS0': 0.0, 'conn_state_RSTR': 0.0, 'conn_state_RSTRH': 0.0, 'conn_state_S0': 1.0, 'conn_state_S1': 0.0, 'conn_state_S2': 0.0, 'conn_state_S3': 0.0, 'conn_state_SF': 0.0, 'conn_state_SH': 0.0, 'conn_state_SHR': 0.0, 'history_Aa': 0.0, 'history_Ar': 0.0, 'history_C': 0.0, 'history_CCC': 0.0, 'history_CCCC': 0.0, 'history_D': 0.0, 'history_DAd': 0.0, 'history_DFafA': 0.0, 'history_DFr': 0.0, 'history_DT': 0.0, 'history_DTT': 0.0, 'history_D^': 0.0, 'history_D^d': 0.0, 'history_DaFfA': 0.0, 'history_Dd': 0.0, 'history_DdA': 0.0, 'history_DdAa': 0.0, 'history_DdAaFf': 0.0, 'history_DdAtaFf': 0.0, 'history_Dr': 0.0, 'history_DrF': 0.0, 'history_F': 0.0, 'history_Fa': 0.0, 'history_FaAr': 0.0, 'history_FaR': 0.0, 'history_FfA': 0.0, 'history_Ffa': 0.0, 'history_Fr': 0.0, 'history_HaADdFf': 0.0, 'history_HaDdAFTf': 0.0, 'history_HaDdAFf': 0.0, 'history_HaDdAfF': 0.0, 'history_HaDdAr': 0.0, 'history_HaDdR': 0.0, 'history_HaDdTAFf': 0.0, 'history_HaFfA': 0.0, 'history_HaR': 0.0, 'history_HafFr': 0.0, 'history_I': 0.0, 'history_R': 0.0, 'history_S': 1.0, 'history_SAD': 0.0, 'history_SI': 0.0, 'history_SaR': 0.0, 'history_SahAdDF': 0.0, 'history_SahAdDFRf': 0.0, 'history_SahAdDFf': 0.0, 'history_SahAdDrfR': 0.0, 'history_SahAdDtFf': 0.0, 'history_ShA': 0.0, 'history_ShAD': 0.0, 'history_ShADCaGcgd': 0.0, 'history_ShADCaGdfF': 0.0, 'history_ShADF': 0.0, 'history_ShADFa': 0.0, 'history_ShADFaR': 0.0, 'history_ShADFadfR': 0.0, 'history_ShADFadfRR': 0.0, 'history_ShADFar': 0.0, 'history_ShADFfR': 0.0, 'history_ShADFfa': 0.0, 'history_ShADFr': 0.0, 'history_ShADa': 0.0, 'history_ShADaCGcgdF': 0.0, 'history_ShADaCGdt': 0.0, 'history_ShADaCGdtfF': 0.0, 'history_ShADaCGr': 0.0, 'history_ShADaF': 0.0, 'history_ShADaFr': 0.0, 'history_ShADaR': 0.0, 'history_ShADacdtfF': 0.0, 'history_ShADad': 0.0, 'history_ShADadFf': 0.0, 'history_ShADadFfR': 0.0, 'history_ShADadR': 0.0, 'history_ShADadRf': 0.0, 'history_ShADadf': 0.0, 'history_ShADadfF': 0.0, 'history_ShADadfR': 0.0, 'history_ShADadfr': 0.0, 'history_ShADadfrr': 0.0, 'history_ShADadftFR': 0.0, 'history_ShADadtFf': 0.0, 'history_ShADadtRf': 0.0, 'history_ShADadtcfF': 0.0, 'history_ShADadtctfF': 0.0, 'history_ShADadtctfFR': 0.0, 'history_ShADadtfF': 0.0, 'history_ShADadttFf': 0.0, 'history_ShADadttcfF': 0.0, 'history_ShADadttfF': 0.0, 'history_ShADafF': 0.0, 'history_ShADafdtF': 0.0, 'history_ShADafr': 0.0, 'history_ShADar': 0.0, 'history_ShADarfF': 0.0, 'history_ShADdFaf': 0.0, 'history_ShADdFf': 0.0, 'history_ShADda': 0.0, 'history_ShADdaf': 0.0, 'history_ShADdafR': 0.0, 'history_ShADdattFfR': 0.0, 'history_ShADdf': 0.0, 'history_ShADdfF': 0.0, 'history_ShADdfFa': 0.0, 'history_ShADdfR': 0.0, 'history_ShADdtaFf': 0.0, 'history_ShADdtatFfR': 0.0, 'history_ShADfF': 0.0, 'history_ShADfFa': 0.0, 'history_ShADfFr': 0.0, 'history_ShADfFrr': 0.0, 'history_ShADfR': 0.0, 'history_ShADfaF': 0.0, 'history_ShADfdtFaR': 0.0, 'history_ShADfdtR': 0.0, 'history_ShADfrF': 0.0, 'history_ShADfrFr': 0.0, 'history_ShADr': 0.0, 'history_ShADrfR': 0.0, 'history_ShAF': 0.0, 'history_ShAFa': 0.0, 'history_ShAFafR': 0.0, 'history_ShAFdRfR': 0.0, 'history_ShAFdfRt': 0.0, 'history_ShAFf': 0.0, 'history_ShAFfR': 0.0, 'history_ShAFr': 0.0, 'history_ShAa': 0.0, 'history_ShAadDFR': 0.0, 'history_ShAadDFRf': 0.0, 'history_ShAadDFf': 0.0, 'history_ShAadDfF': 0.0, 'history_ShAadDr': 0.0, 'history_ShAafF': 0.0, 'history_ShAar': 0.0, 'history_ShAaw': 0.0, 'history_ShAaww': 0.0, 'history_ShAdD': 0.0, 'history_ShAdDFaf': 0.0, 'history_ShAdDFar': 0.0, 'history_ShAdDFf': 0.0, 'history_ShAdDFfR': 0.0, 'history_ShAdDR': 0.0, 'history_ShAdDTafF': 0.0, 'history_ShAdDa': 0.0, 'history_ShAdDaF': 0.0, 'history_ShAdDaFR': 0.0, 'history_ShAdDaFRR': 0.0, 'history_ShAdDaFRRRf': 0.0, 'history_ShAdDaFRRf': 0.0, 'history_ShAdDaFRRfR': 0.0, 'history_ShAdDaFRf': 0.0, 'history_ShAdDaFRfR': 0.0, 'history_ShAdDaFRfRR': 0.0, 'history_ShAdDaFRr': 0.0, 'history_ShAdDaFT': 0.0, 'history_ShAdDaFTf': 0.0, 'history_ShAdDaFf': 0.0, 'history_ShAdDaFfR': 0.0, 'history_ShAdDaFfRR': 0.0, 'history_ShAdDaFfr': 0.0, 'history_ShAdDaFr': 0.0, 'history_ShAdDaFrR': 0.0, 'history_ShAdDaR': 0.0, 'history_ShAdDaRR': 0.0, 'history_ShAdDaRRR': 0.0, 'history_ShAdDaRr': 0.0, 'history_ShAdDaT': 0.0, 'history_ShAdDaTF': 0.0, 'history_ShAdDaTFR': 0.0, 'history_ShAdDaTFRf': 0.0, 'history_ShAdDaTFf': 0.0, 'history_ShAdDaTFfR': 0.0, 'history_ShAdDaTR': 0.0, 'history_ShAdDaTRf': 0.0, 'history_ShAdDaTRft': 0.0, 'history_ShAdDaTRr': 0.0, 'history_ShAdDaTTRf': 0.0, 'history_ShAdDaTfF': 0.0, 'history_ShAdDaTfR': 0.0, 'history_ShAdDaTfRr': 0.0, 'history_ShAdDaTfr': 0.0, 'history_ShAdDaf': 0.0, 'history_ShAdDafF': 0.0, 'history_ShAdDafFR': 0.0, 'history_ShAdDafFr': 0.0, 'history_ShAdDafFrR': 0.0, 'history_ShAdDafFrr': 0.0, 'history_ShAdDafR': 0.0, 'history_ShAdDafr': 0.0, 'history_ShAdDafrFr': 0.0, 'history_ShAdDafrR': 0.0, 'history_ShAdDaft': 0.0, 'history_ShAdDaftF': 0.0, 'history_ShAdDaftFR': 0.0, 'history_ShAdDar': 0.0, 'history_ShAdDarfR': 0.0, 'history_ShAdDarr': 0.0, 'history_ShAdDatFf': 0.0, 'history_ShAdDatFr': 0.0, 'history_ShAdDatFrR': 0.0, 'history_ShAdDatR': 0.0, 'history_ShAdDatRRR': 0.0, 'history_ShAdDatf': 0.0, 'history_ShAdDatfF': 0.0, 'history_ShAdDatfr': 0.0, 'history_ShAdDatrfR': 0.0, 'history_ShAdDfFa': 0.0, 'history_ShAdDfFr': 0.0, 'history_ShAdDfr': 0.0, 'history_ShAdDr': 0.0, 'history_ShAdDtaFf': 0.0, 'history_ShAdDtaFr': 0.0, 'history_ShAdDtaR': 0.0, 'history_ShAdDtafF': 0.0, 'history_ShAdDtafFr': 0.0, 'history_ShAdF': 0.0, 'history_ShAdFaRf': 0.0, 'history_ShAdFaf': 0.0, 'history_ShAdaDR': 0.0, 'history_ShAdaFr': 0.0, 'history_ShAdfDF': 0.0, 'history_ShAdfDFr': 0.0, 'history_ShAdfDr': 0.0, 'history_ShAdfF': 0.0, 'history_ShAdfFa': 0.0, 'history_ShAdfr': 0.0, 'history_ShAdr': 0.0, 'history_ShAdtDaFr': 0.0, 'history_ShAdtDaFrR': 0.0, 'history_ShAdtDafF': 0.0, 'history_ShAdtfFa': 0.0, 'history_ShAfF': 0.0, 'history_ShAfFa': 0.0, 'history_ShAfFr': 0.0, 'history_ShAfdtDFr': 0.0, 'history_ShAfdtDr': 0.0, 'history_ShAfdtF': 0.0, 'history_ShAfdtFa': 0.0, 'history_ShAfr': 0.0, 'history_ShAr': 0.0, 'history_ShArR': 0.0, 'history_ShArr': 0.0, 'history_ShDadAf': 0.0, 'history_ShR': 0.0, 'history_ShrA': 0.0, 'history_ShwA': 0.0, 'history_ShwAr': 0.0, 'history_Sr': 0.0, 'history_^aA': 0.0, 'history_^aR': 0.0, 'history_^c': 0.0, 'history_^d': 0.0, 'history_^dDA': 0.0, 'history_^dtt': 0.0, 'history_^hA': 0.0, 'history_^hADFr': 0.0, 'history_^hADadfR': 0.0, 'history_^hADafF': 0.0, 'history_^hADr': 0.0, 'history_^hR': 0.0, 'history_^r': 0.0, 'history_nan': 0.0}\n",
      "{'': 5, '0': 0.0003509575, '1': 1.5145238e-08, '2': 0.0, '3': 0.0, '4': 0.36363637, '5': 0.65217394, '6': 0.0, 'proto_icmp': 0.0, 'proto_tcp': 1.0, 'proto_udp': 0.0, 'conn_state_OTH': 0.0, 'conn_state_REJ': 0.0, 'conn_state_RSTO': 0.0, 'conn_state_RSTOS0': 0.0, 'conn_state_RSTR': 0.0, 'conn_state_RSTRH': 0.0, 'conn_state_S0': 1.0, 'conn_state_S1': 0.0, 'conn_state_S2': 0.0, 'conn_state_S3': 0.0, 'conn_state_SF': 0.0, 'conn_state_SH': 0.0, 'conn_state_SHR': 0.0, 'history_Aa': 0.0, 'history_Ar': 0.0, 'history_C': 0.0, 'history_CCC': 0.0, 'history_CCCC': 0.0, 'history_D': 0.0, 'history_DAd': 0.0, 'history_DFafA': 0.0, 'history_DFr': 0.0, 'history_DT': 0.0, 'history_DTT': 0.0, 'history_D^': 0.0, 'history_D^d': 0.0, 'history_DaFfA': 0.0, 'history_Dd': 0.0, 'history_DdA': 0.0, 'history_DdAa': 0.0, 'history_DdAaFf': 0.0, 'history_DdAtaFf': 0.0, 'history_Dr': 0.0, 'history_DrF': 0.0, 'history_F': 0.0, 'history_Fa': 0.0, 'history_FaAr': 0.0, 'history_FaR': 0.0, 'history_FfA': 0.0, 'history_Ffa': 0.0, 'history_Fr': 0.0, 'history_HaADdFf': 0.0, 'history_HaDdAFTf': 0.0, 'history_HaDdAFf': 0.0, 'history_HaDdAfF': 0.0, 'history_HaDdAr': 0.0, 'history_HaDdR': 0.0, 'history_HaDdTAFf': 0.0, 'history_HaFfA': 0.0, 'history_HaR': 0.0, 'history_HafFr': 0.0, 'history_I': 0.0, 'history_R': 0.0, 'history_S': 1.0, 'history_SAD': 0.0, 'history_SI': 0.0, 'history_SaR': 0.0, 'history_SahAdDF': 0.0, 'history_SahAdDFRf': 0.0, 'history_SahAdDFf': 0.0, 'history_SahAdDrfR': 0.0, 'history_SahAdDtFf': 0.0, 'history_ShA': 0.0, 'history_ShAD': 0.0, 'history_ShADCaGcgd': 0.0, 'history_ShADCaGdfF': 0.0, 'history_ShADF': 0.0, 'history_ShADFa': 0.0, 'history_ShADFaR': 0.0, 'history_ShADFadfR': 0.0, 'history_ShADFadfRR': 0.0, 'history_ShADFar': 0.0, 'history_ShADFfR': 0.0, 'history_ShADFfa': 0.0, 'history_ShADFr': 0.0, 'history_ShADa': 0.0, 'history_ShADaCGcgdF': 0.0, 'history_ShADaCGdt': 0.0, 'history_ShADaCGdtfF': 0.0, 'history_ShADaCGr': 0.0, 'history_ShADaF': 0.0, 'history_ShADaFr': 0.0, 'history_ShADaR': 0.0, 'history_ShADacdtfF': 0.0, 'history_ShADad': 0.0, 'history_ShADadFf': 0.0, 'history_ShADadFfR': 0.0, 'history_ShADadR': 0.0, 'history_ShADadRf': 0.0, 'history_ShADadf': 0.0, 'history_ShADadfF': 0.0, 'history_ShADadfR': 0.0, 'history_ShADadfr': 0.0, 'history_ShADadfrr': 0.0, 'history_ShADadftFR': 0.0, 'history_ShADadtFf': 0.0, 'history_ShADadtRf': 0.0, 'history_ShADadtcfF': 0.0, 'history_ShADadtctfF': 0.0, 'history_ShADadtctfFR': 0.0, 'history_ShADadtfF': 0.0, 'history_ShADadttFf': 0.0, 'history_ShADadttcfF': 0.0, 'history_ShADadttfF': 0.0, 'history_ShADafF': 0.0, 'history_ShADafdtF': 0.0, 'history_ShADafr': 0.0, 'history_ShADar': 0.0, 'history_ShADarfF': 0.0, 'history_ShADdFaf': 0.0, 'history_ShADdFf': 0.0, 'history_ShADda': 0.0, 'history_ShADdaf': 0.0, 'history_ShADdafR': 0.0, 'history_ShADdattFfR': 0.0, 'history_ShADdf': 0.0, 'history_ShADdfF': 0.0, 'history_ShADdfFa': 0.0, 'history_ShADdfR': 0.0, 'history_ShADdtaFf': 0.0, 'history_ShADdtatFfR': 0.0, 'history_ShADfF': 0.0, 'history_ShADfFa': 0.0, 'history_ShADfFr': 0.0, 'history_ShADfFrr': 0.0, 'history_ShADfR': 0.0, 'history_ShADfaF': 0.0, 'history_ShADfdtFaR': 0.0, 'history_ShADfdtR': 0.0, 'history_ShADfrF': 0.0, 'history_ShADfrFr': 0.0, 'history_ShADr': 0.0, 'history_ShADrfR': 0.0, 'history_ShAF': 0.0, 'history_ShAFa': 0.0, 'history_ShAFafR': 0.0, 'history_ShAFdRfR': 0.0, 'history_ShAFdfRt': 0.0, 'history_ShAFf': 0.0, 'history_ShAFfR': 0.0, 'history_ShAFr': 0.0, 'history_ShAa': 0.0, 'history_ShAadDFR': 0.0, 'history_ShAadDFRf': 0.0, 'history_ShAadDFf': 0.0, 'history_ShAadDfF': 0.0, 'history_ShAadDr': 0.0, 'history_ShAafF': 0.0, 'history_ShAar': 0.0, 'history_ShAaw': 0.0, 'history_ShAaww': 0.0, 'history_ShAdD': 0.0, 'history_ShAdDFaf': 0.0, 'history_ShAdDFar': 0.0, 'history_ShAdDFf': 0.0, 'history_ShAdDFfR': 0.0, 'history_ShAdDR': 0.0, 'history_ShAdDTafF': 0.0, 'history_ShAdDa': 0.0, 'history_ShAdDaF': 0.0, 'history_ShAdDaFR': 0.0, 'history_ShAdDaFRR': 0.0, 'history_ShAdDaFRRRf': 0.0, 'history_ShAdDaFRRf': 0.0, 'history_ShAdDaFRRfR': 0.0, 'history_ShAdDaFRf': 0.0, 'history_ShAdDaFRfR': 0.0, 'history_ShAdDaFRfRR': 0.0, 'history_ShAdDaFRr': 0.0, 'history_ShAdDaFT': 0.0, 'history_ShAdDaFTf': 0.0, 'history_ShAdDaFf': 0.0, 'history_ShAdDaFfR': 0.0, 'history_ShAdDaFfRR': 0.0, 'history_ShAdDaFfr': 0.0, 'history_ShAdDaFr': 0.0, 'history_ShAdDaFrR': 0.0, 'history_ShAdDaR': 0.0, 'history_ShAdDaRR': 0.0, 'history_ShAdDaRRR': 0.0, 'history_ShAdDaRr': 0.0, 'history_ShAdDaT': 0.0, 'history_ShAdDaTF': 0.0, 'history_ShAdDaTFR': 0.0, 'history_ShAdDaTFRf': 0.0, 'history_ShAdDaTFf': 0.0, 'history_ShAdDaTFfR': 0.0, 'history_ShAdDaTR': 0.0, 'history_ShAdDaTRf': 0.0, 'history_ShAdDaTRft': 0.0, 'history_ShAdDaTRr': 0.0, 'history_ShAdDaTTRf': 0.0, 'history_ShAdDaTfF': 0.0, 'history_ShAdDaTfR': 0.0, 'history_ShAdDaTfRr': 0.0, 'history_ShAdDaTfr': 0.0, 'history_ShAdDaf': 0.0, 'history_ShAdDafF': 0.0, 'history_ShAdDafFR': 0.0, 'history_ShAdDafFr': 0.0, 'history_ShAdDafFrR': 0.0, 'history_ShAdDafFrr': 0.0, 'history_ShAdDafR': 0.0, 'history_ShAdDafr': 0.0, 'history_ShAdDafrFr': 0.0, 'history_ShAdDafrR': 0.0, 'history_ShAdDaft': 0.0, 'history_ShAdDaftF': 0.0, 'history_ShAdDaftFR': 0.0, 'history_ShAdDar': 0.0, 'history_ShAdDarfR': 0.0, 'history_ShAdDarr': 0.0, 'history_ShAdDatFf': 0.0, 'history_ShAdDatFr': 0.0, 'history_ShAdDatFrR': 0.0, 'history_ShAdDatR': 0.0, 'history_ShAdDatRRR': 0.0, 'history_ShAdDatf': 0.0, 'history_ShAdDatfF': 0.0, 'history_ShAdDatfr': 0.0, 'history_ShAdDatrfR': 0.0, 'history_ShAdDfFa': 0.0, 'history_ShAdDfFr': 0.0, 'history_ShAdDfr': 0.0, 'history_ShAdDr': 0.0, 'history_ShAdDtaFf': 0.0, 'history_ShAdDtaFr': 0.0, 'history_ShAdDtaR': 0.0, 'history_ShAdDtafF': 0.0, 'history_ShAdDtafFr': 0.0, 'history_ShAdF': 0.0, 'history_ShAdFaRf': 0.0, 'history_ShAdFaf': 0.0, 'history_ShAdaDR': 0.0, 'history_ShAdaFr': 0.0, 'history_ShAdfDF': 0.0, 'history_ShAdfDFr': 0.0, 'history_ShAdfDr': 0.0, 'history_ShAdfF': 0.0, 'history_ShAdfFa': 0.0, 'history_ShAdfr': 0.0, 'history_ShAdr': 0.0, 'history_ShAdtDaFr': 0.0, 'history_ShAdtDaFrR': 0.0, 'history_ShAdtDafF': 0.0, 'history_ShAdtfFa': 0.0, 'history_ShAfF': 0.0, 'history_ShAfFa': 0.0, 'history_ShAfFr': 0.0, 'history_ShAfdtDFr': 0.0, 'history_ShAfdtDr': 0.0, 'history_ShAfdtF': 0.0, 'history_ShAfdtFa': 0.0, 'history_ShAfr': 0.0, 'history_ShAr': 0.0, 'history_ShArR': 0.0, 'history_ShArr': 0.0, 'history_ShDadAf': 0.0, 'history_ShR': 0.0, 'history_ShrA': 0.0, 'history_ShwA': 0.0, 'history_ShwAr': 0.0, 'history_Sr': 0.0, 'history_^aA': 0.0, 'history_^aR': 0.0, 'history_^c': 0.0, 'history_^d': 0.0, 'history_^dDA': 0.0, 'history_^dtt': 0.0, 'history_^hA': 0.0, 'history_^hADFr': 0.0, 'history_^hADadfR': 0.0, 'history_^hADafF': 0.0, 'history_^hADr': 0.0, 'history_^hR': 0.0, 'history_^r': 0.0, 'history_nan': 0.0}\n",
      "{'': 6, '0': 0.75623715, '1': 4.5435716e-08, '2': 0.0, '3': 0.0, '4': 0.36363637, '5': 0.65217394, '6': 1.0, 'proto_icmp': 0.0, 'proto_tcp': 1.0, 'proto_udp': 0.0, 'conn_state_OTH': 0.0, 'conn_state_REJ': 0.0, 'conn_state_RSTO': 0.0, 'conn_state_RSTOS0': 0.0, 'conn_state_RSTR': 0.0, 'conn_state_RSTRH': 0.0, 'conn_state_S0': 1.0, 'conn_state_S1': 0.0, 'conn_state_S2': 0.0, 'conn_state_S3': 0.0, 'conn_state_SF': 0.0, 'conn_state_SH': 0.0, 'conn_state_SHR': 0.0, 'history_Aa': 0.0, 'history_Ar': 0.0, 'history_C': 0.0, 'history_CCC': 0.0, 'history_CCCC': 0.0, 'history_D': 0.0, 'history_DAd': 0.0, 'history_DFafA': 0.0, 'history_DFr': 0.0, 'history_DT': 0.0, 'history_DTT': 0.0, 'history_D^': 0.0, 'history_D^d': 0.0, 'history_DaFfA': 0.0, 'history_Dd': 0.0, 'history_DdA': 0.0, 'history_DdAa': 0.0, 'history_DdAaFf': 0.0, 'history_DdAtaFf': 0.0, 'history_Dr': 0.0, 'history_DrF': 0.0, 'history_F': 0.0, 'history_Fa': 0.0, 'history_FaAr': 0.0, 'history_FaR': 0.0, 'history_FfA': 0.0, 'history_Ffa': 0.0, 'history_Fr': 0.0, 'history_HaADdFf': 0.0, 'history_HaDdAFTf': 0.0, 'history_HaDdAFf': 0.0, 'history_HaDdAfF': 0.0, 'history_HaDdAr': 0.0, 'history_HaDdR': 0.0, 'history_HaDdTAFf': 0.0, 'history_HaFfA': 0.0, 'history_HaR': 0.0, 'history_HafFr': 0.0, 'history_I': 0.0, 'history_R': 0.0, 'history_S': 1.0, 'history_SAD': 0.0, 'history_SI': 0.0, 'history_SaR': 0.0, 'history_SahAdDF': 0.0, 'history_SahAdDFRf': 0.0, 'history_SahAdDFf': 0.0, 'history_SahAdDrfR': 0.0, 'history_SahAdDtFf': 0.0, 'history_ShA': 0.0, 'history_ShAD': 0.0, 'history_ShADCaGcgd': 0.0, 'history_ShADCaGdfF': 0.0, 'history_ShADF': 0.0, 'history_ShADFa': 0.0, 'history_ShADFaR': 0.0, 'history_ShADFadfR': 0.0, 'history_ShADFadfRR': 0.0, 'history_ShADFar': 0.0, 'history_ShADFfR': 0.0, 'history_ShADFfa': 0.0, 'history_ShADFr': 0.0, 'history_ShADa': 0.0, 'history_ShADaCGcgdF': 0.0, 'history_ShADaCGdt': 0.0, 'history_ShADaCGdtfF': 0.0, 'history_ShADaCGr': 0.0, 'history_ShADaF': 0.0, 'history_ShADaFr': 0.0, 'history_ShADaR': 0.0, 'history_ShADacdtfF': 0.0, 'history_ShADad': 0.0, 'history_ShADadFf': 0.0, 'history_ShADadFfR': 0.0, 'history_ShADadR': 0.0, 'history_ShADadRf': 0.0, 'history_ShADadf': 0.0, 'history_ShADadfF': 0.0, 'history_ShADadfR': 0.0, 'history_ShADadfr': 0.0, 'history_ShADadfrr': 0.0, 'history_ShADadftFR': 0.0, 'history_ShADadtFf': 0.0, 'history_ShADadtRf': 0.0, 'history_ShADadtcfF': 0.0, 'history_ShADadtctfF': 0.0, 'history_ShADadtctfFR': 0.0, 'history_ShADadtfF': 0.0, 'history_ShADadttFf': 0.0, 'history_ShADadttcfF': 0.0, 'history_ShADadttfF': 0.0, 'history_ShADafF': 0.0, 'history_ShADafdtF': 0.0, 'history_ShADafr': 0.0, 'history_ShADar': 0.0, 'history_ShADarfF': 0.0, 'history_ShADdFaf': 0.0, 'history_ShADdFf': 0.0, 'history_ShADda': 0.0, 'history_ShADdaf': 0.0, 'history_ShADdafR': 0.0, 'history_ShADdattFfR': 0.0, 'history_ShADdf': 0.0, 'history_ShADdfF': 0.0, 'history_ShADdfFa': 0.0, 'history_ShADdfR': 0.0, 'history_ShADdtaFf': 0.0, 'history_ShADdtatFfR': 0.0, 'history_ShADfF': 0.0, 'history_ShADfFa': 0.0, 'history_ShADfFr': 0.0, 'history_ShADfFrr': 0.0, 'history_ShADfR': 0.0, 'history_ShADfaF': 0.0, 'history_ShADfdtFaR': 0.0, 'history_ShADfdtR': 0.0, 'history_ShADfrF': 0.0, 'history_ShADfrFr': 0.0, 'history_ShADr': 0.0, 'history_ShADrfR': 0.0, 'history_ShAF': 0.0, 'history_ShAFa': 0.0, 'history_ShAFafR': 0.0, 'history_ShAFdRfR': 0.0, 'history_ShAFdfRt': 0.0, 'history_ShAFf': 0.0, 'history_ShAFfR': 0.0, 'history_ShAFr': 0.0, 'history_ShAa': 0.0, 'history_ShAadDFR': 0.0, 'history_ShAadDFRf': 0.0, 'history_ShAadDFf': 0.0, 'history_ShAadDfF': 0.0, 'history_ShAadDr': 0.0, 'history_ShAafF': 0.0, 'history_ShAar': 0.0, 'history_ShAaw': 0.0, 'history_ShAaww': 0.0, 'history_ShAdD': 0.0, 'history_ShAdDFaf': 0.0, 'history_ShAdDFar': 0.0, 'history_ShAdDFf': 0.0, 'history_ShAdDFfR': 0.0, 'history_ShAdDR': 0.0, 'history_ShAdDTafF': 0.0, 'history_ShAdDa': 0.0, 'history_ShAdDaF': 0.0, 'history_ShAdDaFR': 0.0, 'history_ShAdDaFRR': 0.0, 'history_ShAdDaFRRRf': 0.0, 'history_ShAdDaFRRf': 0.0, 'history_ShAdDaFRRfR': 0.0, 'history_ShAdDaFRf': 0.0, 'history_ShAdDaFRfR': 0.0, 'history_ShAdDaFRfRR': 0.0, 'history_ShAdDaFRr': 0.0, 'history_ShAdDaFT': 0.0, 'history_ShAdDaFTf': 0.0, 'history_ShAdDaFf': 0.0, 'history_ShAdDaFfR': 0.0, 'history_ShAdDaFfRR': 0.0, 'history_ShAdDaFfr': 0.0, 'history_ShAdDaFr': 0.0, 'history_ShAdDaFrR': 0.0, 'history_ShAdDaR': 0.0, 'history_ShAdDaRR': 0.0, 'history_ShAdDaRRR': 0.0, 'history_ShAdDaRr': 0.0, 'history_ShAdDaT': 0.0, 'history_ShAdDaTF': 0.0, 'history_ShAdDaTFR': 0.0, 'history_ShAdDaTFRf': 0.0, 'history_ShAdDaTFf': 0.0, 'history_ShAdDaTFfR': 0.0, 'history_ShAdDaTR': 0.0, 'history_ShAdDaTRf': 0.0, 'history_ShAdDaTRft': 0.0, 'history_ShAdDaTRr': 0.0, 'history_ShAdDaTTRf': 0.0, 'history_ShAdDaTfF': 0.0, 'history_ShAdDaTfR': 0.0, 'history_ShAdDaTfRr': 0.0, 'history_ShAdDaTfr': 0.0, 'history_ShAdDaf': 0.0, 'history_ShAdDafF': 0.0, 'history_ShAdDafFR': 0.0, 'history_ShAdDafFr': 0.0, 'history_ShAdDafFrR': 0.0, 'history_ShAdDafFrr': 0.0, 'history_ShAdDafR': 0.0, 'history_ShAdDafr': 0.0, 'history_ShAdDafrFr': 0.0, 'history_ShAdDafrR': 0.0, 'history_ShAdDaft': 0.0, 'history_ShAdDaftF': 0.0, 'history_ShAdDaftFR': 0.0, 'history_ShAdDar': 0.0, 'history_ShAdDarfR': 0.0, 'history_ShAdDarr': 0.0, 'history_ShAdDatFf': 0.0, 'history_ShAdDatFr': 0.0, 'history_ShAdDatFrR': 0.0, 'history_ShAdDatR': 0.0, 'history_ShAdDatRRR': 0.0, 'history_ShAdDatf': 0.0, 'history_ShAdDatfF': 0.0, 'history_ShAdDatfr': 0.0, 'history_ShAdDatrfR': 0.0, 'history_ShAdDfFa': 0.0, 'history_ShAdDfFr': 0.0, 'history_ShAdDfr': 0.0, 'history_ShAdDr': 0.0, 'history_ShAdDtaFf': 0.0, 'history_ShAdDtaFr': 0.0, 'history_ShAdDtaR': 0.0, 'history_ShAdDtafF': 0.0, 'history_ShAdDtafFr': 0.0, 'history_ShAdF': 0.0, 'history_ShAdFaRf': 0.0, 'history_ShAdFaf': 0.0, 'history_ShAdaDR': 0.0, 'history_ShAdaFr': 0.0, 'history_ShAdfDF': 0.0, 'history_ShAdfDFr': 0.0, 'history_ShAdfDr': 0.0, 'history_ShAdfF': 0.0, 'history_ShAdfFa': 0.0, 'history_ShAdfr': 0.0, 'history_ShAdr': 0.0, 'history_ShAdtDaFr': 0.0, 'history_ShAdtDaFrR': 0.0, 'history_ShAdtDafF': 0.0, 'history_ShAdtfFa': 0.0, 'history_ShAfF': 0.0, 'history_ShAfFa': 0.0, 'history_ShAfFr': 0.0, 'history_ShAfdtDFr': 0.0, 'history_ShAfdtDr': 0.0, 'history_ShAfdtF': 0.0, 'history_ShAfdtFa': 0.0, 'history_ShAfr': 0.0, 'history_ShAr': 0.0, 'history_ShArR': 0.0, 'history_ShArr': 0.0, 'history_ShDadAf': 0.0, 'history_ShR': 0.0, 'history_ShrA': 0.0, 'history_ShwA': 0.0, 'history_ShwAr': 0.0, 'history_Sr': 0.0, 'history_^aA': 0.0, 'history_^aR': 0.0, 'history_^c': 0.0, 'history_^d': 0.0, 'history_^dDA': 0.0, 'history_^dtt': 0.0, 'history_^hA': 0.0, 'history_^hADFr': 0.0, 'history_^hADadfR': 0.0, 'history_^hADafF': 0.0, 'history_^hADr': 0.0, 'history_^hR': 0.0, 'history_^r': 0.0, 'history_nan': 0.0}\n",
      "{'': 7, '0': 0.32483405, '1': 1.5145238e-08, '2': 0.0, '3': 0.0, '4': 0.36363637, '5': 0.65217394, '6': 1.0, 'proto_icmp': 0.0, 'proto_tcp': 1.0, 'proto_udp': 0.0, 'conn_state_OTH': 0.0, 'conn_state_REJ': 0.0, 'conn_state_RSTO': 0.0, 'conn_state_RSTOS0': 0.0, 'conn_state_RSTR': 0.0, 'conn_state_RSTRH': 0.0, 'conn_state_S0': 1.0, 'conn_state_S1': 0.0, 'conn_state_S2': 0.0, 'conn_state_S3': 0.0, 'conn_state_SF': 0.0, 'conn_state_SH': 0.0, 'conn_state_SHR': 0.0, 'history_Aa': 0.0, 'history_Ar': 0.0, 'history_C': 0.0, 'history_CCC': 0.0, 'history_CCCC': 0.0, 'history_D': 0.0, 'history_DAd': 0.0, 'history_DFafA': 0.0, 'history_DFr': 0.0, 'history_DT': 0.0, 'history_DTT': 0.0, 'history_D^': 0.0, 'history_D^d': 0.0, 'history_DaFfA': 0.0, 'history_Dd': 0.0, 'history_DdA': 0.0, 'history_DdAa': 0.0, 'history_DdAaFf': 0.0, 'history_DdAtaFf': 0.0, 'history_Dr': 0.0, 'history_DrF': 0.0, 'history_F': 0.0, 'history_Fa': 0.0, 'history_FaAr': 0.0, 'history_FaR': 0.0, 'history_FfA': 0.0, 'history_Ffa': 0.0, 'history_Fr': 0.0, 'history_HaADdFf': 0.0, 'history_HaDdAFTf': 0.0, 'history_HaDdAFf': 0.0, 'history_HaDdAfF': 0.0, 'history_HaDdAr': 0.0, 'history_HaDdR': 0.0, 'history_HaDdTAFf': 0.0, 'history_HaFfA': 0.0, 'history_HaR': 0.0, 'history_HafFr': 0.0, 'history_I': 0.0, 'history_R': 0.0, 'history_S': 1.0, 'history_SAD': 0.0, 'history_SI': 0.0, 'history_SaR': 0.0, 'history_SahAdDF': 0.0, 'history_SahAdDFRf': 0.0, 'history_SahAdDFf': 0.0, 'history_SahAdDrfR': 0.0, 'history_SahAdDtFf': 0.0, 'history_ShA': 0.0, 'history_ShAD': 0.0, 'history_ShADCaGcgd': 0.0, 'history_ShADCaGdfF': 0.0, 'history_ShADF': 0.0, 'history_ShADFa': 0.0, 'history_ShADFaR': 0.0, 'history_ShADFadfR': 0.0, 'history_ShADFadfRR': 0.0, 'history_ShADFar': 0.0, 'history_ShADFfR': 0.0, 'history_ShADFfa': 0.0, 'history_ShADFr': 0.0, 'history_ShADa': 0.0, 'history_ShADaCGcgdF': 0.0, 'history_ShADaCGdt': 0.0, 'history_ShADaCGdtfF': 0.0, 'history_ShADaCGr': 0.0, 'history_ShADaF': 0.0, 'history_ShADaFr': 0.0, 'history_ShADaR': 0.0, 'history_ShADacdtfF': 0.0, 'history_ShADad': 0.0, 'history_ShADadFf': 0.0, 'history_ShADadFfR': 0.0, 'history_ShADadR': 0.0, 'history_ShADadRf': 0.0, 'history_ShADadf': 0.0, 'history_ShADadfF': 0.0, 'history_ShADadfR': 0.0, 'history_ShADadfr': 0.0, 'history_ShADadfrr': 0.0, 'history_ShADadftFR': 0.0, 'history_ShADadtFf': 0.0, 'history_ShADadtRf': 0.0, 'history_ShADadtcfF': 0.0, 'history_ShADadtctfF': 0.0, 'history_ShADadtctfFR': 0.0, 'history_ShADadtfF': 0.0, 'history_ShADadttFf': 0.0, 'history_ShADadttcfF': 0.0, 'history_ShADadttfF': 0.0, 'history_ShADafF': 0.0, 'history_ShADafdtF': 0.0, 'history_ShADafr': 0.0, 'history_ShADar': 0.0, 'history_ShADarfF': 0.0, 'history_ShADdFaf': 0.0, 'history_ShADdFf': 0.0, 'history_ShADda': 0.0, 'history_ShADdaf': 0.0, 'history_ShADdafR': 0.0, 'history_ShADdattFfR': 0.0, 'history_ShADdf': 0.0, 'history_ShADdfF': 0.0, 'history_ShADdfFa': 0.0, 'history_ShADdfR': 0.0, 'history_ShADdtaFf': 0.0, 'history_ShADdtatFfR': 0.0, 'history_ShADfF': 0.0, 'history_ShADfFa': 0.0, 'history_ShADfFr': 0.0, 'history_ShADfFrr': 0.0, 'history_ShADfR': 0.0, 'history_ShADfaF': 0.0, 'history_ShADfdtFaR': 0.0, 'history_ShADfdtR': 0.0, 'history_ShADfrF': 0.0, 'history_ShADfrFr': 0.0, 'history_ShADr': 0.0, 'history_ShADrfR': 0.0, 'history_ShAF': 0.0, 'history_ShAFa': 0.0, 'history_ShAFafR': 0.0, 'history_ShAFdRfR': 0.0, 'history_ShAFdfRt': 0.0, 'history_ShAFf': 0.0, 'history_ShAFfR': 0.0, 'history_ShAFr': 0.0, 'history_ShAa': 0.0, 'history_ShAadDFR': 0.0, 'history_ShAadDFRf': 0.0, 'history_ShAadDFf': 0.0, 'history_ShAadDfF': 0.0, 'history_ShAadDr': 0.0, 'history_ShAafF': 0.0, 'history_ShAar': 0.0, 'history_ShAaw': 0.0, 'history_ShAaww': 0.0, 'history_ShAdD': 0.0, 'history_ShAdDFaf': 0.0, 'history_ShAdDFar': 0.0, 'history_ShAdDFf': 0.0, 'history_ShAdDFfR': 0.0, 'history_ShAdDR': 0.0, 'history_ShAdDTafF': 0.0, 'history_ShAdDa': 0.0, 'history_ShAdDaF': 0.0, 'history_ShAdDaFR': 0.0, 'history_ShAdDaFRR': 0.0, 'history_ShAdDaFRRRf': 0.0, 'history_ShAdDaFRRf': 0.0, 'history_ShAdDaFRRfR': 0.0, 'history_ShAdDaFRf': 0.0, 'history_ShAdDaFRfR': 0.0, 'history_ShAdDaFRfRR': 0.0, 'history_ShAdDaFRr': 0.0, 'history_ShAdDaFT': 0.0, 'history_ShAdDaFTf': 0.0, 'history_ShAdDaFf': 0.0, 'history_ShAdDaFfR': 0.0, 'history_ShAdDaFfRR': 0.0, 'history_ShAdDaFfr': 0.0, 'history_ShAdDaFr': 0.0, 'history_ShAdDaFrR': 0.0, 'history_ShAdDaR': 0.0, 'history_ShAdDaRR': 0.0, 'history_ShAdDaRRR': 0.0, 'history_ShAdDaRr': 0.0, 'history_ShAdDaT': 0.0, 'history_ShAdDaTF': 0.0, 'history_ShAdDaTFR': 0.0, 'history_ShAdDaTFRf': 0.0, 'history_ShAdDaTFf': 0.0, 'history_ShAdDaTFfR': 0.0, 'history_ShAdDaTR': 0.0, 'history_ShAdDaTRf': 0.0, 'history_ShAdDaTRft': 0.0, 'history_ShAdDaTRr': 0.0, 'history_ShAdDaTTRf': 0.0, 'history_ShAdDaTfF': 0.0, 'history_ShAdDaTfR': 0.0, 'history_ShAdDaTfRr': 0.0, 'history_ShAdDaTfr': 0.0, 'history_ShAdDaf': 0.0, 'history_ShAdDafF': 0.0, 'history_ShAdDafFR': 0.0, 'history_ShAdDafFr': 0.0, 'history_ShAdDafFrR': 0.0, 'history_ShAdDafFrr': 0.0, 'history_ShAdDafR': 0.0, 'history_ShAdDafr': 0.0, 'history_ShAdDafrFr': 0.0, 'history_ShAdDafrR': 0.0, 'history_ShAdDaft': 0.0, 'history_ShAdDaftF': 0.0, 'history_ShAdDaftFR': 0.0, 'history_ShAdDar': 0.0, 'history_ShAdDarfR': 0.0, 'history_ShAdDarr': 0.0, 'history_ShAdDatFf': 0.0, 'history_ShAdDatFr': 0.0, 'history_ShAdDatFrR': 0.0, 'history_ShAdDatR': 0.0, 'history_ShAdDatRRR': 0.0, 'history_ShAdDatf': 0.0, 'history_ShAdDatfF': 0.0, 'history_ShAdDatfr': 0.0, 'history_ShAdDatrfR': 0.0, 'history_ShAdDfFa': 0.0, 'history_ShAdDfFr': 0.0, 'history_ShAdDfr': 0.0, 'history_ShAdDr': 0.0, 'history_ShAdDtaFf': 0.0, 'history_ShAdDtaFr': 0.0, 'history_ShAdDtaR': 0.0, 'history_ShAdDtafF': 0.0, 'history_ShAdDtafFr': 0.0, 'history_ShAdF': 0.0, 'history_ShAdFaRf': 0.0, 'history_ShAdFaf': 0.0, 'history_ShAdaDR': 0.0, 'history_ShAdaFr': 0.0, 'history_ShAdfDF': 0.0, 'history_ShAdfDFr': 0.0, 'history_ShAdfDr': 0.0, 'history_ShAdfF': 0.0, 'history_ShAdfFa': 0.0, 'history_ShAdfr': 0.0, 'history_ShAdr': 0.0, 'history_ShAdtDaFr': 0.0, 'history_ShAdtDaFrR': 0.0, 'history_ShAdtDafF': 0.0, 'history_ShAdtfFa': 0.0, 'history_ShAfF': 0.0, 'history_ShAfFa': 0.0, 'history_ShAfFr': 0.0, 'history_ShAfdtDFr': 0.0, 'history_ShAfdtDr': 0.0, 'history_ShAfdtF': 0.0, 'history_ShAfdtFa': 0.0, 'history_ShAfr': 0.0, 'history_ShAr': 0.0, 'history_ShArR': 0.0, 'history_ShArr': 0.0, 'history_ShDadAf': 0.0, 'history_ShR': 0.0, 'history_ShrA': 0.0, 'history_ShwA': 0.0, 'history_ShwAr': 0.0, 'history_Sr': 0.0, 'history_^aA': 0.0, 'history_^aR': 0.0, 'history_^c': 0.0, 'history_^d': 0.0, 'history_^dDA': 0.0, 'history_^dtt': 0.0, 'history_^hA': 0.0, 'history_^hADFr': 0.0, 'history_^hADadfR': 0.0, 'history_^hADafF': 0.0, 'history_^hADr': 0.0, 'history_^hR': 0.0, 'history_^r': 0.0, 'history_nan': 0.0}\n"
     ]
    }
   ],
   "source": [
    "ds.show(8)"
   ]
  },
  {
   "cell_type": "code",
   "execution_count": 11,
   "metadata": {},
   "outputs": [],
   "source": [
    "\n"
   ]
  },
  {
   "cell_type": "code",
   "execution_count": 15,
   "metadata": {},
   "outputs": [
    {
     "data": {
      "text/plain": [
       "'Operator 1 ReadCSV: 1 tasks executed, 1 blocks produced in 2.62s\\n* Remote wall time: 2.62s min, 2.62s max, 2.62s mean, 2.62s total\\n* Remote cpu time: 1.91s min, 1.91s max, 1.91s mean, 1.91s total\\n* UDF time: 0us min, 0us max, 0.0us mean, 0us total\\n* Peak heap memory usage (MiB): 355.96 min, 355.96 max, 355 mean\\n* Output num rows per block: 58358 min, 58358 max, 58358 mean, 58358 total\\n* Output size bytes per block: 134456832 min, 134456832 max, 134456832 mean, 134456832 total\\n* Output rows per task: 58358 min, 58358 max, 58358 mean, 1 tasks used\\n* Tasks per node: 1 min, 1 max, 1 mean; 1 nodes used\\n* Operator throughput:\\n\\t* Ray Data throughput: 22304.738654301655 rows/s\\n\\t* Estimated single node throughput: 22304.738654301655 rows/s\\n\\nOperator 2 limit=8: 1 tasks executed, 1 blocks produced in 2.62s\\n* Remote wall time: 2.62s min, 2.62s max, 2.62s mean, 2.62s total\\n* Remote cpu time: 1.91s min, 1.91s max, 1.91s mean, 1.91s total\\n* UDF time: 0us min, 0us max, 0.0us mean, 0us total\\n* Peak heap memory usage (MiB): 355.96 min, 355.96 max, 355 mean\\n* Output num rows per block: 8 min, 8 max, 8 mean, 8 total\\n* Output size bytes per block: 18432 min, 18432 max, 18432 mean, 18432 total\\n* Output rows per task: 8 min, 8 max, 8 mean, 1 tasks used\\n* Tasks per node: 1 min, 1 max, 1 mean; 1 nodes used\\n* Operator throughput:\\n\\t* Ray Data throughput: 3.0576426408446697 rows/s\\n\\t* Estimated single node throughput: 3.0576426408446697 rows/s\\n\\nDataset iterator time breakdown:\\n    * Total time in Ray Data iterator initialization code: 8.49s\\n    * Total time user thread is blocked by Ray Data iter_batches: 5.92ms\\n    * Total execution time for user thread: 89.3ms\\n* Batch iteration time breakdown (summed across prefetch threads):\\n    * In ray.get(): 4.32ms min, 4.32ms max, 4.32ms avg, 4.32ms total\\n    * In batch creation: 3.5us min, 3.5us max, 3.5us avg, 3.5us total\\n    * In batch formatting: 6.6us min, 6.6us max, 6.6us avg, 6.6us total\\n\\nDataset throughput:\\n\\t* Ray Data throughput: 0.9425114660054267 rows/s\\n\\t* Estimated single node throughput: 1.5288213204223349 rows/s\\n'"
      ]
     },
     "execution_count": 15,
     "metadata": {},
     "output_type": "execute_result"
    }
   ],
   "source": []
  },
  {
   "cell_type": "code",
   "execution_count": 11,
   "metadata": {},
   "outputs": [
    {
     "ename": "NameError",
     "evalue": "name 'stats' is not defined",
     "output_type": "error",
     "traceback": [
      "\u001b[1;31m---------------------------------------------------------------------------\u001b[0m",
      "\u001b[1;31mNameError\u001b[0m                                 Traceback (most recent call last)",
      "Cell \u001b[1;32mIn[11], line 2\u001b[0m\n\u001b[0;32m      1\u001b[0m \u001b[38;5;66;03m# Imprimir resumen general\u001b[39;00m\n\u001b[1;32m----> 2\u001b[0m \u001b[38;5;28mprint\u001b[39m(\u001b[43mstats\u001b[49m\u001b[38;5;241m.\u001b[39msummary())\n\u001b[0;32m      4\u001b[0m \u001b[38;5;66;03m# Imprimir estadísticas por columna\u001b[39;00m\n\u001b[0;32m      5\u001b[0m \u001b[38;5;28mprint\u001b[39m(stats\u001b[38;5;241m.\u001b[39mcolumn_stats())\n",
      "\u001b[1;31mNameError\u001b[0m: name 'stats' is not defined"
     ]
    }
   ],
   "source": [
    "# Imprimir resumen general\n",
    "print(stats.summary())\n",
    "\n",
    "# Imprimir estadísticas por columna\n",
    "print(stats.column_stats())\n",
    "\n",
    "# Visualizar la distribución de una columna\n",
    "stats.plot_histogram(\"columna_numerica\")\n",
    "\n",
    "# Calcular la correlación entre dos columnas\n",
    "stats.correlation(\"columna1\", \"columna2\")"
   ]
  },
  {
   "cell_type": "code",
   "execution_count": 10,
   "metadata": {},
   "outputs": [],
   "source": [
    "def convertir_a_numpy(bloque):\n",
    "    return BlockAccessor.for_block(bloque).to_numpy()\n",
    "\n",
    "# Obtener bloques del dataset\n",
    "bloques_numpy = dataset.map_blocks(convertir_a_numpy)\n",
    "\n",
    "# Convertir bloques a una lista de matrices NumPy\n",
    "data_numpy = list(bloques_numpy)\n",
    "\n"
   ]
  },
  {
   "cell_type": "code",
   "execution_count": 51,
   "metadata": {},
   "outputs": [],
   "source": [
    "# Crear un objeto PCA\n",
    "pca = PCA(n_components=2)\n",
    "\n",
    "# Ajustar PCA a los datos\n",
    "pca.fit(data_numpy)\n",
    "\n",
    "# Obtener componentes principales y varianzas explicadas\n",
    "componentes_principales = pca.components_\n",
    "varianzas_explicadas = pca.explained_variance_\n",
    "\n",
    "print(\"Componentes principales:\\n\", componentes_principales)\n",
    "print(\"Varianzas explicadas:\\n\", varianzas_explicadas)"
   ]
  },
  {
   "cell_type": "code",
   "execution_count": 9,
   "metadata": {},
   "outputs": [],
   "source": [
    "\n",
    "\n",
    "# Mostrar la varianza explicada por cada componente\n",
    "plt.bar(range(1, pca.n_components_ + 1), varianzas_explicadas)\n",
    "plt.xlabel(\"Componente Principal\")\n",
    "plt.ylabel(\"Varianza Explicada\")\n",
    "plt.show()\n",
    "\n",
    "# Proyectar los datos en los dos primeros componentes\n",
    "datos_proyectados = pca.transform(data_numpy)\n",
    "\n",
    "# Visualizar los datos proyectados\n",
    "plt.scatter(datos_proyectados[:, 0], datos_proyectados[:, 1])\n",
    "plt.xlabel(\"Componente Principal 1\")\n",
    "plt.ylabel(\"Componente Principal 2\")\n",
    "plt.show()\n"
   ]
  },
  {
   "cell_type": "code",
   "execution_count": null,
   "metadata": {},
   "outputs": [],
   "source": []
  },
  {
   "cell_type": "code",
   "execution_count": 11,
   "metadata": {},
   "outputs": [
    {
     "ename": "AttributeError",
     "evalue": "'Dataset' object has no attribute 'random_split'",
     "output_type": "error",
     "traceback": [
      "\u001b[1;31m---------------------------------------------------------------------------\u001b[0m",
      "\u001b[1;31mAttributeError\u001b[0m                            Traceback (most recent call last)",
      "Cell \u001b[1;32mIn[11], line 2\u001b[0m\n\u001b[0;32m      1\u001b[0m \u001b[38;5;66;03m#split\u001b[39;00m\n\u001b[1;32m----> 2\u001b[0m train_set, test_set \u001b[38;5;241m=\u001b[39m \u001b[43mds\u001b[49m\u001b[38;5;241;43m.\u001b[39;49m\u001b[43mrandom_split\u001b[49m([\u001b[38;5;241m0.8\u001b[39m, \u001b[38;5;241m0.2\u001b[39m])\n",
      "\u001b[1;31mAttributeError\u001b[0m: 'Dataset' object has no attribute 'random_split'"
     ]
    }
   ],
   "source": [
    "#split\n",
    "train_set, test_set = ds.random_split([0.8, 0.2])"
   ]
  },
  {
   "cell_type": "code",
   "execution_count": null,
   "metadata": {},
   "outputs": [],
   "source": [
    "# Entrena el modelo XGBoost\n",
    "model = xgboost.train(\n",
    "    train_set,\n",
    "    num_rounds=100,\n",
    "    max_depth=5,\n",
    "    learning_rate=0.1,\n",
    "    tree_method=\"hist\",\n",
    ")\n",
    "\n",
    "# Evalúa el modelo\n",
    "predictions = model.predict(test_set)\n",
    "accuracy = metrics.accuracy_score(test_set[\"label\"], predictions)\n",
    "\n",
    "# Realiza el split\n",
    "splits = xgboost.split(train_set, n_splits=4)\n",
    "\n",
    "# Entrena un modelo XGBoost en cada subconjunto\n",
    "models = [xgboost.train(split, num_rounds=100) for split in splits]\n",
    "\n",
    "# Combina las predicciones\n",
    "combined_predictions = np.mean([model.predict(test_set) for model in models])\n",
    "\n",
    "# Evalúa las predicciones combinadas\n",
    "combined_accuracy = metrics.accuracy_score(test_set[\"label\"], combined_predictions)\n",
    "\n",
    "print(f\"Accuracy: {accuracy:.4f}\")\n",
    "print(f\"Combined Accuracy: {combined_accuracy:.4f}\")"
   ]
  },
  {
   "cell_type": "code",
   "execution_count": 62,
   "metadata": {},
   "outputs": [
    {
     "data": {
      "text/html": [
       "<div>\n",
       "<style scoped>\n",
       "    .dataframe tbody tr th:only-of-type {\n",
       "        vertical-align: middle;\n",
       "    }\n",
       "\n",
       "    .dataframe tbody tr th {\n",
       "        vertical-align: top;\n",
       "    }\n",
       "\n",
       "    .dataframe thead th {\n",
       "        text-align: right;\n",
       "    }\n",
       "</style>\n",
       "<table border=\"1\" class=\"dataframe\">\n",
       "  <thead>\n",
       "    <tr style=\"text-align: right;\">\n",
       "      <th></th>\n",
       "      <th>id.orig_h</th>\n",
       "      <th>id.orig_p</th>\n",
       "      <th>id.resp_h</th>\n",
       "      <th>id.resp_p</th>\n",
       "      <th>proto</th>\n",
       "      <th>conn_state</th>\n",
       "      <th>missed_bytes</th>\n",
       "      <th>orig_pkts</th>\n",
       "      <th>resp_pkts</th>\n",
       "      <th>anyo</th>\n",
       "      <th>mes</th>\n",
       "      <th>hora</th>\n",
       "      <th>dia_semanal</th>\n",
       "      <th>target</th>\n",
       "    </tr>\n",
       "  </thead>\n",
       "  <tbody>\n",
       "    <tr>\n",
       "      <th>0</th>\n",
       "      <td>192.168.100.103</td>\n",
       "      <td>51524.0</td>\n",
       "      <td>65.127.233.163</td>\n",
       "      <td>23.0</td>\n",
       "      <td>tcp</td>\n",
       "      <td>S0</td>\n",
       "      <td>0.0</td>\n",
       "      <td>3.0</td>\n",
       "      <td>0.0</td>\n",
       "      <td>2018</td>\n",
       "      <td>5</td>\n",
       "      <td>15</td>\n",
       "      <td>2</td>\n",
       "      <td>0</td>\n",
       "    </tr>\n",
       "    <tr>\n",
       "      <th>1</th>\n",
       "      <td>192.168.100.103</td>\n",
       "      <td>56305.0</td>\n",
       "      <td>63.150.16.171</td>\n",
       "      <td>23.0</td>\n",
       "      <td>tcp</td>\n",
       "      <td>S0</td>\n",
       "      <td>0.0</td>\n",
       "      <td>1.0</td>\n",
       "      <td>0.0</td>\n",
       "      <td>2018</td>\n",
       "      <td>5</td>\n",
       "      <td>15</td>\n",
       "      <td>2</td>\n",
       "      <td>0</td>\n",
       "    </tr>\n",
       "    <tr>\n",
       "      <th>2</th>\n",
       "      <td>192.168.100.103</td>\n",
       "      <td>41101.0</td>\n",
       "      <td>111.40.23.49</td>\n",
       "      <td>23.0</td>\n",
       "      <td>tcp</td>\n",
       "      <td>S0</td>\n",
       "      <td>0.0</td>\n",
       "      <td>1.0</td>\n",
       "      <td>0.0</td>\n",
       "      <td>2018</td>\n",
       "      <td>5</td>\n",
       "      <td>15</td>\n",
       "      <td>2</td>\n",
       "      <td>0</td>\n",
       "    </tr>\n",
       "    <tr>\n",
       "      <th>3</th>\n",
       "      <td>192.168.100.103</td>\n",
       "      <td>60905.0</td>\n",
       "      <td>131.174.215.147</td>\n",
       "      <td>23.0</td>\n",
       "      <td>tcp</td>\n",
       "      <td>S0</td>\n",
       "      <td>0.0</td>\n",
       "      <td>3.0</td>\n",
       "      <td>0.0</td>\n",
       "      <td>2018</td>\n",
       "      <td>5</td>\n",
       "      <td>15</td>\n",
       "      <td>2</td>\n",
       "      <td>0</td>\n",
       "    </tr>\n",
       "    <tr>\n",
       "      <th>4</th>\n",
       "      <td>192.168.100.103</td>\n",
       "      <td>44301.0</td>\n",
       "      <td>91.42.47.63</td>\n",
       "      <td>23.0</td>\n",
       "      <td>tcp</td>\n",
       "      <td>S0</td>\n",
       "      <td>0.0</td>\n",
       "      <td>1.0</td>\n",
       "      <td>0.0</td>\n",
       "      <td>2018</td>\n",
       "      <td>5</td>\n",
       "      <td>15</td>\n",
       "      <td>2</td>\n",
       "      <td>0</td>\n",
       "    </tr>\n",
       "    <tr>\n",
       "      <th>...</th>\n",
       "      <td>...</td>\n",
       "      <td>...</td>\n",
       "      <td>...</td>\n",
       "      <td>...</td>\n",
       "      <td>...</td>\n",
       "      <td>...</td>\n",
       "      <td>...</td>\n",
       "      <td>...</td>\n",
       "      <td>...</td>\n",
       "      <td>...</td>\n",
       "      <td>...</td>\n",
       "      <td>...</td>\n",
       "      <td>...</td>\n",
       "      <td>...</td>\n",
       "    </tr>\n",
       "    <tr>\n",
       "      <th>25010998</th>\n",
       "      <td>192.168.1.195</td>\n",
       "      <td>123.0</td>\n",
       "      <td>89.221.210.188</td>\n",
       "      <td>123.0</td>\n",
       "      <td>udp</td>\n",
       "      <td>SF</td>\n",
       "      <td>0.0</td>\n",
       "      <td>2.0</td>\n",
       "      <td>2.0</td>\n",
       "      <td>2019</td>\n",
       "      <td>9</td>\n",
       "      <td>0</td>\n",
       "      <td>5</td>\n",
       "      <td>1</td>\n",
       "    </tr>\n",
       "    <tr>\n",
       "      <th>25010999</th>\n",
       "      <td>192.168.1.195</td>\n",
       "      <td>37306.0</td>\n",
       "      <td>102.165.48.81</td>\n",
       "      <td>17769.0</td>\n",
       "      <td>tcp</td>\n",
       "      <td>S1</td>\n",
       "      <td>0.0</td>\n",
       "      <td>8952.0</td>\n",
       "      <td>9613.0</td>\n",
       "      <td>2019</td>\n",
       "      <td>9</td>\n",
       "      <td>1</td>\n",
       "      <td>4</td>\n",
       "      <td>0</td>\n",
       "    </tr>\n",
       "    <tr>\n",
       "      <th>25011000</th>\n",
       "      <td>192.168.1.195</td>\n",
       "      <td>123.0</td>\n",
       "      <td>212.111.30.190</td>\n",
       "      <td>123.0</td>\n",
       "      <td>udp</td>\n",
       "      <td>SF</td>\n",
       "      <td>0.0</td>\n",
       "      <td>2.0</td>\n",
       "      <td>2.0</td>\n",
       "      <td>2019</td>\n",
       "      <td>9</td>\n",
       "      <td>0</td>\n",
       "      <td>5</td>\n",
       "      <td>1</td>\n",
       "    </tr>\n",
       "    <tr>\n",
       "      <th>25011001</th>\n",
       "      <td>192.168.1.195</td>\n",
       "      <td>123.0</td>\n",
       "      <td>5.1.56.123</td>\n",
       "      <td>123.0</td>\n",
       "      <td>udp</td>\n",
       "      <td>SF</td>\n",
       "      <td>0.0</td>\n",
       "      <td>2.0</td>\n",
       "      <td>2.0</td>\n",
       "      <td>2019</td>\n",
       "      <td>9</td>\n",
       "      <td>0</td>\n",
       "      <td>5</td>\n",
       "      <td>1</td>\n",
       "    </tr>\n",
       "    <tr>\n",
       "      <th>25011002</th>\n",
       "      <td>192.168.1.195</td>\n",
       "      <td>123.0</td>\n",
       "      <td>81.2.254.32</td>\n",
       "      <td>123.0</td>\n",
       "      <td>udp</td>\n",
       "      <td>SF</td>\n",
       "      <td>0.0</td>\n",
       "      <td>2.0</td>\n",
       "      <td>2.0</td>\n",
       "      <td>2019</td>\n",
       "      <td>9</td>\n",
       "      <td>0</td>\n",
       "      <td>5</td>\n",
       "      <td>1</td>\n",
       "    </tr>\n",
       "  </tbody>\n",
       "</table>\n",
       "<p>25011003 rows × 14 columns</p>\n",
       "</div>"
      ],
      "text/plain": [
       "                id.orig_h  id.orig_p        id.resp_h  id.resp_p proto  \\\n",
       "0         192.168.100.103    51524.0   65.127.233.163       23.0   tcp   \n",
       "1         192.168.100.103    56305.0    63.150.16.171       23.0   tcp   \n",
       "2         192.168.100.103    41101.0     111.40.23.49       23.0   tcp   \n",
       "3         192.168.100.103    60905.0  131.174.215.147       23.0   tcp   \n",
       "4         192.168.100.103    44301.0      91.42.47.63       23.0   tcp   \n",
       "...                   ...        ...              ...        ...   ...   \n",
       "25010998    192.168.1.195      123.0   89.221.210.188      123.0   udp   \n",
       "25010999    192.168.1.195    37306.0    102.165.48.81    17769.0   tcp   \n",
       "25011000    192.168.1.195      123.0   212.111.30.190      123.0   udp   \n",
       "25011001    192.168.1.195      123.0       5.1.56.123      123.0   udp   \n",
       "25011002    192.168.1.195      123.0      81.2.254.32      123.0   udp   \n",
       "\n",
       "         conn_state  missed_bytes  orig_pkts  resp_pkts  anyo  mes  hora  \\\n",
       "0                S0           0.0        3.0        0.0  2018    5    15   \n",
       "1                S0           0.0        1.0        0.0  2018    5    15   \n",
       "2                S0           0.0        1.0        0.0  2018    5    15   \n",
       "3                S0           0.0        3.0        0.0  2018    5    15   \n",
       "4                S0           0.0        1.0        0.0  2018    5    15   \n",
       "...             ...           ...        ...        ...   ...  ...   ...   \n",
       "25010998         SF           0.0        2.0        2.0  2019    9     0   \n",
       "25010999         S1           0.0     8952.0     9613.0  2019    9     1   \n",
       "25011000         SF           0.0        2.0        2.0  2019    9     0   \n",
       "25011001         SF           0.0        2.0        2.0  2019    9     0   \n",
       "25011002         SF           0.0        2.0        2.0  2019    9     0   \n",
       "\n",
       "          dia_semanal  target  \n",
       "0                   2       0  \n",
       "1                   2       0  \n",
       "2                   2       0  \n",
       "3                   2       0  \n",
       "4                   2       0  \n",
       "...               ...     ...  \n",
       "25010998            5       1  \n",
       "25010999            4       0  \n",
       "25011000            5       1  \n",
       "25011001            5       1  \n",
       "25011002            5       1  \n",
       "\n",
       "[25011003 rows x 14 columns]"
      ]
     },
     "execution_count": 62,
     "metadata": {},
     "output_type": "execute_result"
    }
   ],
   "source": [
    "df_ml"
   ]
  },
  {
   "cell_type": "code",
   "execution_count": 8,
   "metadata": {},
   "outputs": [],
   "source": [
    "#df[\"target\"] = df[\"Target\"].map(lambda x: 0 if x == \"Malicious\" else 1)"
   ]
  },
  {
   "cell_type": "code",
   "execution_count": 10,
   "metadata": {},
   "outputs": [],
   "source": [
    "#df.drop(columns={\"dia\",\"resp_ip_bytes\", \"orig_ip_bytes\",\"Target\"}, inplace=True)"
   ]
  },
  {
   "cell_type": "code",
   "execution_count": 63,
   "metadata": {},
   "outputs": [
    {
     "data": {
      "text/html": [
       "<div>\n",
       "<style scoped>\n",
       "    .dataframe tbody tr th:only-of-type {\n",
       "        vertical-align: middle;\n",
       "    }\n",
       "\n",
       "    .dataframe tbody tr th {\n",
       "        vertical-align: top;\n",
       "    }\n",
       "\n",
       "    .dataframe thead th {\n",
       "        text-align: right;\n",
       "    }\n",
       "</style>\n",
       "<table border=\"1\" class=\"dataframe\">\n",
       "  <thead>\n",
       "    <tr style=\"text-align: right;\">\n",
       "      <th></th>\n",
       "      <th>porcentaje_cardinalidad</th>\n",
       "      <th>Tipo</th>\n",
       "      <th>media</th>\n",
       "      <th>moda</th>\n",
       "      <th>std</th>\n",
       "      <th>var</th>\n",
       "      <th>Q1</th>\n",
       "      <th>mediana</th>\n",
       "      <th>Q3</th>\n",
       "      <th>Categoria</th>\n",
       "      <th>porcentaje_NaN</th>\n",
       "    </tr>\n",
       "  </thead>\n",
       "  <tbody>\n",
       "    <tr>\n",
       "      <th>id.orig_h</th>\n",
       "      <td>0.09</td>\n",
       "      <td>object</td>\n",
       "      <td>No</td>\n",
       "      <td>192.168.1.196</td>\n",
       "      <td>No</td>\n",
       "      <td>No</td>\n",
       "      <td>No</td>\n",
       "      <td>No</td>\n",
       "      <td>No</td>\n",
       "      <td>categorica ordinal</td>\n",
       "      <td>0.0</td>\n",
       "    </tr>\n",
       "    <tr>\n",
       "      <th>id.orig_p</th>\n",
       "      <td>0.26</td>\n",
       "      <td>float64</td>\n",
       "      <td>39909.62</td>\n",
       "      <td>No</td>\n",
       "      <td>16091.97</td>\n",
       "      <td>258951549.59</td>\n",
       "      <td>32980.0</td>\n",
       "      <td>42993.0</td>\n",
       "      <td>52360.0</td>\n",
       "      <td>numerica continua</td>\n",
       "      <td>0.0</td>\n",
       "    </tr>\n",
       "    <tr>\n",
       "      <th>id.resp_h</th>\n",
       "      <td>46.6</td>\n",
       "      <td>object</td>\n",
       "      <td>No</td>\n",
       "      <td>162.248.88.215</td>\n",
       "      <td>No</td>\n",
       "      <td>No</td>\n",
       "      <td>No</td>\n",
       "      <td>No</td>\n",
       "      <td>No</td>\n",
       "      <td>categorica ordinal</td>\n",
       "      <td>0.0</td>\n",
       "    </tr>\n",
       "    <tr>\n",
       "      <th>id.resp_p</th>\n",
       "      <td>0.26</td>\n",
       "      <td>float64</td>\n",
       "      <td>9710.51</td>\n",
       "      <td>No</td>\n",
       "      <td>22174.48</td>\n",
       "      <td>491707739.75</td>\n",
       "      <td>23.0</td>\n",
       "      <td>23.0</td>\n",
       "      <td>81.0</td>\n",
       "      <td>numerica continua</td>\n",
       "      <td>0.0</td>\n",
       "    </tr>\n",
       "    <tr>\n",
       "      <th>proto</th>\n",
       "      <td>0.0</td>\n",
       "      <td>object</td>\n",
       "      <td>No</td>\n",
       "      <td>tcp</td>\n",
       "      <td>No</td>\n",
       "      <td>No</td>\n",
       "      <td>No</td>\n",
       "      <td>No</td>\n",
       "      <td>No</td>\n",
       "      <td>categorica ordinal</td>\n",
       "      <td>0.0</td>\n",
       "    </tr>\n",
       "    <tr>\n",
       "      <th>conn_state</th>\n",
       "      <td>0.0</td>\n",
       "      <td>object</td>\n",
       "      <td>No</td>\n",
       "      <td>S0</td>\n",
       "      <td>No</td>\n",
       "      <td>No</td>\n",
       "      <td>No</td>\n",
       "      <td>No</td>\n",
       "      <td>No</td>\n",
       "      <td>categorica ordinal</td>\n",
       "      <td>0.0</td>\n",
       "    </tr>\n",
       "    <tr>\n",
       "      <th>missed_bytes</th>\n",
       "      <td>0.0</td>\n",
       "      <td>float64</td>\n",
       "      <td>76.33</td>\n",
       "      <td>No</td>\n",
       "      <td>381679.91</td>\n",
       "      <td>145679555881.059998</td>\n",
       "      <td>0.0</td>\n",
       "      <td>0.0</td>\n",
       "      <td>0.0</td>\n",
       "      <td>numerica continua</td>\n",
       "      <td>0.0</td>\n",
       "    </tr>\n",
       "    <tr>\n",
       "      <th>orig_pkts</th>\n",
       "      <td>0.0</td>\n",
       "      <td>float64</td>\n",
       "      <td>13.5</td>\n",
       "      <td>No</td>\n",
       "      <td>17511.7</td>\n",
       "      <td>306659531.76</td>\n",
       "      <td>1.0</td>\n",
       "      <td>1.0</td>\n",
       "      <td>3.0</td>\n",
       "      <td>numerica continua</td>\n",
       "      <td>0.0</td>\n",
       "    </tr>\n",
       "    <tr>\n",
       "      <th>resp_pkts</th>\n",
       "      <td>0.0</td>\n",
       "      <td>float64</td>\n",
       "      <td>0.01</td>\n",
       "      <td>No</td>\n",
       "      <td>4.19</td>\n",
       "      <td>17.55</td>\n",
       "      <td>0.0</td>\n",
       "      <td>0.0</td>\n",
       "      <td>0.0</td>\n",
       "      <td>numerica continua</td>\n",
       "      <td>0.0</td>\n",
       "    </tr>\n",
       "    <tr>\n",
       "      <th>anyo</th>\n",
       "      <td>0.0</td>\n",
       "      <td>int64</td>\n",
       "      <td>2018.28</td>\n",
       "      <td>No</td>\n",
       "      <td>0.45</td>\n",
       "      <td>0.2</td>\n",
       "      <td>2018.0</td>\n",
       "      <td>2018.0</td>\n",
       "      <td>2019.0</td>\n",
       "      <td>numerica discreta</td>\n",
       "      <td>0.0</td>\n",
       "    </tr>\n",
       "    <tr>\n",
       "      <th>mes</th>\n",
       "      <td>0.0</td>\n",
       "      <td>int64</td>\n",
       "      <td>8.66</td>\n",
       "      <td>No</td>\n",
       "      <td>3.37</td>\n",
       "      <td>11.36</td>\n",
       "      <td>7.0</td>\n",
       "      <td>9.0</td>\n",
       "      <td>12.0</td>\n",
       "      <td>numerica discreta</td>\n",
       "      <td>0.0</td>\n",
       "    </tr>\n",
       "    <tr>\n",
       "      <th>hora</th>\n",
       "      <td>0.0</td>\n",
       "      <td>int64</td>\n",
       "      <td>12.96</td>\n",
       "      <td>No</td>\n",
       "      <td>7.85</td>\n",
       "      <td>61.6</td>\n",
       "      <td>5.0</td>\n",
       "      <td>14.0</td>\n",
       "      <td>21.0</td>\n",
       "      <td>numerica continua</td>\n",
       "      <td>0.0</td>\n",
       "    </tr>\n",
       "    <tr>\n",
       "      <th>dia_semanal</th>\n",
       "      <td>0.0</td>\n",
       "      <td>int64</td>\n",
       "      <td>3.81</td>\n",
       "      <td>No</td>\n",
       "      <td>1.08</td>\n",
       "      <td>1.17</td>\n",
       "      <td>3.0</td>\n",
       "      <td>4.0</td>\n",
       "      <td>5.0</td>\n",
       "      <td>numerica discreta</td>\n",
       "      <td>0.0</td>\n",
       "    </tr>\n",
       "    <tr>\n",
       "      <th>target</th>\n",
       "      <td>0.0</td>\n",
       "      <td>int64</td>\n",
       "      <td>0.35</td>\n",
       "      <td>No</td>\n",
       "      <td>0.48</td>\n",
       "      <td>0.23</td>\n",
       "      <td>0.0</td>\n",
       "      <td>0.0</td>\n",
       "      <td>1.0</td>\n",
       "      <td>numerica discreta</td>\n",
       "      <td>0.0</td>\n",
       "    </tr>\n",
       "  </tbody>\n",
       "</table>\n",
       "</div>"
      ],
      "text/plain": [
       "             porcentaje_cardinalidad     Tipo     media            moda  \\\n",
       "id.orig_h                       0.09   object        No   192.168.1.196   \n",
       "id.orig_p                       0.26  float64  39909.62              No   \n",
       "id.resp_h                       46.6   object        No  162.248.88.215   \n",
       "id.resp_p                       0.26  float64   9710.51              No   \n",
       "proto                            0.0   object        No             tcp   \n",
       "conn_state                       0.0   object        No              S0   \n",
       "missed_bytes                     0.0  float64     76.33              No   \n",
       "orig_pkts                        0.0  float64      13.5              No   \n",
       "resp_pkts                        0.0  float64      0.01              No   \n",
       "anyo                             0.0    int64   2018.28              No   \n",
       "mes                              0.0    int64      8.66              No   \n",
       "hora                             0.0    int64     12.96              No   \n",
       "dia_semanal                      0.0    int64      3.81              No   \n",
       "target                           0.0    int64      0.35              No   \n",
       "\n",
       "                    std                  var       Q1  mediana       Q3  \\\n",
       "id.orig_h            No                   No       No       No       No   \n",
       "id.orig_p      16091.97         258951549.59  32980.0  42993.0  52360.0   \n",
       "id.resp_h            No                   No       No       No       No   \n",
       "id.resp_p      22174.48         491707739.75     23.0     23.0     81.0   \n",
       "proto                No                   No       No       No       No   \n",
       "conn_state           No                   No       No       No       No   \n",
       "missed_bytes  381679.91  145679555881.059998      0.0      0.0      0.0   \n",
       "orig_pkts       17511.7         306659531.76      1.0      1.0      3.0   \n",
       "resp_pkts          4.19                17.55      0.0      0.0      0.0   \n",
       "anyo               0.45                  0.2   2018.0   2018.0   2019.0   \n",
       "mes                3.37                11.36      7.0      9.0     12.0   \n",
       "hora               7.85                 61.6      5.0     14.0     21.0   \n",
       "dia_semanal        1.08                 1.17      3.0      4.0      5.0   \n",
       "target             0.48                 0.23      0.0      0.0      1.0   \n",
       "\n",
       "                       Categoria porcentaje_NaN  \n",
       "id.orig_h     categorica ordinal            0.0  \n",
       "id.orig_p      numerica continua            0.0  \n",
       "id.resp_h     categorica ordinal            0.0  \n",
       "id.resp_p      numerica continua            0.0  \n",
       "proto         categorica ordinal            0.0  \n",
       "conn_state    categorica ordinal            0.0  \n",
       "missed_bytes   numerica continua            0.0  \n",
       "orig_pkts      numerica continua            0.0  \n",
       "resp_pkts      numerica continua            0.0  \n",
       "anyo           numerica discreta            0.0  \n",
       "mes            numerica discreta            0.0  \n",
       "hora           numerica continua            0.0  \n",
       "dia_semanal    numerica discreta            0.0  \n",
       "target         numerica discreta            0.0  "
      ]
     },
     "execution_count": 63,
     "metadata": {},
     "output_type": "execute_result"
    }
   ],
   "source": [
    "bt.obtener_estadisticas(df_ml)"
   ]
  },
  {
   "cell_type": "code",
   "execution_count": 61,
   "metadata": {},
   "outputs": [
    {
     "data": {
      "text/plain": [
       "(25011003, 14)"
      ]
     },
     "execution_count": 61,
     "metadata": {},
     "output_type": "execute_result"
    }
   ],
   "source": [
    "df_ml.shape"
   ]
  },
  {
   "cell_type": "code",
   "execution_count": null,
   "metadata": {},
   "outputs": [],
   "source": []
  },
  {
   "cell_type": "code",
   "execution_count": null,
   "metadata": {},
   "outputs": [],
   "source": []
  },
  {
   "cell_type": "markdown",
   "metadata": {},
   "source": [
    "APLICACION RED NEURONAL"
   ]
  },
  {
   "cell_type": "code",
   "execution_count": 21,
   "metadata": {},
   "outputs": [],
   "source": [
    "df_round.to_csv(\"D:\\Cursos\\REPOSITORIOS\\DATASET\\malware_total\\original\\df_malware_unido_label_minmax_neuronal_w11.csv\", index=False)"
   ]
  },
  {
   "cell_type": "code",
   "execution_count": 4,
   "metadata": {},
   "outputs": [],
   "source": [
    "df_round=pd.read_csv(r\"/home/vicevil/Documentos/df_malware_unido_lb_mm_round_neuronal.csv\")"
   ]
  },
  {
   "cell_type": "code",
   "execution_count": 5,
   "metadata": {},
   "outputs": [],
   "source": [
    "df_round.drop(columns={\"Unnamed: 0\"}, inplace=True)"
   ]
  },
  {
   "cell_type": "code",
   "execution_count": 27,
   "metadata": {},
   "outputs": [
    {
     "data": {
      "text/html": [
       "<div>\n",
       "<style scoped>\n",
       "    .dataframe tbody tr th:only-of-type {\n",
       "        vertical-align: middle;\n",
       "    }\n",
       "\n",
       "    .dataframe tbody tr th {\n",
       "        vertical-align: top;\n",
       "    }\n",
       "\n",
       "    .dataframe thead th {\n",
       "        text-align: right;\n",
       "    }\n",
       "</style>\n",
       "<table border=\"1\" class=\"dataframe\">\n",
       "  <thead>\n",
       "    <tr style=\"text-align: right;\">\n",
       "      <th></th>\n",
       "      <th>target</th>\n",
       "      <th>0</th>\n",
       "      <th>1</th>\n",
       "      <th>2</th>\n",
       "      <th>3</th>\n",
       "      <th>4</th>\n",
       "      <th>5</th>\n",
       "      <th>6</th>\n",
       "      <th>7</th>\n",
       "      <th>8</th>\n",
       "      <th>9</th>\n",
       "      <th>10</th>\n",
       "      <th>11</th>\n",
       "      <th>12</th>\n",
       "      <th>13</th>\n",
       "    </tr>\n",
       "  </thead>\n",
       "  <tbody>\n",
       "    <tr>\n",
       "      <th>0</th>\n",
       "      <td>0</td>\n",
       "      <td>0</td>\n",
       "      <td>1</td>\n",
       "      <td>1</td>\n",
       "      <td>0</td>\n",
       "      <td>0</td>\n",
       "      <td>0</td>\n",
       "      <td>0</td>\n",
       "      <td>0</td>\n",
       "      <td>0</td>\n",
       "      <td>0</td>\n",
       "      <td>0</td>\n",
       "      <td>0</td>\n",
       "      <td>1</td>\n",
       "      <td>0</td>\n",
       "    </tr>\n",
       "    <tr>\n",
       "      <th>1</th>\n",
       "      <td>0</td>\n",
       "      <td>0</td>\n",
       "      <td>1</td>\n",
       "      <td>1</td>\n",
       "      <td>0</td>\n",
       "      <td>0</td>\n",
       "      <td>0</td>\n",
       "      <td>0</td>\n",
       "      <td>0</td>\n",
       "      <td>0</td>\n",
       "      <td>0</td>\n",
       "      <td>0</td>\n",
       "      <td>0</td>\n",
       "      <td>1</td>\n",
       "      <td>0</td>\n",
       "    </tr>\n",
       "    <tr>\n",
       "      <th>2</th>\n",
       "      <td>0</td>\n",
       "      <td>0</td>\n",
       "      <td>1</td>\n",
       "      <td>0</td>\n",
       "      <td>0</td>\n",
       "      <td>0</td>\n",
       "      <td>0</td>\n",
       "      <td>0</td>\n",
       "      <td>0</td>\n",
       "      <td>0</td>\n",
       "      <td>0</td>\n",
       "      <td>0</td>\n",
       "      <td>0</td>\n",
       "      <td>1</td>\n",
       "      <td>0</td>\n",
       "    </tr>\n",
       "    <tr>\n",
       "      <th>3</th>\n",
       "      <td>0</td>\n",
       "      <td>0</td>\n",
       "      <td>1</td>\n",
       "      <td>0</td>\n",
       "      <td>0</td>\n",
       "      <td>0</td>\n",
       "      <td>0</td>\n",
       "      <td>0</td>\n",
       "      <td>0</td>\n",
       "      <td>0</td>\n",
       "      <td>0</td>\n",
       "      <td>0</td>\n",
       "      <td>0</td>\n",
       "      <td>1</td>\n",
       "      <td>0</td>\n",
       "    </tr>\n",
       "    <tr>\n",
       "      <th>4</th>\n",
       "      <td>0</td>\n",
       "      <td>0</td>\n",
       "      <td>1</td>\n",
       "      <td>1</td>\n",
       "      <td>0</td>\n",
       "      <td>0</td>\n",
       "      <td>0</td>\n",
       "      <td>0</td>\n",
       "      <td>0</td>\n",
       "      <td>0</td>\n",
       "      <td>0</td>\n",
       "      <td>0</td>\n",
       "      <td>0</td>\n",
       "      <td>1</td>\n",
       "      <td>0</td>\n",
       "    </tr>\n",
       "    <tr>\n",
       "      <th>...</th>\n",
       "      <td>...</td>\n",
       "      <td>...</td>\n",
       "      <td>...</td>\n",
       "      <td>...</td>\n",
       "      <td>...</td>\n",
       "      <td>...</td>\n",
       "      <td>...</td>\n",
       "      <td>...</td>\n",
       "      <td>...</td>\n",
       "      <td>...</td>\n",
       "      <td>...</td>\n",
       "      <td>...</td>\n",
       "      <td>...</td>\n",
       "      <td>...</td>\n",
       "      <td>...</td>\n",
       "    </tr>\n",
       "    <tr>\n",
       "      <th>25010998</th>\n",
       "      <td>1</td>\n",
       "      <td>0</td>\n",
       "      <td>0</td>\n",
       "      <td>1</td>\n",
       "      <td>0</td>\n",
       "      <td>1</td>\n",
       "      <td>1</td>\n",
       "      <td>0</td>\n",
       "      <td>0</td>\n",
       "      <td>0</td>\n",
       "      <td>0</td>\n",
       "      <td>1</td>\n",
       "      <td>1</td>\n",
       "      <td>0</td>\n",
       "      <td>1</td>\n",
       "    </tr>\n",
       "    <tr>\n",
       "      <th>25010999</th>\n",
       "      <td>0</td>\n",
       "      <td>0</td>\n",
       "      <td>1</td>\n",
       "      <td>0</td>\n",
       "      <td>0</td>\n",
       "      <td>0</td>\n",
       "      <td>1</td>\n",
       "      <td>0</td>\n",
       "      <td>1</td>\n",
       "      <td>0</td>\n",
       "      <td>1</td>\n",
       "      <td>1</td>\n",
       "      <td>1</td>\n",
       "      <td>0</td>\n",
       "      <td>1</td>\n",
       "    </tr>\n",
       "    <tr>\n",
       "      <th>25011000</th>\n",
       "      <td>1</td>\n",
       "      <td>0</td>\n",
       "      <td>0</td>\n",
       "      <td>1</td>\n",
       "      <td>0</td>\n",
       "      <td>1</td>\n",
       "      <td>1</td>\n",
       "      <td>0</td>\n",
       "      <td>0</td>\n",
       "      <td>0</td>\n",
       "      <td>0</td>\n",
       "      <td>1</td>\n",
       "      <td>1</td>\n",
       "      <td>0</td>\n",
       "      <td>1</td>\n",
       "    </tr>\n",
       "    <tr>\n",
       "      <th>25011001</th>\n",
       "      <td>1</td>\n",
       "      <td>0</td>\n",
       "      <td>0</td>\n",
       "      <td>1</td>\n",
       "      <td>0</td>\n",
       "      <td>1</td>\n",
       "      <td>1</td>\n",
       "      <td>0</td>\n",
       "      <td>0</td>\n",
       "      <td>0</td>\n",
       "      <td>0</td>\n",
       "      <td>1</td>\n",
       "      <td>1</td>\n",
       "      <td>0</td>\n",
       "      <td>1</td>\n",
       "    </tr>\n",
       "    <tr>\n",
       "      <th>25011002</th>\n",
       "      <td>1</td>\n",
       "      <td>0</td>\n",
       "      <td>0</td>\n",
       "      <td>1</td>\n",
       "      <td>0</td>\n",
       "      <td>1</td>\n",
       "      <td>1</td>\n",
       "      <td>0</td>\n",
       "      <td>0</td>\n",
       "      <td>0</td>\n",
       "      <td>0</td>\n",
       "      <td>1</td>\n",
       "      <td>1</td>\n",
       "      <td>0</td>\n",
       "      <td>1</td>\n",
       "    </tr>\n",
       "  </tbody>\n",
       "</table>\n",
       "<p>25011003 rows × 15 columns</p>\n",
       "</div>"
      ],
      "text/plain": [
       "          target  0  1  2  3  4  5  6  7  8  9  10  11  12  13\n",
       "0              0  0  1  1  0  0  0  0  0  0  0   0   0   1   0\n",
       "1              0  0  1  1  0  0  0  0  0  0  0   0   0   1   0\n",
       "2              0  0  1  0  0  0  0  0  0  0  0   0   0   1   0\n",
       "3              0  0  1  0  0  0  0  0  0  0  0   0   0   1   0\n",
       "4              0  0  1  1  0  0  0  0  0  0  0   0   0   1   0\n",
       "...          ... .. .. .. .. .. .. .. .. .. ..  ..  ..  ..  ..\n",
       "25010998       1  0  0  1  0  1  1  0  0  0  0   1   1   0   1\n",
       "25010999       0  0  1  0  0  0  1  0  1  0  1   1   1   0   1\n",
       "25011000       1  0  0  1  0  1  1  0  0  0  0   1   1   0   1\n",
       "25011001       1  0  0  1  0  1  1  0  0  0  0   1   1   0   1\n",
       "25011002       1  0  0  1  0  1  1  0  0  0  0   1   1   0   1\n",
       "\n",
       "[25011003 rows x 15 columns]"
      ]
     },
     "execution_count": 27,
     "metadata": {},
     "output_type": "execute_result"
    }
   ],
   "source": [
    "df_round"
   ]
  },
  {
   "cell_type": "code",
   "execution_count": 28,
   "metadata": {},
   "outputs": [
    {
     "data": {
      "text/plain": [
       "(25011003, 15)"
      ]
     },
     "execution_count": 28,
     "metadata": {},
     "output_type": "execute_result"
    }
   ],
   "source": [
    "df_round.shape"
   ]
  },
  {
   "cell_type": "code",
   "execution_count": 35,
   "metadata": {},
   "outputs": [],
   "source": [
    "X=df_round.iloc[:,1:15]\n",
    "y=df_round[\"target\"]"
   ]
  },
  {
   "cell_type": "code",
   "execution_count": 37,
   "metadata": {},
   "outputs": [],
   "source": [
    "X_train, X_test, y_train,y_test=train_test_split(X, y, test_size=0.1, random_state=42)"
   ]
  },
  {
   "cell_type": "markdown",
   "metadata": {},
   "source": [
    "Convierto todo en Arrays"
   ]
  },
  {
   "cell_type": "code",
   "execution_count": 38,
   "metadata": {},
   "outputs": [],
   "source": [
    "X_train_a=X_train.values\n",
    "X_test_a = X_test.values\n",
    "y_train_a=y_train.values\n",
    "y_test_a=y_test.values"
   ]
  },
  {
   "cell_type": "code",
   "execution_count": 39,
   "metadata": {},
   "outputs": [
    {
     "data": {
      "text/plain": [
       "(22509902, 14)"
      ]
     },
     "execution_count": 39,
     "metadata": {},
     "output_type": "execute_result"
    }
   ],
   "source": [
    "X_train_a.shape"
   ]
  },
  {
   "cell_type": "code",
   "execution_count": 11,
   "metadata": {},
   "outputs": [],
   "source": [
    "# Definir el directorio de registro para TensorBoard(ensorBoard es una herramienta esencial para entender, depurar y optimizar los modelos de TensorFlow.)\n",
    "#log_dir = r\"/home/vicevil/Documentos/graficas/logs\""
   ]
  },
  {
   "cell_type": "markdown",
   "metadata": {},
   "source": [
    "1. MODELO NEURONAL SECUANCIAL\n",
    "    - el modelo se compone de 4 capas bidimensionales de entrada junto a 4 capas densas en sentido decreciente y alternando activaciones relu y elu, que impiden la muerte neuronal. Despues de la concatenacion de las capas, el modelo continua con 4 capas densas con la mismas caracteristicas que las anteriores, a excepcion de la capa de entrada, que llega un regularizador l2 para controlar el sobreajuste y detras de cada capa densa hay una capa batchnormalization que mejora la tasa de aprendizaje, evitando el sobreajuste y ayudando a la regularizacion, fiinalizando con unca capa de salida de 2 unidades yu activacion sotfmax para clasificacion.\n",
    "    Al modelo le acompaña un early_stopping, para evitar el sobreajuste si se repite 5 veces el mismo valor y un reduce_lr, el cual reduce la tasa de aprendizaje cuando el conjunto de validacion no mejora"
   ]
  },
  {
   "cell_type": "code",
   "execution_count": 40,
   "metadata": {},
   "outputs": [],
   "source": [
    "import os\n",
    "#habilita la aceleracion por hardware de mi grafica\n",
    "os.environ[\"TF_XLA_FLAGS\"] = \"--tf_xla_enable_xla=true\""
   ]
  },
  {
   "cell_type": "code",
   "execution_count": 49,
   "metadata": {},
   "outputs": [
    {
     "name": "stderr",
     "output_type": "stream",
     "text": [
      "WARNING:tensorboard:Found more than one graph event per run, or there was a metagraph containing a graph_def, as well as one or more graph events.  Overwriting the graph with the newest event.\n",
      "WARNING:tensorboard:Found more than one graph event per run, or there was a metagraph containing a graph_def, as well as one or more graph events.  Overwriting the graph with the newest event.\n",
      "WARNING:tensorboard:Found more than one graph event per run, or there was a metagraph containing a graph_def, as well as one or more graph events.  Overwriting the graph with the newest event.\n"
     ]
    }
   ],
   "source": [
    "from tensorboard import program\n",
    "\n",
    "log_dir = r\"D:\\Cursos\\REPOSITORIOS\\DATASET\\malware_total\\logs\"\n",
    "tb=program.TensorBoard()\n",
    "tb.configure(argv=[None, '--logdir', log_dir])\n",
    "url = tb.launch() #  lanza TensorBoard en el navegador"
   ]
  },
  {
   "cell_type": "code",
   "execution_count": 50,
   "metadata": {},
   "outputs": [],
   "source": [
    "%load_ext tensorboard"
   ]
  },
  {
   "cell_type": "code",
   "execution_count": 53,
   "metadata": {},
   "outputs": [
    {
     "name": "stdout",
     "output_type": "stream",
     "text": [
      "Epoch 1/20\n",
      "79134/79137 [============================>.] - ETA: 0s - loss: 0.1033 - accuracy: 0.9484\n",
      "Epoch 1: val_loss improved from inf to 42.96127, saving model to D:\\Cursos\\REPOSITORIOS\\DATASET\\malware_total\\logs\\modelo.h5\n",
      "79137/79137 [==============================] - 604s 8ms/step - loss: 0.1033 - accuracy: 0.9484 - val_loss: 42.9613 - val_accuracy: 0.6006 - lr: 0.0100\n",
      "Epoch 2/20\n",
      "79135/79137 [============================>.] - ETA: 0s - loss: 0.1006 - accuracy: 0.9491\n",
      "Epoch 2: val_loss did not improve from 42.96127\n",
      "79137/79137 [==============================] - 556s 7ms/step - loss: 0.1006 - accuracy: 0.9491 - val_loss: 1870.8248 - val_accuracy: 0.4613 - lr: 0.0100\n",
      "Epoch 3/20\n",
      "79137/79137 [==============================] - ETA: 0s - loss: 0.1005 - accuracy: 0.9494\n",
      "Epoch 3: val_loss improved from 42.96127 to 5.59415, saving model to D:\\Cursos\\REPOSITORIOS\\DATASET\\malware_total\\logs\\modelo.h5\n",
      "79137/79137 [==============================] - 571s 7ms/step - loss: 0.1005 - accuracy: 0.9494 - val_loss: 5.5942 - val_accuracy: 0.8348 - lr: 0.0100\n",
      "Epoch 4/20\n",
      "79136/79137 [============================>.] - ETA: 0s - loss: 0.1008 - accuracy: 0.9494\n",
      "Epoch 4: val_loss improved from 5.59415 to 2.69260, saving model to D:\\Cursos\\REPOSITORIOS\\DATASET\\malware_total\\logs\\modelo.h5\n",
      "79137/79137 [==============================] - 577s 7ms/step - loss: 0.1008 - accuracy: 0.9494 - val_loss: 2.6926 - val_accuracy: 0.7878 - lr: 0.0100\n",
      "Epoch 5/20\n",
      "79136/79137 [============================>.] - ETA: 0s - loss: 0.0996 - accuracy: 0.9501\n",
      "Epoch 5: val_loss did not improve from 2.69260\n",
      "79137/79137 [==============================] - 584s 7ms/step - loss: 0.0996 - accuracy: 0.9501 - val_loss: 259.6609 - val_accuracy: 0.9140 - lr: 0.0100\n",
      "Epoch 6/20\n",
      "46329/79137 [================>.............] - ETA: 3:48 - loss: 0.0993 - accuracy: 0.9504"
     ]
    },
    {
     "ename": "KeyboardInterrupt",
     "evalue": "",
     "output_type": "error",
     "traceback": [
      "\u001b[1;31m---------------------------------------------------------------------------\u001b[0m",
      "\u001b[1;31mKeyboardInterrupt\u001b[0m                         Traceback (most recent call last)",
      "Cell \u001b[1;32mIn[53], line 59\u001b[0m\n\u001b[0;32m     56\u001b[0m callbacks_list \u001b[38;5;241m=\u001b[39m [reduce_lr_callbacks, early_stopping_callbacks, checkpoint_callbacks]\n\u001b[0;32m     58\u001b[0m \u001b[38;5;66;03m# Entrenar el modelo\u001b[39;00m\n\u001b[1;32m---> 59\u001b[0m historia \u001b[38;5;241m=\u001b[39m \u001b[43mmodelo\u001b[49m\u001b[38;5;241;43m.\u001b[39;49m\u001b[43mfit\u001b[49m\u001b[43m(\u001b[49m\u001b[43mX_train_a\u001b[49m\u001b[43m,\u001b[49m\u001b[43m \u001b[49m\u001b[43my_train_a\u001b[49m\u001b[43m,\u001b[49m\u001b[43m \u001b[49m\u001b[43mbatch_size\u001b[49m\u001b[38;5;241;43m=\u001b[39;49m\u001b[38;5;241;43m256\u001b[39;49m\u001b[43m,\u001b[49m\u001b[43m \u001b[49m\u001b[43mepochs\u001b[49m\u001b[38;5;241;43m=\u001b[39;49m\u001b[38;5;241;43m20\u001b[39;49m\u001b[43m,\u001b[49m\u001b[43mverbose\u001b[49m\u001b[38;5;241;43m=\u001b[39;49m\u001b[38;5;241;43m1\u001b[39;49m\u001b[43m,\u001b[49m\u001b[43mvalidation_split\u001b[49m\u001b[38;5;241;43m=\u001b[39;49m\u001b[38;5;241;43m0.1\u001b[39;49m\u001b[43m,\u001b[49m\u001b[43mcallbacks\u001b[49m\u001b[38;5;241;43m=\u001b[39;49m\u001b[43mcallbacks_list\u001b[49m\u001b[43m)\u001b[49m\n",
      "File \u001b[1;32mc:\\Users\\victo\\miniconda3\\envs\\tf-gpu\\lib\\site-packages\\keras\\utils\\traceback_utils.py:64\u001b[0m, in \u001b[0;36mfilter_traceback.<locals>.error_handler\u001b[1;34m(*args, **kwargs)\u001b[0m\n\u001b[0;32m     62\u001b[0m filtered_tb \u001b[38;5;241m=\u001b[39m \u001b[38;5;28;01mNone\u001b[39;00m\n\u001b[0;32m     63\u001b[0m \u001b[38;5;28;01mtry\u001b[39;00m:\n\u001b[1;32m---> 64\u001b[0m   \u001b[38;5;28;01mreturn\u001b[39;00m fn(\u001b[38;5;241m*\u001b[39margs, \u001b[38;5;241m*\u001b[39m\u001b[38;5;241m*\u001b[39mkwargs)\n\u001b[0;32m     65\u001b[0m \u001b[38;5;28;01mexcept\u001b[39;00m \u001b[38;5;167;01mException\u001b[39;00m \u001b[38;5;28;01mas\u001b[39;00m e:  \u001b[38;5;66;03m# pylint: disable=broad-except\u001b[39;00m\n\u001b[0;32m     66\u001b[0m   filtered_tb \u001b[38;5;241m=\u001b[39m _process_traceback_frames(e\u001b[38;5;241m.\u001b[39m__traceback__)\n",
      "File \u001b[1;32mc:\\Users\\victo\\miniconda3\\envs\\tf-gpu\\lib\\site-packages\\keras\\engine\\training.py:1409\u001b[0m, in \u001b[0;36mModel.fit\u001b[1;34m(self, x, y, batch_size, epochs, verbose, callbacks, validation_split, validation_data, shuffle, class_weight, sample_weight, initial_epoch, steps_per_epoch, validation_steps, validation_batch_size, validation_freq, max_queue_size, workers, use_multiprocessing)\u001b[0m\n\u001b[0;32m   1402\u001b[0m \u001b[38;5;28;01mwith\u001b[39;00m tf\u001b[38;5;241m.\u001b[39mprofiler\u001b[38;5;241m.\u001b[39mexperimental\u001b[38;5;241m.\u001b[39mTrace(\n\u001b[0;32m   1403\u001b[0m     \u001b[38;5;124m'\u001b[39m\u001b[38;5;124mtrain\u001b[39m\u001b[38;5;124m'\u001b[39m,\n\u001b[0;32m   1404\u001b[0m     epoch_num\u001b[38;5;241m=\u001b[39mepoch,\n\u001b[0;32m   1405\u001b[0m     step_num\u001b[38;5;241m=\u001b[39mstep,\n\u001b[0;32m   1406\u001b[0m     batch_size\u001b[38;5;241m=\u001b[39mbatch_size,\n\u001b[0;32m   1407\u001b[0m     _r\u001b[38;5;241m=\u001b[39m\u001b[38;5;241m1\u001b[39m):\n\u001b[0;32m   1408\u001b[0m   callbacks\u001b[38;5;241m.\u001b[39mon_train_batch_begin(step)\n\u001b[1;32m-> 1409\u001b[0m   tmp_logs \u001b[38;5;241m=\u001b[39m \u001b[38;5;28;43mself\u001b[39;49m\u001b[38;5;241;43m.\u001b[39;49m\u001b[43mtrain_function\u001b[49m\u001b[43m(\u001b[49m\u001b[43miterator\u001b[49m\u001b[43m)\u001b[49m\n\u001b[0;32m   1410\u001b[0m   \u001b[38;5;28;01mif\u001b[39;00m data_handler\u001b[38;5;241m.\u001b[39mshould_sync:\n\u001b[0;32m   1411\u001b[0m     context\u001b[38;5;241m.\u001b[39masync_wait()\n",
      "File \u001b[1;32mc:\\Users\\victo\\miniconda3\\envs\\tf-gpu\\lib\\site-packages\\tensorflow\\python\\util\\traceback_utils.py:150\u001b[0m, in \u001b[0;36mfilter_traceback.<locals>.error_handler\u001b[1;34m(*args, **kwargs)\u001b[0m\n\u001b[0;32m    148\u001b[0m filtered_tb \u001b[38;5;241m=\u001b[39m \u001b[38;5;28;01mNone\u001b[39;00m\n\u001b[0;32m    149\u001b[0m \u001b[38;5;28;01mtry\u001b[39;00m:\n\u001b[1;32m--> 150\u001b[0m   \u001b[38;5;28;01mreturn\u001b[39;00m fn(\u001b[38;5;241m*\u001b[39margs, \u001b[38;5;241m*\u001b[39m\u001b[38;5;241m*\u001b[39mkwargs)\n\u001b[0;32m    151\u001b[0m \u001b[38;5;28;01mexcept\u001b[39;00m \u001b[38;5;167;01mException\u001b[39;00m \u001b[38;5;28;01mas\u001b[39;00m e:\n\u001b[0;32m    152\u001b[0m   filtered_tb \u001b[38;5;241m=\u001b[39m _process_traceback_frames(e\u001b[38;5;241m.\u001b[39m__traceback__)\n",
      "File \u001b[1;32mc:\\Users\\victo\\miniconda3\\envs\\tf-gpu\\lib\\site-packages\\tensorflow\\python\\eager\\def_function.py:915\u001b[0m, in \u001b[0;36mFunction.__call__\u001b[1;34m(self, *args, **kwds)\u001b[0m\n\u001b[0;32m    912\u001b[0m compiler \u001b[38;5;241m=\u001b[39m \u001b[38;5;124m\"\u001b[39m\u001b[38;5;124mxla\u001b[39m\u001b[38;5;124m\"\u001b[39m \u001b[38;5;28;01mif\u001b[39;00m \u001b[38;5;28mself\u001b[39m\u001b[38;5;241m.\u001b[39m_jit_compile \u001b[38;5;28;01melse\u001b[39;00m \u001b[38;5;124m\"\u001b[39m\u001b[38;5;124mnonXla\u001b[39m\u001b[38;5;124m\"\u001b[39m\n\u001b[0;32m    914\u001b[0m \u001b[38;5;28;01mwith\u001b[39;00m OptionalXlaContext(\u001b[38;5;28mself\u001b[39m\u001b[38;5;241m.\u001b[39m_jit_compile):\n\u001b[1;32m--> 915\u001b[0m   result \u001b[38;5;241m=\u001b[39m \u001b[38;5;28mself\u001b[39m\u001b[38;5;241m.\u001b[39m_call(\u001b[38;5;241m*\u001b[39margs, \u001b[38;5;241m*\u001b[39m\u001b[38;5;241m*\u001b[39mkwds)\n\u001b[0;32m    917\u001b[0m new_tracing_count \u001b[38;5;241m=\u001b[39m \u001b[38;5;28mself\u001b[39m\u001b[38;5;241m.\u001b[39mexperimental_get_tracing_count()\n\u001b[0;32m    918\u001b[0m without_tracing \u001b[38;5;241m=\u001b[39m (tracing_count \u001b[38;5;241m==\u001b[39m new_tracing_count)\n",
      "File \u001b[1;32mc:\\Users\\victo\\miniconda3\\envs\\tf-gpu\\lib\\site-packages\\tensorflow\\python\\eager\\def_function.py:947\u001b[0m, in \u001b[0;36mFunction._call\u001b[1;34m(self, *args, **kwds)\u001b[0m\n\u001b[0;32m    944\u001b[0m   \u001b[38;5;28mself\u001b[39m\u001b[38;5;241m.\u001b[39m_lock\u001b[38;5;241m.\u001b[39mrelease()\n\u001b[0;32m    945\u001b[0m   \u001b[38;5;66;03m# In this case we have created variables on the first call, so we run the\u001b[39;00m\n\u001b[0;32m    946\u001b[0m   \u001b[38;5;66;03m# defunned version which is guaranteed to never create variables.\u001b[39;00m\n\u001b[1;32m--> 947\u001b[0m   \u001b[38;5;28;01mreturn\u001b[39;00m \u001b[38;5;28mself\u001b[39m\u001b[38;5;241m.\u001b[39m_stateless_fn(\u001b[38;5;241m*\u001b[39margs, \u001b[38;5;241m*\u001b[39m\u001b[38;5;241m*\u001b[39mkwds)  \u001b[38;5;66;03m# pylint: disable=not-callable\u001b[39;00m\n\u001b[0;32m    948\u001b[0m \u001b[38;5;28;01melif\u001b[39;00m \u001b[38;5;28mself\u001b[39m\u001b[38;5;241m.\u001b[39m_stateful_fn \u001b[38;5;129;01mis\u001b[39;00m \u001b[38;5;129;01mnot\u001b[39;00m \u001b[38;5;28;01mNone\u001b[39;00m:\n\u001b[0;32m    949\u001b[0m   \u001b[38;5;66;03m# Release the lock early so that multiple threads can perform the call\u001b[39;00m\n\u001b[0;32m    950\u001b[0m   \u001b[38;5;66;03m# in parallel.\u001b[39;00m\n\u001b[0;32m    951\u001b[0m   \u001b[38;5;28mself\u001b[39m\u001b[38;5;241m.\u001b[39m_lock\u001b[38;5;241m.\u001b[39mrelease()\n",
      "File \u001b[1;32mc:\\Users\\victo\\miniconda3\\envs\\tf-gpu\\lib\\site-packages\\tensorflow\\python\\eager\\function.py:2453\u001b[0m, in \u001b[0;36mFunction.__call__\u001b[1;34m(self, *args, **kwargs)\u001b[0m\n\u001b[0;32m   2450\u001b[0m \u001b[38;5;28;01mwith\u001b[39;00m \u001b[38;5;28mself\u001b[39m\u001b[38;5;241m.\u001b[39m_lock:\n\u001b[0;32m   2451\u001b[0m   (graph_function,\n\u001b[0;32m   2452\u001b[0m    filtered_flat_args) \u001b[38;5;241m=\u001b[39m \u001b[38;5;28mself\u001b[39m\u001b[38;5;241m.\u001b[39m_maybe_define_function(args, kwargs)\n\u001b[1;32m-> 2453\u001b[0m \u001b[38;5;28;01mreturn\u001b[39;00m \u001b[43mgraph_function\u001b[49m\u001b[38;5;241;43m.\u001b[39;49m\u001b[43m_call_flat\u001b[49m\u001b[43m(\u001b[49m\n\u001b[0;32m   2454\u001b[0m \u001b[43m    \u001b[49m\u001b[43mfiltered_flat_args\u001b[49m\u001b[43m,\u001b[49m\u001b[43m \u001b[49m\u001b[43mcaptured_inputs\u001b[49m\u001b[38;5;241;43m=\u001b[39;49m\u001b[43mgraph_function\u001b[49m\u001b[38;5;241;43m.\u001b[39;49m\u001b[43mcaptured_inputs\u001b[49m\u001b[43m)\u001b[49m\n",
      "File \u001b[1;32mc:\\Users\\victo\\miniconda3\\envs\\tf-gpu\\lib\\site-packages\\tensorflow\\python\\eager\\function.py:1860\u001b[0m, in \u001b[0;36mConcreteFunction._call_flat\u001b[1;34m(self, args, captured_inputs, cancellation_manager)\u001b[0m\n\u001b[0;32m   1856\u001b[0m possible_gradient_type \u001b[38;5;241m=\u001b[39m gradients_util\u001b[38;5;241m.\u001b[39mPossibleTapeGradientTypes(args)\n\u001b[0;32m   1857\u001b[0m \u001b[38;5;28;01mif\u001b[39;00m (possible_gradient_type \u001b[38;5;241m==\u001b[39m gradients_util\u001b[38;5;241m.\u001b[39mPOSSIBLE_GRADIENT_TYPES_NONE\n\u001b[0;32m   1858\u001b[0m     \u001b[38;5;129;01mand\u001b[39;00m executing_eagerly):\n\u001b[0;32m   1859\u001b[0m   \u001b[38;5;66;03m# No tape is watching; skip to running the function.\u001b[39;00m\n\u001b[1;32m-> 1860\u001b[0m   \u001b[38;5;28;01mreturn\u001b[39;00m \u001b[38;5;28mself\u001b[39m\u001b[38;5;241m.\u001b[39m_build_call_outputs(\u001b[38;5;28;43mself\u001b[39;49m\u001b[38;5;241;43m.\u001b[39;49m\u001b[43m_inference_function\u001b[49m\u001b[38;5;241;43m.\u001b[39;49m\u001b[43mcall\u001b[49m\u001b[43m(\u001b[49m\n\u001b[0;32m   1861\u001b[0m \u001b[43m      \u001b[49m\u001b[43mctx\u001b[49m\u001b[43m,\u001b[49m\u001b[43m \u001b[49m\u001b[43margs\u001b[49m\u001b[43m,\u001b[49m\u001b[43m \u001b[49m\u001b[43mcancellation_manager\u001b[49m\u001b[38;5;241;43m=\u001b[39;49m\u001b[43mcancellation_manager\u001b[49m\u001b[43m)\u001b[49m)\n\u001b[0;32m   1862\u001b[0m forward_backward \u001b[38;5;241m=\u001b[39m \u001b[38;5;28mself\u001b[39m\u001b[38;5;241m.\u001b[39m_select_forward_and_backward_functions(\n\u001b[0;32m   1863\u001b[0m     args,\n\u001b[0;32m   1864\u001b[0m     possible_gradient_type,\n\u001b[0;32m   1865\u001b[0m     executing_eagerly)\n\u001b[0;32m   1866\u001b[0m forward_function, args_with_tangents \u001b[38;5;241m=\u001b[39m forward_backward\u001b[38;5;241m.\u001b[39mforward()\n",
      "File \u001b[1;32mc:\\Users\\victo\\miniconda3\\envs\\tf-gpu\\lib\\site-packages\\tensorflow\\python\\eager\\function.py:497\u001b[0m, in \u001b[0;36m_EagerDefinedFunction.call\u001b[1;34m(self, ctx, args, cancellation_manager)\u001b[0m\n\u001b[0;32m    495\u001b[0m \u001b[38;5;28;01mwith\u001b[39;00m _InterpolateFunctionError(\u001b[38;5;28mself\u001b[39m):\n\u001b[0;32m    496\u001b[0m   \u001b[38;5;28;01mif\u001b[39;00m cancellation_manager \u001b[38;5;129;01mis\u001b[39;00m \u001b[38;5;28;01mNone\u001b[39;00m:\n\u001b[1;32m--> 497\u001b[0m     outputs \u001b[38;5;241m=\u001b[39m \u001b[43mexecute\u001b[49m\u001b[38;5;241;43m.\u001b[39;49m\u001b[43mexecute\u001b[49m\u001b[43m(\u001b[49m\n\u001b[0;32m    498\u001b[0m \u001b[43m        \u001b[49m\u001b[38;5;28;43mstr\u001b[39;49m\u001b[43m(\u001b[49m\u001b[38;5;28;43mself\u001b[39;49m\u001b[38;5;241;43m.\u001b[39;49m\u001b[43msignature\u001b[49m\u001b[38;5;241;43m.\u001b[39;49m\u001b[43mname\u001b[49m\u001b[43m)\u001b[49m\u001b[43m,\u001b[49m\n\u001b[0;32m    499\u001b[0m \u001b[43m        \u001b[49m\u001b[43mnum_outputs\u001b[49m\u001b[38;5;241;43m=\u001b[39;49m\u001b[38;5;28;43mself\u001b[39;49m\u001b[38;5;241;43m.\u001b[39;49m\u001b[43m_num_outputs\u001b[49m\u001b[43m,\u001b[49m\n\u001b[0;32m    500\u001b[0m \u001b[43m        \u001b[49m\u001b[43minputs\u001b[49m\u001b[38;5;241;43m=\u001b[39;49m\u001b[43margs\u001b[49m\u001b[43m,\u001b[49m\n\u001b[0;32m    501\u001b[0m \u001b[43m        \u001b[49m\u001b[43mattrs\u001b[49m\u001b[38;5;241;43m=\u001b[39;49m\u001b[43mattrs\u001b[49m\u001b[43m,\u001b[49m\n\u001b[0;32m    502\u001b[0m \u001b[43m        \u001b[49m\u001b[43mctx\u001b[49m\u001b[38;5;241;43m=\u001b[39;49m\u001b[43mctx\u001b[49m\u001b[43m)\u001b[49m\n\u001b[0;32m    503\u001b[0m   \u001b[38;5;28;01melse\u001b[39;00m:\n\u001b[0;32m    504\u001b[0m     outputs \u001b[38;5;241m=\u001b[39m execute\u001b[38;5;241m.\u001b[39mexecute_with_cancellation(\n\u001b[0;32m    505\u001b[0m         \u001b[38;5;28mstr\u001b[39m(\u001b[38;5;28mself\u001b[39m\u001b[38;5;241m.\u001b[39msignature\u001b[38;5;241m.\u001b[39mname),\n\u001b[0;32m    506\u001b[0m         num_outputs\u001b[38;5;241m=\u001b[39m\u001b[38;5;28mself\u001b[39m\u001b[38;5;241m.\u001b[39m_num_outputs,\n\u001b[1;32m   (...)\u001b[0m\n\u001b[0;32m    509\u001b[0m         ctx\u001b[38;5;241m=\u001b[39mctx,\n\u001b[0;32m    510\u001b[0m         cancellation_manager\u001b[38;5;241m=\u001b[39mcancellation_manager)\n",
      "File \u001b[1;32mc:\\Users\\victo\\miniconda3\\envs\\tf-gpu\\lib\\site-packages\\tensorflow\\python\\eager\\execute.py:54\u001b[0m, in \u001b[0;36mquick_execute\u001b[1;34m(op_name, num_outputs, inputs, attrs, ctx, name)\u001b[0m\n\u001b[0;32m     52\u001b[0m \u001b[38;5;28;01mtry\u001b[39;00m:\n\u001b[0;32m     53\u001b[0m   ctx\u001b[38;5;241m.\u001b[39mensure_initialized()\n\u001b[1;32m---> 54\u001b[0m   tensors \u001b[38;5;241m=\u001b[39m \u001b[43mpywrap_tfe\u001b[49m\u001b[38;5;241;43m.\u001b[39;49m\u001b[43mTFE_Py_Execute\u001b[49m\u001b[43m(\u001b[49m\u001b[43mctx\u001b[49m\u001b[38;5;241;43m.\u001b[39;49m\u001b[43m_handle\u001b[49m\u001b[43m,\u001b[49m\u001b[43m \u001b[49m\u001b[43mdevice_name\u001b[49m\u001b[43m,\u001b[49m\u001b[43m \u001b[49m\u001b[43mop_name\u001b[49m\u001b[43m,\u001b[49m\n\u001b[0;32m     55\u001b[0m \u001b[43m                                      \u001b[49m\u001b[43minputs\u001b[49m\u001b[43m,\u001b[49m\u001b[43m \u001b[49m\u001b[43mattrs\u001b[49m\u001b[43m,\u001b[49m\u001b[43m \u001b[49m\u001b[43mnum_outputs\u001b[49m\u001b[43m)\u001b[49m\n\u001b[0;32m     56\u001b[0m \u001b[38;5;28;01mexcept\u001b[39;00m core\u001b[38;5;241m.\u001b[39m_NotOkStatusException \u001b[38;5;28;01mas\u001b[39;00m e:\n\u001b[0;32m     57\u001b[0m   \u001b[38;5;28;01mif\u001b[39;00m name \u001b[38;5;129;01mis\u001b[39;00m \u001b[38;5;129;01mnot\u001b[39;00m \u001b[38;5;28;01mNone\u001b[39;00m:\n",
      "\u001b[1;31mKeyboardInterrupt\u001b[0m: "
     ]
    }
   ],
   "source": [
    "modelo = tf.keras.Sequential()\n",
    "# Definir las 4 entradas\n",
    " \n",
    "modelo.add(tf.keras.layers.Dense(units=512, activation='relu', input_shape=(14,), kernel_regularizer=l2(0.01)))\n",
    "modelo.add(tf.keras.layers.BatchNormalization())#mejora la tasa de parendizaje, evitando sobreajuste, ya que tb regulariza la funcion\n",
    "\n",
    "# Capas ocultas\n",
    "modelo.add(tf.keras.layers.Dense(units=512, activation=\"relu\", input_dim=14))\n",
    "modelo.add(tf.keras.layers.BatchNormalization())\n",
    "\n",
    "modelo.add(Dropout(0.2))\n",
    "\n",
    "modelo.add(tf.keras.layers.Dense(units=512, activation=\"elu\"))\n",
    "modelo.add(tf.keras.layers.BatchNormalization())\n",
    "\n",
    "modelo.add(tf.keras.layers.Dense(units=512, activation='elu'))\n",
    "modelo.add(tf.keras.layers.BatchNormalization())\n",
    "\n",
    "# Capa de salida\n",
    "modelo.add(tf.keras.layers.Dense(units=2, activation='softmax'))  # Se cambia a 2 unidades para representar las dos clases\n",
    "#optimizador\n",
    "\"\"\"optimizador= tf.keras.optimizers.SGD(learning_rate=0.005,\n",
    "                                      momentum=0.9, #aporta inercia al proceso de optimizacion, acelerando la convergencia\n",
    "                                      nesterov=True)# en True actualiza momentum demanera anticipada al gradiente, mejorando la estaboiilidad\"\"\"\n",
    "\n",
    "optimizador=Adam( learning_rate=0.01, # rebajo el learning rate por ser mas adecuado para un ajuste fino aunque tarde mas\n",
    "                    beta_1=0.6, # influye en el gradiente pasado (1 mas al gradiente y 0 nada)\n",
    "                    beta_2=0.4, #influye en los cuadrados de los gradientes pasados(1 mas a la varianza y 0 nada)\n",
    "                    epsilon=1e-09, #es para prevenior divisiones entre 0\n",
    "                    amsgrad=False)#es una variante de Adam y ayuda con la convergencia de ambos a evitar oscilaciones de los pesos durante la optimizacion\"\"\"\n",
    "\"\"\"optimizador = tf.keras.optimizers.Ftrl(\n",
    "    l1_regularization_strength=0.0001,#penaliza los pesos con lasso\n",
    "    l2_regularization_strength=0.000001,#penaliza con ridge, consiguiendo con ambos un proceso de actualziacion de pesosmejorado, evitando sobreajuste\n",
    "    learning_rate_power=-0.5,#contola la rapidez de la tasa de aprendizaje con la que decae con el tiempo, indiviualemnte a cada parametro\n",
    "    initial_accumulator_value=0.1,#valor inicial de acumulacion de gradientes\n",
    ")\"\"\"\n",
    "\n",
    "# Compilar el modelo\n",
    "modelo.compile(optimizer=optimizador, loss=sparse_categorical_crossentropy, metrics=['accuracy'])\n",
    "\n",
    "#detniene el entrenamiento si la metrica no mejora \n",
    "early_stopping_callbacks = tf.keras.callbacks.EarlyStopping(patience=5,restore_best_weights=True)\n",
    "\n",
    "#reduce la tasa de aprendizaje cuando el rendimiento del conj. val no mejora\n",
    "reduce_lr_callbacks = ReduceLROnPlateau(monitor='val_loss', patience=2, verbose=1)\n",
    "\n",
    "#Guarda el modelo cuando mejora la métrica de validación\n",
    "filepath = r'D:\\Cursos\\REPOSITORIOS\\DATASET\\malware_total\\logs\\modelo.h5'\n",
    "monitor = 'val_loss'\n",
    "checkpoint_callbacks = ModelCheckpoint(filepath=filepath, monitor=monitor, verbose=1, save_best_only=True)\n",
    "\n",
    "#visionado_tensorboard\n",
    "tensorboard_callback = tf.keras.callbacks.TensorBoard(log_dir=log_dir)\n",
    "\n",
    "\n",
    "callbacks_list = [reduce_lr_callbacks, early_stopping_callbacks, checkpoint_callbacks]\n",
    "\n",
    "# Entrenar el modelo\n",
    "historia = modelo.fit(X_train_a, y_train_a, batch_size=256, epochs=20,verbose=1,validation_split=0.1,callbacks=callbacks_list)"
   ]
  },
  {
   "cell_type": "code",
   "execution_count": 45,
   "metadata": {},
   "outputs": [
    {
     "name": "stdout",
     "output_type": "stream",
     "text": [
      "Model: \"sequential_3\"\n",
      "_________________________________________________________________\n",
      " Layer (type)                Output Shape              Param #   \n",
      "=================================================================\n",
      " dense_15 (Dense)            (None, 512)               7680      \n",
      "                                                                 \n",
      " batch_normalization_12 (Bat  (None, 512)              2048      \n",
      " chNormalization)                                                \n",
      "                                                                 \n",
      " dense_16 (Dense)            (None, 512)               262656    \n",
      "                                                                 \n",
      " batch_normalization_13 (Bat  (None, 512)              2048      \n",
      " chNormalization)                                                \n",
      "                                                                 \n",
      " dropout_3 (Dropout)         (None, 512)               0         \n",
      "                                                                 \n",
      " dense_17 (Dense)            (None, 512)               262656    \n",
      "                                                                 \n",
      " batch_normalization_14 (Bat  (None, 512)              2048      \n",
      " chNormalization)                                                \n",
      "                                                                 \n",
      " dense_18 (Dense)            (None, 512)               262656    \n",
      "                                                                 \n",
      " batch_normalization_15 (Bat  (None, 512)              2048      \n",
      " chNormalization)                                                \n",
      "                                                                 \n",
      " dense_19 (Dense)            (None, 1)                 513       \n",
      "                                                                 \n",
      "=================================================================\n",
      "Total params: 804,353\n",
      "Trainable params: 800,257\n",
      "Non-trainable params: 4,096\n",
      "_________________________________________________________________\n"
     ]
    }
   ],
   "source": [
    "\n",
    "modelo.summary()"
   ]
  },
  {
   "cell_type": "code",
   "execution_count": 46,
   "metadata": {},
   "outputs": [
    {
     "name": "stdout",
     "output_type": "stream",
     "text": [
      "78160/78160 [==============================] - 352s 4ms/step - loss: 0.0892 - accuracy: 0.9541\n",
      "Loss: 0.08919236809015274\n",
      "Accuracy: 0.9540961980819702\n",
      "78160/78160 [==============================] - 218s 3ms/step\n"
     ]
    },
    {
     "name": "stderr",
     "output_type": "stream",
     "text": [
      "c:\\Users\\victo\\miniconda3\\envs\\tf-gpu\\lib\\site-packages\\sklearn\\metrics\\_classification.py:1509: UndefinedMetricWarning: Precision is ill-defined and being set to 0.0 in labels with no predicted samples. Use `zero_division` parameter to control this behavior.\n",
      "  _warn_prf(average, modifier, f\"{metric.capitalize()} is\", len(result))\n",
      "c:\\Users\\victo\\miniconda3\\envs\\tf-gpu\\lib\\site-packages\\sklearn\\metrics\\_classification.py:1509: UndefinedMetricWarning: Precision is ill-defined and being set to 0.0 in labels with no predicted samples. Use `zero_division` parameter to control this behavior.\n",
      "  _warn_prf(average, modifier, f\"{metric.capitalize()} is\", len(result))\n"
     ]
    },
    {
     "name": "stdout",
     "output_type": "stream",
     "text": [
      "              precision    recall  f1-score   support\n",
      "\n",
      "           0       0.65      1.00      0.79   1622554\n",
      "           1       0.00      0.00      0.00    878547\n",
      "\n",
      "    accuracy                           0.65   2501101\n",
      "   macro avg       0.32      0.50      0.39   2501101\n",
      "weighted avg       0.42      0.65      0.51   2501101\n",
      "\n"
     ]
    },
    {
     "name": "stderr",
     "output_type": "stream",
     "text": [
      "c:\\Users\\victo\\miniconda3\\envs\\tf-gpu\\lib\\site-packages\\sklearn\\metrics\\_classification.py:1509: UndefinedMetricWarning: Precision is ill-defined and being set to 0.0 in labels with no predicted samples. Use `zero_division` parameter to control this behavior.\n",
      "  _warn_prf(average, modifier, f\"{metric.capitalize()} is\", len(result))\n"
     ]
    }
   ],
   "source": [
    "# Evaluar el modelo en el conjunto de prueba\n",
    "loss, accuracy = modelo.evaluate(X_test_a, y_test_a)\n",
    "print(\"Loss:\", loss)\n",
    "print(\"Accuracy:\", accuracy)\n",
    "\n",
    "# Predicción\n",
    "y_pred = modelo.predict(X_test_a)\n",
    "y_pred_classes = np.argmax(y_pred, axis=1)\n",
    "\n",
    "# Métricas de clasificación\n",
    "print(classification_report(y_test, y_pred_classes))"
   ]
  },
  {
   "cell_type": "code",
   "execution_count": 47,
   "metadata": {},
   "outputs": [
    {
     "data": {
      "image/png": "[encoded data removed]",
      "text/plain": [
       "<Figure size 640x480 with 1 Axes>"
      ]
     },
     "metadata": {},
     "output_type": "display_data"
    }
   ],
   "source": [
    "df_history = pd.DataFrame(historia.history)\n",
    "df_history[[\"accuracy\",\"val_accuracy\"]].plot();\n",
    "plt.xlabel(\"epochs\")\n",
    "plt.ylabel(\"accuracy\");"
   ]
  },
  {
   "cell_type": "code",
   "execution_count": 48,
   "metadata": {},
   "outputs": [
    {
     "data": {
      "image/png": "[encoded data removed]",
      "text/plain": [
       "<Figure size 640x480 with 1 Axes>"
      ]
     },
     "metadata": {},
     "output_type": "display_data"
    }
   ],
   "source": [
    "df_history = pd.DataFrame(historia.history)\n",
    "df_history[[\"loss\",\"val_loss\"]].plot();\n",
    "plt.xlabel(\"epochs\")\n",
    "plt.ylabel(\"loss\");"
   ]
  }
 ],
 "metadata": {
  "kernelspec": {
   "display_name": "tf-gpu",
   "language": "python",
   "name": "python3"
  },
  "language_info": {
   "codemirror_mode": {
    "name": "ipython",
    "version": 3
   },
   "file_extension": ".py",
   "mimetype": "text/x-python",
   "name": "python",
   "nbconvert_exporter": "python",
   "pygments_lexer": "ipython3",
   "version": "3.9.19"
  }
 },
 "nbformat": 4,
 "nbformat_minor": 2
}

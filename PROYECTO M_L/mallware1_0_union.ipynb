{
 "cells": [
  {
   "cell_type": "code",
   "execution_count": 1,
   "metadata": {},
   "outputs": [],
   "source": [
    "import os\n",
    "import tensorflow as tf\n",
    "\n",
    "# Configurar la GPU antes de inicializar TensorFlow\n",
    "physical_devices = tf.config.list_physical_devices('GPU')\n",
    "tf.config.experimental.set_memory_growth(physical_devices[0], True)\n",
    "os.environ[\"KERAS_BACKEND\"] = \"tensorflow\""
   ]
  },
  {
   "cell_type": "code",
   "execution_count": 7,
   "metadata": {},
   "outputs": [],
   "source": [
    "import numpy as np\n",
    "import pandas as pd\n",
    "import matplotlib.pyplot as plt\n",
    "import seaborn as sns\n",
    "import funciones_ML as bt\n",
    "from sklearn.feature_extraction.text import TfidfVectorizer\n",
    "from sklearn.model_selection import train_test_split, GridSearchCV, RandomizedSearchCV\n",
    "from sklearn.preprocessing import StandardScaler, OneHotEncoder, MinMaxScaler\n",
    "from sklearn.metrics import accuracy_score, ConfusionMatrixDisplay,classification_report,r2_score,RocCurveDisplay\n",
    "from sklearn.linear_model import LogisticRegression, LinearRegression, Ridge, Lasso, ElasticNet, SGDRegressor, SGDClassifier, RidgeClassifier\n",
    "from sklearn.tree import DecisionTreeClassifier, DecisionTreeRegressor\n",
    "from sklearn.ensemble import RandomForestClassifier, RandomForestRegressor, GradientBoostingClassifier, GradientBoostingRegressor\n",
    "from sklearn.svm import SVC, SVR\n",
    "\n",
    "\n",
    "\n",
    "# Configurar pandas para mostrar todas las filas y columnas\n",
    "#pd.set_option('display.max_rows', None)\n",
    "#pd.set_option('display.max_columns', None)\n",
    "#pd.set_option('display.width', None)\n",
    "pd.set_option('display.max_colwidth', None)\n",
    "\n",
    "\n",
    "# Código para los tamaños de las fuentes y los \"ticks\" de los ejes:\n",
    "plt.rc('font', size=6)\n",
    "plt.rc('axes', labelsize=10, titlesize=10)\n",
    "plt.rc('legend', fontsize=10)\n",
    "plt.rc('xtick', labelsize=10)\n",
    "plt.rc('ytick', labelsize=10)"
   ]
  },
  {
   "cell_type": "code",
   "execution_count": 3,
   "metadata": {},
   "outputs": [],
   "source": [
    "df_1=pd.read_csv(\"/media/vicevil/Nuevo vol/Cursos/REPOSITORIOS/DATASET/malware_total/original/CTU-IoT-Malware-Capture-1-1conn.log.labeled.csv\", sep=\"|\")"
   ]
  },
  {
   "cell_type": "code",
   "execution_count": 4,
   "metadata": {},
   "outputs": [
    {
     "data": {
      "text/plain": [
       "(1008748, 23)"
      ]
     },
     "execution_count": 4,
     "metadata": {},
     "output_type": "execute_result"
    }
   ],
   "source": [
    "df_1.shape"
   ]
  },
  {
   "cell_type": "code",
   "execution_count": 106,
   "metadata": {},
   "outputs": [
    {
     "data": {
      "text/html": [
       "<div>\n",
       "<style scoped>\n",
       "    .dataframe tbody tr th:only-of-type {\n",
       "        vertical-align: middle;\n",
       "    }\n",
       "\n",
       "    .dataframe tbody tr th {\n",
       "        vertical-align: top;\n",
       "    }\n",
       "\n",
       "    .dataframe thead th {\n",
       "        text-align: right;\n",
       "    }\n",
       "</style>\n",
       "<table border=\"1\" class=\"dataframe\">\n",
       "  <thead>\n",
       "    <tr style=\"text-align: right;\">\n",
       "      <th></th>\n",
       "      <th>ts</th>\n",
       "      <th>uid</th>\n",
       "      <th>id.orig_h</th>\n",
       "      <th>id.orig_p</th>\n",
       "      <th>id.resp_h</th>\n",
       "      <th>id.resp_p</th>\n",
       "      <th>proto</th>\n",
       "      <th>service</th>\n",
       "      <th>duration</th>\n",
       "      <th>orig_bytes</th>\n",
       "      <th>...</th>\n",
       "      <th>local_resp</th>\n",
       "      <th>missed_bytes</th>\n",
       "      <th>history</th>\n",
       "      <th>orig_pkts</th>\n",
       "      <th>orig_ip_bytes</th>\n",
       "      <th>resp_pkts</th>\n",
       "      <th>resp_ip_bytes</th>\n",
       "      <th>tunnel_parents</th>\n",
       "      <th>label</th>\n",
       "      <th>detailed-label</th>\n",
       "    </tr>\n",
       "  </thead>\n",
       "  <tbody>\n",
       "    <tr>\n",
       "      <th>0</th>\n",
       "      <td>1,525,879,831</td>\n",
       "      <td>CUmrqr4svHuSXJy5z7</td>\n",
       "      <td>192.168.100.103</td>\n",
       "      <td>51,524</td>\n",
       "      <td>65.127.233.163</td>\n",
       "      <td>23</td>\n",
       "      <td>tcp</td>\n",
       "      <td>-</td>\n",
       "      <td>2.999051</td>\n",
       "      <td>0</td>\n",
       "      <td>...</td>\n",
       "      <td>-</td>\n",
       "      <td>0</td>\n",
       "      <td>S</td>\n",
       "      <td>3</td>\n",
       "      <td>180</td>\n",
       "      <td>0</td>\n",
       "      <td>0</td>\n",
       "      <td>-</td>\n",
       "      <td>Malicious</td>\n",
       "      <td>PartOfAHorizontalPortScan</td>\n",
       "    </tr>\n",
       "    <tr>\n",
       "      <th>1</th>\n",
       "      <td>1,525,879,831</td>\n",
       "      <td>CH98aB3s1kJeq6SFOc</td>\n",
       "      <td>192.168.100.103</td>\n",
       "      <td>56,305</td>\n",
       "      <td>63.150.16.171</td>\n",
       "      <td>23</td>\n",
       "      <td>tcp</td>\n",
       "      <td>-</td>\n",
       "      <td>-</td>\n",
       "      <td>-</td>\n",
       "      <td>...</td>\n",
       "      <td>-</td>\n",
       "      <td>0</td>\n",
       "      <td>S</td>\n",
       "      <td>1</td>\n",
       "      <td>60</td>\n",
       "      <td>0</td>\n",
       "      <td>0</td>\n",
       "      <td>-</td>\n",
       "      <td>Malicious</td>\n",
       "      <td>PartOfAHorizontalPortScan</td>\n",
       "    </tr>\n",
       "  </tbody>\n",
       "</table>\n",
       "<p>2 rows × 23 columns</p>\n",
       "</div>"
      ],
      "text/plain": [
       "             ts                 uid        id.orig_h  id.orig_p  \\\n",
       "0 1,525,879,831  CUmrqr4svHuSXJy5z7  192.168.100.103     51,524   \n",
       "1 1,525,879,831  CH98aB3s1kJeq6SFOc  192.168.100.103     56,305   \n",
       "\n",
       "        id.resp_h  id.resp_p proto service  duration orig_bytes  ...  \\\n",
       "0  65.127.233.163         23   tcp       -  2.999051          0  ...   \n",
       "1   63.150.16.171         23   tcp       -         -          -  ...   \n",
       "\n",
       "  local_resp missed_bytes history orig_pkts  orig_ip_bytes resp_pkts  \\\n",
       "0          -            0       S         3            180         0   \n",
       "1          -            0       S         1             60         0   \n",
       "\n",
       "   resp_ip_bytes  tunnel_parents      label             detailed-label  \n",
       "0              0               -  Malicious  PartOfAHorizontalPortScan  \n",
       "1              0               -  Malicious  PartOfAHorizontalPortScan  \n",
       "\n",
       "[2 rows x 23 columns]"
      ]
     },
     "execution_count": 106,
     "metadata": {},
     "output_type": "execute_result"
    }
   ],
   "source": [
    "df_1.head(2)"
   ]
  },
  {
   "cell_type": "code",
   "execution_count": 5,
   "metadata": {},
   "outputs": [],
   "source": [
    "df_2=pd.read_csv(\"/media/vicevil/Nuevo vol/Cursos/REPOSITORIOS/DATASET/malware_total/original/CTU-IoT-Malware-Capture-3-1conn.log.labeled.csv\", sep=\"|\")"
   ]
  },
  {
   "cell_type": "code",
   "execution_count": 6,
   "metadata": {},
   "outputs": [
    {
     "data": {
      "text/plain": [
       "(156103, 23)"
      ]
     },
     "execution_count": 6,
     "metadata": {},
     "output_type": "execute_result"
    }
   ],
   "source": [
    "df_2.shape"
   ]
  },
  {
   "cell_type": "code",
   "execution_count": 7,
   "metadata": {},
   "outputs": [],
   "source": [
    "df_3=pd.read_csv(\"/media/vicevil/Nuevo vol/Cursos/REPOSITORIOS/DATASET/malware_total/original/CTU-IoT-Malware-Capture-8-1conn.log.labeled.csv\", sep=\"|\")"
   ]
  },
  {
   "cell_type": "code",
   "execution_count": 8,
   "metadata": {},
   "outputs": [
    {
     "data": {
      "text/plain": [
       "(10403, 23)"
      ]
     },
     "execution_count": 8,
     "metadata": {},
     "output_type": "execute_result"
    }
   ],
   "source": [
    "df_3.shape"
   ]
  },
  {
   "cell_type": "code",
   "execution_count": 9,
   "metadata": {},
   "outputs": [],
   "source": [
    "df_4=pd.read_csv(\"/media/vicevil/Nuevo vol/Cursos/REPOSITORIOS/DATASET/malware_total/original/CTU-IoT-Malware-Capture-9-1conn.log.labeled.csv\", sep=\"|\")"
   ]
  },
  {
   "cell_type": "code",
   "execution_count": 112,
   "metadata": {},
   "outputs": [
    {
     "data": {
      "text/plain": [
       "(6378293, 23)"
      ]
     },
     "execution_count": 112,
     "metadata": {},
     "output_type": "execute_result"
    }
   ],
   "source": [
    "df_4.shape"
   ]
  },
  {
   "cell_type": "code",
   "execution_count": 10,
   "metadata": {},
   "outputs": [],
   "source": [
    "df_5=pd.read_csv(\"/media/vicevil/Nuevo vol/Cursos/REPOSITORIOS/DATASET/malware_total/original/CTU-IoT-Malware-Capture-20-1conn.log.labeled.csv\", sep=\"|\")"
   ]
  },
  {
   "cell_type": "code",
   "execution_count": 114,
   "metadata": {},
   "outputs": [
    {
     "data": {
      "text/plain": [
       "(3209, 23)"
      ]
     },
     "execution_count": 114,
     "metadata": {},
     "output_type": "execute_result"
    }
   ],
   "source": [
    "df_5.shape"
   ]
  },
  {
   "cell_type": "code",
   "execution_count": 11,
   "metadata": {},
   "outputs": [],
   "source": [
    "df_6=pd.read_csv(\"/media/vicevil/Nuevo vol/Cursos/REPOSITORIOS/DATASET/malware_total/original/CTU-IoT-Malware-Capture-21-1conn.log.labeled.csv\", sep=\"|\")"
   ]
  },
  {
   "cell_type": "code",
   "execution_count": 116,
   "metadata": {},
   "outputs": [
    {
     "data": {
      "text/plain": [
       "(3286, 23)"
      ]
     },
     "execution_count": 116,
     "metadata": {},
     "output_type": "execute_result"
    }
   ],
   "source": [
    "df_6.shape"
   ]
  },
  {
   "cell_type": "code",
   "execution_count": 12,
   "metadata": {},
   "outputs": [],
   "source": [
    "df_7=pd.read_csv(\"/media/vicevil/Nuevo vol/Cursos/REPOSITORIOS/DATASET/malware_total/original/CTU-IoT-Malware-Capture-34-1conn.log.labeled.csv\", sep=\"|\")"
   ]
  },
  {
   "cell_type": "code",
   "execution_count": 118,
   "metadata": {},
   "outputs": [
    {
     "data": {
      "text/plain": [
       "(23145, 23)"
      ]
     },
     "execution_count": 118,
     "metadata": {},
     "output_type": "execute_result"
    }
   ],
   "source": [
    "df_7.shape"
   ]
  },
  {
   "cell_type": "code",
   "execution_count": 13,
   "metadata": {},
   "outputs": [],
   "source": [
    "df_8=pd.read_csv(\"/media/vicevil/Nuevo vol/Cursos/REPOSITORIOS/DATASET/malware_total/original/CTU-IoT-Malware-Capture-35-1conn.log.labeled.csv\", sep=\"|\")"
   ]
  },
  {
   "cell_type": "code",
   "execution_count": 120,
   "metadata": {},
   "outputs": [
    {
     "data": {
      "text/plain": [
       "(10447787, 23)"
      ]
     },
     "execution_count": 120,
     "metadata": {},
     "output_type": "execute_result"
    }
   ],
   "source": [
    "df_8.shape"
   ]
  },
  {
   "cell_type": "code",
   "execution_count": 14,
   "metadata": {},
   "outputs": [],
   "source": [
    "df_9=pd.read_csv(\"/media/vicevil/Nuevo vol/Cursos/REPOSITORIOS/DATASET/malware_total/original/CTU-IoT-Malware-Capture-42-1conn.log.labeled.csv\", sep=\"|\")"
   ]
  },
  {
   "cell_type": "code",
   "execution_count": 122,
   "metadata": {},
   "outputs": [
    {
     "data": {
      "text/plain": [
       "(4426, 23)"
      ]
     },
     "execution_count": 122,
     "metadata": {},
     "output_type": "execute_result"
    }
   ],
   "source": [
    "df_9.shape"
   ]
  },
  {
   "cell_type": "code",
   "execution_count": 15,
   "metadata": {},
   "outputs": [],
   "source": [
    "df_10=pd.read_csv(\"/media/vicevil/Nuevo vol/Cursos/REPOSITORIOS/DATASET/malware_total/original/CTU-IoT-Malware-Capture-44-1conn.log.labeled.csv\", sep=\"|\")"
   ]
  },
  {
   "cell_type": "code",
   "execution_count": 124,
   "metadata": {},
   "outputs": [
    {
     "data": {
      "text/plain": [
       "(237, 23)"
      ]
     },
     "execution_count": 124,
     "metadata": {},
     "output_type": "execute_result"
    }
   ],
   "source": [
    "df_10.shape"
   ]
  },
  {
   "cell_type": "code",
   "execution_count": 125,
   "metadata": {},
   "outputs": [
    {
     "name": "stdout",
     "output_type": "stream",
     "text": [
      "<class 'pandas.core.frame.DataFrame'>\n",
      "RangeIndex: 237 entries, 0 to 236\n",
      "Data columns (total 23 columns):\n",
      " #   Column          Non-Null Count  Dtype  \n",
      "---  ------          --------------  -----  \n",
      " 0   ts              237 non-null    float64\n",
      " 1   uid             237 non-null    object \n",
      " 2   id.orig_h       237 non-null    object \n",
      " 3   id.orig_p       237 non-null    int64  \n",
      " 4   id.resp_h       237 non-null    object \n",
      " 5   id.resp_p       237 non-null    int64  \n",
      " 6   proto           237 non-null    object \n",
      " 7   service         237 non-null    object \n",
      " 8   duration        237 non-null    object \n",
      " 9   orig_bytes      237 non-null    object \n",
      " 10  resp_bytes      237 non-null    object \n",
      " 11  conn_state      237 non-null    object \n",
      " 12  local_orig      237 non-null    object \n",
      " 13  local_resp      237 non-null    object \n",
      " 14  missed_bytes    237 non-null    int64  \n",
      " 15  history         237 non-null    object \n",
      " 16  orig_pkts       237 non-null    int64  \n",
      " 17  orig_ip_bytes   237 non-null    int64  \n",
      " 18  resp_pkts       237 non-null    int64  \n",
      " 19  resp_ip_bytes   237 non-null    int64  \n",
      " 20  tunnel_parents  237 non-null    object \n",
      " 21  label           237 non-null    object \n",
      " 22  detailed-label  222 non-null    object \n",
      "dtypes: float64(1), int64(7), object(15)\n",
      "memory usage: 42.7+ KB\n"
     ]
    }
   ],
   "source": [
    "df_10.info()"
   ]
  },
  {
   "cell_type": "code",
   "execution_count": 16,
   "metadata": {},
   "outputs": [
    {
     "name": "stderr",
     "output_type": "stream",
     "text": [
      "/home/vicevil/miniconda3/envs/tf-gpu/lib/python3.7/site-packages/IPython/core/interactiveshell.py:3552: DtypeWarning: Columns (8,9,10) have mixed types.Specify dtype option on import or set low_memory=False.\n",
      "  exec(code_obj, self.user_global_ns, self.user_ns)\n"
     ]
    }
   ],
   "source": [
    "df_11=pd.read_csv(\"/media/vicevil/Nuevo vol/Cursos/REPOSITORIOS/DATASET/malware_total/original/CTU-IoT-Malware-Capture-48-1conn.log.labeled.csv\", sep=\"|\")"
   ]
  },
  {
   "cell_type": "code",
   "execution_count": 127,
   "metadata": {},
   "outputs": [
    {
     "data": {
      "text/plain": [
       "(3394338, 23)"
      ]
     },
     "execution_count": 127,
     "metadata": {},
     "output_type": "execute_result"
    }
   ],
   "source": [
    "df_11.shape"
   ]
  },
  {
   "cell_type": "code",
   "execution_count": 17,
   "metadata": {},
   "outputs": [],
   "source": [
    "df_12=pd.read_csv(\"/media/vicevil/Nuevo vol/Cursos/REPOSITORIOS/DATASET/malware_total/original/CTU-IoT-Malware-Capture-60-1conn.log.labeled.csv\", sep=\"|\")"
   ]
  },
  {
   "cell_type": "code",
   "execution_count": 129,
   "metadata": {},
   "outputs": [
    {
     "data": {
      "text/plain": [
       "(3581028, 23)"
      ]
     },
     "execution_count": 129,
     "metadata": {},
     "output_type": "execute_result"
    }
   ],
   "source": [
    "df_12.shape"
   ]
  },
  {
   "cell_type": "code",
   "execution_count": 130,
   "metadata": {},
   "outputs": [
    {
     "data": {
      "text/plain": [
       "'24002255'"
      ]
     },
     "execution_count": 130,
     "metadata": {},
     "output_type": "execute_result"
    }
   ],
   "source": [
    "#total de regist5ros de los 12 df antes del dropna y quitar guione\n",
    "\"24002255\""
   ]
  },
  {
   "cell_type": "code",
   "execution_count": 18,
   "metadata": {},
   "outputs": [],
   "source": [
    "lista=[df_1, df_2,df_3,df_4,df_5,df_6,df_7,df_8,df_9,df_10,df_11,df_12]"
   ]
  },
  {
   "cell_type": "code",
   "execution_count": 132,
   "metadata": {},
   "outputs": [
    {
     "name": "stdout",
     "output_type": "stream",
     "text": [
      "df_1:\n",
      "0 valores nulos\n",
      "\n",
      "df_2:\n",
      "0 valores nulos\n",
      "\n",
      "df_3:\n",
      "0 valores nulos\n",
      "\n",
      "df_4:\n",
      "0 valores nulos\n",
      "\n",
      "df_5:\n",
      "0 valores nulos\n",
      "\n",
      "df_6:\n",
      "0 valores nulos\n",
      "\n",
      "df_7:\n",
      "21222 valores nulos\n",
      "\n",
      "df_8:\n",
      "2185386 valores nulos\n",
      "\n",
      "df_9:\n",
      "3 valores nulos\n",
      "\n",
      "df_10:\n",
      "15 valores nulos\n",
      "\n",
      "df_11:\n",
      "3388871 valores nulos\n",
      "\n",
      "df_12:\n",
      "3578457 valores nulos\n",
      "\n"
     ]
    }
   ],
   "source": [
    "#vamos a buscar los nuelos de tos antes de juntarlos\n",
    "for i, df in enumerate(lista):\n",
    "  print(f\"df_{i+1}:\")\n",
    "  print(df.isnull().sum().sum(), \"valores nulos\")\n",
    "  print()\n"
   ]
  },
  {
   "cell_type": "code",
   "execution_count": 133,
   "metadata": {},
   "outputs": [
    {
     "name": "stdout",
     "output_type": "stream",
     "text": [
      "df_1:\n",
      "6907347 guiones\n",
      "\n",
      "df_2:\n",
      "846079 guiones\n",
      "\n",
      "df_3:\n",
      "62348 guiones\n",
      "\n",
      "df_4:\n",
      "44622206 guiones\n",
      "\n",
      "df_5:\n",
      "18092 guiones\n",
      "\n",
      "df_6:\n",
      "17976 guiones\n",
      "\n",
      "df_7:\n",
      "146128 guiones\n",
      "\n",
      "df_8:\n",
      "63351494 guiones\n",
      "\n",
      "df_9:\n",
      "23384 guiones\n",
      "\n",
      "df_10:\n",
      "1391 guiones\n",
      "\n",
      "df_11:\n",
      "15231966 guiones\n",
      "\n",
      "df_12:\n",
      "25067799 guiones\n",
      "\n"
     ]
    }
   ],
   "source": [
    "#ahopra vamos a contar los giones \"-\"\n",
    "for i, df in enumerate(lista):\n",
    "    print(f\"df_{i+1}:\")\n",
    "    total_guiones = df.apply(lambda x: x.astype(str).str.count(\"-\")).sum().sum()\n",
    "    print(total_guiones, \"guiones\")\n",
    "    print()\n"
   ]
  },
  {
   "cell_type": "markdown",
   "metadata": {},
   "source": [
    "#### vamos a mira el 8 el 11 u 12 respecto a los nulos"
   ]
  },
  {
   "cell_type": "markdown",
   "metadata": {},
   "source": [
    "todas tenian nulos en la columna detailed-label, pero al convertir los guines en NaN y hacer dropna ya no tienen"
   ]
  },
  {
   "cell_type": "code",
   "execution_count": 134,
   "metadata": {},
   "outputs": [
    {
     "name": "stdout",
     "output_type": "stream",
     "text": [
      "df_1:\n",
      "['Malicious' 'Benign'] valores unicos\n",
      "\n",
      "df_2:\n",
      "['Malicious' 'Benign'] valores unicos\n",
      "\n",
      "df_3:\n",
      "['Benign' 'Malicious'] valores unicos\n",
      "\n",
      "df_4:\n",
      "['Benign' 'Malicious'] valores unicos\n",
      "\n",
      "df_5:\n",
      "['Benign' 'Malicious   C&C'] valores unicos\n",
      "\n",
      "df_6:\n",
      "['Benign' 'Malicious   C&C'] valores unicos\n",
      "\n",
      "df_7:\n",
      "['Benign' 'Malicious   C&C' 'Malicious   PartOfAHorizontalPortScan'\n",
      " 'Malicious   DDoS'] valores unicos\n",
      "\n",
      "df_8:\n",
      "['Malicious   C&C' 'Benign' 'Malicious   Attack' 'Malicious   DDoS'] valores unicos\n",
      "\n",
      "df_9:\n",
      "['Malicious   FileDownload' 'Malicious   C&C' 'Benign'] valores unicos\n",
      "\n",
      "df_10:\n",
      "['Malicious   C&C' 'Benign' 'Malicious   DDoS'] valores unicos\n",
      "\n",
      "df_11:\n",
      "['Malicious   C&C' 'Malicious   PartOfAHorizontalPortScan'\n",
      " 'Malicious   Attack' 'Benign'] valores unicos\n",
      "\n",
      "df_12:\n",
      "['Benign' 'Malicious   C&C' 'Malicious   DDoS'] valores unicos\n",
      "\n"
     ]
    }
   ],
   "source": [
    "for i, df in enumerate(lista):\n",
    "  print(f\"df_{i+1}:\")\n",
    "  print(df[\"label\"].unique(), \"valores unicos\")\n",
    "  print()"
   ]
  },
  {
   "cell_type": "code",
   "execution_count": 135,
   "metadata": {},
   "outputs": [
    {
     "name": "stdout",
     "output_type": "stream",
     "text": [
      "df_1:\n",
      "['PartOfAHorizontalPortScan' '-' 'C&C'] valores unicos\n",
      "\n",
      "df_2:\n",
      "['PartOfAHorizontalPortScan' '-' 'C&C' 'Attack'] valores unicos\n",
      "\n",
      "df_3:\n",
      "['-' 'C&C'] valores unicos\n",
      "\n",
      "df_4:\n",
      "['-' 'PartOfAHorizontalPortScan'] valores unicos\n",
      "\n",
      "df_5:\n",
      "['-' 'Torii'] valores unicos\n",
      "\n",
      "df_6:\n",
      "['-' 'Torii'] valores unicos\n",
      "\n",
      "df_7:\n",
      "['-' nan] valores unicos\n",
      "\n",
      "df_8:\n",
      "[nan '-' 'FileDownload'] valores unicos\n",
      "\n",
      "df_9:\n",
      "[nan 'FileDownload' '-'] valores unicos\n",
      "\n",
      "df_10:\n",
      "['FileDownload' nan '-'] valores unicos\n",
      "\n",
      "df_11:\n",
      "['HeartBeat' nan '-' 'PartOfAHorizontalPortScan'] valores unicos\n",
      "\n",
      "df_12:\n",
      "['-' 'HeartBeat' nan] valores unicos\n",
      "\n"
     ]
    }
   ],
   "source": [
    "for i, df in enumerate(lista):\n",
    "  print(f\"df_{i+1}:\")\n",
    "  print(df[\"detailed-label\"].unique(), \"valores unicos\")\n",
    "  print()"
   ]
  },
  {
   "cell_type": "markdown",
   "metadata": {},
   "source": [
    "El Dataset de mas arriba es uno de los 12 que he juntado para hacer el dataset malware bytes , habiendo 6 columnnas de mas ya que de la columna original ts he extraido los valores del tiempo: time_clok, interval_time, anyo, month y day_week"
   ]
  },
  {
   "cell_type": "code",
   "execution_count": 136,
   "metadata": {},
   "outputs": [
    {
     "name": "stdout",
     "output_type": "stream",
     "text": [
      "df_1:\n",
      "1008748 suma valores despues del dropna\n",
      "\n",
      "df_2:\n",
      "156103 suma valores despues del dropna\n",
      "\n",
      "df_3:\n",
      "10403 suma valores despues del dropna\n",
      "\n",
      "df_4:\n",
      "6378293 suma valores despues del dropna\n",
      "\n",
      "df_5:\n",
      "3209 suma valores despues del dropna\n",
      "\n",
      "df_6:\n",
      "3286 suma valores despues del dropna\n",
      "\n",
      "df_7:\n",
      "23145 suma valores despues del dropna\n",
      "\n",
      "df_8:\n",
      "10447787 suma valores despues del dropna\n",
      "\n",
      "df_9:\n",
      "4426 suma valores despues del dropna\n",
      "\n",
      "df_10:\n",
      "237 suma valores despues del dropna\n",
      "\n",
      "df_11:\n",
      "3394338 suma valores despues del dropna\n",
      "\n",
      "df_12:\n",
      "3581028 suma valores despues del dropna\n",
      "\n"
     ]
    }
   ],
   "source": [
    "for i, df in enumerate(lista):\n",
    "  print(f\"df_{i+1}:\")\n",
    "  print(len(df), \"suma valores despues del dropna\")\n",
    "  print()"
   ]
  },
  {
   "cell_type": "code",
   "execution_count": 137,
   "metadata": {},
   "outputs": [],
   "source": [
    "#suma total despues del dropna\n",
    "Total_despues=15837049"
   ]
  },
  {
   "cell_type": "code",
   "execution_count": 138,
   "metadata": {},
   "outputs": [],
   "source": [
    "#diferencia entre antes y el despues\n",
    "total_antes= 24002255"
   ]
  },
  {
   "cell_type": "code",
   "execution_count": 139,
   "metadata": {},
   "outputs": [
    {
     "name": "stdout",
     "output_type": "stream",
     "text": [
      "8165206 34.01849534554149\n"
     ]
    }
   ],
   "source": [
    "diferencia= total_antes-Total_despues\n",
    "porcentaje= diferencia*100/total_antes\n",
    "print(diferencia, porcentaje)"
   ]
  },
  {
   "cell_type": "markdown",
   "metadata": {},
   "source": [
    "UNIMOS EN 1 EL DATASET COMPLETO SIN nAn NI GIUINES, PERDIENDO UN 34% DE INFORMACION PERO NOS QUEDAMOS CON CASI 16000000 DE DATOS EN 23 COLUMNAS"
   ]
  },
  {
   "cell_type": "code",
   "execution_count": 19,
   "metadata": {},
   "outputs": [],
   "source": [
    "df_malware= pd.concat(lista, axis=0)"
   ]
  },
  {
   "cell_type": "code",
   "execution_count": 20,
   "metadata": {},
   "outputs": [
    {
     "data": {
      "text/html": [
       "<div>\n",
       "<style scoped>\n",
       "    .dataframe tbody tr th:only-of-type {\n",
       "        vertical-align: middle;\n",
       "    }\n",
       "\n",
       "    .dataframe tbody tr th {\n",
       "        vertical-align: top;\n",
       "    }\n",
       "\n",
       "    .dataframe thead th {\n",
       "        text-align: right;\n",
       "    }\n",
       "</style>\n",
       "<table border=\"1\" class=\"dataframe\">\n",
       "  <thead>\n",
       "    <tr style=\"text-align: right;\">\n",
       "      <th></th>\n",
       "      <th>ts</th>\n",
       "      <th>uid</th>\n",
       "      <th>id.orig_h</th>\n",
       "      <th>id.orig_p</th>\n",
       "      <th>id.resp_h</th>\n",
       "      <th>id.resp_p</th>\n",
       "      <th>proto</th>\n",
       "      <th>service</th>\n",
       "      <th>duration</th>\n",
       "      <th>orig_bytes</th>\n",
       "      <th>...</th>\n",
       "      <th>local_resp</th>\n",
       "      <th>missed_bytes</th>\n",
       "      <th>history</th>\n",
       "      <th>orig_pkts</th>\n",
       "      <th>orig_ip_bytes</th>\n",
       "      <th>resp_pkts</th>\n",
       "      <th>resp_ip_bytes</th>\n",
       "      <th>tunnel_parents</th>\n",
       "      <th>label</th>\n",
       "      <th>detailed-label</th>\n",
       "    </tr>\n",
       "  </thead>\n",
       "  <tbody>\n",
       "    <tr>\n",
       "      <th>0</th>\n",
       "      <td>1.525880e+09</td>\n",
       "      <td>CUmrqr4svHuSXJy5z7</td>\n",
       "      <td>192.168.100.103</td>\n",
       "      <td>51524.0</td>\n",
       "      <td>65.127.233.163</td>\n",
       "      <td>23.0</td>\n",
       "      <td>tcp</td>\n",
       "      <td>-</td>\n",
       "      <td>2.999051</td>\n",
       "      <td>0</td>\n",
       "      <td>...</td>\n",
       "      <td>-</td>\n",
       "      <td>0.0</td>\n",
       "      <td>S</td>\n",
       "      <td>3.0</td>\n",
       "      <td>180.0</td>\n",
       "      <td>0.0</td>\n",
       "      <td>0.0</td>\n",
       "      <td>-</td>\n",
       "      <td>Malicious</td>\n",
       "      <td>PartOfAHorizontalPortScan</td>\n",
       "    </tr>\n",
       "    <tr>\n",
       "      <th>1</th>\n",
       "      <td>1.525880e+09</td>\n",
       "      <td>CH98aB3s1kJeq6SFOc</td>\n",
       "      <td>192.168.100.103</td>\n",
       "      <td>56305.0</td>\n",
       "      <td>63.150.16.171</td>\n",
       "      <td>23.0</td>\n",
       "      <td>tcp</td>\n",
       "      <td>-</td>\n",
       "      <td>-</td>\n",
       "      <td>-</td>\n",
       "      <td>...</td>\n",
       "      <td>-</td>\n",
       "      <td>0.0</td>\n",
       "      <td>S</td>\n",
       "      <td>1.0</td>\n",
       "      <td>60.0</td>\n",
       "      <td>0.0</td>\n",
       "      <td>0.0</td>\n",
       "      <td>-</td>\n",
       "      <td>Malicious</td>\n",
       "      <td>PartOfAHorizontalPortScan</td>\n",
       "    </tr>\n",
       "    <tr>\n",
       "      <th>2</th>\n",
       "      <td>1.525880e+09</td>\n",
       "      <td>C3GBTkINvXNjVGtN5</td>\n",
       "      <td>192.168.100.103</td>\n",
       "      <td>41101.0</td>\n",
       "      <td>111.40.23.49</td>\n",
       "      <td>23.0</td>\n",
       "      <td>tcp</td>\n",
       "      <td>-</td>\n",
       "      <td>-</td>\n",
       "      <td>-</td>\n",
       "      <td>...</td>\n",
       "      <td>-</td>\n",
       "      <td>0.0</td>\n",
       "      <td>S</td>\n",
       "      <td>1.0</td>\n",
       "      <td>60.0</td>\n",
       "      <td>0.0</td>\n",
       "      <td>0.0</td>\n",
       "      <td>-</td>\n",
       "      <td>Malicious</td>\n",
       "      <td>PartOfAHorizontalPortScan</td>\n",
       "    </tr>\n",
       "    <tr>\n",
       "      <th>3</th>\n",
       "      <td>1.525880e+09</td>\n",
       "      <td>CDe43c1PtgynajGI6</td>\n",
       "      <td>192.168.100.103</td>\n",
       "      <td>60905.0</td>\n",
       "      <td>131.174.215.147</td>\n",
       "      <td>23.0</td>\n",
       "      <td>tcp</td>\n",
       "      <td>-</td>\n",
       "      <td>2.998796</td>\n",
       "      <td>0</td>\n",
       "      <td>...</td>\n",
       "      <td>-</td>\n",
       "      <td>0.0</td>\n",
       "      <td>S</td>\n",
       "      <td>3.0</td>\n",
       "      <td>180.0</td>\n",
       "      <td>0.0</td>\n",
       "      <td>0.0</td>\n",
       "      <td>-</td>\n",
       "      <td>Malicious</td>\n",
       "      <td>PartOfAHorizontalPortScan</td>\n",
       "    </tr>\n",
       "    <tr>\n",
       "      <th>4</th>\n",
       "      <td>1.525880e+09</td>\n",
       "      <td>CJaDcG3MZzvf1YVYI4</td>\n",
       "      <td>192.168.100.103</td>\n",
       "      <td>44301.0</td>\n",
       "      <td>91.42.47.63</td>\n",
       "      <td>23.0</td>\n",
       "      <td>tcp</td>\n",
       "      <td>-</td>\n",
       "      <td>-</td>\n",
       "      <td>-</td>\n",
       "      <td>...</td>\n",
       "      <td>-</td>\n",
       "      <td>0.0</td>\n",
       "      <td>S</td>\n",
       "      <td>1.0</td>\n",
       "      <td>60.0</td>\n",
       "      <td>0.0</td>\n",
       "      <td>0.0</td>\n",
       "      <td>-</td>\n",
       "      <td>Malicious</td>\n",
       "      <td>PartOfAHorizontalPortScan</td>\n",
       "    </tr>\n",
       "    <tr>\n",
       "      <th>...</th>\n",
       "      <td>...</td>\n",
       "      <td>...</td>\n",
       "      <td>...</td>\n",
       "      <td>...</td>\n",
       "      <td>...</td>\n",
       "      <td>...</td>\n",
       "      <td>...</td>\n",
       "      <td>...</td>\n",
       "      <td>...</td>\n",
       "      <td>...</td>\n",
       "      <td>...</td>\n",
       "      <td>...</td>\n",
       "      <td>...</td>\n",
       "      <td>...</td>\n",
       "      <td>...</td>\n",
       "      <td>...</td>\n",
       "      <td>...</td>\n",
       "      <td>...</td>\n",
       "      <td>...</td>\n",
       "      <td>...</td>\n",
       "      <td>...</td>\n",
       "    </tr>\n",
       "    <tr>\n",
       "      <th>3581023</th>\n",
       "      <td>1.569026e+09</td>\n",
       "      <td>CyeWQ7K6jWDDbI4Kd</td>\n",
       "      <td>192.168.1.195</td>\n",
       "      <td>123.0</td>\n",
       "      <td>89.221.210.188</td>\n",
       "      <td>123.0</td>\n",
       "      <td>udp</td>\n",
       "      <td>-</td>\n",
       "      <td>0.004499</td>\n",
       "      <td>96</td>\n",
       "      <td>...</td>\n",
       "      <td>-</td>\n",
       "      <td>0.0</td>\n",
       "      <td>Dd</td>\n",
       "      <td>2.0</td>\n",
       "      <td>152.0</td>\n",
       "      <td>2.0</td>\n",
       "      <td>152.0</td>\n",
       "      <td>-</td>\n",
       "      <td>Benign</td>\n",
       "      <td>-</td>\n",
       "    </tr>\n",
       "    <tr>\n",
       "      <th>3581024</th>\n",
       "      <td>1.568941e+09</td>\n",
       "      <td>CS9u9p3IiuKuTYfauc</td>\n",
       "      <td>192.168.1.195</td>\n",
       "      <td>37306.0</td>\n",
       "      <td>102.165.48.81</td>\n",
       "      <td>17769.0</td>\n",
       "      <td>tcp</td>\n",
       "      <td>-</td>\n",
       "      <td>84970.742165</td>\n",
       "      <td>8523</td>\n",
       "      <td>...</td>\n",
       "      <td>-</td>\n",
       "      <td>0.0</td>\n",
       "      <td>ShAdDaT</td>\n",
       "      <td>8952.0</td>\n",
       "      <td>483602.0</td>\n",
       "      <td>9613.0</td>\n",
       "      <td>520116.0</td>\n",
       "      <td>-</td>\n",
       "      <td>Malicious   C&amp;C</td>\n",
       "      <td>HeartBeat</td>\n",
       "    </tr>\n",
       "    <tr>\n",
       "      <th>3581025</th>\n",
       "      <td>1.569026e+09</td>\n",
       "      <td>ChLFLFZumxpFdFbV8</td>\n",
       "      <td>192.168.1.195</td>\n",
       "      <td>123.0</td>\n",
       "      <td>212.111.30.190</td>\n",
       "      <td>123.0</td>\n",
       "      <td>udp</td>\n",
       "      <td>-</td>\n",
       "      <td>0.007994</td>\n",
       "      <td>96</td>\n",
       "      <td>...</td>\n",
       "      <td>-</td>\n",
       "      <td>0.0</td>\n",
       "      <td>Dd</td>\n",
       "      <td>2.0</td>\n",
       "      <td>152.0</td>\n",
       "      <td>2.0</td>\n",
       "      <td>152.0</td>\n",
       "      <td>-</td>\n",
       "      <td>Benign</td>\n",
       "      <td>-</td>\n",
       "    </tr>\n",
       "    <tr>\n",
       "      <th>3581026</th>\n",
       "      <td>1.569026e+09</td>\n",
       "      <td>CdOxuh15kV4eHJYKkb</td>\n",
       "      <td>192.168.1.195</td>\n",
       "      <td>123.0</td>\n",
       "      <td>5.1.56.123</td>\n",
       "      <td>123.0</td>\n",
       "      <td>udp</td>\n",
       "      <td>-</td>\n",
       "      <td>0.005250</td>\n",
       "      <td>96</td>\n",
       "      <td>...</td>\n",
       "      <td>-</td>\n",
       "      <td>0.0</td>\n",
       "      <td>Dd</td>\n",
       "      <td>2.0</td>\n",
       "      <td>152.0</td>\n",
       "      <td>2.0</td>\n",
       "      <td>152.0</td>\n",
       "      <td>-</td>\n",
       "      <td>Benign</td>\n",
       "      <td>-</td>\n",
       "    </tr>\n",
       "    <tr>\n",
       "      <th>3581027</th>\n",
       "      <td>1.569026e+09</td>\n",
       "      <td>C7q9EgOTCtbdacBK3</td>\n",
       "      <td>192.168.1.195</td>\n",
       "      <td>123.0</td>\n",
       "      <td>81.2.254.32</td>\n",
       "      <td>123.0</td>\n",
       "      <td>udp</td>\n",
       "      <td>-</td>\n",
       "      <td>0.005497</td>\n",
       "      <td>96</td>\n",
       "      <td>...</td>\n",
       "      <td>-</td>\n",
       "      <td>0.0</td>\n",
       "      <td>Dd</td>\n",
       "      <td>2.0</td>\n",
       "      <td>152.0</td>\n",
       "      <td>2.0</td>\n",
       "      <td>152.0</td>\n",
       "      <td>-</td>\n",
       "      <td>Benign</td>\n",
       "      <td>-</td>\n",
       "    </tr>\n",
       "  </tbody>\n",
       "</table>\n",
       "<p>25011003 rows × 23 columns</p>\n",
       "</div>"
      ],
      "text/plain": [
       "                   ts                 uid        id.orig_h  id.orig_p  \\\n",
       "0        1.525880e+09  CUmrqr4svHuSXJy5z7  192.168.100.103    51524.0   \n",
       "1        1.525880e+09  CH98aB3s1kJeq6SFOc  192.168.100.103    56305.0   \n",
       "2        1.525880e+09   C3GBTkINvXNjVGtN5  192.168.100.103    41101.0   \n",
       "3        1.525880e+09   CDe43c1PtgynajGI6  192.168.100.103    60905.0   \n",
       "4        1.525880e+09  CJaDcG3MZzvf1YVYI4  192.168.100.103    44301.0   \n",
       "...               ...                 ...              ...        ...   \n",
       "3581023  1.569026e+09   CyeWQ7K6jWDDbI4Kd    192.168.1.195      123.0   \n",
       "3581024  1.568941e+09  CS9u9p3IiuKuTYfauc    192.168.1.195    37306.0   \n",
       "3581025  1.569026e+09   ChLFLFZumxpFdFbV8    192.168.1.195      123.0   \n",
       "3581026  1.569026e+09  CdOxuh15kV4eHJYKkb    192.168.1.195      123.0   \n",
       "3581027  1.569026e+09   C7q9EgOTCtbdacBK3    192.168.1.195      123.0   \n",
       "\n",
       "               id.resp_h  id.resp_p proto service      duration orig_bytes  \\\n",
       "0         65.127.233.163       23.0   tcp       -      2.999051          0   \n",
       "1          63.150.16.171       23.0   tcp       -             -          -   \n",
       "2           111.40.23.49       23.0   tcp       -             -          -   \n",
       "3        131.174.215.147       23.0   tcp       -      2.998796          0   \n",
       "4            91.42.47.63       23.0   tcp       -             -          -   \n",
       "...                  ...        ...   ...     ...           ...        ...   \n",
       "3581023   89.221.210.188      123.0   udp       -      0.004499         96   \n",
       "3581024    102.165.48.81    17769.0   tcp       -  84970.742165       8523   \n",
       "3581025   212.111.30.190      123.0   udp       -      0.007994         96   \n",
       "3581026       5.1.56.123      123.0   udp       -      0.005250         96   \n",
       "3581027      81.2.254.32      123.0   udp       -      0.005497         96   \n",
       "\n",
       "         ... local_resp missed_bytes  history orig_pkts  orig_ip_bytes  \\\n",
       "0        ...          -          0.0        S       3.0          180.0   \n",
       "1        ...          -          0.0        S       1.0           60.0   \n",
       "2        ...          -          0.0        S       1.0           60.0   \n",
       "3        ...          -          0.0        S       3.0          180.0   \n",
       "4        ...          -          0.0        S       1.0           60.0   \n",
       "...      ...        ...          ...      ...       ...            ...   \n",
       "3581023  ...          -          0.0       Dd       2.0          152.0   \n",
       "3581024  ...          -          0.0  ShAdDaT    8952.0       483602.0   \n",
       "3581025  ...          -          0.0       Dd       2.0          152.0   \n",
       "3581026  ...          -          0.0       Dd       2.0          152.0   \n",
       "3581027  ...          -          0.0       Dd       2.0          152.0   \n",
       "\n",
       "        resp_pkts  resp_ip_bytes  tunnel_parents            label  \\\n",
       "0             0.0            0.0               -        Malicious   \n",
       "1             0.0            0.0               -        Malicious   \n",
       "2             0.0            0.0               -        Malicious   \n",
       "3             0.0            0.0               -        Malicious   \n",
       "4             0.0            0.0               -        Malicious   \n",
       "...           ...            ...             ...              ...   \n",
       "3581023       2.0          152.0               -           Benign   \n",
       "3581024    9613.0       520116.0               -  Malicious   C&C   \n",
       "3581025       2.0          152.0               -           Benign   \n",
       "3581026       2.0          152.0               -           Benign   \n",
       "3581027       2.0          152.0               -           Benign   \n",
       "\n",
       "                    detailed-label  \n",
       "0        PartOfAHorizontalPortScan  \n",
       "1        PartOfAHorizontalPortScan  \n",
       "2        PartOfAHorizontalPortScan  \n",
       "3        PartOfAHorizontalPortScan  \n",
       "4        PartOfAHorizontalPortScan  \n",
       "...                            ...  \n",
       "3581023                          -  \n",
       "3581024                  HeartBeat  \n",
       "3581025                          -  \n",
       "3581026                          -  \n",
       "3581027                          -  \n",
       "\n",
       "[25011003 rows x 23 columns]"
      ]
     },
     "execution_count": 20,
     "metadata": {},
     "output_type": "execute_result"
    }
   ],
   "source": [
    "df_malware"
   ]
  },
  {
   "cell_type": "code",
   "execution_count": 21,
   "metadata": {},
   "outputs": [],
   "source": [
    "df_malware.replace(\"-\", np.nan, inplace=True)\n",
    "# Configurar la opción de formato de punto flotante para mostrar NaN\n",
    "pd.options.display.float_format = '{:,.0f}'.format\n",
    "\n",
    "\n",
    "\n",
    "   "
   ]
  },
  {
   "cell_type": "code",
   "execution_count": 27,
   "metadata": {},
   "outputs": [
    {
     "data": {
      "text/plain": [
       "ts                   0\n",
       "uid                  0\n",
       "id.orig_h            0\n",
       "id.orig_p            0\n",
       "id.resp_h            0\n",
       "id.resp_p            0\n",
       "proto                0\n",
       "conn_state           0\n",
       "missed_bytes         0\n",
       "history          25116\n",
       "orig_pkts            0\n",
       "orig_ip_bytes        0\n",
       "resp_pkts            0\n",
       "resp_ip_bytes        0\n",
       "label                0\n",
       "anyo                 0\n",
       "mes                  0\n",
       "dia                  0\n",
       "hora                 0\n",
       "dia_semanal          0\n",
       "dtype: int64"
      ]
     },
     "execution_count": 27,
     "metadata": {},
     "output_type": "execute_result"
    }
   ],
   "source": [
    "df_malware.isna().sum()"
   ]
  },
  {
   "cell_type": "code",
   "execution_count": 23,
   "metadata": {},
   "outputs": [],
   "source": [
    "#debido a la gran cantidad de nulos, me cargo varias columnas : [\"service\", \"duration\", orig_bytes\",\"resp_bytes\",local_orig\", \"local_resp\",\"tunnel_parents\", \"detailed_label\"]\n",
    "df_malware.drop(columns={\"service\", \"duration\", \"orig_bytes\",\"resp_bytes\",\"local_orig\", \"local_resp\",\"tunnel_parents\", \"detailed-label\"}, inplace=True)\n"
   ]
  },
  {
   "cell_type": "code",
   "execution_count": 145,
   "metadata": {},
   "outputs": [],
   "source": [
    "#bt.obtener_estadisticas(df_malware)"
   ]
  },
  {
   "cell_type": "code",
   "execution_count": 24,
   "metadata": {},
   "outputs": [
    {
     "data": {
      "text/plain": [
       "0         1,525,879,831\n",
       "1         1,525,879,831\n",
       "2         1,525,879,831\n",
       "3         1,525,879,832\n",
       "4         1,525,879,832\n",
       "               ...     \n",
       "3581023   1,569,025,924\n",
       "3581024   1,568,941,445\n",
       "3581025   1,569,026,391\n",
       "3581026   1,569,026,380\n",
       "3581027   1,569,026,383\n",
       "Name: ts, Length: 25011003, dtype: float64"
      ]
     },
     "execution_count": 24,
     "metadata": {},
     "output_type": "execute_result"
    }
   ],
   "source": [
    "df_malware.ts"
   ]
  },
  {
   "cell_type": "code",
   "execution_count": 25,
   "metadata": {},
   "outputs": [
    {
     "data": {
      "text/plain": [
       "array(['2018-05-09T15:30:31.015811072', '2018-05-09T15:30:31.025054976',\n",
       "       '2018-05-09T15:30:31.045044992', ...,\n",
       "       '2019-09-21T00:39:50.773122048', '2019-09-21T00:39:39.773117184',\n",
       "       '2019-09-21T00:39:42.773051904'], dtype='datetime64[ns]')"
      ]
     },
     "execution_count": 25,
     "metadata": {},
     "output_type": "execute_result"
    }
   ],
   "source": [
    "#convierto de horario unix a datetime\n",
    "df_malware['ts'] = pd.to_datetime(df_malware['ts'], unit='s')\n",
    "df_malware.ts.unique()\n"
   ]
  },
  {
   "cell_type": "code",
   "execution_count": 26,
   "metadata": {},
   "outputs": [],
   "source": [
    "#separo columnas de tiempos\n",
    "df_malware[\"anyo\"] = df_malware[\"ts\"].dt.year\n",
    "df_malware[\"mes\"] = df_malware[\"ts\"].dt.month\n",
    "df_malware[\"dia\"] = df_malware[\"ts\"].dt.day\n",
    "df_malware[\"hora\"] = df_malware[\"ts\"].dt.hour\n",
    "df_malware[\"dia_semanal\"]= df_malware[\"ts\"].dt.dayofweek"
   ]
  },
  {
   "cell_type": "code",
   "execution_count": 30,
   "metadata": {},
   "outputs": [
    {
     "data": {
      "text/html": [
       "<div>\n",
       "<style scoped>\n",
       "    .dataframe tbody tr th:only-of-type {\n",
       "        vertical-align: middle;\n",
       "    }\n",
       "\n",
       "    .dataframe tbody tr th {\n",
       "        vertical-align: top;\n",
       "    }\n",
       "\n",
       "    .dataframe thead th {\n",
       "        text-align: right;\n",
       "    }\n",
       "</style>\n",
       "<table border=\"1\" class=\"dataframe\">\n",
       "  <thead>\n",
       "    <tr style=\"text-align: right;\">\n",
       "      <th></th>\n",
       "      <th>uid</th>\n",
       "      <th>id.orig_h</th>\n",
       "      <th>id.orig_p</th>\n",
       "      <th>id.resp_h</th>\n",
       "      <th>id.resp_p</th>\n",
       "      <th>proto</th>\n",
       "      <th>conn_state</th>\n",
       "      <th>missed_bytes</th>\n",
       "      <th>history</th>\n",
       "      <th>orig_pkts</th>\n",
       "      <th>orig_ip_bytes</th>\n",
       "      <th>resp_pkts</th>\n",
       "      <th>resp_ip_bytes</th>\n",
       "      <th>label</th>\n",
       "      <th>anyo</th>\n",
       "      <th>mes</th>\n",
       "      <th>dia</th>\n",
       "      <th>hora</th>\n",
       "      <th>dia_semanal</th>\n",
       "    </tr>\n",
       "  </thead>\n",
       "  <tbody>\n",
       "    <tr>\n",
       "      <th>0</th>\n",
       "      <td>CUmrqr4svHuSXJy5z7</td>\n",
       "      <td>192.168.100.103</td>\n",
       "      <td>51,524</td>\n",
       "      <td>65.127.233.163</td>\n",
       "      <td>23</td>\n",
       "      <td>tcp</td>\n",
       "      <td>S0</td>\n",
       "      <td>0</td>\n",
       "      <td>S</td>\n",
       "      <td>3</td>\n",
       "      <td>180</td>\n",
       "      <td>0</td>\n",
       "      <td>0</td>\n",
       "      <td>Malicious</td>\n",
       "      <td>2018</td>\n",
       "      <td>5</td>\n",
       "      <td>9</td>\n",
       "      <td>15</td>\n",
       "      <td>2</td>\n",
       "    </tr>\n",
       "    <tr>\n",
       "      <th>1</th>\n",
       "      <td>CH98aB3s1kJeq6SFOc</td>\n",
       "      <td>192.168.100.103</td>\n",
       "      <td>56,305</td>\n",
       "      <td>63.150.16.171</td>\n",
       "      <td>23</td>\n",
       "      <td>tcp</td>\n",
       "      <td>S0</td>\n",
       "      <td>0</td>\n",
       "      <td>S</td>\n",
       "      <td>1</td>\n",
       "      <td>60</td>\n",
       "      <td>0</td>\n",
       "      <td>0</td>\n",
       "      <td>Malicious</td>\n",
       "      <td>2018</td>\n",
       "      <td>5</td>\n",
       "      <td>9</td>\n",
       "      <td>15</td>\n",
       "      <td>2</td>\n",
       "    </tr>\n",
       "    <tr>\n",
       "      <th>2</th>\n",
       "      <td>C3GBTkINvXNjVGtN5</td>\n",
       "      <td>192.168.100.103</td>\n",
       "      <td>41,101</td>\n",
       "      <td>111.40.23.49</td>\n",
       "      <td>23</td>\n",
       "      <td>tcp</td>\n",
       "      <td>S0</td>\n",
       "      <td>0</td>\n",
       "      <td>S</td>\n",
       "      <td>1</td>\n",
       "      <td>60</td>\n",
       "      <td>0</td>\n",
       "      <td>0</td>\n",
       "      <td>Malicious</td>\n",
       "      <td>2018</td>\n",
       "      <td>5</td>\n",
       "      <td>9</td>\n",
       "      <td>15</td>\n",
       "      <td>2</td>\n",
       "    </tr>\n",
       "    <tr>\n",
       "      <th>3</th>\n",
       "      <td>CDe43c1PtgynajGI6</td>\n",
       "      <td>192.168.100.103</td>\n",
       "      <td>60,905</td>\n",
       "      <td>131.174.215.147</td>\n",
       "      <td>23</td>\n",
       "      <td>tcp</td>\n",
       "      <td>S0</td>\n",
       "      <td>0</td>\n",
       "      <td>S</td>\n",
       "      <td>3</td>\n",
       "      <td>180</td>\n",
       "      <td>0</td>\n",
       "      <td>0</td>\n",
       "      <td>Malicious</td>\n",
       "      <td>2018</td>\n",
       "      <td>5</td>\n",
       "      <td>9</td>\n",
       "      <td>15</td>\n",
       "      <td>2</td>\n",
       "    </tr>\n",
       "    <tr>\n",
       "      <th>4</th>\n",
       "      <td>CJaDcG3MZzvf1YVYI4</td>\n",
       "      <td>192.168.100.103</td>\n",
       "      <td>44,301</td>\n",
       "      <td>91.42.47.63</td>\n",
       "      <td>23</td>\n",
       "      <td>tcp</td>\n",
       "      <td>S0</td>\n",
       "      <td>0</td>\n",
       "      <td>S</td>\n",
       "      <td>1</td>\n",
       "      <td>60</td>\n",
       "      <td>0</td>\n",
       "      <td>0</td>\n",
       "      <td>Malicious</td>\n",
       "      <td>2018</td>\n",
       "      <td>5</td>\n",
       "      <td>9</td>\n",
       "      <td>15</td>\n",
       "      <td>2</td>\n",
       "    </tr>\n",
       "    <tr>\n",
       "      <th>...</th>\n",
       "      <td>...</td>\n",
       "      <td>...</td>\n",
       "      <td>...</td>\n",
       "      <td>...</td>\n",
       "      <td>...</td>\n",
       "      <td>...</td>\n",
       "      <td>...</td>\n",
       "      <td>...</td>\n",
       "      <td>...</td>\n",
       "      <td>...</td>\n",
       "      <td>...</td>\n",
       "      <td>...</td>\n",
       "      <td>...</td>\n",
       "      <td>...</td>\n",
       "      <td>...</td>\n",
       "      <td>...</td>\n",
       "      <td>...</td>\n",
       "      <td>...</td>\n",
       "      <td>...</td>\n",
       "    </tr>\n",
       "    <tr>\n",
       "      <th>3581023</th>\n",
       "      <td>CyeWQ7K6jWDDbI4Kd</td>\n",
       "      <td>192.168.1.195</td>\n",
       "      <td>123</td>\n",
       "      <td>89.221.210.188</td>\n",
       "      <td>123</td>\n",
       "      <td>udp</td>\n",
       "      <td>SF</td>\n",
       "      <td>0</td>\n",
       "      <td>Dd</td>\n",
       "      <td>2</td>\n",
       "      <td>152</td>\n",
       "      <td>2</td>\n",
       "      <td>152</td>\n",
       "      <td>Benign</td>\n",
       "      <td>2019</td>\n",
       "      <td>9</td>\n",
       "      <td>21</td>\n",
       "      <td>0</td>\n",
       "      <td>5</td>\n",
       "    </tr>\n",
       "    <tr>\n",
       "      <th>3581024</th>\n",
       "      <td>CS9u9p3IiuKuTYfauc</td>\n",
       "      <td>192.168.1.195</td>\n",
       "      <td>37,306</td>\n",
       "      <td>102.165.48.81</td>\n",
       "      <td>17,769</td>\n",
       "      <td>tcp</td>\n",
       "      <td>S1</td>\n",
       "      <td>0</td>\n",
       "      <td>ShAdDaT</td>\n",
       "      <td>8,952</td>\n",
       "      <td>483,602</td>\n",
       "      <td>9,613</td>\n",
       "      <td>520,116</td>\n",
       "      <td>Malicious   C&amp;C</td>\n",
       "      <td>2019</td>\n",
       "      <td>9</td>\n",
       "      <td>20</td>\n",
       "      <td>1</td>\n",
       "      <td>4</td>\n",
       "    </tr>\n",
       "    <tr>\n",
       "      <th>3581025</th>\n",
       "      <td>ChLFLFZumxpFdFbV8</td>\n",
       "      <td>192.168.1.195</td>\n",
       "      <td>123</td>\n",
       "      <td>212.111.30.190</td>\n",
       "      <td>123</td>\n",
       "      <td>udp</td>\n",
       "      <td>SF</td>\n",
       "      <td>0</td>\n",
       "      <td>Dd</td>\n",
       "      <td>2</td>\n",
       "      <td>152</td>\n",
       "      <td>2</td>\n",
       "      <td>152</td>\n",
       "      <td>Benign</td>\n",
       "      <td>2019</td>\n",
       "      <td>9</td>\n",
       "      <td>21</td>\n",
       "      <td>0</td>\n",
       "      <td>5</td>\n",
       "    </tr>\n",
       "    <tr>\n",
       "      <th>3581026</th>\n",
       "      <td>CdOxuh15kV4eHJYKkb</td>\n",
       "      <td>192.168.1.195</td>\n",
       "      <td>123</td>\n",
       "      <td>5.1.56.123</td>\n",
       "      <td>123</td>\n",
       "      <td>udp</td>\n",
       "      <td>SF</td>\n",
       "      <td>0</td>\n",
       "      <td>Dd</td>\n",
       "      <td>2</td>\n",
       "      <td>152</td>\n",
       "      <td>2</td>\n",
       "      <td>152</td>\n",
       "      <td>Benign</td>\n",
       "      <td>2019</td>\n",
       "      <td>9</td>\n",
       "      <td>21</td>\n",
       "      <td>0</td>\n",
       "      <td>5</td>\n",
       "    </tr>\n",
       "    <tr>\n",
       "      <th>3581027</th>\n",
       "      <td>C7q9EgOTCtbdacBK3</td>\n",
       "      <td>192.168.1.195</td>\n",
       "      <td>123</td>\n",
       "      <td>81.2.254.32</td>\n",
       "      <td>123</td>\n",
       "      <td>udp</td>\n",
       "      <td>SF</td>\n",
       "      <td>0</td>\n",
       "      <td>Dd</td>\n",
       "      <td>2</td>\n",
       "      <td>152</td>\n",
       "      <td>2</td>\n",
       "      <td>152</td>\n",
       "      <td>Benign</td>\n",
       "      <td>2019</td>\n",
       "      <td>9</td>\n",
       "      <td>21</td>\n",
       "      <td>0</td>\n",
       "      <td>5</td>\n",
       "    </tr>\n",
       "  </tbody>\n",
       "</table>\n",
       "<p>25011003 rows × 19 columns</p>\n",
       "</div>"
      ],
      "text/plain": [
       "                        uid        id.orig_h  id.orig_p        id.resp_h  \\\n",
       "0        CUmrqr4svHuSXJy5z7  192.168.100.103     51,524   65.127.233.163   \n",
       "1        CH98aB3s1kJeq6SFOc  192.168.100.103     56,305    63.150.16.171   \n",
       "2         C3GBTkINvXNjVGtN5  192.168.100.103     41,101     111.40.23.49   \n",
       "3         CDe43c1PtgynajGI6  192.168.100.103     60,905  131.174.215.147   \n",
       "4        CJaDcG3MZzvf1YVYI4  192.168.100.103     44,301      91.42.47.63   \n",
       "...                     ...              ...        ...              ...   \n",
       "3581023   CyeWQ7K6jWDDbI4Kd    192.168.1.195        123   89.221.210.188   \n",
       "3581024  CS9u9p3IiuKuTYfauc    192.168.1.195     37,306    102.165.48.81   \n",
       "3581025   ChLFLFZumxpFdFbV8    192.168.1.195        123   212.111.30.190   \n",
       "3581026  CdOxuh15kV4eHJYKkb    192.168.1.195        123       5.1.56.123   \n",
       "3581027   C7q9EgOTCtbdacBK3    192.168.1.195        123      81.2.254.32   \n",
       "\n",
       "         id.resp_p proto conn_state  missed_bytes  history  orig_pkts  \\\n",
       "0               23   tcp         S0             0        S          3   \n",
       "1               23   tcp         S0             0        S          1   \n",
       "2               23   tcp         S0             0        S          1   \n",
       "3               23   tcp         S0             0        S          3   \n",
       "4               23   tcp         S0             0        S          1   \n",
       "...            ...   ...        ...           ...      ...        ...   \n",
       "3581023        123   udp         SF             0       Dd          2   \n",
       "3581024     17,769   tcp         S1             0  ShAdDaT      8,952   \n",
       "3581025        123   udp         SF             0       Dd          2   \n",
       "3581026        123   udp         SF             0       Dd          2   \n",
       "3581027        123   udp         SF             0       Dd          2   \n",
       "\n",
       "         orig_ip_bytes  resp_pkts  resp_ip_bytes            label  anyo  mes  \\\n",
       "0                  180          0              0        Malicious  2018    5   \n",
       "1                   60          0              0        Malicious  2018    5   \n",
       "2                   60          0              0        Malicious  2018    5   \n",
       "3                  180          0              0        Malicious  2018    5   \n",
       "4                   60          0              0        Malicious  2018    5   \n",
       "...                ...        ...            ...              ...   ...  ...   \n",
       "3581023            152          2            152           Benign  2019    9   \n",
       "3581024        483,602      9,613        520,116  Malicious   C&C  2019    9   \n",
       "3581025            152          2            152           Benign  2019    9   \n",
       "3581026            152          2            152           Benign  2019    9   \n",
       "3581027            152          2            152           Benign  2019    9   \n",
       "\n",
       "         dia  hora  dia_semanal  \n",
       "0          9    15            2  \n",
       "1          9    15            2  \n",
       "2          9    15            2  \n",
       "3          9    15            2  \n",
       "4          9    15            2  \n",
       "...      ...   ...          ...  \n",
       "3581023   21     0            5  \n",
       "3581024   20     1            4  \n",
       "3581025   21     0            5  \n",
       "3581026   21     0            5  \n",
       "3581027   21     0            5  \n",
       "\n",
       "[25011003 rows x 19 columns]"
      ]
     },
     "execution_count": 30,
     "metadata": {},
     "output_type": "execute_result"
    }
   ],
   "source": [
    "df_malware"
   ]
  },
  {
   "cell_type": "code",
   "execution_count": 29,
   "metadata": {},
   "outputs": [],
   "source": [
    "#me cargo  la columna ts\n",
    "df_malware.drop(columns={\"ts\"}, inplace=True)"
   ]
  },
  {
   "cell_type": "markdown",
   "metadata": {},
   "source": [
    "CONTINUA EN EL NOTEBOOK 1.1"
   ]
  }
 ],
 "metadata": {
  "kernelspec": {
   "display_name": "Python 3",
   "language": "python",
   "name": "python3"
  },
  "language_info": {
   "codemirror_mode": {
    "name": "ipython",
    "version": 3
   },
   "file_extension": ".py",
   "mimetype": "text/x-python",
   "name": "python",
   "nbconvert_exporter": "python",
   "pygments_lexer": "ipython3",
   "version": "3.7.16"
  }
 },
 "nbformat": 4,
 "nbformat_minor": 2
}

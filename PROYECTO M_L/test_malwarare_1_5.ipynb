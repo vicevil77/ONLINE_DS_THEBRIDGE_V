import unittest
import os
import numpy as np
import dask.dataframe as dd
from cuml.decomposition import PCA
from cuml.model_selection import train_test_split
import cupy as cp

class TestCode(unittest.TestCase):
    def setUp(self):
        # Set up the test data
        self.file_path = "/d:/Cursos/REPOSITORIOS/DS_Online_Oct23/test_pull.txt"
        self.df = dd.from_pandas(pd.DataFrame({'A': [1, 2, 3], 'B': [4, 5, 6]}), npartitions=1)
        self.X = cp.asarray([[1, 2], [3, 4], [5, 6]])
        self.Y = cp.asarray([0, 1, 0])
        self.X_train = cp.asarray([[1, 2], [3, 4]])
        self.X_test = cp.asarray([[5, 6]])
        self.y_train = cp.asarray([0, 1])
        self.y_test = cp.asarray([0])
        
    def test_pca_batch(self):
        # Test the pca_batch function
        batch = cp.asarray([[1, 2], [3, 4], [5, 6]])
        result = pca_batch(batch, n_components=2, random_state=0)
        expected_result = cp.asarray([[-2.82842712, 0], [0, 0], [2.82842712, 0]])
        cp.testing.assert_array_almost_equal(result, expected_result)
        
    def test_train_test_split(self):
        # Test the train_test_split function
        X_train, X_test, y_train, y_test = train_test_split(self.X, self.Y, test_size=0.2, random_state=42)
        cp.testing.assert_array_almost_equal(X_train, self.X_train)
        cp.testing.assert_array_almost_equal(X_test, self.X_test)
        cp.testing.assert_array_almost_equal(y_train, self.y_train)
        cp.testing.assert_array_almost_equal(y_test, self.y_test)
        
    def test_save_data(self):
        # Test saving the DataFrames and arrays
        df = dd.from_pandas(pd.DataFrame({'A': [1, 2, 3], 'B': [4, 5, 6]}), npartitions=1)
        df.to_csv("test_df.csv", single_file=True)
        np.savez("test_variables.npz", X=self.X, y=self.Y, X_train=self.X_train, X_test=self.X_test, y_train=self.y_train, y_test=self.y_test)
        
        self.assertTrue(os.path.exists("test_df.csv"))
        self.assertTrue(os.path.exists("test_variables.npz"))
        
        os.remove("test_df.csv")
        os.remove("test_variables.npz")
        
    def tearDown(self):
        # Clean up the test data
        self.df = None
        self.X = None
        self.Y = None
        self.X_train = None
        self.X_test = None
        self.y_train = None
        self.y_test = None
        
if __name__ == '__main__':
    unittest.main()
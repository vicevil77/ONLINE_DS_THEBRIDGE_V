{
 "cells": [
  {
   "cell_type": "code",
   "execution_count": 11,
   "metadata": {},
   "outputs": [],
   "source": [
    "# Importamos las librerías necesarias\n",
    "import re\n",
    "\n",
    "# Función para buscar \"np.object\" en una celda\n",
    "def buscar_np_object(celda):\n",
    "  # Buscamos la cadena \"np.object\" usando expresiones regulares\n",
    "  resultados = re.findall(r\"(np\\.object)\", celda)\n",
    "  # Si se encontraron resultados, los imprimimos\n",
    "  if resultados:\n",
    "    print(f\"Celda {celda.cell_type}: {resultados}\")\n",
    "\n",
    "# Abrimos el archivo Jupyter Notebook\n",
    "with open(\"malware_1_2.ipynb\", \"r\") as archivo:\n",
    "  # Leemos el contenido del archivo\n",
    "  lineas = archivo.readlines()\n",
    "\n",
    "  # Recorremos cada línea del archivo\n",
    "  for linea in lineas:\n",
    "    # Buscamos la celda actual\n",
    "    if linea.startswith(\"cell_type\"):\n",
    "      # Obtenemos el tipo de celda\n",
    "      tipo_celda = linea.split(\":\")[1].strip()\n",
    "      # Si es una celda de código, la analizamos\n",
    "      if tipo_celda == \"code\":\n",
    "        # Obtenemos el contenido de la celda\n",
    "        contenido_celda = lineas[lineas.index(linea) + 1].strip()\n",
    "        # Buscamos \"np.object\" en la celda\n",
    "        buscar_np_object(contenido_celda)\n",
    "        buscar_np_object(get_ipython().get_selected_cell())\n"
   ]
  },
  {
   "cell_type": "code",
   "execution_count": 13,
   "metadata": {},
   "outputs": [],
   "source": [
    "def buscar_np_object_en_todas_las_celdas():\n",
    "  \"\"\"\n",
    "  Esta función busca \"np.object\" en todas las celdas del notebook.\n",
    "  \"\"\"\n",
    "  for celda in get_ipython().get_cells():\n",
    "    if celda.cell_type == \"code\":\n",
    "      buscar_np_object(celda)\n",
    "\n"
   ]
  },
  {
   "cell_type": "code",
   "execution_count": 16,
   "metadata": {},
   "outputs": [
    {
     "ename": "AttributeError",
     "evalue": "'ZMQInteractiveShell' object has no attribute 'get_cells'",
     "output_type": "error",
     "traceback": [
      "\u001b[1;31m---------------------------------------------------------------------------\u001b[0m",
      "\u001b[1;31mAttributeError\u001b[0m                            Traceback (most recent call last)",
      "Cell \u001b[1;32mIn[16], line 1\u001b[0m\n\u001b[1;32m----> 1\u001b[0m \u001b[43mbuscar_np_object_en_todas_las_celdas\u001b[49m\u001b[43m(\u001b[49m\u001b[43m)\u001b[49m\n",
      "Cell \u001b[1;32mIn[13], line 5\u001b[0m, in \u001b[0;36mbuscar_np_object_en_todas_las_celdas\u001b[1;34m()\u001b[0m\n\u001b[0;32m      1\u001b[0m \u001b[38;5;28;01mdef\u001b[39;00m \u001b[38;5;21mbuscar_np_object_en_todas_las_celdas\u001b[39m():\n\u001b[0;32m      2\u001b[0m \u001b[38;5;250m  \u001b[39m\u001b[38;5;124;03m\"\"\"\u001b[39;00m\n\u001b[0;32m      3\u001b[0m \u001b[38;5;124;03m  Esta función busca \"np.object\" en todas las celdas del notebook.\u001b[39;00m\n\u001b[0;32m      4\u001b[0m \u001b[38;5;124;03m  \"\"\"\u001b[39;00m\n\u001b[1;32m----> 5\u001b[0m   \u001b[38;5;28;01mfor\u001b[39;00m celda \u001b[38;5;129;01min\u001b[39;00m \u001b[43mget_ipython\u001b[49m\u001b[43m(\u001b[49m\u001b[43m)\u001b[49m\u001b[38;5;241;43m.\u001b[39;49m\u001b[43mget_cells\u001b[49m():\n\u001b[0;32m      6\u001b[0m     \u001b[38;5;28;01mif\u001b[39;00m celda\u001b[38;5;241m.\u001b[39mcell_type \u001b[38;5;241m==\u001b[39m \u001b[38;5;124m\"\u001b[39m\u001b[38;5;124mcode\u001b[39m\u001b[38;5;124m\"\u001b[39m:\n\u001b[0;32m      7\u001b[0m       buscar_np_object(celda)\n",
      "\u001b[1;31mAttributeError\u001b[0m: 'ZMQInteractiveShell' object has no attribute 'get_cells'"
     ]
    }
   ],
   "source": [
    "buscar_np_object_en_todas_las_celdas()"
   ]
  }
 ],
 "metadata": {
  "kernelspec": {
   "display_name": "tf-gpu",
   "language": "python",
   "name": "python3"
  },
  "language_info": {
   "codemirror_mode": {
    "name": "ipython",
    "version": 3
   },
   "file_extension": ".py",
   "mimetype": "text/x-python",
   "name": "python",
   "nbconvert_exporter": "python",
   "pygments_lexer": "ipython3",
   "version": "3.9.15"
  }
 },
 "nbformat": 4,
 "nbformat_minor": 2
}

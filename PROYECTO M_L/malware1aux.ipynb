{
 "cells": [
  {
   "cell_type": "code",
   "execution_count": 1,
   "metadata": {},
   "outputs": [],
   "source": [
    "import numpy as np\n",
    "import pandas as pd\n",
    "import matplotlib.pyplot as plt\n",
    "import seaborn as sns\n",
    "from funciones_ML import *\n",
    "from sklearn.model_selection import train_test_split, GridSearchCV, RandomizedSearchCV\n",
    "from sklearn.preprocessing import StandardScaler, OneHotEncoder, MinMaxScaler\n",
    "from sklearn.metrics import accuracy_score, ConfusionMatrixDisplay,classification_report,r2_score,RocCurveDisplay\n",
    "from sklearn.linear_model import LogisticRegression, LinearRegression, Ridge, Lasso, ElasticNet, SGDRegressor, SGDClassifier, RidgeClassifier\n",
    "from sklearn.tree import DecisionTreeClassifier, DecisionTreeRegressor\n",
    "from sklearn.ensemble import RandomForestClassifier, RandomForestRegressor, GradientBoostingClassifier, GradientBoostingRegressor\n",
    "from sklearn.svm import SVC, SVR\n",
    "import catboost\n",
    "import xgboost\n",
    "import lightgbm \n",
    "\n",
    "# Configurar pandas para mostrar todas las filas y columnas\n",
    "#pd.set_option('display.max_rows', None)\n",
    "#pd.set_option('display.max_columns', None)\n",
    "#pd.set_option('display.width', None)\n",
    "pd.set_option('display.max_colwidth', None)\n",
    "\n",
    "\n",
    "# Código para los tamaños de las fuentes y los \"ticks\" de los ejes:\n",
    "plt.rc('font', size=6)\n",
    "plt.rc('axes', labelsize=10, titlesize=10)\n",
    "plt.rc('legend', fontsize=10)\n",
    "plt.rc('xtick', labelsize=10)\n",
    "plt.rc('ytick', labelsize=10)"
   ]
  },
  {
   "cell_type": "code",
   "execution_count": 2,
   "metadata": {},
   "outputs": [],
   "source": [
    "df_malware1=pd.read_csv(r\"D:\\Cursos\\REPOSITORIOS\\DATASET\\malare_cleaned_data.csv\")"
   ]
  },
  {
   "cell_type": "code",
   "execution_count": 3,
   "metadata": {},
   "outputs": [
    {
     "data": {
      "text/html": [
       "<div>\n",
       "<style scoped>\n",
       "    .dataframe tbody tr th:only-of-type {\n",
       "        vertical-align: middle;\n",
       "    }\n",
       "\n",
       "    .dataframe tbody tr th {\n",
       "        vertical-align: top;\n",
       "    }\n",
       "\n",
       "    .dataframe thead th {\n",
       "        text-align: right;\n",
       "    }\n",
       "</style>\n",
       "<table border=\"1\" class=\"dataframe\">\n",
       "  <thead>\n",
       "    <tr style=\"text-align: right;\">\n",
       "      <th></th>\n",
       "      <th>sha256_hash</th>\n",
       "      <th>md5_hash</th>\n",
       "      <th>sha1_hash</th>\n",
       "      <th>file_type_guess</th>\n",
       "      <th>ssdeep</th>\n",
       "      <th>tlsh</th>\n",
       "    </tr>\n",
       "  </thead>\n",
       "  <tbody>\n",
       "    <tr>\n",
       "      <th>0</th>\n",
       "      <td>\"b5dcc2afbb23c01f3c082fb3059c3f097da37cecd6ee8c5b2716ddf87f422c34\"</td>\n",
       "      <td>\"08abd92eacb17bda4b11f8a03b02c656\"</td>\n",
       "      <td>\"db972d5222c0c5a3d2c5b8c4b86ac73339f44f75\"</td>\n",
       "      <td>\"exe\"</td>\n",
       "      <td>\"393216:Obdpkr2dY/aBcjJOBHOBIQBajMtWvoJiLE1+XgRKz89G/4ZSb0Funwh6DsN2PIpk:Obdpkr2dY/aBcjJOBHOBIQBajMtWvoJE\"</td>\n",
       "      <td>\"T183E6CF03EFD1BD0ADBA6053A7D63973702B3E6267B82EF0717BC1528BD513742919286\"</td>\n",
       "    </tr>\n",
       "    <tr>\n",
       "      <th>1</th>\n",
       "      <td>\"4f52c297f4b2e96ddc373f89e22ac6c39a182262513c8c658de1f6024ab8177f\"</td>\n",
       "      <td>\"729330c9cf53d1deb17aa6e15f541dc9\"</td>\n",
       "      <td>\"ce3e98e038cb15edfbf197602c96b0c735be2532\"</td>\n",
       "      <td>\"exe\"</td>\n",
       "      <td>\"49152:xJ2jbmSIjuT2XF6c/YVYjSx9UuQFL8NV8Z:xsYuT+HYKE9/Qs\"</td>\n",
       "      <td>\"T1209522F2B6F8559CD0D243F14B71A22453E89ED6CF418EEAC4E7948BB7876C0AB16017\"</td>\n",
       "    </tr>\n",
       "    <tr>\n",
       "      <th>2</th>\n",
       "      <td>\"4a1490582955cad7f89e817c5cc7da33b34b2668e18007ec17c2c731ef69bd66\"</td>\n",
       "      <td>\"a49454c15377c03fbf3bdcbdae7229b6\"</td>\n",
       "      <td>\"d9ee60c423382a5690b6e7b890fc73f9ac7a69c1\"</td>\n",
       "      <td>\"exe\"</td>\n",
       "      <td>\"49152:7ljg42qPcvCUeglrFuVh8wmR3CGAo5U59Ur1vT4o/Kr:75g4bUvxZmh8wTjo5+ir1vT4IKr\"</td>\n",
       "      <td>\"T1629523F977FA065CC8D043F047B1AA2402E14ED6DF535ED2E9EB5B5AB34B9C02A10A17\"</td>\n",
       "    </tr>\n",
       "    <tr>\n",
       "      <th>3</th>\n",
       "      <td>\"ea6ff4787dc048c1568725aacb3e0e87c1e6a4d921e8194393920c2c0d937422\"</td>\n",
       "      <td>\"5a56ed15402941ec11c3fd3b278d23bd\"</td>\n",
       "      <td>\"b90bb4da40f68199fc29338db01011af4784dfcf\"</td>\n",
       "      <td>\"exe\"</td>\n",
       "      <td>\"49152:OwNy5m3Yesi7KQubt2b92w35cN7zjv5IJpsvZ/YkLvnKEbmFDeWyRAc/bv1RsIK7:zyQYfKJz2Z/Y2KEbmMVRAcQkvu\"</td>\n",
       "      <td>\"T146566B97BC9041E5C0AE933589A652527B307C480F3463D73A24FE293F76BE4AE7A744\"</td>\n",
       "    </tr>\n",
       "    <tr>\n",
       "      <th>4</th>\n",
       "      <td>\"a15b486b25910edd7150f977e8112e4d78315091250d63c838cfc3e995f711a7\"</td>\n",
       "      <td>\"ef5758b60765cfccc4aee5fbb792a00d\"</td>\n",
       "      <td>\"b9632fff537ebde451a3bbe397b58d3c6c70c473\"</td>\n",
       "      <td>\"exe\"</td>\n",
       "      <td>\"49152:urXLj821AiKGoYo87pqlL+UdDpZWsZuHrV10D2iK:oXP821OGoJgkL+UdDWZrG23\"</td>\n",
       "      <td>\"T1359522F636F8548ED5E18BF48B76862402D25CD5CF214FCAD8EB68263B675C08F66207\"</td>\n",
       "    </tr>\n",
       "  </tbody>\n",
       "</table>\n",
       "</div>"
      ],
      "text/plain": [
       "                                                           sha256_hash  \\\n",
       "0   \"b5dcc2afbb23c01f3c082fb3059c3f097da37cecd6ee8c5b2716ddf87f422c34\"   \n",
       "1   \"4f52c297f4b2e96ddc373f89e22ac6c39a182262513c8c658de1f6024ab8177f\"   \n",
       "2   \"4a1490582955cad7f89e817c5cc7da33b34b2668e18007ec17c2c731ef69bd66\"   \n",
       "3   \"ea6ff4787dc048c1568725aacb3e0e87c1e6a4d921e8194393920c2c0d937422\"   \n",
       "4   \"a15b486b25910edd7150f977e8112e4d78315091250d63c838cfc3e995f711a7\"   \n",
       "\n",
       "                              md5_hash  \\\n",
       "0   \"08abd92eacb17bda4b11f8a03b02c656\"   \n",
       "1   \"729330c9cf53d1deb17aa6e15f541dc9\"   \n",
       "2   \"a49454c15377c03fbf3bdcbdae7229b6\"   \n",
       "3   \"5a56ed15402941ec11c3fd3b278d23bd\"   \n",
       "4   \"ef5758b60765cfccc4aee5fbb792a00d\"   \n",
       "\n",
       "                                     sha1_hash file_type_guess  \\\n",
       "0   \"db972d5222c0c5a3d2c5b8c4b86ac73339f44f75\"           \"exe\"   \n",
       "1   \"ce3e98e038cb15edfbf197602c96b0c735be2532\"           \"exe\"   \n",
       "2   \"d9ee60c423382a5690b6e7b890fc73f9ac7a69c1\"           \"exe\"   \n",
       "3   \"b90bb4da40f68199fc29338db01011af4784dfcf\"           \"exe\"   \n",
       "4   \"b9632fff537ebde451a3bbe397b58d3c6c70c473\"           \"exe\"   \n",
       "\n",
       "                                                                                                        ssdeep  \\\n",
       "0   \"393216:Obdpkr2dY/aBcjJOBHOBIQBajMtWvoJiLE1+XgRKz89G/4ZSb0Funwh6DsN2PIpk:Obdpkr2dY/aBcjJOBHOBIQBajMtWvoJE\"   \n",
       "1                                                    \"49152:xJ2jbmSIjuT2XF6c/YVYjSx9UuQFL8NV8Z:xsYuT+HYKE9/Qs\"   \n",
       "2                              \"49152:7ljg42qPcvCUeglrFuVh8wmR3CGAo5U59Ur1vT4o/Kr:75g4bUvxZmh8wTjo5+ir1vT4IKr\"   \n",
       "3          \"49152:OwNy5m3Yesi7KQubt2b92w35cN7zjv5IJpsvZ/YkLvnKEbmFDeWyRAc/bv1RsIK7:zyQYfKJz2Z/Y2KEbmMVRAcQkvu\"   \n",
       "4                                     \"49152:urXLj821AiKGoYo87pqlL+UdDpZWsZuHrV10D2iK:oXP821OGoJgkL+UdDWZrG23\"   \n",
       "\n",
       "                                                                          tlsh  \n",
       "0   \"T183E6CF03EFD1BD0ADBA6053A7D63973702B3E6267B82EF0717BC1528BD513742919286\"  \n",
       "1   \"T1209522F2B6F8559CD0D243F14B71A22453E89ED6CF418EEAC4E7948BB7876C0AB16017\"  \n",
       "2   \"T1629523F977FA065CC8D043F047B1AA2402E14ED6DF535ED2E9EB5B5AB34B9C02A10A17\"  \n",
       "3   \"T146566B97BC9041E5C0AE933589A652527B307C480F3463D73A24FE293F76BE4AE7A744\"  \n",
       "4   \"T1359522F636F8548ED5E18BF48B76862402D25CD5CF214FCAD8EB68263B675C08F66207\"  "
      ]
     },
     "execution_count": 3,
     "metadata": {},
     "output_type": "execute_result"
    }
   ],
   "source": [
    "df_malware1.head()"
   ]
  },
  {
   "cell_type": "code",
   "execution_count": 4,
   "metadata": {},
   "outputs": [
    {
     "data": {
      "text/html": [
       "<div>\n",
       "<style scoped>\n",
       "    .dataframe tbody tr th:only-of-type {\n",
       "        vertical-align: middle;\n",
       "    }\n",
       "\n",
       "    .dataframe tbody tr th {\n",
       "        vertical-align: top;\n",
       "    }\n",
       "\n",
       "    .dataframe thead th {\n",
       "        text-align: right;\n",
       "    }\n",
       "</style>\n",
       "<table border=\"1\" class=\"dataframe\">\n",
       "  <thead>\n",
       "    <tr style=\"text-align: right;\">\n",
       "      <th></th>\n",
       "      <th>porcentaje_cardinalidad</th>\n",
       "      <th>Tipo</th>\n",
       "      <th>media</th>\n",
       "      <th>moda</th>\n",
       "      <th>std</th>\n",
       "      <th>var</th>\n",
       "      <th>Q1</th>\n",
       "      <th>mediana</th>\n",
       "      <th>Q3</th>\n",
       "      <th>Categoria</th>\n",
       "      <th>porcentaje_NaN</th>\n",
       "    </tr>\n",
       "  </thead>\n",
       "  <tbody>\n",
       "    <tr>\n",
       "      <th>sha256_hash</th>\n",
       "      <td>100.0</td>\n",
       "      <td>object</td>\n",
       "      <td>No</td>\n",
       "      <td>\"00000077553a5b27a610ac98f29563bbd6e0decc020c2d49e4fa0d89197e7fd8\"</td>\n",
       "      <td>No</td>\n",
       "      <td>No</td>\n",
       "      <td>No</td>\n",
       "      <td>No</td>\n",
       "      <td>No</td>\n",
       "      <td>categorica ordinal</td>\n",
       "      <td>0.0</td>\n",
       "    </tr>\n",
       "    <tr>\n",
       "      <th>md5_hash</th>\n",
       "      <td>100.0</td>\n",
       "      <td>object</td>\n",
       "      <td>No</td>\n",
       "      <td>\"00001a52644212e414ab06e74b6b3316\"</td>\n",
       "      <td>No</td>\n",
       "      <td>No</td>\n",
       "      <td>No</td>\n",
       "      <td>No</td>\n",
       "      <td>No</td>\n",
       "      <td>categorica ordinal</td>\n",
       "      <td>0.0</td>\n",
       "    </tr>\n",
       "    <tr>\n",
       "      <th>sha1_hash</th>\n",
       "      <td>100.0</td>\n",
       "      <td>object</td>\n",
       "      <td>No</td>\n",
       "      <td>\"000018910f4d75657e2288ec26a830321cc9401c\"</td>\n",
       "      <td>No</td>\n",
       "      <td>No</td>\n",
       "      <td>No</td>\n",
       "      <td>No</td>\n",
       "      <td>No</td>\n",
       "      <td>categorica ordinal</td>\n",
       "      <td>0.0</td>\n",
       "    </tr>\n",
       "    <tr>\n",
       "      <th>file_type_guess</th>\n",
       "      <td>0.27</td>\n",
       "      <td>object</td>\n",
       "      <td>No</td>\n",
       "      <td>\"exe\"</td>\n",
       "      <td>No</td>\n",
       "      <td>No</td>\n",
       "      <td>No</td>\n",
       "      <td>No</td>\n",
       "      <td>No</td>\n",
       "      <td>categorica ordinal</td>\n",
       "      <td>0.0</td>\n",
       "    </tr>\n",
       "    <tr>\n",
       "      <th>ssdeep</th>\n",
       "      <td>83.4</td>\n",
       "      <td>object</td>\n",
       "      <td>No</td>\n",
       "      <td>\"n/a\"</td>\n",
       "      <td>No</td>\n",
       "      <td>No</td>\n",
       "      <td>No</td>\n",
       "      <td>No</td>\n",
       "      <td>No</td>\n",
       "      <td>categorica ordinal</td>\n",
       "      <td>0.0</td>\n",
       "    </tr>\n",
       "    <tr>\n",
       "      <th>tlsh</th>\n",
       "      <td>88.71</td>\n",
       "      <td>object</td>\n",
       "      <td>No</td>\n",
       "      <td>\"n/a\"</td>\n",
       "      <td>No</td>\n",
       "      <td>No</td>\n",
       "      <td>No</td>\n",
       "      <td>No</td>\n",
       "      <td>No</td>\n",
       "      <td>categorica ordinal</td>\n",
       "      <td>0.0</td>\n",
       "    </tr>\n",
       "  </tbody>\n",
       "</table>\n",
       "</div>"
      ],
      "text/plain": [
       "                porcentaje_cardinalidad    Tipo media  \\\n",
       "sha256_hash                       100.0  object    No   \n",
       "md5_hash                          100.0  object    No   \n",
       "sha1_hash                         100.0  object    No   \n",
       "file_type_guess                    0.27  object    No   \n",
       "ssdeep                             83.4  object    No   \n",
       "tlsh                              88.71  object    No   \n",
       "\n",
       "                                                                                moda  \\\n",
       "sha256_hash       \"00000077553a5b27a610ac98f29563bbd6e0decc020c2d49e4fa0d89197e7fd8\"   \n",
       "md5_hash                                          \"00001a52644212e414ab06e74b6b3316\"   \n",
       "sha1_hash                                 \"000018910f4d75657e2288ec26a830321cc9401c\"   \n",
       "file_type_guess                                                                \"exe\"   \n",
       "ssdeep                                                                         \"n/a\"   \n",
       "tlsh                                                                           \"n/a\"   \n",
       "\n",
       "                std var  Q1 mediana  Q3           Categoria porcentaje_NaN  \n",
       "sha256_hash      No  No  No      No  No  categorica ordinal            0.0  \n",
       "md5_hash         No  No  No      No  No  categorica ordinal            0.0  \n",
       "sha1_hash        No  No  No      No  No  categorica ordinal            0.0  \n",
       "file_type_guess  No  No  No      No  No  categorica ordinal            0.0  \n",
       "ssdeep           No  No  No      No  No  categorica ordinal            0.0  \n",
       "tlsh             No  No  No      No  No  categorica ordinal            0.0  "
      ]
     },
     "execution_count": 4,
     "metadata": {},
     "output_type": "execute_result"
    }
   ],
   "source": [
    "obtener_estadisticas(df_malware1)"
   ]
  },
  {
   "cell_type": "code",
   "execution_count": 8,
   "metadata": {},
   "outputs": [
    {
     "data": {
      "text/plain": [
       "array([' \"b5dcc2afbb23c01f3c082fb3059c3f097da37cecd6ee8c5b2716ddf87f422c34\"',\n",
       "       ' \"4f52c297f4b2e96ddc373f89e22ac6c39a182262513c8c658de1f6024ab8177f\"',\n",
       "       ' \"4a1490582955cad7f89e817c5cc7da33b34b2668e18007ec17c2c731ef69bd66\"',\n",
       "       ...,\n",
       "       ' \"404eb5e6409dfd96960102994fb93de50c7d141b305eaf192dcaa9934307c0e2\"',\n",
       "       ' \"fd51463bd534577173d121227c116d4c5d25fbbe497e762cf4acd497a4f9784d\"',\n",
       "       ' \"094fd325049b8a9cf6d3e5ef2a6d4cc6a567d7d49c35f8bb8dd9e3c6acf3d78d\"'],\n",
       "      dtype=object)"
      ]
     },
     "execution_count": 8,
     "metadata": {},
     "output_type": "execute_result"
    }
   ],
   "source": [
    "df_malware1.sha256_hash.unique()# todos son valores unicos"
   ]
  },
  {
   "cell_type": "code",
   "execution_count": 9,
   "metadata": {},
   "outputs": [
    {
     "data": {
      "text/plain": [
       "745294"
      ]
     },
     "execution_count": 9,
     "metadata": {},
     "output_type": "execute_result"
    }
   ],
   "source": []
  },
  {
   "cell_type": "code",
   "execution_count": 6,
   "metadata": {},
   "outputs": [
    {
     "data": {
      "text/plain": [
       "sha256_hash\n",
       "\"b5dcc2afbb23c01f3c082fb3059c3f097da37cecd6ee8c5b2716ddf87f422c34\"    0.000134\n",
       "\"2cda176ce221ab580e6d9bbebc4333fa2156c33c9d4e3666c38eba656e13ef6b\"    0.000134\n",
       "\"debe2f7e0f2e18dff0c54f3809c66256f5741b5cf9e13e065593c005db9c22de\"    0.000134\n",
       "\"1de5b6278cd9a0eec06fb4dbdf282aabf530f6ad2150022c061a103df4d44495\"    0.000134\n",
       "\"91941aae141a39edd148e57a59fb42f041945b9ce76c4c6679a2ddf322815301\"    0.000134\n",
       "                                                                        ...   \n",
       "\"c529ab72479cafe6645b71c4cdf115ff759ede36fb34257f9eac7bd38802f5b0\"    0.000134\n",
       "\"9e987b9fa7c3c401eb97441fdcc761f168bac583a889fd1f83e6aef4be948adb\"    0.000134\n",
       "\"33efd821e2484eda83e99247859286a78c16be9deea18bc1e563ad91cb789ea5\"    0.000134\n",
       "\"8b468d53afe4e28b0914cbda68882e1720730c870bd587b90fa78ffc056eda89\"    0.000134\n",
       "\"094fd325049b8a9cf6d3e5ef2a6d4cc6a567d7d49c35f8bb8dd9e3c6acf3d78d\"    0.000134\n",
       "Name: count, Length: 745294, dtype: float64"
      ]
     },
     "execution_count": 6,
     "metadata": {},
     "output_type": "execute_result"
    }
   ],
   "source": [
    "df_malware1.sha256_hash.value_counts()/len(df_malware1)*100"
   ]
  },
  {
   "cell_type": "code",
   "execution_count": 7,
   "metadata": {},
   "outputs": [
    {
     "data": {
      "text/plain": [
       "sha1_hash\n",
       "\"db972d5222c0c5a3d2c5b8c4b86ac73339f44f75\"    0.000134\n",
       "\"b344d170ff873c945ed029a8e0ffe05d72efa337\"    0.000134\n",
       "\"ed51af5c0e7274da469c8c786fd4f5b63211011e\"    0.000134\n",
       "\"0a3852f71fb45699160d13fb3348063206d6da51\"    0.000134\n",
       "\"3e96afd7f23b6f87896dd7f0841ae9f0afff55aa\"    0.000134\n",
       "                                                ...   \n",
       "\"fab03de62b245751a84c788b0dc4d38ff3ebd0ea\"    0.000134\n",
       "\"7f61c5e410354bf0fa4c90c09e98d17b98654375\"    0.000134\n",
       "\"ea665edb2f4bcc0c630a09f00299b2f034be1127\"    0.000134\n",
       "\"2d7b73815157a98113f9ab7e100baf23865a81a3\"    0.000134\n",
       "\"4b1fc10818dd534922feef4d521eb3574337e3c0\"    0.000134\n",
       "Name: count, Length: 745294, dtype: float64"
      ]
     },
     "execution_count": 7,
     "metadata": {},
     "output_type": "execute_result"
    }
   ],
   "source": [
    "df_malware1.sha1_hash.value_counts()/len(df_malware1)*100"
   ]
  },
  {
   "cell_type": "code",
   "execution_count": 11,
   "metadata": {},
   "outputs": [
    {
     "data": {
      "text/plain": [
       "md5_hash\n",
       "\"08abd92eacb17bda4b11f8a03b02c656\"    0.000134\n",
       "\"5db95b04df766972edbf3af11dd1d461\"    0.000134\n",
       "\"35442ba9c11b53e1d1f249d31dcd2794\"    0.000134\n",
       "\"19d7388df847e897e3453ee45a845459\"    0.000134\n",
       "\"439fe7971d8f3d8b8f7738044ac49fb2\"    0.000134\n",
       "                                        ...   \n",
       "\"ee3c6a9adabf66692fbe317427857de1\"    0.000134\n",
       "\"fc026935ebba5274b1b8d9cdc2d0d69c\"    0.000134\n",
       "\"bef8327c64ee14576b2f9a800d74b5a6\"    0.000134\n",
       "\"bf8a3bc3b709b9fd3f80f2127960d24e\"    0.000134\n",
       "\"2f6432c5af8d10b04caed90d410ec7ad\"    0.000134\n",
       "Name: count, Length: 745294, dtype: float64"
      ]
     },
     "execution_count": 11,
     "metadata": {},
     "output_type": "execute_result"
    }
   ],
   "source": [
    "df_malware1.md5_hash.value_counts()/len(df_malware1)*100"
   ]
  },
  {
   "cell_type": "code",
   "execution_count": 12,
   "metadata": {},
   "outputs": [
    {
     "data": {
      "text/plain": [
       "file_type_guess\n",
       " \"exe\"                                          48.934649\n",
       " \"xlsx\"                                          8.596608\n",
       " \"dll\"                                           7.903861\n",
       " \"elf\"                                           7.641817\n",
       " \"zip\"                                           6.273766\n",
       "                                                  ...    \n",
       " Ltd - Inquiry List & Sample Photos.pdf.exe\"     0.000134\n",
       " BL AND TELEX.pdf.zip\"                           0.000134\n",
       "Ltd.xlsx\"                                        0.000134\n",
       " USA.xlsm\"                                       0.000134\n",
       " VIETNAM.doc\"                                    0.000134\n",
       "Name: count, Length: 2046, dtype: float64"
      ]
     },
     "execution_count": 12,
     "metadata": {},
     "output_type": "execute_result"
    }
   ],
   "source": [
    "df_malware1.file_type_guess.value_counts()/len(df_malware1)*100"
   ]
  },
  {
   "cell_type": "code",
   "execution_count": 15,
   "metadata": {},
   "outputs": [
    {
     "data": {
      "text/plain": [
       "array([' \"exe\"', ' \"doc\"', ' \"js\"', ..., '950.25.exe\"',\n",
       "       '000 MT UREA IN BULK AT THIENG LIENG ANCHORAGE.xlsx\"',\n",
       "       ' VIETNAM.doc\"'], dtype=object)"
      ]
     },
     "execution_count": 15,
     "metadata": {},
     "output_type": "execute_result"
    }
   ],
   "source": [
    "df_malware1.file_type_guess.unique()"
   ]
  },
  {
   "cell_type": "code",
   "execution_count": 13,
   "metadata": {},
   "outputs": [
    {
     "data": {
      "text/plain": [
       "ssdeep\n",
       "\"n/a\"                                                                                                       0.298272\n",
       "\"f34d5f2d4577ed6d9ceec516c1f5a744\"                                                                          0.260032\n",
       "\"12288:J2+J+l5QvSoOUkQNPRoswLLjfsHJNF05s:AJl5QrrkQFCHspN4\"                                                  0.150813\n",
       "\"12288:U2+J+l5QvSoOUkQGPRoswLLjfsHJNF05F:PJl5QrrkQOCHspN4\"                                                  0.150679\n",
       "\"12288:l2+J+l5QvSoOUkQiPRoswLLjfsHJNF05h:8Jl5QrrkQaCHspN4\"                                                  0.150410\n",
       "                                                                                                              ...   \n",
       "\"12288:Dx0s2oY7gPVAegzJquAosn8FO1iut9mVDds1ICOsx8CkJeWPP:Dis2oY7APuf/O1zt9mkpJx7MPP\"                        0.000134\n",
       "\"12288:DzVhh7Of7uSFXNTNdw7DFuI0PU6G36Ysp5Rd7vKAyqTSztAxVY2nyTRjaE+Us8/M:DzVPQRJd5IJ6pYYKAy2VV94uEZsE\"       0.000134\n",
       "\"24576:pzpGItr0AFwMbD+gGdpaVQJ3+N1UwgFxHPpdFEiZuEZsE:pzphdxWgGdwVQJONmVxBju\"                                0.000134\n",
       "\"12288:a0J9YV5XwPKH4JlQRWdSO/ILwtBELCz+fSXfNjTaBKksqW5VPLAlUHfxXl5fX8Pb:XJclG6OQ8dn/KCzCSVTn/TPJD5fXOAi\"    0.000134\n",
       "\"12288:GCU4gtAxIflaBAFGWf1yN6OcsiUIpqpcsHs4d8/U:MwIflaBaIH2Us69d88\"                                         0.000134\n",
       "Name: count, Length: 621570, dtype: float64"
      ]
     },
     "execution_count": 13,
     "metadata": {},
     "output_type": "execute_result"
    }
   ],
   "source": [
    "df_malware1.ssdeep.value_counts()/len(df_malware1)*100"
   ]
  },
  {
   "cell_type": "code",
   "execution_count": 18,
   "metadata": {},
   "outputs": [
    {
     "name": "stdout",
     "output_type": "stream",
     "text": [
      "621570\n"
     ]
    },
    {
     "data": {
      "text/plain": [
       "array([' \"393216:Obdpkr2dY/aBcjJOBHOBIQBajMtWvoJiLE1+XgRKz89G/4ZSb0Funwh6DsN2PIpk:Obdpkr2dY/aBcjJOBHOBIQBajMtWvoJE\"',\n",
       "       ' \"49152:xJ2jbmSIjuT2XF6c/YVYjSx9UuQFL8NV8Z:xsYuT+HYKE9/Qs\"',\n",
       "       ' \"49152:7ljg42qPcvCUeglrFuVh8wmR3CGAo5U59Ur1vT4o/Kr:75g4bUvxZmh8wTjo5+ir1vT4IKr\"',\n",
       "       ...,\n",
       "       ' \"12288:yQkX9nuK6uc2b0tAHj328Ptjeddm6yeATHg7pEcf:Li9nuBCb0tE32Ssdm16a\"',\n",
       "       ' \"1536:gNkL1P9uCkeWj5rMyehghjN3HDdnxtSSPF9IQKODgdIBdmHsF7XovLCiXU:Akp95VWjdnBNtjdPSMF9I8wIBMMpovLc\"',\n",
       "       ' \"12288:GCU4gtAxIflaBAFGWf1yN6OcsiUIpqpcsHs4d8/U:MwIflaBaIH2Us69d88\"'],\n",
       "      dtype=object)"
      ]
     },
     "execution_count": 18,
     "metadata": {},
     "output_type": "execute_result"
    }
   ],
   "source": [
    "print(len(df_malware1.ssdeep.unique()))\n",
    "df_malware1.ssdeep.unique()"
   ]
  },
  {
   "cell_type": "code",
   "execution_count": 14,
   "metadata": {},
   "outputs": [
    {
     "data": {
      "text/plain": [
       "tlsh\n",
       "\"n/a\"                                                                         0.033812\n",
       "\"f34d5f2d4577ed6d9ceec516c1f5a744\"                                            0.013820\n",
       "\"D674AD89B6257A65DE3A727411C78FC1B994D007602253AFE040F397BC17BEA3E7A1E4\"      0.009124\n",
       "\"E474AD89B6257A65DE3A727411C78FC1B994D007602253AFE040F397BC17BEA3E7A1E4\"      0.008990\n",
       "\"8E74AD89B6257A65DE3A727411C78FC1B994D007602253AFE040F397BC17BEA3E7A1E4\"      0.008721\n",
       "                                                                                ...   \n",
       "\"T16CB2E12D60EC3477C731143EF92D9D41E26B53BCD1BF312256282B623AE74C6857916E\"    0.000134\n",
       "\"T138D2E170D74778F2C1B10135EA9857D6464B1EB4D0FF7273622028667AF72C93A905E6\"    0.000134\n",
       "\"T1C9B2E121920E15A0D1B17837DF35C75369A160B473F93EA668108FACBBC7C472B76B84\"    0.000134\n",
       "\"T17633F1557404B065C7703637F8261097FF4A1BFED6A63837062843E8ACE54A37AF6C96\"    0.000134\n",
       "\"65A4BF181BB98C13F54BA6BAC4D942C9E2FCD57B8907F759D41129D60F0ABA7AC023C7\"      0.000134\n",
       "Name: count, Length: 661158, dtype: float64"
      ]
     },
     "execution_count": 14,
     "metadata": {},
     "output_type": "execute_result"
    }
   ],
   "source": [
    "df_malware1.tlsh.value_counts()/len(df_malware1)*100"
   ]
  },
  {
   "cell_type": "code",
   "execution_count": 21,
   "metadata": {},
   "outputs": [
    {
     "name": "stdout",
     "output_type": "stream",
     "text": [
      "661158\n"
     ]
    },
    {
     "data": {
      "text/plain": [
       "array([' \"T183E6CF03EFD1BD0ADBA6053A7D63973702B3E6267B82EF0717BC1528BD513742919286\"',\n",
       "       ' \"T1209522F2B6F8559CD0D243F14B71A22453E89ED6CF418EEAC4E7948BB7876C0AB16017\"',\n",
       "       ' \"T1629523F977FA065CC8D043F047B1AA2402E14ED6DF535ED2E9EB5B5AB34B9C02A10A17\"',\n",
       "       ...,\n",
       "       ' \"8FD45A0076E3F024E17616329E36E1B4463ABF79B9F3E19F22D4793D1970681A528F23\"',\n",
       "       ' \"2583F177C0788C53D5B66F7244A01366E22D9CCF503E7A5D94A8FAAC834D1EE7620CD9\"',\n",
       "       ' \"65A4BF181BB98C13F54BA6BAC4D942C9E2FCD57B8907F759D41129D60F0ABA7AC023C7\"'],\n",
       "      dtype=object)"
      ]
     },
     "execution_count": 21,
     "metadata": {},
     "output_type": "execute_result"
    }
   ],
   "source": [
    "print(len(df_malware1.tlsh.unique()))\n",
    "df_malware1.tlsh.unique()"
   ]
  }
 ],
 "metadata": {
  "kernelspec": {
   "display_name": "Python 3",
   "language": "python",
   "name": "python3"
  },
  "language_info": {
   "codemirror_mode": {
    "name": "ipython",
    "version": 3
   },
   "file_extension": ".py",
   "mimetype": "text/x-python",
   "name": "python",
   "nbconvert_exporter": "python",
   "pygments_lexer": "ipython3",
   "version": "3.10.10"
  }
 },
 "nbformat": 4,
 "nbformat_minor": 2
}

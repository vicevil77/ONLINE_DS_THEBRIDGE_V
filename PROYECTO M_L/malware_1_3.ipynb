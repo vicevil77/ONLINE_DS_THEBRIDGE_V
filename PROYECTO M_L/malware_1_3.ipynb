{
 "cells": [
  {
   "cell_type": "code",
   "execution_count": 1,
   "metadata": {},
   "outputs": [
    {
     "name": "stderr",
     "output_type": "stream",
     "text": [
      "2024-03-27 17:20:23.557467: I tensorflow/stream_executor/platform/default/dso_loader.cc:49] Successfully opened dynamic library libcudart.so.10.1\n",
      "2024-03-27 17:20:25.511750: I tensorflow/compiler/jit/xla_cpu_device.cc:41] Not creating XLA devices, tf_xla_enable_xla_devices not set\n",
      "2024-03-27 17:20:25.512329: I tensorflow/stream_executor/platform/default/dso_loader.cc:49] Successfully opened dynamic library libcuda.so.1\n",
      "2024-03-27 17:20:25.523399: I tensorflow/stream_executor/cuda/cuda_gpu_executor.cc:941] successful NUMA node read from SysFS had negative value (-1), but there must be at least one NUMA node, so returning NUMA node zero\n",
      "2024-03-27 17:20:25.523513: I tensorflow/core/common_runtime/gpu/gpu_device.cc:1720] Found device 0 with properties: \n",
      "pciBusID: 0000:01:00.0 name: NVIDIA GeForce RTX 3060 Laptop GPU computeCapability: 8.6\n",
      "coreClock: 1.425GHz coreCount: 30 deviceMemorySize: 5.79GiB deviceMemoryBandwidth: 312.97GiB/s\n",
      "2024-03-27 17:20:25.523530: I tensorflow/stream_executor/platform/default/dso_loader.cc:49] Successfully opened dynamic library libcudart.so.10.1\n",
      "2024-03-27 17:20:25.564810: I tensorflow/stream_executor/platform/default/dso_loader.cc:49] Successfully opened dynamic library libcublas.so.10\n",
      "2024-03-27 17:20:25.564893: I tensorflow/stream_executor/platform/default/dso_loader.cc:49] Successfully opened dynamic library libcublasLt.so.10\n",
      "2024-03-27 17:20:25.587588: I tensorflow/stream_executor/platform/default/dso_loader.cc:49] Successfully opened dynamic library libcufft.so.10\n",
      "2024-03-27 17:20:25.593421: I tensorflow/stream_executor/platform/default/dso_loader.cc:49] Successfully opened dynamic library libcurand.so.10\n",
      "2024-03-27 17:20:25.637552: I tensorflow/stream_executor/platform/default/dso_loader.cc:49] Successfully opened dynamic library libcusolver.so.10\n",
      "2024-03-27 17:20:25.643570: I tensorflow/stream_executor/platform/default/dso_loader.cc:49] Successfully opened dynamic library libcusparse.so.10\n",
      "2024-03-27 17:20:25.719738: I tensorflow/stream_executor/platform/default/dso_loader.cc:49] Successfully opened dynamic library libcudnn.so.7\n",
      "2024-03-27 17:20:25.719981: I tensorflow/stream_executor/cuda/cuda_gpu_executor.cc:941] successful NUMA node read from SysFS had negative value (-1), but there must be at least one NUMA node, so returning NUMA node zero\n",
      "2024-03-27 17:20:25.720242: I tensorflow/stream_executor/cuda/cuda_gpu_executor.cc:941] successful NUMA node read from SysFS had negative value (-1), but there must be at least one NUMA node, so returning NUMA node zero\n",
      "2024-03-27 17:20:25.720377: I tensorflow/core/common_runtime/gpu/gpu_device.cc:1862] Adding visible gpu devices: 0\n"
     ]
    }
   ],
   "source": [
    "import tensorflow as tf\n",
    "\n",
    "# Configurar la GPU antes de inicializar TensorFlow\n",
    "physical_devices = tf.config.list_physical_devices('GPU')\n",
    "tf.config.experimental.set_memory_growth(physical_devices[0], True)\n",
    "#print(physical_devices)"
   ]
  },
  {
   "cell_type": "code",
   "execution_count": null,
   "metadata": {},
   "outputs": [],
   "source": [
    "from tensorboard import program\n",
    "\n",
    "log_dir = \"./home/vicevil/Documentos/graficas/logs\"\n",
    "tb=program.TensorBoard()\n",
    "tb.configure(argv=[None, '--logdir', log_dir])\n",
    "url = tb.launch() #  lanza TensorBoard en el navegador\n",
    "\n",
    "import tensorboard"
   ]
  },
  {
   "cell_type": "code",
   "execution_count": 3,
   "metadata": {},
   "outputs": [],
   "source": [
    "import numpy as np\n",
    "import pandas as pd\n",
    "import matplotlib.pyplot as plt\n",
    "import seaborn as sns\n",
    "import os\n",
    "from scipy.sparse import hstack\n",
    "import funciones_ML as bt\n",
    "from sklearn.feature_extraction.text import TfidfVectorizer, FeatureHasher\n",
    "from sklearn.model_selection import train_test_split, GridSearchCV, RandomizedSearchCV\n",
    "from sklearn.preprocessing import StandardScaler, OneHotEncoder, MinMaxScaler, LabelEncoder, Normalizer,MaxAbsScaler\n",
    "from sklearn.metrics import accuracy_score, ConfusionMatrixDisplay,classification_report,r2_score,RocCurveDisplay,confusion_matrix, accuracy_score,recall_score,f1_score,precision_score,precision_recall_fscore_support\n",
    "from sklearn.linear_model import LogisticRegression, LinearRegression, Ridge, Lasso, ElasticNet, SGDRegressor, SGDClassifier, RidgeClassifier\n",
    "from sklearn.tree import DecisionTreeClassifier, DecisionTreeRegressor\n",
    "from sklearn.ensemble import RandomForestClassifier, RandomForestRegressor, GradientBoostingClassifier, GradientBoostingRegressor\n",
    "from sklearn.svm import SVC, SVR\n",
    "from sklearn.pipeline import Pipeline\n",
    "from tensorflow.keras.optimizers import Adam, SGD\n",
    "from tensorflow.keras.models import Sequential\n",
    "from tensorflow.keras.layers import Conv2D, MaxPooling2D, Flatten, Dense,Dropout\n",
    "from tensorflow.keras.utils import to_categorical\n",
    "from tensorflow.keras.callbacks import TensorBoard, ModelCheckpoint,ReduceLROnPlateau,CallbackList\n",
    "from tensorflow.keras.regularizers import l2, l1, l1_l2\n",
    "from sklearn.cluster import KMeans\n",
    "from imblearn.under_sampling import RandomUnderSampler\n",
    "from tensorflow.keras import regularizers\n",
    "from sklearn.compose import ColumnTransformer\n",
    "from tensorflow.keras.losses import CategoricalCrossentropy, sparse_categorical_crossentropy, binary_crossentropy\n",
    "import networkx as nx\n",
    "from tensorflow.keras.layers import Activation\n",
    "from tensorflow.keras.callbacks import ReduceLROnPlateau\n",
    "\n",
    "\n",
    "\n",
    "\n",
    "\n",
    "# Configurar pandas para mostrar todas las filas y columnas\n",
    "#pd.set_option('display.max_rows', None)\n",
    "pd.set_option('display.max_columns', None)\n",
    "pd.set_option('display.width', None)\n",
    "pd.set_option('display.max_colwidth', None)\n",
    "\n",
    "\n",
    "# Código para los tamaños de las fuentes y los \"ticks\" de los ejes:\n",
    "plt.rc('font', size=6)\n",
    "plt.rc('xtick', labelsize=10)\n",
    "plt.rc('ytick', labelsize=10)"
   ]
  },
  {
   "cell_type": "markdown",
   "metadata": {},
   "source": [
    "APLICACION RED NEURONAL AL DATASET LIMPIO MENOS LAS 3 TRAS EL ESTUDIO DE CORRELACION"
   ]
  },
  {
   "cell_type": "code",
   "execution_count": 4,
   "metadata": {},
   "outputs": [],
   "source": [
    "df=pd.read_csv(r\"/home/vicevil/Documentos/df_malware_unido_solo_cat_y_escalar.csv\")"
   ]
  },
  {
   "cell_type": "code",
   "execution_count": 5,
   "metadata": {},
   "outputs": [],
   "source": [
    "df.drop(columns={\"dia\",\"resp_ip_bytes\", \"orig_ip_bytes\"}, inplace=True)"
   ]
  },
  {
   "cell_type": "code",
   "execution_count": 11,
   "metadata": {},
   "outputs": [
    {
     "data": {
      "text/plain": [
       "(25011003, 13)"
      ]
     },
     "execution_count": 11,
     "metadata": {},
     "output_type": "execute_result"
    }
   ],
   "source": [
    "df.shape"
   ]
  },
  {
   "cell_type": "code",
   "execution_count": 6,
   "metadata": {},
   "outputs": [],
   "source": [
    "df_mix=df.copy()\n",
    "df_round=df.copy()\n",
    "df_hash=df.copy()"
   ]
  },
  {
   "cell_type": "code",
   "execution_count": 12,
   "metadata": {},
   "outputs": [
    {
     "data": {
      "text/plain": [
       "(25011003, 13)"
      ]
     },
     "execution_count": 12,
     "metadata": {},
     "output_type": "execute_result"
    }
   ],
   "source": [
    "df_hash.shape"
   ]
  },
  {
   "cell_type": "markdown",
   "metadata": {},
   "source": [
    "APLICACION TECNICAS LABELENCODER Y MINMAX"
   ]
  },
  {
   "cell_type": "code",
   "execution_count": 14,
   "metadata": {},
   "outputs": [],
   "source": [
    "#minmax sin redondear\n",
    "scaler= MinMaxScaler()\n",
    "array_sca=scaler.fit_transform(df_mix)"
   ]
  },
  {
   "cell_type": "code",
   "execution_count": 15,
   "metadata": {},
   "outputs": [],
   "source": [
    "df_minmax=pd.DataFrame(array_sca)"
   ]
  },
  {
   "cell_type": "code",
   "execution_count": 7,
   "metadata": {},
   "outputs": [],
   "source": [
    " #Itera sobre las columnas categóricas(LABEL-ENCONDER)\n",
    "for col in df_round.columns[df_round.dtypes == 'object']:  \n",
    "    cat = LabelEncoder()\n",
    "    df_round[col] = cat.fit_transform(df_round[col]) "
   ]
  },
  {
   "cell_type": "code",
   "execution_count": 25,
   "metadata": {},
   "outputs": [
    {
     "name": "stdout",
     "output_type": "stream",
     "text": [
      "Columna id.resp_h: object\n",
      "Columna proto: object\n",
      "Columna conn_state: object\n"
     ]
    }
   ],
   "source": [
    "for col in list(df.select_dtypes(include=['category', 'object'])):\n",
    "    print(f\"Columna {col}: {df[col].dtype}\")"
   ]
  },
  {
   "cell_type": "markdown",
   "metadata": {},
   "source": [
    "HASH TRICK"
   ]
  },
  {
   "cell_type": "code",
   "execution_count": 28,
   "metadata": {},
   "outputs": [],
   "source": [
    "\n",
    "cols_categoricas = list(df.select_dtypes(include=['category', 'object']))\n",
    "\n",
    "# Convierte columnas a string\n",
    "for col in cols_categoricas:\n",
    "    df[col] = df[col].astype(str) \n",
    "\n",
    "#Aplico  el Hashing Trick\n",
    "hasher = FeatureHasher(n_features=3, input_type=\"string\")\n",
    "df_hash = hasher.fit_transform(df[cols_categoricas]) "
   ]
  },
  {
   "cell_type": "markdown",
   "metadata": {},
   "source": [
    "MINMAX MAS REDONDEO A 1 Y 0"
   ]
  },
  {
   "cell_type": "code",
   "execution_count": 8,
   "metadata": {},
   "outputs": [],
   "source": [
    "#minmax redodenando a numeros enterros 0 y 1\n",
    "columnas_numericas = df_round.drop([\"Target\"], axis=1).select_dtypes(include=['number'])\n",
    "#instacio\n",
    "scaler = MinMaxScaler()\n",
    "\n",
    "# Escalo datos\n",
    "col_num_scal = scaler.fit_transform(columnas_numericas)\n",
    "\n",
    "# rangos que queremos\n",
    "rango_deseado_min = 0\n",
    "rango_deseado_max = 1\n",
    "\n",
    "# Multiplica los datos x los rangos\n",
    "col_num_scal_rangos= col_num_scal * (rango_deseado_max - rango_deseado_min) + rango_deseado_min\n",
    "\n",
    "# Redondea los datos escalados rescalados al entero más cercano\n",
    "col_num_scal_round = pd.DataFrame(col_num_scal_rangos).round().astype(int)\n",
    "\n",
    "# Concatena los datos rescalados enteros con la columna \"Target\" y el resto del DataFrame original\n",
    "df_round = pd.concat([df_round[\"Target\"], col_num_scal_round], axis=1)\n"
   ]
  },
  {
   "cell_type": "markdown",
   "metadata": {},
   "source": [
    "APLICACION RED NEURONAL"
   ]
  },
  {
   "cell_type": "code",
   "execution_count": null,
   "metadata": {},
   "outputs": [],
   "source": [
    "df_minmax=pd.read_csv(\"/home/vicevil/Documentos/df_malware_unido_label_minmax_neuronal.csv\")"
   ]
  },
  {
   "cell_type": "code",
   "execution_count": 16,
   "metadata": {},
   "outputs": [
    {
     "data": {
      "text/html": [
       "<div>\n",
       "<style scoped>\n",
       "    .dataframe tbody tr th:only-of-type {\n",
       "        vertical-align: middle;\n",
       "    }\n",
       "\n",
       "    .dataframe tbody tr th {\n",
       "        vertical-align: top;\n",
       "    }\n",
       "\n",
       "    .dataframe thead th {\n",
       "        text-align: right;\n",
       "    }\n",
       "</style>\n",
       "<table border=\"1\" class=\"dataframe\">\n",
       "  <thead>\n",
       "    <tr style=\"text-align: right;\">\n",
       "      <th></th>\n",
       "      <th>0</th>\n",
       "      <th>1</th>\n",
       "      <th>2</th>\n",
       "      <th>3</th>\n",
       "      <th>4</th>\n",
       "      <th>5</th>\n",
       "      <th>6</th>\n",
       "      <th>7</th>\n",
       "      <th>8</th>\n",
       "      <th>9</th>\n",
       "      <th>10</th>\n",
       "      <th>11</th>\n",
       "      <th>12</th>\n",
       "    </tr>\n",
       "  </thead>\n",
       "  <tbody>\n",
       "    <tr>\n",
       "      <th>0</th>\n",
       "      <td>0.786206</td>\n",
       "      <td>0.836806</td>\n",
       "      <td>0.000351</td>\n",
       "      <td>0.5</td>\n",
       "      <td>0.500000</td>\n",
       "      <td>0.0</td>\n",
       "      <td>4.543571e-08</td>\n",
       "      <td>0.000000</td>\n",
       "      <td>0.0</td>\n",
       "      <td>0.363636</td>\n",
       "      <td>0.652174</td>\n",
       "      <td>0.333333</td>\n",
       "      <td>0.0</td>\n",
       "    </tr>\n",
       "    <tr>\n",
       "      <th>1</th>\n",
       "      <td>0.859159</td>\n",
       "      <td>0.829254</td>\n",
       "      <td>0.000351</td>\n",
       "      <td>0.5</td>\n",
       "      <td>0.500000</td>\n",
       "      <td>0.0</td>\n",
       "      <td>1.514524e-08</td>\n",
       "      <td>0.000000</td>\n",
       "      <td>0.0</td>\n",
       "      <td>0.363636</td>\n",
       "      <td>0.652174</td>\n",
       "      <td>0.333333</td>\n",
       "      <td>0.0</td>\n",
       "    </tr>\n",
       "    <tr>\n",
       "      <th>2</th>\n",
       "      <td>0.627161</td>\n",
       "      <td>0.062841</td>\n",
       "      <td>0.000351</td>\n",
       "      <td>0.5</td>\n",
       "      <td>0.500000</td>\n",
       "      <td>0.0</td>\n",
       "      <td>1.514524e-08</td>\n",
       "      <td>0.000000</td>\n",
       "      <td>0.0</td>\n",
       "      <td>0.363636</td>\n",
       "      <td>0.652174</td>\n",
       "      <td>0.333333</td>\n",
       "      <td>0.0</td>\n",
       "    </tr>\n",
       "    <tr>\n",
       "      <th>3</th>\n",
       "      <td>0.929351</td>\n",
       "      <td>0.170226</td>\n",
       "      <td>0.000351</td>\n",
       "      <td>0.5</td>\n",
       "      <td>0.500000</td>\n",
       "      <td>0.0</td>\n",
       "      <td>4.543571e-08</td>\n",
       "      <td>0.000000</td>\n",
       "      <td>0.0</td>\n",
       "      <td>0.363636</td>\n",
       "      <td>0.652174</td>\n",
       "      <td>0.333333</td>\n",
       "      <td>0.0</td>\n",
       "    </tr>\n",
       "    <tr>\n",
       "      <th>4</th>\n",
       "      <td>0.675990</td>\n",
       "      <td>0.959768</td>\n",
       "      <td>0.000351</td>\n",
       "      <td>0.5</td>\n",
       "      <td>0.500000</td>\n",
       "      <td>0.0</td>\n",
       "      <td>1.514524e-08</td>\n",
       "      <td>0.000000</td>\n",
       "      <td>0.0</td>\n",
       "      <td>0.363636</td>\n",
       "      <td>0.652174</td>\n",
       "      <td>0.333333</td>\n",
       "      <td>0.0</td>\n",
       "    </tr>\n",
       "    <tr>\n",
       "      <th>...</th>\n",
       "      <td>...</td>\n",
       "      <td>...</td>\n",
       "      <td>...</td>\n",
       "      <td>...</td>\n",
       "      <td>...</td>\n",
       "      <td>...</td>\n",
       "      <td>...</td>\n",
       "      <td>...</td>\n",
       "      <td>...</td>\n",
       "      <td>...</td>\n",
       "      <td>...</td>\n",
       "      <td>...</td>\n",
       "      <td>...</td>\n",
       "    </tr>\n",
       "    <tr>\n",
       "      <th>25010998</th>\n",
       "      <td>0.001877</td>\n",
       "      <td>0.946989</td>\n",
       "      <td>0.001877</td>\n",
       "      <td>1.0</td>\n",
       "      <td>0.833333</td>\n",
       "      <td>0.0</td>\n",
       "      <td>3.029048e-08</td>\n",
       "      <td>0.000208</td>\n",
       "      <td>1.0</td>\n",
       "      <td>0.727273</td>\n",
       "      <td>0.000000</td>\n",
       "      <td>0.833333</td>\n",
       "      <td>1.0</td>\n",
       "    </tr>\n",
       "    <tr>\n",
       "      <th>25010999</th>\n",
       "      <td>0.569253</td>\n",
       "      <td>0.014160</td>\n",
       "      <td>0.271138</td>\n",
       "      <td>0.5</td>\n",
       "      <td>0.583333</td>\n",
       "      <td>0.0</td>\n",
       "      <td>1.355802e-04</td>\n",
       "      <td>1.000000</td>\n",
       "      <td>1.0</td>\n",
       "      <td>0.727273</td>\n",
       "      <td>0.043478</td>\n",
       "      <td>0.666667</td>\n",
       "      <td>0.0</td>\n",
       "    </tr>\n",
       "    <tr>\n",
       "      <th>25011000</th>\n",
       "      <td>0.001877</td>\n",
       "      <td>0.626815</td>\n",
       "      <td>0.001877</td>\n",
       "      <td>1.0</td>\n",
       "      <td>0.833333</td>\n",
       "      <td>0.0</td>\n",
       "      <td>3.029048e-08</td>\n",
       "      <td>0.000208</td>\n",
       "      <td>1.0</td>\n",
       "      <td>0.727273</td>\n",
       "      <td>0.000000</td>\n",
       "      <td>0.833333</td>\n",
       "      <td>1.0</td>\n",
       "    </tr>\n",
       "    <tr>\n",
       "      <th>25011001</th>\n",
       "      <td>0.001877</td>\n",
       "      <td>0.779650</td>\n",
       "      <td>0.001877</td>\n",
       "      <td>1.0</td>\n",
       "      <td>0.833333</td>\n",
       "      <td>0.0</td>\n",
       "      <td>3.029048e-08</td>\n",
       "      <td>0.000208</td>\n",
       "      <td>1.0</td>\n",
       "      <td>0.727273</td>\n",
       "      <td>0.000000</td>\n",
       "      <td>0.833333</td>\n",
       "      <td>1.0</td>\n",
       "    </tr>\n",
       "    <tr>\n",
       "      <th>25011002</th>\n",
       "      <td>0.001877</td>\n",
       "      <td>0.909939</td>\n",
       "      <td>0.001877</td>\n",
       "      <td>1.0</td>\n",
       "      <td>0.833333</td>\n",
       "      <td>0.0</td>\n",
       "      <td>3.029048e-08</td>\n",
       "      <td>0.000208</td>\n",
       "      <td>1.0</td>\n",
       "      <td>0.727273</td>\n",
       "      <td>0.000000</td>\n",
       "      <td>0.833333</td>\n",
       "      <td>1.0</td>\n",
       "    </tr>\n",
       "  </tbody>\n",
       "</table>\n",
       "<p>25011003 rows × 13 columns</p>\n",
       "</div>"
      ],
      "text/plain": [
       "                0         1         2    3         4    5             6   \\\n",
       "0         0.786206  0.836806  0.000351  0.5  0.500000  0.0  4.543571e-08   \n",
       "1         0.859159  0.829254  0.000351  0.5  0.500000  0.0  1.514524e-08   \n",
       "2         0.627161  0.062841  0.000351  0.5  0.500000  0.0  1.514524e-08   \n",
       "3         0.929351  0.170226  0.000351  0.5  0.500000  0.0  4.543571e-08   \n",
       "4         0.675990  0.959768  0.000351  0.5  0.500000  0.0  1.514524e-08   \n",
       "...            ...       ...       ...  ...       ...  ...           ...   \n",
       "25010998  0.001877  0.946989  0.001877  1.0  0.833333  0.0  3.029048e-08   \n",
       "25010999  0.569253  0.014160  0.271138  0.5  0.583333  0.0  1.355802e-04   \n",
       "25011000  0.001877  0.626815  0.001877  1.0  0.833333  0.0  3.029048e-08   \n",
       "25011001  0.001877  0.779650  0.001877  1.0  0.833333  0.0  3.029048e-08   \n",
       "25011002  0.001877  0.909939  0.001877  1.0  0.833333  0.0  3.029048e-08   \n",
       "\n",
       "                7    8         9         10        11   12  \n",
       "0         0.000000  0.0  0.363636  0.652174  0.333333  0.0  \n",
       "1         0.000000  0.0  0.363636  0.652174  0.333333  0.0  \n",
       "2         0.000000  0.0  0.363636  0.652174  0.333333  0.0  \n",
       "3         0.000000  0.0  0.363636  0.652174  0.333333  0.0  \n",
       "4         0.000000  0.0  0.363636  0.652174  0.333333  0.0  \n",
       "...            ...  ...       ...       ...       ...  ...  \n",
       "25010998  0.000208  1.0  0.727273  0.000000  0.833333  1.0  \n",
       "25010999  1.000000  1.0  0.727273  0.043478  0.666667  0.0  \n",
       "25011000  0.000208  1.0  0.727273  0.000000  0.833333  1.0  \n",
       "25011001  0.000208  1.0  0.727273  0.000000  0.833333  1.0  \n",
       "25011002  0.000208  1.0  0.727273  0.000000  0.833333  1.0  \n",
       "\n",
       "[25011003 rows x 13 columns]"
      ]
     },
     "execution_count": 16,
     "metadata": {},
     "output_type": "execute_result"
    }
   ],
   "source": [
    "df_minmax"
   ]
  },
  {
   "cell_type": "code",
   "execution_count": 4,
   "metadata": {},
   "outputs": [],
   "source": [
    "df_round=pd.read_csv(r\"/home/vicevil/Documentos/df_malware_unido_lb_mm_round_neuronal.csv\")"
   ]
  },
  {
   "cell_type": "code",
   "execution_count": 5,
   "metadata": {},
   "outputs": [],
   "source": [
    "df_round.drop(columns={\"Unnamed: 0\"}, inplace=True)"
   ]
  },
  {
   "cell_type": "code",
   "execution_count": 6,
   "metadata": {},
   "outputs": [
    {
     "data": {
      "text/html": [
       "<div>\n",
       "<style scoped>\n",
       "    .dataframe tbody tr th:only-of-type {\n",
       "        vertical-align: middle;\n",
       "    }\n",
       "\n",
       "    .dataframe tbody tr th {\n",
       "        vertical-align: top;\n",
       "    }\n",
       "\n",
       "    .dataframe thead th {\n",
       "        text-align: right;\n",
       "    }\n",
       "</style>\n",
       "<table border=\"1\" class=\"dataframe\">\n",
       "  <thead>\n",
       "    <tr style=\"text-align: right;\">\n",
       "      <th></th>\n",
       "      <th>Target</th>\n",
       "      <th>0</th>\n",
       "      <th>1</th>\n",
       "      <th>2</th>\n",
       "      <th>3</th>\n",
       "      <th>4</th>\n",
       "      <th>5</th>\n",
       "      <th>6</th>\n",
       "      <th>7</th>\n",
       "      <th>8</th>\n",
       "      <th>9</th>\n",
       "      <th>10</th>\n",
       "      <th>11</th>\n",
       "    </tr>\n",
       "  </thead>\n",
       "  <tbody>\n",
       "    <tr>\n",
       "      <th>0</th>\n",
       "      <td>0</td>\n",
       "      <td>1</td>\n",
       "      <td>1</td>\n",
       "      <td>0</td>\n",
       "      <td>0</td>\n",
       "      <td>0</td>\n",
       "      <td>0</td>\n",
       "      <td>0</td>\n",
       "      <td>0</td>\n",
       "      <td>0</td>\n",
       "      <td>0</td>\n",
       "      <td>1</td>\n",
       "      <td>0</td>\n",
       "    </tr>\n",
       "    <tr>\n",
       "      <th>1</th>\n",
       "      <td>0</td>\n",
       "      <td>1</td>\n",
       "      <td>1</td>\n",
       "      <td>0</td>\n",
       "      <td>0</td>\n",
       "      <td>0</td>\n",
       "      <td>0</td>\n",
       "      <td>0</td>\n",
       "      <td>0</td>\n",
       "      <td>0</td>\n",
       "      <td>0</td>\n",
       "      <td>1</td>\n",
       "      <td>0</td>\n",
       "    </tr>\n",
       "    <tr>\n",
       "      <th>2</th>\n",
       "      <td>0</td>\n",
       "      <td>1</td>\n",
       "      <td>0</td>\n",
       "      <td>0</td>\n",
       "      <td>0</td>\n",
       "      <td>0</td>\n",
       "      <td>0</td>\n",
       "      <td>0</td>\n",
       "      <td>0</td>\n",
       "      <td>0</td>\n",
       "      <td>0</td>\n",
       "      <td>1</td>\n",
       "      <td>0</td>\n",
       "    </tr>\n",
       "    <tr>\n",
       "      <th>3</th>\n",
       "      <td>0</td>\n",
       "      <td>1</td>\n",
       "      <td>0</td>\n",
       "      <td>0</td>\n",
       "      <td>0</td>\n",
       "      <td>0</td>\n",
       "      <td>0</td>\n",
       "      <td>0</td>\n",
       "      <td>0</td>\n",
       "      <td>0</td>\n",
       "      <td>0</td>\n",
       "      <td>1</td>\n",
       "      <td>0</td>\n",
       "    </tr>\n",
       "    <tr>\n",
       "      <th>4</th>\n",
       "      <td>0</td>\n",
       "      <td>1</td>\n",
       "      <td>1</td>\n",
       "      <td>0</td>\n",
       "      <td>0</td>\n",
       "      <td>0</td>\n",
       "      <td>0</td>\n",
       "      <td>0</td>\n",
       "      <td>0</td>\n",
       "      <td>0</td>\n",
       "      <td>0</td>\n",
       "      <td>1</td>\n",
       "      <td>0</td>\n",
       "    </tr>\n",
       "    <tr>\n",
       "      <th>...</th>\n",
       "      <td>...</td>\n",
       "      <td>...</td>\n",
       "      <td>...</td>\n",
       "      <td>...</td>\n",
       "      <td>...</td>\n",
       "      <td>...</td>\n",
       "      <td>...</td>\n",
       "      <td>...</td>\n",
       "      <td>...</td>\n",
       "      <td>...</td>\n",
       "      <td>...</td>\n",
       "      <td>...</td>\n",
       "      <td>...</td>\n",
       "    </tr>\n",
       "    <tr>\n",
       "      <th>25010998</th>\n",
       "      <td>1</td>\n",
       "      <td>0</td>\n",
       "      <td>1</td>\n",
       "      <td>0</td>\n",
       "      <td>1</td>\n",
       "      <td>1</td>\n",
       "      <td>0</td>\n",
       "      <td>0</td>\n",
       "      <td>0</td>\n",
       "      <td>1</td>\n",
       "      <td>1</td>\n",
       "      <td>0</td>\n",
       "      <td>1</td>\n",
       "    </tr>\n",
       "    <tr>\n",
       "      <th>25010999</th>\n",
       "      <td>0</td>\n",
       "      <td>1</td>\n",
       "      <td>0</td>\n",
       "      <td>0</td>\n",
       "      <td>0</td>\n",
       "      <td>1</td>\n",
       "      <td>0</td>\n",
       "      <td>0</td>\n",
       "      <td>1</td>\n",
       "      <td>1</td>\n",
       "      <td>1</td>\n",
       "      <td>0</td>\n",
       "      <td>1</td>\n",
       "    </tr>\n",
       "    <tr>\n",
       "      <th>25011000</th>\n",
       "      <td>1</td>\n",
       "      <td>0</td>\n",
       "      <td>1</td>\n",
       "      <td>0</td>\n",
       "      <td>1</td>\n",
       "      <td>1</td>\n",
       "      <td>0</td>\n",
       "      <td>0</td>\n",
       "      <td>0</td>\n",
       "      <td>1</td>\n",
       "      <td>1</td>\n",
       "      <td>0</td>\n",
       "      <td>1</td>\n",
       "    </tr>\n",
       "    <tr>\n",
       "      <th>25011001</th>\n",
       "      <td>1</td>\n",
       "      <td>0</td>\n",
       "      <td>1</td>\n",
       "      <td>0</td>\n",
       "      <td>1</td>\n",
       "      <td>1</td>\n",
       "      <td>0</td>\n",
       "      <td>0</td>\n",
       "      <td>0</td>\n",
       "      <td>1</td>\n",
       "      <td>1</td>\n",
       "      <td>0</td>\n",
       "      <td>1</td>\n",
       "    </tr>\n",
       "    <tr>\n",
       "      <th>25011002</th>\n",
       "      <td>1</td>\n",
       "      <td>0</td>\n",
       "      <td>1</td>\n",
       "      <td>0</td>\n",
       "      <td>1</td>\n",
       "      <td>1</td>\n",
       "      <td>0</td>\n",
       "      <td>0</td>\n",
       "      <td>0</td>\n",
       "      <td>1</td>\n",
       "      <td>1</td>\n",
       "      <td>0</td>\n",
       "      <td>1</td>\n",
       "    </tr>\n",
       "  </tbody>\n",
       "</table>\n",
       "<p>25011003 rows × 13 columns</p>\n",
       "</div>"
      ],
      "text/plain": [
       "          Target  0  1  2  3  4  5  6  7  8  9  10  11\n",
       "0              0  1  1  0  0  0  0  0  0  0  0   1   0\n",
       "1              0  1  1  0  0  0  0  0  0  0  0   1   0\n",
       "2              0  1  0  0  0  0  0  0  0  0  0   1   0\n",
       "3              0  1  0  0  0  0  0  0  0  0  0   1   0\n",
       "4              0  1  1  0  0  0  0  0  0  0  0   1   0\n",
       "...          ... .. .. .. .. .. .. .. .. .. ..  ..  ..\n",
       "25010998       1  0  1  0  1  1  0  0  0  1  1   0   1\n",
       "25010999       0  1  0  0  0  1  0  0  1  1  1   0   1\n",
       "25011000       1  0  1  0  1  1  0  0  0  1  1   0   1\n",
       "25011001       1  0  1  0  1  1  0  0  0  1  1   0   1\n",
       "25011002       1  0  1  0  1  1  0  0  0  1  1   0   1\n",
       "\n",
       "[25011003 rows x 13 columns]"
      ]
     },
     "execution_count": 6,
     "metadata": {},
     "output_type": "execute_result"
    }
   ],
   "source": [
    "df_round"
   ]
  },
  {
   "cell_type": "code",
   "execution_count": 7,
   "metadata": {},
   "outputs": [],
   "source": [
    "X=df_round.iloc[:,1:12]\n",
    "y=df_round[\"Target\"]"
   ]
  },
  {
   "cell_type": "code",
   "execution_count": 8,
   "metadata": {},
   "outputs": [],
   "source": [
    "X_train, X_test, y_train,y_test=train_test_split(X, y, test_size=0.2, random_state=42)"
   ]
  },
  {
   "cell_type": "markdown",
   "metadata": {},
   "source": [
    "Convierto todo en Arrays"
   ]
  },
  {
   "cell_type": "code",
   "execution_count": 9,
   "metadata": {},
   "outputs": [],
   "source": [
    "X_train_a=X_train.values\n",
    "X_test_a = X_test.values\n",
    "y_train_a=y_train.values\n",
    "y_test_a=y_test.values"
   ]
  },
  {
   "cell_type": "code",
   "execution_count": 10,
   "metadata": {},
   "outputs": [
    {
     "data": {
      "text/plain": [
       "(20008802, 11)"
      ]
     },
     "execution_count": 10,
     "metadata": {},
     "output_type": "execute_result"
    }
   ],
   "source": [
    "X_train_a.shape"
   ]
  },
  {
   "cell_type": "code",
   "execution_count": 11,
   "metadata": {},
   "outputs": [],
   "source": [
    "# Definir el directorio de registro para TensorBoard(ensorBoard es una herramienta esencial para entender, depurar y optimizar los modelos de TensorFlow.)\n",
    "log_dir = r\"/home/vicevil/Documentos/graficas/logs\""
   ]
  },
  {
   "cell_type": "markdown",
   "metadata": {},
   "source": [
    "1. MODELO NEURONAL SECUANCIAL\n",
    "    - el modelo se compone de 4 capas bidimensionales de entrada junto a 4 capas densas en sentido decreciente y alternando activaciones relu y elu, que impiden la muerte neuronal. Despues de la concatenacion de las capas, el modelo continua con 4 capas densas con la mismas caracteristicas que las anteriores, a excepcion de la capa de entrada, que llega un regularizador l2 para controlar el sobreajuste y detras de cada capa densa hay una capa batchnormalization que mejora la tasa de aprendizaje, evitando el sobreajuste y ayudando a la regularizacion, fiinalizando con unca capa de salida de 2 unidades yu activacion sotfmax para clasificacion.\n",
    "    Al modelo le acompaña un early_stopping, para evitar el sobreajuste si se repite 5 veces el mismo valor y un reduce_lr, el cual reduce la tasa de aprendizaje cuando el conjunto de validacion no mejora"
   ]
  },
  {
   "cell_type": "code",
   "execution_count": 12,
   "metadata": {},
   "outputs": [],
   "source": [
    "import os\n",
    "#habilita la aceleracion por hardware de mi grafica\n",
    "os.environ[\"TF_XLA_FLAGS\"] = \"--tf_xla_enable_xla=true\""
   ]
  },
  {
   "cell_type": "code",
   "execution_count": 13,
   "metadata": {},
   "outputs": [],
   "source": [
    "%load_ext tensorboard"
   ]
  },
  {
   "cell_type": "code",
   "execution_count": 14,
   "metadata": {},
   "outputs": [
    {
     "name": "stderr",
     "output_type": "stream",
     "text": [
      "2024-03-27 17:22:27.055560: I tensorflow/core/platform/cpu_feature_guard.cc:142] This TensorFlow binary is optimized with oneAPI Deep Neural Network Library (oneDNN) to use the following CPU instructions in performance-critical operations:  SSE4.1 SSE4.2 AVX AVX2 FMA\n",
      "To enable them in other operations, rebuild TensorFlow with the appropriate compiler flags.\n",
      "2024-03-27 17:22:27.055866: I tensorflow/compiler/jit/xla_gpu_device.cc:99] Not creating XLA devices, tf_xla_enable_xla_devices not set\n",
      "2024-03-27 17:22:27.056001: I tensorflow/stream_executor/cuda/cuda_gpu_executor.cc:941] successful NUMA node read from SysFS had negative value (-1), but there must be at least one NUMA node, so returning NUMA node zero\n",
      "2024-03-27 17:22:27.056131: I tensorflow/core/common_runtime/gpu/gpu_device.cc:1720] Found device 0 with properties: \n",
      "pciBusID: 0000:01:00.0 name: NVIDIA GeForce RTX 3060 Laptop GPU computeCapability: 8.6\n",
      "coreClock: 1.425GHz coreCount: 30 deviceMemorySize: 5.79GiB deviceMemoryBandwidth: 312.97GiB/s\n",
      "2024-03-27 17:22:27.056158: I tensorflow/stream_executor/platform/default/dso_loader.cc:49] Successfully opened dynamic library libcudart.so.10.1\n",
      "2024-03-27 17:22:27.056185: I tensorflow/stream_executor/platform/default/dso_loader.cc:49] Successfully opened dynamic library libcublas.so.10\n",
      "2024-03-27 17:22:27.056194: I tensorflow/stream_executor/platform/default/dso_loader.cc:49] Successfully opened dynamic library libcublasLt.so.10\n",
      "2024-03-27 17:22:27.056203: I tensorflow/stream_executor/platform/default/dso_loader.cc:49] Successfully opened dynamic library libcufft.so.10\n",
      "2024-03-27 17:22:27.056211: I tensorflow/stream_executor/platform/default/dso_loader.cc:49] Successfully opened dynamic library libcurand.so.10\n",
      "2024-03-27 17:22:27.056220: I tensorflow/stream_executor/platform/default/dso_loader.cc:49] Successfully opened dynamic library libcusolver.so.10\n",
      "2024-03-27 17:22:27.056228: I tensorflow/stream_executor/platform/default/dso_loader.cc:49] Successfully opened dynamic library libcusparse.so.10\n",
      "2024-03-27 17:22:27.056237: I tensorflow/stream_executor/platform/default/dso_loader.cc:49] Successfully opened dynamic library libcudnn.so.7\n",
      "2024-03-27 17:22:27.056291: I tensorflow/stream_executor/cuda/cuda_gpu_executor.cc:941] successful NUMA node read from SysFS had negative value (-1), but there must be at least one NUMA node, so returning NUMA node zero\n",
      "2024-03-27 17:22:27.056391: I tensorflow/stream_executor/cuda/cuda_gpu_executor.cc:941] successful NUMA node read from SysFS had negative value (-1), but there must be at least one NUMA node, so returning NUMA node zero\n",
      "2024-03-27 17:22:27.056460: I tensorflow/core/common_runtime/gpu/gpu_device.cc:1862] Adding visible gpu devices: 0\n",
      "2024-03-27 17:22:27.057049: I tensorflow/stream_executor/platform/default/dso_loader.cc:49] Successfully opened dynamic library libcudart.so.10.1\n",
      "2024-03-27 17:22:30.566643: I tensorflow/core/common_runtime/gpu/gpu_device.cc:1261] Device interconnect StreamExecutor with strength 1 edge matrix:\n",
      "2024-03-27 17:22:30.566664: I tensorflow/core/common_runtime/gpu/gpu_device.cc:1267]      0 \n",
      "2024-03-27 17:22:30.566668: I tensorflow/core/common_runtime/gpu/gpu_device.cc:1280] 0:   N \n",
      "2024-03-27 17:22:30.567488: I tensorflow/stream_executor/cuda/cuda_gpu_executor.cc:941] successful NUMA node read from SysFS had negative value (-1), but there must be at least one NUMA node, so returning NUMA node zero\n",
      "2024-03-27 17:22:30.567638: I tensorflow/stream_executor/cuda/cuda_gpu_executor.cc:941] successful NUMA node read from SysFS had negative value (-1), but there must be at least one NUMA node, so returning NUMA node zero\n",
      "2024-03-27 17:22:30.567742: I tensorflow/stream_executor/cuda/cuda_gpu_executor.cc:941] successful NUMA node read from SysFS had negative value (-1), but there must be at least one NUMA node, so returning NUMA node zero\n",
      "2024-03-27 17:22:30.567825: I tensorflow/core/common_runtime/gpu/gpu_device.cc:1406] Created TensorFlow device (/job:localhost/replica:0/task:0/device:GPU:0 with 5304 MB memory) -> physical GPU (device: 0, name: NVIDIA GeForce RTX 3060 Laptop GPU, pci bus id: 0000:01:00.0, compute capability: 8.6)\n",
      "2024-03-27 17:22:30.743482: I tensorflow/core/profiler/lib/profiler_session.cc:136] Profiler session initializing.\n",
      "2024-03-27 17:22:30.743547: I tensorflow/core/profiler/lib/profiler_session.cc:155] Profiler session started.\n",
      "2024-03-27 17:22:30.744917: I tensorflow/core/profiler/internal/gpu/cupti_tracer.cc:1365] Profiler found 1 GPUs\n",
      "2024-03-27 17:22:30.757333: I tensorflow/stream_executor/platform/default/dso_loader.cc:49] Successfully opened dynamic library libcupti.so.10.1\n",
      "2024-03-27 17:22:30.859361: E tensorflow/core/profiler/internal/gpu/cupti_tracer.cc:1415] function cupti_interface_->Subscribe( &subscriber_, (CUpti_CallbackFunc)ApiCallback, this)failed with error CUPTI_ERROR_INSUFFICIENT_PRIVILEGES\n",
      "2024-03-27 17:22:30.860399: I tensorflow/core/profiler/lib/profiler_session.cc:172] Profiler session tear down.\n",
      "2024-03-27 17:22:31.903082: I tensorflow/compiler/mlir/mlir_graph_optimization_pass.cc:116] None of the MLIR optimization passes are enabled (registered 2)\n",
      "2024-03-27 17:22:31.908247: I tensorflow/core/platform/profile_utils/cpu_utils.cc:112] CPU Frequency: 2499950000 Hz\n"
     ]
    },
    {
     "name": "stdout",
     "output_type": "stream",
     "text": [
      "Epoch 1/20\n"
     ]
    },
    {
     "name": "stderr",
     "output_type": "stream",
     "text": [
      "2024-03-27 17:22:32.902308: I tensorflow/stream_executor/platform/default/dso_loader.cc:49] Successfully opened dynamic library libcublas.so.10\n"
     ]
    },
    {
     "name": "stdout",
     "output_type": "stream",
     "text": [
      "    56/140687 [..............................] - ETA: 9:22 - loss: 0.5545 - accuracy: 0.7970 "
     ]
    },
    {
     "name": "stderr",
     "output_type": "stream",
     "text": [
      "2024-03-27 17:22:33.807054: I tensorflow/core/profiler/lib/profiler_session.cc:136] Profiler session initializing.\n",
      "2024-03-27 17:22:33.807080: I tensorflow/core/profiler/lib/profiler_session.cc:155] Profiler session started.\n",
      "2024-03-27 17:22:33.807738: E tensorflow/core/profiler/internal/gpu/cupti_tracer.cc:1415] function cupti_interface_->Subscribe( &subscriber_, (CUpti_CallbackFunc)ApiCallback, this)failed with error CUPTI_ERROR_INSUFFICIENT_PRIVILEGES\n",
      "2024-03-27 17:22:33.813975: I tensorflow/core/profiler/lib/profiler_session.cc:71] Profiler session collecting data.\n",
      "2024-03-27 17:22:33.818238: I tensorflow/core/profiler/internal/gpu/cupti_collector.cc:228]  GpuTracer has collected 0 callback api events and 0 activity events. \n",
      "2024-03-27 17:22:33.819943: I tensorflow/core/profiler/lib/profiler_session.cc:172] Profiler session tear down.\n",
      "2024-03-27 17:22:33.824201: I tensorflow/core/profiler/rpc/client/save_profile.cc:137] Creating directory: /home/vicevil/Documentos/graficas/logs/train/plugins/profile/2024_03_27_17_22_33\n",
      "2024-03-27 17:22:33.824783: I tensorflow/core/profiler/rpc/client/save_profile.cc:143] Dumped gzipped tool data for trace.json.gz to /home/vicevil/Documentos/graficas/logs/train/plugins/profile/2024_03_27_17_22_33/vicevil-G5-KC.trace.json.gz\n",
      "2024-03-27 17:22:33.837486: I tensorflow/core/profiler/rpc/client/save_profile.cc:137] Creating directory: /home/vicevil/Documentos/graficas/logs/train/plugins/profile/2024_03_27_17_22_33\n",
      "2024-03-27 17:22:33.840820: I tensorflow/core/profiler/rpc/client/save_profile.cc:143] Dumped gzipped tool data for memory_profile.json.gz to /home/vicevil/Documentos/graficas/logs/train/plugins/profile/2024_03_27_17_22_33/vicevil-G5-KC.memory_profile.json.gz\n",
      "2024-03-27 17:22:33.841002: I tensorflow/core/profiler/rpc/client/capture_profile.cc:251] Creating directory: /home/vicevil/Documentos/graficas/logs/train/plugins/profile/2024_03_27_17_22_33Dumped tool data for xplane.pb to /home/vicevil/Documentos/graficas/logs/train/plugins/profile/2024_03_27_17_22_33/vicevil-G5-KC.xplane.pb\n",
      "Dumped tool data for overview_page.pb to /home/vicevil/Documentos/graficas/logs/train/plugins/profile/2024_03_27_17_22_33/vicevil-G5-KC.overview_page.pb\n",
      "Dumped tool data for input_pipeline.pb to /home/vicevil/Documentos/graficas/logs/train/plugins/profile/2024_03_27_17_22_33/vicevil-G5-KC.input_pipeline.pb\n",
      "Dumped tool data for tensorflow_stats.pb to /home/vicevil/Documentos/graficas/logs/train/plugins/profile/2024_03_27_17_22_33/vicevil-G5-KC.tensorflow_stats.pb\n",
      "Dumped tool data for kernel_stats.pb to /home/vicevil/Documentos/graficas/logs/train/plugins/profile/2024_03_27_17_22_33/vicevil-G5-KC.kernel_stats.pb\n",
      "\n"
     ]
    },
    {
     "name": "stdout",
     "output_type": "stream",
     "text": [
      "140687/140687 [==============================] - 366s 3ms/step - loss: 0.3267 - accuracy: 0.8244 - val_loss: 0.3228 - val_accuracy: 0.8264\n",
      "\n",
      "Epoch 00001: val_loss improved from inf to 0.32279, saving model to /home/vicevil/Documentos/graficas/logs/fit/modelo.h5\n",
      "Epoch 2/20\n",
      "140687/140687 [==============================] - 363s 3ms/step - loss: 0.3235 - accuracy: 0.8253 - val_loss: 0.3225 - val_accuracy: 0.8264\n",
      "\n",
      "Epoch 00002: val_loss improved from 0.32279 to 0.32245, saving model to /home/vicevil/Documentos/graficas/logs/fit/modelo.h5\n",
      "Epoch 3/20\n",
      "140687/140687 [==============================] - 360s 3ms/step - loss: 0.3231 - accuracy: 0.8257 - val_loss: 0.3226 - val_accuracy: 0.8264\n",
      "\n",
      "Epoch 00003: val_loss did not improve from 0.32245\n",
      "Epoch 4/20\n",
      "140687/140687 [==============================] - 360s 3ms/step - loss: 0.3231 - accuracy: 0.8256 - val_loss: 0.3228 - val_accuracy: 0.8264\n",
      "\n",
      "Epoch 00004: ReduceLROnPlateau reducing learning rate to 0.0009999999776482583.\n",
      "\n",
      "Epoch 00004: val_loss did not improve from 0.32245\n",
      "Epoch 5/20\n",
      "140687/140687 [==============================] - 359s 3ms/step - loss: 0.3229 - accuracy: 0.8261 - val_loss: 0.3223 - val_accuracy: 0.8264\n",
      "\n",
      "Epoch 00005: val_loss improved from 0.32245 to 0.32230, saving model to /home/vicevil/Documentos/graficas/logs/fit/modelo.h5\n",
      "Epoch 6/20\n",
      "140687/140687 [==============================] - 325s 2ms/step - loss: 0.3225 - accuracy: 0.8263 - val_loss: 0.3224 - val_accuracy: 0.8264\n",
      "\n",
      "Epoch 00006: val_loss did not improve from 0.32230\n",
      "Epoch 7/20\n",
      "140687/140687 [==============================] - 302s 2ms/step - loss: 0.3226 - accuracy: 0.8263 - val_loss: 0.3223 - val_accuracy: 0.8264\n",
      "\n",
      "Epoch 00007: ReduceLROnPlateau reducing learning rate to 9.999999310821295e-05.\n",
      "\n",
      "Epoch 00007: val_loss did not improve from 0.32230\n",
      "Epoch 8/20\n",
      "140687/140687 [==============================] - 302s 2ms/step - loss: 0.3227 - accuracy: 0.8262 - val_loss: 0.3223 - val_accuracy: 0.8264\n",
      "\n",
      "Epoch 00008: val_loss improved from 0.32230 to 0.32228, saving model to /home/vicevil/Documentos/graficas/logs/fit/modelo.h5\n",
      "Epoch 9/20\n",
      "140687/140687 [==============================] - 301s 2ms/step - loss: 0.3227 - accuracy: 0.8262 - val_loss: 0.3223 - val_accuracy: 0.8264\n",
      "\n",
      "Epoch 00009: ReduceLROnPlateau reducing learning rate to 9.999999019782991e-06.\n",
      "\n",
      "Epoch 00009: val_loss improved from 0.32228 to 0.32228, saving model to /home/vicevil/Documentos/graficas/logs/fit/modelo.h5\n",
      "Epoch 10/20\n",
      "140687/140687 [==============================] - 302s 2ms/step - loss: 0.3228 - accuracy: 0.8261 - val_loss: 0.3223 - val_accuracy: 0.8264\n",
      "\n",
      "Epoch 00010: val_loss did not improve from 0.32228\n",
      "Epoch 11/20\n",
      "140687/140687 [==============================] - 302s 2ms/step - loss: 0.3225 - accuracy: 0.8263 - val_loss: 0.3223 - val_accuracy: 0.8264\n",
      "\n",
      "Epoch 00011: ReduceLROnPlateau reducing learning rate to 9.99999883788405e-07.\n",
      "\n",
      "Epoch 00011: val_loss improved from 0.32228 to 0.32227, saving model to /home/vicevil/Documentos/graficas/logs/fit/modelo.h5\n",
      "Epoch 12/20\n",
      "140687/140687 [==============================] - 302s 2ms/step - loss: 0.3225 - accuracy: 0.8263 - val_loss: 0.3223 - val_accuracy: 0.8264\n",
      "\n",
      "Epoch 00012: val_loss did not improve from 0.32227\n",
      "Epoch 13/20\n",
      "140687/140687 [==============================] - 302s 2ms/step - loss: 0.3226 - accuracy: 0.8263 - val_loss: 0.3223 - val_accuracy: 0.8264\n",
      "\n",
      "Epoch 00013: ReduceLROnPlateau reducing learning rate to 9.99999883788405e-08.\n",
      "\n",
      "Epoch 00013: val_loss did not improve from 0.32227\n",
      "Epoch 14/20\n",
      "140687/140687 [==============================] - 302s 2ms/step - loss: 0.3226 - accuracy: 0.8263 - val_loss: 0.3223 - val_accuracy: 0.8264\n",
      "\n",
      "Epoch 00014: val_loss did not improve from 0.32227\n",
      "Epoch 15/20\n",
      "140687/140687 [==============================] - 302s 2ms/step - loss: 0.3226 - accuracy: 0.8262 - val_loss: 0.3223 - val_accuracy: 0.8264\n",
      "\n",
      "Epoch 00015: ReduceLROnPlateau reducing learning rate to 9.999998695775504e-09.\n",
      "\n",
      "Epoch 00015: val_loss did not improve from 0.32227\n",
      "Epoch 16/20\n",
      "140687/140687 [==============================] - 304s 2ms/step - loss: 0.3225 - accuracy: 0.8263 - val_loss: 0.3223 - val_accuracy: 0.8264\n",
      "\n",
      "Epoch 00016: val_loss did not improve from 0.32227\n"
     ]
    }
   ],
   "source": [
    "modelo = tf.keras.Sequential()\n",
    "# Definir las 4 entradas\n",
    " \n",
    "modelo.add(tf.keras.layers.Dense(units=256, activation='relu', input_shape=(11,), kernel_regularizer=l2(0.01)))\n",
    "modelo.add(tf.keras.layers.BatchNormalization())#mejora la tasa de parendizaje, evitando sobreajuste, ya que tb regulariza la funcion\n",
    "\n",
    "# Capas ocultas\n",
    "modelo.add(tf.keras.layers.Dense(units=128, activation=\"relu\", input_dim=11))\n",
    "modelo.add(tf.keras.layers.BatchNormalization())\n",
    "\n",
    "modelo.add(Dropout(0.2))\n",
    "\n",
    "modelo.add(tf.keras.layers.Dense(units=64, activation=\"elu\"))\n",
    "modelo.add(tf.keras.layers.BatchNormalization())\n",
    "\n",
    "modelo.add(tf.keras.layers.Dense(units=32, activation='elu'))\n",
    "modelo.add(tf.keras.layers.BatchNormalization())\n",
    "\n",
    "# Capa de salida\n",
    "modelo.add(tf.keras.layers.Dense(units=1, activation='sigmoid'))  # Se cambia a 2 unidades para representar las dos clases\n",
    "#optimizador\n",
    "\"\"\"optimizador= tf.keras.optimizers.SGD(learning_rate=0.005,\n",
    "                                      momentum=0.9, #aporta inercia al proceso de optimizacion, acelerando la convergencia\n",
    "                                      nesterov=True)# en True actualiza momentum demanera anticipada al gradiente, mejorando la estaboiilidad\"\"\"\n",
    "\n",
    "optimizador=Adam( learning_rate=0.01, # rebajo el learning rate por ser mas adecuado para un ajuste fino aunque tarde mas\n",
    "                    beta_1=0.6, # influye en el gradiente pasado (1 mas al gradiente y 0 nada)\n",
    "                    beta_2=0.4, #influye en los cuadrados de los gradientes pasados(1 mas a la varianza y 0 nada)\n",
    "                    epsilon=1e-09, #es para prevenior divisiones entre 0\n",
    "                    amsgrad=True)#es una variante de Adam y ayuda con la convergencia de ambos a evitar oscilaciones de los pesos durante la optimizacion\"\"\"\n",
    "\"\"\"optimizador = tf.keras.optimizers.Ftrl(\n",
    "    l1_regularization_strength=0.0001,#penaliza los pesos con lasso\n",
    "    l2_regularization_strength=0.000001,#penaliza con ridge, consiguiendo con ambos un proceso de actualziacion de pesosmejorado, evitando sobreajuste\n",
    "    learning_rate_power=-0.5,#contola la rapidez de la tasa de aprendizaje con la que decae con el tiempo, indiviualemnte a cada parametro\n",
    "    initial_accumulator_value=0.1,#valor inicial de acumulacion de gradientes\n",
    ")\"\"\"\n",
    "\n",
    "# Compilar el modelo\n",
    "modelo.compile(optimizer=optimizador, loss=binary_crossentropy, metrics=['accuracy'])\n",
    "\n",
    "#detniene el entrenamiento si la metrica no mejora \n",
    "early_stopping_callbacks = tf.keras.callbacks.EarlyStopping(patience=5,restore_best_weights=True)\n",
    "\n",
    "#reduce la tasa de aprendizaje cuando el rendimiento del conj. val no mejora\n",
    "reduce_lr_callbacks = ReduceLROnPlateau(monitor='val_loss', patience=2, verbose=1)\n",
    "\n",
    "#Guarda el modelo cuando mejora la métrica de validación\n",
    "filepath = '/home/vicevil/Documentos/graficas/logs/fit/modelo.h5'\n",
    "monitor = 'val_loss'\n",
    "checkpoint_callbacks = ModelCheckpoint(filepath=filepath, monitor=monitor, verbose=1, save_best_only=True)\n",
    "\n",
    "#visionado tensorboard\n",
    "tensorboard_callback = tf.keras.callbacks.TensorBoard(log_dir=log_dir)\n",
    "\n",
    "\n",
    "callbacks_list = [reduce_lr_callbacks, early_stopping_callbacks, tensorboard_callback, checkpoint_callbacks]\n",
    "\n",
    "# Entrenar el modelo\n",
    "historia = modelo.fit(X_train, y_train, batch_size=128, epochs=20,verbose=1,validation_split=0.1,callbacks=callbacks_list)"
   ]
  },
  {
   "cell_type": "code",
   "execution_count": 15,
   "metadata": {},
   "outputs": [
    {
     "name": "stdout",
     "output_type": "stream",
     "text": [
      "Model: \"sequential\"\n",
      "_________________________________________________________________\n",
      "Layer (type)                 Output Shape              Param #   \n",
      "=================================================================\n",
      "dense (Dense)                (None, 256)               3072      \n",
      "_________________________________________________________________\n",
      "batch_normalization (BatchNo (None, 256)               1024      \n",
      "_________________________________________________________________\n",
      "dense_1 (Dense)              (None, 128)               32896     \n",
      "_________________________________________________________________\n",
      "batch_normalization_1 (Batch (None, 128)               512       \n",
      "_________________________________________________________________\n",
      "dropout (Dropout)            (None, 128)               0         \n",
      "_________________________________________________________________\n",
      "dense_2 (Dense)              (None, 64)                8256      \n",
      "_________________________________________________________________\n",
      "batch_normalization_2 (Batch (None, 64)                256       \n",
      "_________________________________________________________________\n",
      "dense_3 (Dense)              (None, 32)                2080      \n",
      "_________________________________________________________________\n",
      "batch_normalization_3 (Batch (None, 32)                128       \n",
      "_________________________________________________________________\n",
      "dense_4 (Dense)              (None, 1)                 33        \n",
      "=================================================================\n",
      "Total params: 48,257\n",
      "Trainable params: 47,297\n",
      "Non-trainable params: 960\n",
      "_________________________________________________________________\n"
     ]
    }
   ],
   "source": [
    "\n",
    "modelo.summary()"
   ]
  },
  {
   "cell_type": "code",
   "execution_count": 16,
   "metadata": {},
   "outputs": [
    {
     "name": "stdout",
     "output_type": "stream",
     "text": [
      "156319/156319 [==============================] - 139s 888us/step - loss: 0.3225 - accuracy: 0.8264\n",
      "Loss: 0.3224889636039734\n",
      "Accuracy: 0.8263800144195557\n"
     ]
    },
    {
     "name": "stderr",
     "output_type": "stream",
     "text": [
      "/home/vicevil/miniconda3/envs/tf-gpu/lib/python3.7/site-packages/sklearn/metrics/_classification.py:1318: UndefinedMetricWarning: Precision and F-score are ill-defined and being set to 0.0 in labels with no predicted samples. Use `zero_division` parameter to control this behavior.\n",
      "  _warn_prf(average, modifier, msg_start, len(result))\n",
      "/home/vicevil/miniconda3/envs/tf-gpu/lib/python3.7/site-packages/sklearn/metrics/_classification.py:1318: UndefinedMetricWarning: Precision and F-score are ill-defined and being set to 0.0 in labels with no predicted samples. Use `zero_division` parameter to control this behavior.\n",
      "  _warn_prf(average, modifier, msg_start, len(result))\n"
     ]
    },
    {
     "name": "stdout",
     "output_type": "stream",
     "text": [
      "              precision    recall  f1-score   support\n",
      "\n",
      "           0       0.65      1.00      0.79   3245538\n",
      "           1       0.00      0.00      0.00   1756663\n",
      "\n",
      "    accuracy                           0.65   5002201\n",
      "   macro avg       0.32      0.50      0.39   5002201\n",
      "weighted avg       0.42      0.65      0.51   5002201\n",
      "\n"
     ]
    },
    {
     "name": "stderr",
     "output_type": "stream",
     "text": [
      "/home/vicevil/miniconda3/envs/tf-gpu/lib/python3.7/site-packages/sklearn/metrics/_classification.py:1318: UndefinedMetricWarning: Precision and F-score are ill-defined and being set to 0.0 in labels with no predicted samples. Use `zero_division` parameter to control this behavior.\n",
      "  _warn_prf(average, modifier, msg_start, len(result))\n"
     ]
    }
   ],
   "source": [
    "# Evaluar el modelo en el conjunto de prueba\n",
    "loss, accuracy = modelo.evaluate(X_test, y_test)\n",
    "print(\"Loss:\", loss)\n",
    "print(\"Accuracy:\", accuracy)\n",
    "\n",
    "# Predicción\n",
    "y_pred = modelo.predict(X_test)\n",
    "y_pred_classes = np.argmax(y_pred, axis=1)\n",
    "\n",
    "# Métricas de clasificación\n",
    "print(classification_report(y_test, y_pred_classes))"
   ]
  },
  {
   "cell_type": "code",
   "execution_count": 17,
   "metadata": {},
   "outputs": [
    {
     "data": {
      "image/png": "[encoded data removed]",
      "text/plain": [
       "<Figure size 640x480 with 1 Axes>"
      ]
     },
     "metadata": {},
     "output_type": "display_data"
    }
   ],
   "source": [
    "df_history = pd.DataFrame(historia.history)\n",
    "df_history[[\"accuracy\",\"val_accuracy\"]].plot();\n",
    "plt.xlabel(\"epochs\")\n",
    "plt.ylabel(\"accuracy\");"
   ]
  },
  {
   "cell_type": "code",
   "execution_count": 18,
   "metadata": {},
   "outputs": [
    {
     "data": {
      "image/png": "[encoded data removed]",
      "text/plain": [
       "<Figure size 640x480 with 1 Axes>"
      ]
     },
     "metadata": {},
     "output_type": "display_data"
    }
   ],
   "source": [
    "df_history = pd.DataFrame(historia.history)\n",
    "df_history[[\"loss\",\"val_loss\"]].plot();\n",
    "plt.xlabel(\"epochs\")\n",
    "plt.ylabel(\"loss\");"
   ]
  }
 ],
 "metadata": {
  "kernelspec": {
   "display_name": "tf-gpu",
   "language": "python",
   "name": "python3"
  },
  "language_info": {
   "codemirror_mode": {
    "name": "ipython",
    "version": 3
   },
   "file_extension": ".py",
   "mimetype": "text/x-python",
   "name": "python",
   "nbconvert_exporter": "python",
   "pygments_lexer": "ipython3",
   "version": "3.7.12"
  }
 },
 "nbformat": 4,
 "nbformat_minor": 2
}

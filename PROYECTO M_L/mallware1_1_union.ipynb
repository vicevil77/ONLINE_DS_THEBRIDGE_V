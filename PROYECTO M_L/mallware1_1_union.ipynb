{
 "cells": [
  {
   "cell_type": "code",
   "execution_count": 1,
   "metadata": {},
   "outputs": [],
   "source": [
    "import numpy as np\n",
    "import pandas as pd\n",
    "import matplotlib.pyplot as plt\n",
    "import funciones_ML as bt\n",
    "import seaborn as sns\n",
    "\n",
    "# Configurar pandas para mostrar todas las filas y columnas\n",
    "#pd.set_option('display.max_rows', None)\n",
    "#pd.set_option('display.max_columns', None)\n",
    "#pd.set_option('display.width', None)\n",
    "pd.set_option('display.max_colwidth', None)\n",
    "\n",
    "\n",
    "# Código para los tamaños de las fuentes y los \"ticks\" de los ejes:\n",
    "plt.rc('font', size=6)\n",
    "plt.rc('axes', labelsize=10, titlesize=10)\n",
    "plt.rc('legend', fontsize=10)\n",
    "plt.rc('xtick', labelsize=10)\n",
    "plt.rc('ytick', labelsize=10)"
   ]
  },
  {
   "cell_type": "markdown",
   "metadata": {},
   "source": [
    "#  INTRODUCCION"
   ]
  },
  {
   "cell_type": "markdown",
   "metadata": {},
   "source": [
    "Este proyecto esta basado en la concatenación de 12 dataset con datos tecnicos y concretos sobre ataques malware, siendo la ide del presente trabajo en analizar la gran cantidad de datos obtenidos para establecer un modelo de red neuronal que pueda prevenir los ataques malware identificados como \"benign o malicious\" e ir alimentándolo en un futuro con nuevos datos. "
   ]
  },
  {
   "cell_type": "markdown",
   "metadata": {},
   "source": [
    "DF1"
   ]
  },
  {
   "cell_type": "code",
   "execution_count": 2,
   "metadata": {},
   "outputs": [],
   "source": [
    "df_1=pd.read_csv(R\"D:\\Cursos\\REPOSITORIOS\\DATASET\\malware_total\\original\\CTU-IoT-Malware-Capture-1-1conn.log.labeled.csv\", sep=\"|\")"
   ]
  },
  {
   "cell_type": "code",
   "execution_count": 55,
   "metadata": {},
   "outputs": [
    {
     "data": {
      "text/plain": [
       "(1008748, 23)"
      ]
     },
     "execution_count": 55,
     "metadata": {},
     "output_type": "execute_result"
    }
   ],
   "source": [
    "df_1.shape"
   ]
  },
  {
   "cell_type": "code",
   "execution_count": 56,
   "metadata": {},
   "outputs": [
    {
     "data": {
      "text/html": [
       "<div>\n",
       "<style scoped>\n",
       "    .dataframe tbody tr th:only-of-type {\n",
       "        vertical-align: middle;\n",
       "    }\n",
       "\n",
       "    .dataframe tbody tr th {\n",
       "        vertical-align: top;\n",
       "    }\n",
       "\n",
       "    .dataframe thead th {\n",
       "        text-align: right;\n",
       "    }\n",
       "</style>\n",
       "<table border=\"1\" class=\"dataframe\">\n",
       "  <thead>\n",
       "    <tr style=\"text-align: right;\">\n",
       "      <th></th>\n",
       "      <th>ts</th>\n",
       "      <th>uid</th>\n",
       "      <th>id.orig_h</th>\n",
       "      <th>id.orig_p</th>\n",
       "      <th>id.resp_h</th>\n",
       "      <th>id.resp_p</th>\n",
       "      <th>proto</th>\n",
       "      <th>service</th>\n",
       "      <th>duration</th>\n",
       "      <th>orig_bytes</th>\n",
       "      <th>...</th>\n",
       "      <th>local_resp</th>\n",
       "      <th>missed_bytes</th>\n",
       "      <th>history</th>\n",
       "      <th>orig_pkts</th>\n",
       "      <th>orig_ip_bytes</th>\n",
       "      <th>resp_pkts</th>\n",
       "      <th>resp_ip_bytes</th>\n",
       "      <th>tunnel_parents</th>\n",
       "      <th>label</th>\n",
       "      <th>detailed-label</th>\n",
       "    </tr>\n",
       "  </thead>\n",
       "  <tbody>\n",
       "    <tr>\n",
       "      <th>0</th>\n",
       "      <td>1,525,879,831</td>\n",
       "      <td>CUmrqr4svHuSXJy5z7</td>\n",
       "      <td>192.168.100.103</td>\n",
       "      <td>51,524</td>\n",
       "      <td>65.127.233.163</td>\n",
       "      <td>23</td>\n",
       "      <td>tcp</td>\n",
       "      <td>-</td>\n",
       "      <td>2.999051</td>\n",
       "      <td>0</td>\n",
       "      <td>...</td>\n",
       "      <td>-</td>\n",
       "      <td>0</td>\n",
       "      <td>S</td>\n",
       "      <td>3</td>\n",
       "      <td>180</td>\n",
       "      <td>0</td>\n",
       "      <td>0</td>\n",
       "      <td>-</td>\n",
       "      <td>Malicious</td>\n",
       "      <td>PartOfAHorizontalPortScan</td>\n",
       "    </tr>\n",
       "  </tbody>\n",
       "</table>\n",
       "<p>1 rows × 23 columns</p>\n",
       "</div>"
      ],
      "text/plain": [
       "             ts                 uid        id.orig_h  id.orig_p  \\\n",
       "0 1,525,879,831  CUmrqr4svHuSXJy5z7  192.168.100.103     51,524   \n",
       "\n",
       "        id.resp_h  id.resp_p proto service  duration orig_bytes  ...  \\\n",
       "0  65.127.233.163         23   tcp       -  2.999051          0  ...   \n",
       "\n",
       "  local_resp missed_bytes history orig_pkts  orig_ip_bytes resp_pkts  \\\n",
       "0          -            0       S         3            180         0   \n",
       "\n",
       "   resp_ip_bytes  tunnel_parents      label             detailed-label  \n",
       "0              0               -  Malicious  PartOfAHorizontalPortScan  \n",
       "\n",
       "[1 rows x 23 columns]"
      ]
     },
     "execution_count": 56,
     "metadata": {},
     "output_type": "execute_result"
    }
   ],
   "source": [
    "df_1.head(1)"
   ]
  },
  {
   "cell_type": "markdown",
   "metadata": {},
   "source": [
    "DF2"
   ]
  },
  {
   "cell_type": "code",
   "execution_count": 3,
   "metadata": {},
   "outputs": [],
   "source": [
    "df_2=pd.read_csv(\"D:\\Cursos\\REPOSITORIOS\\DATASET\\malware_total\\original\\CTU-IoT-Malware-Capture-3-1conn.log.labeled.csv\", sep=\"|\")"
   ]
  },
  {
   "cell_type": "code",
   "execution_count": 58,
   "metadata": {},
   "outputs": [
    {
     "data": {
      "text/plain": [
       "(156103, 23)"
      ]
     },
     "execution_count": 58,
     "metadata": {},
     "output_type": "execute_result"
    }
   ],
   "source": [
    "df_2.shape"
   ]
  },
  {
   "cell_type": "markdown",
   "metadata": {},
   "source": [
    "DF3"
   ]
  },
  {
   "cell_type": "code",
   "execution_count": 4,
   "metadata": {},
   "outputs": [],
   "source": [
    "df_3=pd.read_csv(\"D:\\Cursos\\REPOSITORIOS\\DATASET\\malware_total\\original\\CTU-IoT-Malware-Capture-8-1conn.log.labeled.csv\", sep=\"|\")"
   ]
  },
  {
   "cell_type": "code",
   "execution_count": 5,
   "metadata": {},
   "outputs": [
    {
     "data": {
      "text/plain": [
       "(10403, 23)"
      ]
     },
     "execution_count": 5,
     "metadata": {},
     "output_type": "execute_result"
    }
   ],
   "source": [
    "df_3.shape"
   ]
  },
  {
   "cell_type": "markdown",
   "metadata": {},
   "source": [
    "DF4"
   ]
  },
  {
   "cell_type": "code",
   "execution_count": 6,
   "metadata": {},
   "outputs": [],
   "source": [
    "df_4=pd.read_csv(\"D:\\Cursos\\REPOSITORIOS\\DATASET\\malware_total\\original\\CTU-IoT-Malware-Capture-9-1conn.log.labeled.csv\", sep=\"|\")"
   ]
  },
  {
   "cell_type": "code",
   "execution_count": 62,
   "metadata": {},
   "outputs": [
    {
     "data": {
      "text/plain": [
       "(6378293, 23)"
      ]
     },
     "execution_count": 62,
     "metadata": {},
     "output_type": "execute_result"
    }
   ],
   "source": [
    "df_4.shape"
   ]
  },
  {
   "cell_type": "markdown",
   "metadata": {},
   "source": [
    "DF5"
   ]
  },
  {
   "cell_type": "code",
   "execution_count": 7,
   "metadata": {},
   "outputs": [],
   "source": [
    "df_5=pd.read_csv(\"D:\\Cursos\\REPOSITORIOS\\DATASET\\malware_total\\original\\CTU-IoT-Malware-Capture-20-1conn.log.labeled.csv\", sep=\"|\")"
   ]
  },
  {
   "cell_type": "code",
   "execution_count": 64,
   "metadata": {},
   "outputs": [
    {
     "data": {
      "text/plain": [
       "(3209, 23)"
      ]
     },
     "execution_count": 64,
     "metadata": {},
     "output_type": "execute_result"
    }
   ],
   "source": [
    "df_5.shape"
   ]
  },
  {
   "cell_type": "markdown",
   "metadata": {},
   "source": [
    "DF6"
   ]
  },
  {
   "cell_type": "code",
   "execution_count": 8,
   "metadata": {},
   "outputs": [],
   "source": [
    "df_6=pd.read_csv(\"D:\\Cursos\\REPOSITORIOS\\DATASET\\malware_total\\original\\CTU-IoT-Malware-Capture-21-1conn.log.labeled.csv\", sep=\"|\")"
   ]
  },
  {
   "cell_type": "code",
   "execution_count": 66,
   "metadata": {},
   "outputs": [
    {
     "data": {
      "text/plain": [
       "(3286, 23)"
      ]
     },
     "execution_count": 66,
     "metadata": {},
     "output_type": "execute_result"
    }
   ],
   "source": [
    "df_6.shape"
   ]
  },
  {
   "cell_type": "markdown",
   "metadata": {},
   "source": [
    "DF7"
   ]
  },
  {
   "cell_type": "code",
   "execution_count": 9,
   "metadata": {},
   "outputs": [],
   "source": [
    "df_7=pd.read_csv(\"D:\\Cursos\\REPOSITORIOS\\DATASET\\malware_total\\original\\CTU-IoT-Malware-Capture-34-1conn.log.labeled.csv\", sep=\"|\")"
   ]
  },
  {
   "cell_type": "code",
   "execution_count": 68,
   "metadata": {},
   "outputs": [
    {
     "data": {
      "text/plain": [
       "(23145, 23)"
      ]
     },
     "execution_count": 68,
     "metadata": {},
     "output_type": "execute_result"
    }
   ],
   "source": [
    "df_7.shape"
   ]
  },
  {
   "cell_type": "markdown",
   "metadata": {},
   "source": [
    "DF8"
   ]
  },
  {
   "cell_type": "code",
   "execution_count": 10,
   "metadata": {},
   "outputs": [],
   "source": [
    "df_8=pd.read_csv(\"D:\\Cursos\\REPOSITORIOS\\DATASET\\malware_total\\original\\CTU-IoT-Malware-Capture-35-1conn.log.labeled.csv\", sep=\"|\")"
   ]
  },
  {
   "cell_type": "code",
   "execution_count": 70,
   "metadata": {},
   "outputs": [
    {
     "data": {
      "text/plain": [
       "(10447787, 23)"
      ]
     },
     "execution_count": 70,
     "metadata": {},
     "output_type": "execute_result"
    }
   ],
   "source": [
    "df_8.shape"
   ]
  },
  {
   "cell_type": "markdown",
   "metadata": {},
   "source": [
    "DF9"
   ]
  },
  {
   "cell_type": "code",
   "execution_count": 11,
   "metadata": {},
   "outputs": [],
   "source": [
    "df_9=pd.read_csv(\"D:\\Cursos\\REPOSITORIOS\\DATASET\\malware_total\\original\\CTU-IoT-Malware-Capture-42-1conn.log.labeled.csv\", sep=\"|\")"
   ]
  },
  {
   "cell_type": "code",
   "execution_count": 72,
   "metadata": {},
   "outputs": [
    {
     "data": {
      "text/plain": [
       "(4426, 23)"
      ]
     },
     "execution_count": 72,
     "metadata": {},
     "output_type": "execute_result"
    }
   ],
   "source": [
    "df_9.shape"
   ]
  },
  {
   "cell_type": "markdown",
   "metadata": {},
   "source": [
    "DF10"
   ]
  },
  {
   "cell_type": "code",
   "execution_count": 12,
   "metadata": {},
   "outputs": [],
   "source": [
    "df_10=pd.read_csv(\"D:\\Cursos\\REPOSITORIOS\\DATASET\\malware_total\\original\\CTU-IoT-Malware-Capture-44-1conn.log.labeled.csv\", sep=\"|\")"
   ]
  },
  {
   "cell_type": "code",
   "execution_count": 74,
   "metadata": {},
   "outputs": [
    {
     "data": {
      "text/plain": [
       "(237, 23)"
      ]
     },
     "execution_count": 74,
     "metadata": {},
     "output_type": "execute_result"
    }
   ],
   "source": [
    "df_10.shape"
   ]
  },
  {
   "cell_type": "markdown",
   "metadata": {},
   "source": [
    "DF11"
   ]
  },
  {
   "cell_type": "code",
   "execution_count": 13,
   "metadata": {},
   "outputs": [],
   "source": [
    "dtypes = {8: 'str', 9: 'str', 10: 'str'} \n",
    "df_11 = pd.read_csv(\"D:\\Cursos\\REPOSITORIOS\\DATASET\\malware_total\\original\\CTU-IoT-Malware-Capture-48-1conn.log.labeled.csv\", sep=\"|\", dtype=dtypes)"
   ]
  },
  {
   "cell_type": "code",
   "execution_count": 76,
   "metadata": {},
   "outputs": [
    {
     "data": {
      "text/plain": [
       "(3394338, 23)"
      ]
     },
     "execution_count": 76,
     "metadata": {},
     "output_type": "execute_result"
    }
   ],
   "source": [
    "df_11.shape"
   ]
  },
  {
   "cell_type": "markdown",
   "metadata": {},
   "source": [
    "DF12"
   ]
  },
  {
   "cell_type": "code",
   "execution_count": 14,
   "metadata": {},
   "outputs": [],
   "source": [
    "df_12=pd.read_csv(\"\\Cursos\\REPOSITORIOS\\DATASET\\malware_total\\original\\CTU-IoT-Malware-Capture-60-1conn.log.labeled.csv\", sep=\"|\")"
   ]
  },
  {
   "cell_type": "code",
   "execution_count": 78,
   "metadata": {},
   "outputs": [
    {
     "data": {
      "text/plain": [
       "(3581028, 23)"
      ]
     },
     "execution_count": 78,
     "metadata": {},
     "output_type": "execute_result"
    }
   ],
   "source": [
    "df_12.shape"
   ]
  },
  {
   "cell_type": "code",
   "execution_count": 34,
   "metadata": {},
   "outputs": [],
   "source": [
    "lista=[df_1, df_2,df_3,df_4,df_5,df_6,df_7,df_8,df_9,df_10,df_11,df_12]"
   ]
  },
  {
   "cell_type": "markdown",
   "metadata": {},
   "source": [
    "CONCATENO LOS 12 ANTERIORES"
   ]
  },
  {
   "cell_type": "code",
   "execution_count": 35,
   "metadata": {},
   "outputs": [],
   "source": [
    "df_malware_origen= pd.concat(lista, axis=0)"
   ]
  },
  {
   "cell_type": "code",
   "execution_count": 36,
   "metadata": {},
   "outputs": [
    {
     "data": {
      "text/html": [
       "<div>\n",
       "<style scoped>\n",
       "    .dataframe tbody tr th:only-of-type {\n",
       "        vertical-align: middle;\n",
       "    }\n",
       "\n",
       "    .dataframe tbody tr th {\n",
       "        vertical-align: top;\n",
       "    }\n",
       "\n",
       "    .dataframe thead th {\n",
       "        text-align: right;\n",
       "    }\n",
       "</style>\n",
       "<table border=\"1\" class=\"dataframe\">\n",
       "  <thead>\n",
       "    <tr style=\"text-align: right;\">\n",
       "      <th></th>\n",
       "      <th>ts</th>\n",
       "      <th>uid</th>\n",
       "      <th>id.orig_h</th>\n",
       "      <th>id.orig_p</th>\n",
       "      <th>id.resp_h</th>\n",
       "      <th>id.resp_p</th>\n",
       "      <th>proto</th>\n",
       "      <th>service</th>\n",
       "      <th>duration</th>\n",
       "      <th>orig_bytes</th>\n",
       "      <th>...</th>\n",
       "      <th>local_resp</th>\n",
       "      <th>missed_bytes</th>\n",
       "      <th>history</th>\n",
       "      <th>orig_pkts</th>\n",
       "      <th>orig_ip_bytes</th>\n",
       "      <th>resp_pkts</th>\n",
       "      <th>resp_ip_bytes</th>\n",
       "      <th>tunnel_parents</th>\n",
       "      <th>label</th>\n",
       "      <th>detailed-label</th>\n",
       "    </tr>\n",
       "  </thead>\n",
       "  <tbody>\n",
       "    <tr>\n",
       "      <th>0</th>\n",
       "      <td>1,525,879,831</td>\n",
       "      <td>CUmrqr4svHuSXJy5z7</td>\n",
       "      <td>192.168.100.103</td>\n",
       "      <td>51,524</td>\n",
       "      <td>65.127.233.163</td>\n",
       "      <td>23</td>\n",
       "      <td>tcp</td>\n",
       "      <td>-</td>\n",
       "      <td>2.999051</td>\n",
       "      <td>0</td>\n",
       "      <td>...</td>\n",
       "      <td>-</td>\n",
       "      <td>0</td>\n",
       "      <td>S</td>\n",
       "      <td>3</td>\n",
       "      <td>180</td>\n",
       "      <td>0</td>\n",
       "      <td>0</td>\n",
       "      <td>-</td>\n",
       "      <td>Malicious</td>\n",
       "      <td>PartOfAHorizontalPortScan</td>\n",
       "    </tr>\n",
       "    <tr>\n",
       "      <th>1</th>\n",
       "      <td>1,525,879,831</td>\n",
       "      <td>CH98aB3s1kJeq6SFOc</td>\n",
       "      <td>192.168.100.103</td>\n",
       "      <td>56,305</td>\n",
       "      <td>63.150.16.171</td>\n",
       "      <td>23</td>\n",
       "      <td>tcp</td>\n",
       "      <td>-</td>\n",
       "      <td>-</td>\n",
       "      <td>-</td>\n",
       "      <td>...</td>\n",
       "      <td>-</td>\n",
       "      <td>0</td>\n",
       "      <td>S</td>\n",
       "      <td>1</td>\n",
       "      <td>60</td>\n",
       "      <td>0</td>\n",
       "      <td>0</td>\n",
       "      <td>-</td>\n",
       "      <td>Malicious</td>\n",
       "      <td>PartOfAHorizontalPortScan</td>\n",
       "    </tr>\n",
       "    <tr>\n",
       "      <th>2</th>\n",
       "      <td>1,525,879,831</td>\n",
       "      <td>C3GBTkINvXNjVGtN5</td>\n",
       "      <td>192.168.100.103</td>\n",
       "      <td>41,101</td>\n",
       "      <td>111.40.23.49</td>\n",
       "      <td>23</td>\n",
       "      <td>tcp</td>\n",
       "      <td>-</td>\n",
       "      <td>-</td>\n",
       "      <td>-</td>\n",
       "      <td>...</td>\n",
       "      <td>-</td>\n",
       "      <td>0</td>\n",
       "      <td>S</td>\n",
       "      <td>1</td>\n",
       "      <td>60</td>\n",
       "      <td>0</td>\n",
       "      <td>0</td>\n",
       "      <td>-</td>\n",
       "      <td>Malicious</td>\n",
       "      <td>PartOfAHorizontalPortScan</td>\n",
       "    </tr>\n",
       "    <tr>\n",
       "      <th>3</th>\n",
       "      <td>1,525,879,832</td>\n",
       "      <td>CDe43c1PtgynajGI6</td>\n",
       "      <td>192.168.100.103</td>\n",
       "      <td>60,905</td>\n",
       "      <td>131.174.215.147</td>\n",
       "      <td>23</td>\n",
       "      <td>tcp</td>\n",
       "      <td>-</td>\n",
       "      <td>2.998796</td>\n",
       "      <td>0</td>\n",
       "      <td>...</td>\n",
       "      <td>-</td>\n",
       "      <td>0</td>\n",
       "      <td>S</td>\n",
       "      <td>3</td>\n",
       "      <td>180</td>\n",
       "      <td>0</td>\n",
       "      <td>0</td>\n",
       "      <td>-</td>\n",
       "      <td>Malicious</td>\n",
       "      <td>PartOfAHorizontalPortScan</td>\n",
       "    </tr>\n",
       "    <tr>\n",
       "      <th>4</th>\n",
       "      <td>1,525,879,832</td>\n",
       "      <td>CJaDcG3MZzvf1YVYI4</td>\n",
       "      <td>192.168.100.103</td>\n",
       "      <td>44,301</td>\n",
       "      <td>91.42.47.63</td>\n",
       "      <td>23</td>\n",
       "      <td>tcp</td>\n",
       "      <td>-</td>\n",
       "      <td>-</td>\n",
       "      <td>-</td>\n",
       "      <td>...</td>\n",
       "      <td>-</td>\n",
       "      <td>0</td>\n",
       "      <td>S</td>\n",
       "      <td>1</td>\n",
       "      <td>60</td>\n",
       "      <td>0</td>\n",
       "      <td>0</td>\n",
       "      <td>-</td>\n",
       "      <td>Malicious</td>\n",
       "      <td>PartOfAHorizontalPortScan</td>\n",
       "    </tr>\n",
       "  </tbody>\n",
       "</table>\n",
       "<p>5 rows × 23 columns</p>\n",
       "</div>"
      ],
      "text/plain": [
       "             ts                 uid        id.orig_h  id.orig_p  \\\n",
       "0 1,525,879,831  CUmrqr4svHuSXJy5z7  192.168.100.103     51,524   \n",
       "1 1,525,879,831  CH98aB3s1kJeq6SFOc  192.168.100.103     56,305   \n",
       "2 1,525,879,831   C3GBTkINvXNjVGtN5  192.168.100.103     41,101   \n",
       "3 1,525,879,832   CDe43c1PtgynajGI6  192.168.100.103     60,905   \n",
       "4 1,525,879,832  CJaDcG3MZzvf1YVYI4  192.168.100.103     44,301   \n",
       "\n",
       "         id.resp_h  id.resp_p proto service  duration orig_bytes  ...  \\\n",
       "0   65.127.233.163         23   tcp       -  2.999051          0  ...   \n",
       "1    63.150.16.171         23   tcp       -         -          -  ...   \n",
       "2     111.40.23.49         23   tcp       -         -          -  ...   \n",
       "3  131.174.215.147         23   tcp       -  2.998796          0  ...   \n",
       "4      91.42.47.63         23   tcp       -         -          -  ...   \n",
       "\n",
       "  local_resp missed_bytes history orig_pkts  orig_ip_bytes resp_pkts  \\\n",
       "0          -            0       S         3            180         0   \n",
       "1          -            0       S         1             60         0   \n",
       "2          -            0       S         1             60         0   \n",
       "3          -            0       S         3            180         0   \n",
       "4          -            0       S         1             60         0   \n",
       "\n",
       "   resp_ip_bytes  tunnel_parents      label             detailed-label  \n",
       "0              0               -  Malicious  PartOfAHorizontalPortScan  \n",
       "1              0               -  Malicious  PartOfAHorizontalPortScan  \n",
       "2              0               -  Malicious  PartOfAHorizontalPortScan  \n",
       "3              0               -  Malicious  PartOfAHorizontalPortScan  \n",
       "4              0               -  Malicious  PartOfAHorizontalPortScan  \n",
       "\n",
       "[5 rows x 23 columns]"
      ]
     },
     "execution_count": 36,
     "metadata": {},
     "output_type": "execute_result"
    }
   ],
   "source": [
    "df_malware_origen.head()"
   ]
  },
  {
   "cell_type": "code",
   "execution_count": 82,
   "metadata": {},
   "outputs": [
    {
     "data": {
      "text/plain": [
       "(25011003, 23)"
      ]
     },
     "execution_count": 82,
     "metadata": {},
     "output_type": "execute_result"
    }
   ],
   "source": [
    "df_malware_origen.shape"
   ]
  },
  {
   "cell_type": "markdown",
   "metadata": {},
   "source": [
    "HAGO UN SAMPLE DE 5MB DEL DATA ORIGEN SIN TRATAR"
   ]
  },
  {
   "cell_type": "code",
   "execution_count": 84,
   "metadata": {},
   "outputs": [
    {
     "data": {
      "text/plain": [
       "4.38690185546875"
      ]
     },
     "execution_count": 84,
     "metadata": {},
     "output_type": "execute_result"
    }
   ],
   "source": [
    "dtypes = {8: 'str', 9: 'str', 10: 'str'}\n",
    "df_muestra_sin_tratar=pd.read_csv(r\"D:\\Cursos\\REPOSITORIOS\\DATASET\\malware_total\\df_malware_origen.csv\", chunksize=10000000 , dtype=dtypes)\n",
    "for chunk in df_muestra_sin_tratar:\n",
    "    # Obtiene una muestra aleatoria de 194000 filas que son 5mb\n",
    "    df_sample5MB_sin_tratar= chunk.sample(200000)\n",
    "    \n",
    "size = df_sample5MB_sin_tratar.size\n",
    "\n",
    "size_mb = size / 1024 / 1024\n",
    "size_mb"
   ]
  },
  {
   "cell_type": "code",
   "execution_count": 85,
   "metadata": {},
   "outputs": [],
   "source": [
    "df_sample5MB_sin_tratar.to_csv(\"D:\\Cursos\\REPOSITORIOS\\DATASET\\malware_total\\df_sample5MB_sin_tratar.csv\", index=False)"
   ]
  },
  {
   "cell_type": "markdown",
   "metadata": {},
   "source": [
    "## EDA.- COMENZAMOS CON LAS TAREA DE LIMPIEZA Y TRATAMIENTO DE DATOS"
   ]
  },
  {
   "cell_type": "code",
   "execution_count": 86,
   "metadata": {},
   "outputs": [
    {
     "data": {
      "text/plain": [
       "ts                      0\n",
       "uid                     0\n",
       "id.orig_h               0\n",
       "id.orig_p               0\n",
       "id.resp_h               0\n",
       "id.resp_p               0\n",
       "proto                   0\n",
       "service                 0\n",
       "duration                0\n",
       "orig_bytes              0\n",
       "resp_bytes              0\n",
       "conn_state              0\n",
       "local_orig              0\n",
       "local_resp              0\n",
       "missed_bytes            0\n",
       "history                 0\n",
       "orig_pkts               0\n",
       "orig_ip_bytes           0\n",
       "resp_pkts               0\n",
       "resp_ip_bytes           0\n",
       "tunnel_parents          0\n",
       "label                   0\n",
       "detailed-label    9173954\n",
       "dtype: int64"
      ]
     },
     "execution_count": 86,
     "metadata": {},
     "output_type": "execute_result"
    }
   ],
   "source": [
    "df_malware_origen.isnull().sum()"
   ]
  },
  {
   "cell_type": "markdown",
   "metadata": {},
   "source": [
    "LISTA DE COLUMNAS A ELIMINAR"
   ]
  },
  {
   "cell_type": "code",
   "execution_count": 37,
   "metadata": {},
   "outputs": [],
   "source": [
    "eliminacion=[]\n",
    "for col in df_malware_origen.columns:\n",
    "    if df_malware_origen[col].isnull().sum()>0:\n",
    "        eliminacion.append(col)\n",
    " "
   ]
  },
  {
   "cell_type": "markdown",
   "metadata": {},
   "source": [
    "CONTAR GUIONES"
   ]
  },
  {
   "cell_type": "code",
   "execution_count": 38,
   "metadata": {},
   "outputs": [],
   "source": [
    "def contar_guiones(df, columnas):\n",
    "    for col in columnas:\n",
    "        if df[col].dtype == 'object':  \n",
    "            print(col, df[col].str.count(\"-\").sum())"
   ]
  },
  {
   "cell_type": "code",
   "execution_count": 89,
   "metadata": {},
   "outputs": [
    {
     "name": "stdout",
     "output_type": "stream",
     "text": [
      "uid 0\n",
      "id.orig_h 0\n",
      "id.resp_h 0\n",
      "proto 0\n",
      "service 24993006\n",
      "duration 16904965\n",
      "orig_bytes 15272073\n",
      "resp_bytes 15272073\n",
      "conn_state 0\n",
      "local_orig 25011003\n",
      "local_resp 25011003\n",
      "history 25116\n",
      "tunnel_parents 25011003\n",
      "label 0\n",
      "detailed-label 8780158.0\n"
     ]
    }
   ],
   "source": [
    "contar_guiones(df_malware_origen,df_malware_origen.columns) "
   ]
  },
  {
   "cell_type": "markdown",
   "metadata": {},
   "source": [
    "VALORES UNICOS DE LAS COLUMNAS Y SU NUMERO"
   ]
  },
  {
   "cell_type": "code",
   "execution_count": 39,
   "metadata": {},
   "outputs": [],
   "source": [
    "def valores_unicos(df, limite=10):\n",
    "    for col in df.columns:\n",
    "        unicos = df[col].unique()\n",
    "        if len(unicos) > limite:\n",
    "            print(f\"{col}: {unicos[:limite]} + ({len(unicos)} valores únicos en total)\")\n",
    "        else:\n",
    "            print(f\"{col}: {unicos}\")"
   ]
  },
  {
   "cell_type": "code",
   "execution_count": 91,
   "metadata": {},
   "outputs": [
    {
     "name": "stdout",
     "output_type": "stream",
     "text": [
      "ts: [1.52587983e+09 1.52587983e+09 1.52587983e+09 1.52587983e+09\n",
      " 1.52587983e+09 1.52587983e+09 1.52587983e+09 1.52587983e+09\n",
      " 1.52587983e+09 1.52587983e+09] + (25011003 valores únicos en total)\n",
      "uid: ['CUmrqr4svHuSXJy5z7' 'CH98aB3s1kJeq6SFOc' 'C3GBTkINvXNjVGtN5'\n",
      " 'CDe43c1PtgynajGI6' 'CJaDcG3MZzvf1YVYI4' 'CMBrup3BLXivSp4Avc'\n",
      " 'CfHl9r3XMYtDQRrHnh' 'C7USrA15nFVkniMqC5' 'CDtZ4so7bHKpIeCmi'\n",
      " 'Cj9lm7amKnWiNDh9c'] + (25011003 valores únicos en total)\n",
      "id.orig_h: ['192.168.100.103' '192.168.100.1' '122.152.1.198' '77.217.131.211'\n",
      " '182.38.96.176' '192.232.220.245' '211.170.38.34' '71.238.84.246'\n",
      " '147.97.27.145' '87.204.77.175'] + (21442 valores únicos en total)\n",
      "id.orig_p: [51524. 56305. 41101. 60905. 44301. 50244. 34243. 34840. 58525. 43849.] + (65536 valores únicos en total)\n",
      "id.resp_h: ['65.127.233.163' '63.150.16.171' '111.40.23.49' '131.174.215.147'\n",
      " '91.42.47.63' '120.210.108.200' '147.7.65.203' '145.164.35.6'\n",
      " '177.75.151.125' '94.145.70.119'] + (11654579 valores únicos en total)\n",
      "id.resp_p: [2.3000e+01 4.9560e+04 2.1288e+04 8.0800e+03 2.3230e+03 9.5270e+03\n",
      " 3.4797e+04 1.4336e+04 1.1764e+04 2.4410e+03] + (65435 valores únicos en total)\n",
      "proto: ['tcp' 'udp' 'icmp']\n",
      "service: ['-' 'http' 'dhcp' 'ssh' 'dns' 'irc' 'ssl']\n",
      "duration: ['2.999051' '-' '2.998796' '2.998804' '2.999300' '2.993548' '2.998807'\n",
      " '2.999050' '2.999302' '2.999057'] + (1045963 valores únicos en total)\n",
      "orig_bytes: ['0' '-' '48' '180' '120' '400' '80' '220' '440' '56'] + (66149 valores únicos en total)\n",
      "resp_bytes: ['0' '-' '48' '139' '37' '486' '497' '339' '215' '218'] + (886 valores únicos en total)\n",
      "conn_state: ['S0' 'REJ' 'SF' 'OTH' 'RSTOS0' 'RSTR' 'S2' 'RSTRH' 'RSTO' 'S1'] + (13 valores únicos en total)\n",
      "local_orig: ['-']\n",
      "local_resp: ['-']\n",
      "missed_bytes: [   0. 8088. 1440. 8160. 1579. 1582. 4500. 2472. 5390. 2896.] + (23 valores únicos en total)\n",
      "history: ['S' 'Sr' 'D' 'Dd' '-' 'R' 'ShAdaFr' 'ShAfFa' 'ShAdfFa' 'ShAF'] + (264 valores únicos en total)\n",
      "orig_pkts: [ 3.  1.  2.  7. 12.  4.  8.  9. 10.  0.] + (207 valores únicos en total)\n",
      "orig_ip_bytes: [180.  60. 120.  40.  76. 264.  56.  68. 176. 596.] + (1858 valores únicos en total)\n",
      "resp_pkts: [ 0.  1. 12.  3.  4.  2. 11. 13.  5. 17.] + (129 valores únicos en total)\n",
      "resp_ip_bytes: [  0.  40.  76. 623. 164.  72.  52. 253.  44. 702.] + (1889 valores únicos en total)\n",
      "tunnel_parents: ['-']\n",
      "label: ['Malicious' 'Benign' 'Malicious   C&C'\n",
      " 'Malicious   PartOfAHorizontalPortScan' 'Malicious   DDoS'\n",
      " 'Malicious   Attack' 'Malicious   FileDownload']\n",
      "detailed-label: ['PartOfAHorizontalPortScan' '-' 'C&C' 'Attack' 'Torii' nan 'FileDownload'\n",
      " 'HeartBeat']\n"
     ]
    }
   ],
   "source": [
    "valores_unicos(df_malware_origen)"
   ]
  },
  {
   "cell_type": "code",
   "execution_count": 40,
   "metadata": {},
   "outputs": [],
   "source": [
    "for col in df_malware_origen[[\"uid\", \"id.orig_h\", \"duration\"]]:\n",
    "    eliminacion.append(col)"
   ]
  },
  {
   "cell_type": "code",
   "execution_count": 41,
   "metadata": {},
   "outputs": [
    {
     "data": {
      "text/plain": [
       "['detailed-label', 'uid', 'id.orig_h', 'duration']"
      ]
     },
     "execution_count": 41,
     "metadata": {},
     "output_type": "execute_result"
    }
   ],
   "source": [
    "eliminacion"
   ]
  },
  {
   "cell_type": "code",
   "execution_count": 42,
   "metadata": {},
   "outputs": [],
   "source": [
    "df_malware_origen.drop(eliminacion, axis=1, inplace=True)"
   ]
  },
  {
   "cell_type": "markdown",
   "metadata": {},
   "source": [
    "Convertimos los guiones en NaN"
   ]
  },
  {
   "cell_type": "code",
   "execution_count": 43,
   "metadata": {},
   "outputs": [],
   "source": [
    "df_malware_origen.replace(\"-\", np.nan, inplace=True)\n",
    "#lo paso a formato de punto flotante para mostrar COMO NaN los guiones\n",
    "pd.options.display.float_format = '{:,.0f}'.format "
   ]
  },
  {
   "cell_type": "code",
   "execution_count": 23,
   "metadata": {},
   "outputs": [
    {
     "data": {
      "text/plain": [
       "ts                       0\n",
       "id.orig_p                0\n",
       "id.resp_h                0\n",
       "id.resp_p                0\n",
       "proto                    0\n",
       "service           24993006\n",
       "orig_bytes        15272073\n",
       "resp_bytes        15272073\n",
       "conn_state               0\n",
       "local_orig        25011003\n",
       "local_resp        25011003\n",
       "missed_bytes             0\n",
       "history              25116\n",
       "orig_pkts                0\n",
       "orig_ip_bytes            0\n",
       "resp_pkts                0\n",
       "resp_ip_bytes            0\n",
       "tunnel_parents    25011003\n",
       "label                    0\n",
       "dtype: int64"
      ]
     },
     "execution_count": 23,
     "metadata": {},
     "output_type": "execute_result"
    }
   ],
   "source": [
    "df_malware_origen.isna().sum()"
   ]
  },
  {
   "cell_type": "code",
   "execution_count": 44,
   "metadata": {},
   "outputs": [],
   "source": [
    "#debido a la gran cantidad de nulos, me cargo varias columnas : [\"service\", \"duration\", orig_bytes\",\"resp_bytes\",local_orig\", \"local_resp\",\"tunnel_parents\", \"detailed_label\"]\n",
    "df_malware_origen.drop(columns={\"service\", \"orig_bytes\",\"resp_bytes\",\"local_orig\", \"local_resp\",\"tunnel_parents\"}, inplace=True)\n"
   ]
  },
  {
   "cell_type": "markdown",
   "metadata": {},
   "source": [
    "A history la imputo con la moda ya tenia pocoS 25000 nulos"
   ]
  },
  {
   "cell_type": "code",
   "execution_count": 45,
   "metadata": {},
   "outputs": [],
   "source": [
    "df_malware_origen.history.fillna(\"S\", inplace=True)\n",
    "    "
   ]
  },
  {
   "cell_type": "markdown",
   "metadata": {},
   "source": [
    "MAPEO LA TARGET"
   ]
  },
  {
   "cell_type": "code",
   "execution_count": 46,
   "metadata": {},
   "outputs": [
    {
     "data": {
      "text/plain": [
       "Benign                                  35\n",
       "Malicious                               28\n",
       "Malicious   DDoS                        23\n",
       "Malicious   PartOfAHorizontalPortScan   14\n",
       "Malicious   C&C                          0\n",
       "Malicious   Attack                       0\n",
       "Malicious   FileDownload                 0\n",
       "Name: label, dtype: float64"
      ]
     },
     "execution_count": 46,
     "metadata": {},
     "output_type": "execute_result"
    }
   ],
   "source": [
    "df_malware_origen.label.value_counts()/df_malware_origen.shape[0]*100"
   ]
  },
  {
   "cell_type": "code",
   "execution_count": 47,
   "metadata": {},
   "outputs": [],
   "source": [
    "df_malware_origen.to_csv(\"D:\\Cursos\\REPOSITORIOS\\DATASET\\malware_total\\df_malware_origen.csv\", index=False)"
   ]
  },
  {
   "cell_type": "markdown",
   "metadata": {},
   "source": [
    "LA RENOMBRO"
   ]
  },
  {
   "cell_type": "code",
   "execution_count": 48,
   "metadata": {},
   "outputs": [],
   "source": [
    "df_malware_origen.rename(columns={\"label\": \"Target\"}, inplace=True)"
   ]
  },
  {
   "cell_type": "markdown",
   "metadata": {},
   "source": [
    "CONVIERTO LA TARGET EN BINARIA CON VALORES BENIGN Y MALICIOUS"
   ]
  },
  {
   "cell_type": "code",
   "execution_count": 49,
   "metadata": {},
   "outputs": [],
   "source": [
    "df_malware_origen.Target = df_malware_origen.Target.apply(lambda x: \"Malicious\" if \"Malicious\"in x else x)\n"
   ]
  },
  {
   "cell_type": "code",
   "execution_count": 50,
   "metadata": {},
   "outputs": [
    {
     "data": {
      "text/plain": [
       "Malicious    16230845\n",
       "Benign        8780158\n",
       "Name: Target, dtype: int64"
      ]
     },
     "execution_count": 50,
     "metadata": {},
     "output_type": "execute_result"
    }
   ],
   "source": [
    "df_malware_origen.Target.value_counts()"
   ]
  },
  {
   "cell_type": "markdown",
   "metadata": {},
   "source": [
    "SE MODIFICA EL FORMATO DE HORA DE UNIX A FORMATO DATATIME"
   ]
  },
  {
   "cell_type": "code",
   "execution_count": 51,
   "metadata": {},
   "outputs": [
    {
     "data": {
      "text/plain": [
       "0         1,525,879,831\n",
       "1         1,525,879,831\n",
       "2         1,525,879,831\n",
       "3         1,525,879,832\n",
       "4         1,525,879,832\n",
       "               ...     \n",
       "3581023   1,569,025,924\n",
       "3581024   1,568,941,445\n",
       "3581025   1,569,026,391\n",
       "3581026   1,569,026,380\n",
       "3581027   1,569,026,383\n",
       "Name: ts, Length: 25011003, dtype: float64"
      ]
     },
     "execution_count": 51,
     "metadata": {},
     "output_type": "execute_result"
    }
   ],
   "source": [
    "df_malware_origen.ts"
   ]
  },
  {
   "cell_type": "code",
   "execution_count": 54,
   "metadata": {},
   "outputs": [],
   "source": [
    "#convierto de horario unix a datetime\n",
    "df_malware_origen['ts'] = pd.to_datetime(df_malware_origen['ts'], unit='s')"
   ]
  },
  {
   "cell_type": "code",
   "execution_count": 53,
   "metadata": {},
   "outputs": [
    {
     "data": {
      "text/html": [
       "<div>\n",
       "<style scoped>\n",
       "    .dataframe tbody tr th:only-of-type {\n",
       "        vertical-align: middle;\n",
       "    }\n",
       "\n",
       "    .dataframe tbody tr th {\n",
       "        vertical-align: top;\n",
       "    }\n",
       "\n",
       "    .dataframe thead th {\n",
       "        text-align: right;\n",
       "    }\n",
       "</style>\n",
       "<table border=\"1\" class=\"dataframe\">\n",
       "  <thead>\n",
       "    <tr style=\"text-align: right;\">\n",
       "      <th></th>\n",
       "      <th>ts</th>\n",
       "      <th>id.orig_p</th>\n",
       "      <th>id.resp_h</th>\n",
       "      <th>id.resp_p</th>\n",
       "      <th>proto</th>\n",
       "      <th>conn_state</th>\n",
       "      <th>missed_bytes</th>\n",
       "      <th>history</th>\n",
       "      <th>orig_pkts</th>\n",
       "      <th>orig_ip_bytes</th>\n",
       "      <th>resp_pkts</th>\n",
       "      <th>resp_ip_bytes</th>\n",
       "      <th>Target</th>\n",
       "    </tr>\n",
       "  </thead>\n",
       "  <tbody>\n",
       "    <tr>\n",
       "      <th>0</th>\n",
       "      <td>1,525,879,831</td>\n",
       "      <td>51,524</td>\n",
       "      <td>65.127.233.163</td>\n",
       "      <td>23</td>\n",
       "      <td>tcp</td>\n",
       "      <td>S0</td>\n",
       "      <td>0</td>\n",
       "      <td>S</td>\n",
       "      <td>3</td>\n",
       "      <td>180</td>\n",
       "      <td>0</td>\n",
       "      <td>0</td>\n",
       "      <td>Malicious</td>\n",
       "    </tr>\n",
       "    <tr>\n",
       "      <th>1</th>\n",
       "      <td>1,525,879,831</td>\n",
       "      <td>56,305</td>\n",
       "      <td>63.150.16.171</td>\n",
       "      <td>23</td>\n",
       "      <td>tcp</td>\n",
       "      <td>S0</td>\n",
       "      <td>0</td>\n",
       "      <td>S</td>\n",
       "      <td>1</td>\n",
       "      <td>60</td>\n",
       "      <td>0</td>\n",
       "      <td>0</td>\n",
       "      <td>Malicious</td>\n",
       "    </tr>\n",
       "    <tr>\n",
       "      <th>2</th>\n",
       "      <td>1,525,879,831</td>\n",
       "      <td>41,101</td>\n",
       "      <td>111.40.23.49</td>\n",
       "      <td>23</td>\n",
       "      <td>tcp</td>\n",
       "      <td>S0</td>\n",
       "      <td>0</td>\n",
       "      <td>S</td>\n",
       "      <td>1</td>\n",
       "      <td>60</td>\n",
       "      <td>0</td>\n",
       "      <td>0</td>\n",
       "      <td>Malicious</td>\n",
       "    </tr>\n",
       "    <tr>\n",
       "      <th>3</th>\n",
       "      <td>1,525,879,832</td>\n",
       "      <td>60,905</td>\n",
       "      <td>131.174.215.147</td>\n",
       "      <td>23</td>\n",
       "      <td>tcp</td>\n",
       "      <td>S0</td>\n",
       "      <td>0</td>\n",
       "      <td>S</td>\n",
       "      <td>3</td>\n",
       "      <td>180</td>\n",
       "      <td>0</td>\n",
       "      <td>0</td>\n",
       "      <td>Malicious</td>\n",
       "    </tr>\n",
       "    <tr>\n",
       "      <th>4</th>\n",
       "      <td>1,525,879,832</td>\n",
       "      <td>44,301</td>\n",
       "      <td>91.42.47.63</td>\n",
       "      <td>23</td>\n",
       "      <td>tcp</td>\n",
       "      <td>S0</td>\n",
       "      <td>0</td>\n",
       "      <td>S</td>\n",
       "      <td>1</td>\n",
       "      <td>60</td>\n",
       "      <td>0</td>\n",
       "      <td>0</td>\n",
       "      <td>Malicious</td>\n",
       "    </tr>\n",
       "  </tbody>\n",
       "</table>\n",
       "</div>"
      ],
      "text/plain": [
       "             ts  id.orig_p        id.resp_h  id.resp_p proto conn_state  \\\n",
       "0 1,525,879,831     51,524   65.127.233.163         23   tcp         S0   \n",
       "1 1,525,879,831     56,305    63.150.16.171         23   tcp         S0   \n",
       "2 1,525,879,831     41,101     111.40.23.49         23   tcp         S0   \n",
       "3 1,525,879,832     60,905  131.174.215.147         23   tcp         S0   \n",
       "4 1,525,879,832     44,301      91.42.47.63         23   tcp         S0   \n",
       "\n",
       "   missed_bytes history  orig_pkts  orig_ip_bytes  resp_pkts  resp_ip_bytes  \\\n",
       "0             0       S          3            180          0              0   \n",
       "1             0       S          1             60          0              0   \n",
       "2             0       S          1             60          0              0   \n",
       "3             0       S          3            180          0              0   \n",
       "4             0       S          1             60          0              0   \n",
       "\n",
       "      Target  \n",
       "0  Malicious  \n",
       "1  Malicious  \n",
       "2  Malicious  \n",
       "3  Malicious  \n",
       "4  Malicious  "
      ]
     },
     "execution_count": 53,
     "metadata": {},
     "output_type": "execute_result"
    }
   ],
   "source": [
    "df_malware_origen.head()"
   ]
  },
  {
   "cell_type": "code",
   "execution_count": 55,
   "metadata": {},
   "outputs": [],
   "source": [
    "#separo columnas de tiempos\n",
    "df_malware_origen[\"anyo\"] = df_malware_origen[\"ts\"].dt.year\n",
    "df_malware_origen[\"mes\"] = df_malware_origen[\"ts\"].dt.month\n",
    "df_malware_origen[\"dia\"] = df_malware_origen[\"ts\"].dt.day\n",
    "df_malware_origen[\"hora\"] = df_malware_origen[\"ts\"].dt.hour\n",
    "\n"
   ]
  },
  {
   "cell_type": "code",
   "execution_count": 59,
   "metadata": {},
   "outputs": [],
   "source": [
    "df_malware_origen[\"dia_semanal\"] = df_malware_origen[\"ts\"].dt.dayofweek"
   ]
  },
  {
   "cell_type": "code",
   "execution_count": 60,
   "metadata": {},
   "outputs": [
    {
     "data": {
      "text/html": [
       "<div>\n",
       "<style scoped>\n",
       "    .dataframe tbody tr th:only-of-type {\n",
       "        vertical-align: middle;\n",
       "    }\n",
       "\n",
       "    .dataframe tbody tr th {\n",
       "        vertical-align: top;\n",
       "    }\n",
       "\n",
       "    .dataframe thead th {\n",
       "        text-align: right;\n",
       "    }\n",
       "</style>\n",
       "<table border=\"1\" class=\"dataframe\">\n",
       "  <thead>\n",
       "    <tr style=\"text-align: right;\">\n",
       "      <th></th>\n",
       "      <th>ts</th>\n",
       "      <th>id.orig_p</th>\n",
       "      <th>id.resp_h</th>\n",
       "      <th>id.resp_p</th>\n",
       "      <th>proto</th>\n",
       "      <th>conn_state</th>\n",
       "      <th>missed_bytes</th>\n",
       "      <th>history</th>\n",
       "      <th>orig_pkts</th>\n",
       "      <th>orig_ip_bytes</th>\n",
       "      <th>resp_pkts</th>\n",
       "      <th>resp_ip_bytes</th>\n",
       "      <th>Target</th>\n",
       "      <th>anyo</th>\n",
       "      <th>mes</th>\n",
       "      <th>dia</th>\n",
       "      <th>hora</th>\n",
       "      <th>dia_semanal</th>\n",
       "    </tr>\n",
       "  </thead>\n",
       "  <tbody>\n",
       "    <tr>\n",
       "      <th>0</th>\n",
       "      <td>2018-05-09 15:30:31.015811072</td>\n",
       "      <td>51,524</td>\n",
       "      <td>65.127.233.163</td>\n",
       "      <td>23</td>\n",
       "      <td>tcp</td>\n",
       "      <td>S0</td>\n",
       "      <td>0</td>\n",
       "      <td>S</td>\n",
       "      <td>3</td>\n",
       "      <td>180</td>\n",
       "      <td>0</td>\n",
       "      <td>0</td>\n",
       "      <td>Malicious</td>\n",
       "      <td>2018</td>\n",
       "      <td>5</td>\n",
       "      <td>9</td>\n",
       "      <td>15</td>\n",
       "      <td>2</td>\n",
       "    </tr>\n",
       "    <tr>\n",
       "      <th>1</th>\n",
       "      <td>2018-05-09 15:30:31.025054976</td>\n",
       "      <td>56,305</td>\n",
       "      <td>63.150.16.171</td>\n",
       "      <td>23</td>\n",
       "      <td>tcp</td>\n",
       "      <td>S0</td>\n",
       "      <td>0</td>\n",
       "      <td>S</td>\n",
       "      <td>1</td>\n",
       "      <td>60</td>\n",
       "      <td>0</td>\n",
       "      <td>0</td>\n",
       "      <td>Malicious</td>\n",
       "      <td>2018</td>\n",
       "      <td>5</td>\n",
       "      <td>9</td>\n",
       "      <td>15</td>\n",
       "      <td>2</td>\n",
       "    </tr>\n",
       "    <tr>\n",
       "      <th>2</th>\n",
       "      <td>2018-05-09 15:30:31.045044992</td>\n",
       "      <td>41,101</td>\n",
       "      <td>111.40.23.49</td>\n",
       "      <td>23</td>\n",
       "      <td>tcp</td>\n",
       "      <td>S0</td>\n",
       "      <td>0</td>\n",
       "      <td>S</td>\n",
       "      <td>1</td>\n",
       "      <td>60</td>\n",
       "      <td>0</td>\n",
       "      <td>0</td>\n",
       "      <td>Malicious</td>\n",
       "      <td>2018</td>\n",
       "      <td>5</td>\n",
       "      <td>9</td>\n",
       "      <td>15</td>\n",
       "      <td>2</td>\n",
       "    </tr>\n",
       "    <tr>\n",
       "      <th>3</th>\n",
       "      <td>2018-05-09 15:30:32.016239872</td>\n",
       "      <td>60,905</td>\n",
       "      <td>131.174.215.147</td>\n",
       "      <td>23</td>\n",
       "      <td>tcp</td>\n",
       "      <td>S0</td>\n",
       "      <td>0</td>\n",
       "      <td>S</td>\n",
       "      <td>3</td>\n",
       "      <td>180</td>\n",
       "      <td>0</td>\n",
       "      <td>0</td>\n",
       "      <td>Malicious</td>\n",
       "      <td>2018</td>\n",
       "      <td>5</td>\n",
       "      <td>9</td>\n",
       "      <td>15</td>\n",
       "      <td>2</td>\n",
       "    </tr>\n",
       "    <tr>\n",
       "      <th>4</th>\n",
       "      <td>2018-05-09 15:30:32.024985088</td>\n",
       "      <td>44,301</td>\n",
       "      <td>91.42.47.63</td>\n",
       "      <td>23</td>\n",
       "      <td>tcp</td>\n",
       "      <td>S0</td>\n",
       "      <td>0</td>\n",
       "      <td>S</td>\n",
       "      <td>1</td>\n",
       "      <td>60</td>\n",
       "      <td>0</td>\n",
       "      <td>0</td>\n",
       "      <td>Malicious</td>\n",
       "      <td>2018</td>\n",
       "      <td>5</td>\n",
       "      <td>9</td>\n",
       "      <td>15</td>\n",
       "      <td>2</td>\n",
       "    </tr>\n",
       "    <tr>\n",
       "      <th>...</th>\n",
       "      <td>...</td>\n",
       "      <td>...</td>\n",
       "      <td>...</td>\n",
       "      <td>...</td>\n",
       "      <td>...</td>\n",
       "      <td>...</td>\n",
       "      <td>...</td>\n",
       "      <td>...</td>\n",
       "      <td>...</td>\n",
       "      <td>...</td>\n",
       "      <td>...</td>\n",
       "      <td>...</td>\n",
       "      <td>...</td>\n",
       "      <td>...</td>\n",
       "      <td>...</td>\n",
       "      <td>...</td>\n",
       "      <td>...</td>\n",
       "      <td>...</td>\n",
       "    </tr>\n",
       "    <tr>\n",
       "      <th>3581023</th>\n",
       "      <td>2019-09-21 00:32:03.773210880</td>\n",
       "      <td>123</td>\n",
       "      <td>89.221.210.188</td>\n",
       "      <td>123</td>\n",
       "      <td>udp</td>\n",
       "      <td>SF</td>\n",
       "      <td>0</td>\n",
       "      <td>Dd</td>\n",
       "      <td>2</td>\n",
       "      <td>152</td>\n",
       "      <td>2</td>\n",
       "      <td>152</td>\n",
       "      <td>Benign</td>\n",
       "      <td>2019</td>\n",
       "      <td>9</td>\n",
       "      <td>21</td>\n",
       "      <td>0</td>\n",
       "      <td>5</td>\n",
       "    </tr>\n",
       "    <tr>\n",
       "      <th>3581024</th>\n",
       "      <td>2019-09-20 01:04:04.764034048</td>\n",
       "      <td>37,306</td>\n",
       "      <td>102.165.48.81</td>\n",
       "      <td>17,769</td>\n",
       "      <td>tcp</td>\n",
       "      <td>S1</td>\n",
       "      <td>0</td>\n",
       "      <td>ShAdDaT</td>\n",
       "      <td>8,952</td>\n",
       "      <td>483,602</td>\n",
       "      <td>9,613</td>\n",
       "      <td>520,116</td>\n",
       "      <td>Malicious</td>\n",
       "      <td>2019</td>\n",
       "      <td>9</td>\n",
       "      <td>20</td>\n",
       "      <td>1</td>\n",
       "      <td>4</td>\n",
       "    </tr>\n",
       "    <tr>\n",
       "      <th>3581025</th>\n",
       "      <td>2019-09-21 00:39:50.773122048</td>\n",
       "      <td>123</td>\n",
       "      <td>212.111.30.190</td>\n",
       "      <td>123</td>\n",
       "      <td>udp</td>\n",
       "      <td>SF</td>\n",
       "      <td>0</td>\n",
       "      <td>Dd</td>\n",
       "      <td>2</td>\n",
       "      <td>152</td>\n",
       "      <td>2</td>\n",
       "      <td>152</td>\n",
       "      <td>Benign</td>\n",
       "      <td>2019</td>\n",
       "      <td>9</td>\n",
       "      <td>21</td>\n",
       "      <td>0</td>\n",
       "      <td>5</td>\n",
       "    </tr>\n",
       "    <tr>\n",
       "      <th>3581026</th>\n",
       "      <td>2019-09-21 00:39:39.773117184</td>\n",
       "      <td>123</td>\n",
       "      <td>5.1.56.123</td>\n",
       "      <td>123</td>\n",
       "      <td>udp</td>\n",
       "      <td>SF</td>\n",
       "      <td>0</td>\n",
       "      <td>Dd</td>\n",
       "      <td>2</td>\n",
       "      <td>152</td>\n",
       "      <td>2</td>\n",
       "      <td>152</td>\n",
       "      <td>Benign</td>\n",
       "      <td>2019</td>\n",
       "      <td>9</td>\n",
       "      <td>21</td>\n",
       "      <td>0</td>\n",
       "      <td>5</td>\n",
       "    </tr>\n",
       "    <tr>\n",
       "      <th>3581027</th>\n",
       "      <td>2019-09-21 00:39:42.773051904</td>\n",
       "      <td>123</td>\n",
       "      <td>81.2.254.32</td>\n",
       "      <td>123</td>\n",
       "      <td>udp</td>\n",
       "      <td>SF</td>\n",
       "      <td>0</td>\n",
       "      <td>Dd</td>\n",
       "      <td>2</td>\n",
       "      <td>152</td>\n",
       "      <td>2</td>\n",
       "      <td>152</td>\n",
       "      <td>Benign</td>\n",
       "      <td>2019</td>\n",
       "      <td>9</td>\n",
       "      <td>21</td>\n",
       "      <td>0</td>\n",
       "      <td>5</td>\n",
       "    </tr>\n",
       "  </tbody>\n",
       "</table>\n",
       "<p>25011003 rows × 18 columns</p>\n",
       "</div>"
      ],
      "text/plain": [
       "                                   ts  id.orig_p        id.resp_h  id.resp_p  \\\n",
       "0       2018-05-09 15:30:31.015811072     51,524   65.127.233.163         23   \n",
       "1       2018-05-09 15:30:31.025054976     56,305    63.150.16.171         23   \n",
       "2       2018-05-09 15:30:31.045044992     41,101     111.40.23.49         23   \n",
       "3       2018-05-09 15:30:32.016239872     60,905  131.174.215.147         23   \n",
       "4       2018-05-09 15:30:32.024985088     44,301      91.42.47.63         23   \n",
       "...                               ...        ...              ...        ...   \n",
       "3581023 2019-09-21 00:32:03.773210880        123   89.221.210.188        123   \n",
       "3581024 2019-09-20 01:04:04.764034048     37,306    102.165.48.81     17,769   \n",
       "3581025 2019-09-21 00:39:50.773122048        123   212.111.30.190        123   \n",
       "3581026 2019-09-21 00:39:39.773117184        123       5.1.56.123        123   \n",
       "3581027 2019-09-21 00:39:42.773051904        123      81.2.254.32        123   \n",
       "\n",
       "        proto conn_state  missed_bytes  history  orig_pkts  orig_ip_bytes  \\\n",
       "0         tcp         S0             0        S          3            180   \n",
       "1         tcp         S0             0        S          1             60   \n",
       "2         tcp         S0             0        S          1             60   \n",
       "3         tcp         S0             0        S          3            180   \n",
       "4         tcp         S0             0        S          1             60   \n",
       "...       ...        ...           ...      ...        ...            ...   \n",
       "3581023   udp         SF             0       Dd          2            152   \n",
       "3581024   tcp         S1             0  ShAdDaT      8,952        483,602   \n",
       "3581025   udp         SF             0       Dd          2            152   \n",
       "3581026   udp         SF             0       Dd          2            152   \n",
       "3581027   udp         SF             0       Dd          2            152   \n",
       "\n",
       "         resp_pkts  resp_ip_bytes     Target  anyo  mes  dia  hora  \\\n",
       "0                0              0  Malicious  2018    5    9    15   \n",
       "1                0              0  Malicious  2018    5    9    15   \n",
       "2                0              0  Malicious  2018    5    9    15   \n",
       "3                0              0  Malicious  2018    5    9    15   \n",
       "4                0              0  Malicious  2018    5    9    15   \n",
       "...            ...            ...        ...   ...  ...  ...   ...   \n",
       "3581023          2            152     Benign  2019    9   21     0   \n",
       "3581024      9,613        520,116  Malicious  2019    9   20     1   \n",
       "3581025          2            152     Benign  2019    9   21     0   \n",
       "3581026          2            152     Benign  2019    9   21     0   \n",
       "3581027          2            152     Benign  2019    9   21     0   \n",
       "\n",
       "         dia_semanal  \n",
       "0                  2  \n",
       "1                  2  \n",
       "2                  2  \n",
       "3                  2  \n",
       "4                  2  \n",
       "...              ...  \n",
       "3581023            5  \n",
       "3581024            4  \n",
       "3581025            5  \n",
       "3581026            5  \n",
       "3581027            5  \n",
       "\n",
       "[25011003 rows x 18 columns]"
      ]
     },
     "execution_count": 60,
     "metadata": {},
     "output_type": "execute_result"
    }
   ],
   "source": [
    "df_malware_origen"
   ]
  },
  {
   "cell_type": "code",
   "execution_count": 57,
   "metadata": {},
   "outputs": [
    {
     "data": {
      "text/plain": [
       "(25011003, 17)"
      ]
     },
     "execution_count": 57,
     "metadata": {},
     "output_type": "execute_result"
    }
   ],
   "source": [
    "df_malware_origen.shape"
   ]
  },
  {
   "cell_type": "code",
   "execution_count": 40,
   "metadata": {},
   "outputs": [
    {
     "data": {
      "text/html": [
       "<div>\n",
       "<style scoped>\n",
       "    .dataframe tbody tr th:only-of-type {\n",
       "        vertical-align: middle;\n",
       "    }\n",
       "\n",
       "    .dataframe tbody tr th {\n",
       "        vertical-align: top;\n",
       "    }\n",
       "\n",
       "    .dataframe thead th {\n",
       "        text-align: right;\n",
       "    }\n",
       "</style>\n",
       "<table border=\"1\" class=\"dataframe\">\n",
       "  <thead>\n",
       "    <tr style=\"text-align: right;\">\n",
       "      <th></th>\n",
       "      <th>id.orig_p</th>\n",
       "      <th>id.resp_h</th>\n",
       "      <th>id.resp_p</th>\n",
       "      <th>proto</th>\n",
       "      <th>conn_state</th>\n",
       "      <th>missed_bytes</th>\n",
       "      <th>history</th>\n",
       "      <th>orig_pkts</th>\n",
       "      <th>orig_ip_bytes</th>\n",
       "      <th>resp_pkts</th>\n",
       "      <th>resp_ip_bytes</th>\n",
       "      <th>label</th>\n",
       "      <th>anyo</th>\n",
       "      <th>mes</th>\n",
       "      <th>dia</th>\n",
       "      <th>hora</th>\n",
       "    </tr>\n",
       "  </thead>\n",
       "  <tbody>\n",
       "    <tr>\n",
       "      <th>0</th>\n",
       "      <td>51,524</td>\n",
       "      <td>65.127.233.163</td>\n",
       "      <td>23</td>\n",
       "      <td>tcp</td>\n",
       "      <td>S0</td>\n",
       "      <td>0</td>\n",
       "      <td>S</td>\n",
       "      <td>3</td>\n",
       "      <td>180</td>\n",
       "      <td>0</td>\n",
       "      <td>0</td>\n",
       "      <td>Malicious</td>\n",
       "      <td>2018</td>\n",
       "      <td>5</td>\n",
       "      <td>9</td>\n",
       "      <td>15</td>\n",
       "    </tr>\n",
       "    <tr>\n",
       "      <th>1</th>\n",
       "      <td>56,305</td>\n",
       "      <td>63.150.16.171</td>\n",
       "      <td>23</td>\n",
       "      <td>tcp</td>\n",
       "      <td>S0</td>\n",
       "      <td>0</td>\n",
       "      <td>S</td>\n",
       "      <td>1</td>\n",
       "      <td>60</td>\n",
       "      <td>0</td>\n",
       "      <td>0</td>\n",
       "      <td>Malicious</td>\n",
       "      <td>2018</td>\n",
       "      <td>5</td>\n",
       "      <td>9</td>\n",
       "      <td>15</td>\n",
       "    </tr>\n",
       "    <tr>\n",
       "      <th>2</th>\n",
       "      <td>41,101</td>\n",
       "      <td>111.40.23.49</td>\n",
       "      <td>23</td>\n",
       "      <td>tcp</td>\n",
       "      <td>S0</td>\n",
       "      <td>0</td>\n",
       "      <td>S</td>\n",
       "      <td>1</td>\n",
       "      <td>60</td>\n",
       "      <td>0</td>\n",
       "      <td>0</td>\n",
       "      <td>Malicious</td>\n",
       "      <td>2018</td>\n",
       "      <td>5</td>\n",
       "      <td>9</td>\n",
       "      <td>15</td>\n",
       "    </tr>\n",
       "    <tr>\n",
       "      <th>3</th>\n",
       "      <td>60,905</td>\n",
       "      <td>131.174.215.147</td>\n",
       "      <td>23</td>\n",
       "      <td>tcp</td>\n",
       "      <td>S0</td>\n",
       "      <td>0</td>\n",
       "      <td>S</td>\n",
       "      <td>3</td>\n",
       "      <td>180</td>\n",
       "      <td>0</td>\n",
       "      <td>0</td>\n",
       "      <td>Malicious</td>\n",
       "      <td>2018</td>\n",
       "      <td>5</td>\n",
       "      <td>9</td>\n",
       "      <td>15</td>\n",
       "    </tr>\n",
       "    <tr>\n",
       "      <th>4</th>\n",
       "      <td>44,301</td>\n",
       "      <td>91.42.47.63</td>\n",
       "      <td>23</td>\n",
       "      <td>tcp</td>\n",
       "      <td>S0</td>\n",
       "      <td>0</td>\n",
       "      <td>S</td>\n",
       "      <td>1</td>\n",
       "      <td>60</td>\n",
       "      <td>0</td>\n",
       "      <td>0</td>\n",
       "      <td>Malicious</td>\n",
       "      <td>2018</td>\n",
       "      <td>5</td>\n",
       "      <td>9</td>\n",
       "      <td>15</td>\n",
       "    </tr>\n",
       "  </tbody>\n",
       "</table>\n",
       "</div>"
      ],
      "text/plain": [
       "   id.orig_p        id.resp_h  id.resp_p proto conn_state  missed_bytes  \\\n",
       "0     51,524   65.127.233.163         23   tcp         S0             0   \n",
       "1     56,305    63.150.16.171         23   tcp         S0             0   \n",
       "2     41,101     111.40.23.49         23   tcp         S0             0   \n",
       "3     60,905  131.174.215.147         23   tcp         S0             0   \n",
       "4     44,301      91.42.47.63         23   tcp         S0             0   \n",
       "\n",
       "  history  orig_pkts  orig_ip_bytes  resp_pkts  resp_ip_bytes      label  \\\n",
       "0       S          3            180          0              0  Malicious   \n",
       "1       S          1             60          0              0  Malicious   \n",
       "2       S          1             60          0              0  Malicious   \n",
       "3       S          3            180          0              0  Malicious   \n",
       "4       S          1             60          0              0  Malicious   \n",
       "\n",
       "   anyo  mes  dia  hora  \n",
       "0  2018    5    9    15  \n",
       "1  2018    5    9    15  \n",
       "2  2018    5    9    15  \n",
       "3  2018    5    9    15  \n",
       "4  2018    5    9    15  "
      ]
     },
     "execution_count": 40,
     "metadata": {},
     "output_type": "execute_result"
    }
   ],
   "source": [
    "df_malware_origen.head()"
   ]
  },
  {
   "cell_type": "code",
   "execution_count": 58,
   "metadata": {},
   "outputs": [],
   "source": [
    "df_malware_origen.to_csv(\"D:\\Cursos\\REPOSITORIOS\\DATASET\\malware_total\\df_malware_origen.csv\", index=False)"
   ]
  },
  {
   "cell_type": "code",
   "execution_count": 61,
   "metadata": {},
   "outputs": [],
   "source": [
    "df_malware_origen.to_csv(\"D:\\Cursos\\REPOSITORIOS\\DATASET\\malware_total\\df_malware_origen_dia_semanal.csv\", index=False)"
   ]
  },
  {
   "cell_type": "markdown",
   "metadata": {},
   "source": [
    "HAGO OTRO DF SAMPLE CON EL ARVHIVO ORIGINAL SIN TRATAR CON NAN"
   ]
  },
  {
   "cell_type": "code",
   "execution_count": 118,
   "metadata": {},
   "outputs": [
    {
     "data": {
      "text/plain": [
       "5.035400390625"
      ]
     },
     "execution_count": 118,
     "metadata": {},
     "output_type": "execute_result"
    }
   ],
   "source": [
    "dtypes= {8: 'str', 9: 'str', 10: 'str'}\n",
    "df_muestra_sin_nulos_guiones=pd.read_csv(r\"D:\\Cursos\\REPOSITORIOS\\DATASET\\malware_total\\df_malware_origen.csv\", chunksize=10000000, dtype=dtypes)\n",
    "for chunk in df_muestra_sin_nulos_guiones:\n",
    "    # Obtiene una muestra aleatoria de 194000 filas que son 5mb\n",
    "    df_muestra_sin_nulos_guiones= chunk.sample(330000)\n",
    "    \n",
    "size = df_muestra_sin_nulos_guiones.size\n",
    "\n",
    "size_mb = size / 1024 / 1024\n",
    "size_mb\n",
    "\n",
    "\n"
   ]
  },
  {
   "cell_type": "markdown",
   "metadata": {},
   "source": [
    "# ESTUDIO GRAFICO DEL DATASET"
   ]
  },
  {
   "cell_type": "code",
   "execution_count": 105,
   "metadata": {},
   "outputs": [
    {
     "data": {
      "text/html": [
       "<div>\n",
       "<style scoped>\n",
       "    .dataframe tbody tr th:only-of-type {\n",
       "        vertical-align: middle;\n",
       "    }\n",
       "\n",
       "    .dataframe tbody tr th {\n",
       "        vertical-align: top;\n",
       "    }\n",
       "\n",
       "    .dataframe thead th {\n",
       "        text-align: right;\n",
       "    }\n",
       "</style>\n",
       "<table border=\"1\" class=\"dataframe\">\n",
       "  <thead>\n",
       "    <tr style=\"text-align: right;\">\n",
       "      <th></th>\n",
       "      <th>id.orig_p</th>\n",
       "      <th>id.resp_h</th>\n",
       "      <th>id.resp_p</th>\n",
       "      <th>proto</th>\n",
       "      <th>conn_state</th>\n",
       "      <th>missed_bytes</th>\n",
       "      <th>history</th>\n",
       "      <th>orig_pkts</th>\n",
       "      <th>orig_ip_bytes</th>\n",
       "      <th>resp_pkts</th>\n",
       "      <th>resp_ip_bytes</th>\n",
       "      <th>label</th>\n",
       "      <th>anyo</th>\n",
       "      <th>mes</th>\n",
       "      <th>dia</th>\n",
       "      <th>hora</th>\n",
       "      <th>dia_semanal</th>\n",
       "    </tr>\n",
       "  </thead>\n",
       "  <tbody>\n",
       "    <tr>\n",
       "      <th>0</th>\n",
       "      <td>51,524</td>\n",
       "      <td>65.127.233.163</td>\n",
       "      <td>23</td>\n",
       "      <td>tcp</td>\n",
       "      <td>S0</td>\n",
       "      <td>0</td>\n",
       "      <td>S</td>\n",
       "      <td>3</td>\n",
       "      <td>180</td>\n",
       "      <td>0</td>\n",
       "      <td>0</td>\n",
       "      <td>Malicious</td>\n",
       "      <td>2018</td>\n",
       "      <td>5</td>\n",
       "      <td>9</td>\n",
       "      <td>15</td>\n",
       "      <td>2</td>\n",
       "    </tr>\n",
       "    <tr>\n",
       "      <th>1</th>\n",
       "      <td>56,305</td>\n",
       "      <td>63.150.16.171</td>\n",
       "      <td>23</td>\n",
       "      <td>tcp</td>\n",
       "      <td>S0</td>\n",
       "      <td>0</td>\n",
       "      <td>S</td>\n",
       "      <td>1</td>\n",
       "      <td>60</td>\n",
       "      <td>0</td>\n",
       "      <td>0</td>\n",
       "      <td>Malicious</td>\n",
       "      <td>2018</td>\n",
       "      <td>5</td>\n",
       "      <td>9</td>\n",
       "      <td>15</td>\n",
       "      <td>2</td>\n",
       "    </tr>\n",
       "    <tr>\n",
       "      <th>2</th>\n",
       "      <td>41,101</td>\n",
       "      <td>111.40.23.49</td>\n",
       "      <td>23</td>\n",
       "      <td>tcp</td>\n",
       "      <td>S0</td>\n",
       "      <td>0</td>\n",
       "      <td>S</td>\n",
       "      <td>1</td>\n",
       "      <td>60</td>\n",
       "      <td>0</td>\n",
       "      <td>0</td>\n",
       "      <td>Malicious</td>\n",
       "      <td>2018</td>\n",
       "      <td>5</td>\n",
       "      <td>9</td>\n",
       "      <td>15</td>\n",
       "      <td>2</td>\n",
       "    </tr>\n",
       "    <tr>\n",
       "      <th>3</th>\n",
       "      <td>60,905</td>\n",
       "      <td>131.174.215.147</td>\n",
       "      <td>23</td>\n",
       "      <td>tcp</td>\n",
       "      <td>S0</td>\n",
       "      <td>0</td>\n",
       "      <td>S</td>\n",
       "      <td>3</td>\n",
       "      <td>180</td>\n",
       "      <td>0</td>\n",
       "      <td>0</td>\n",
       "      <td>Malicious</td>\n",
       "      <td>2018</td>\n",
       "      <td>5</td>\n",
       "      <td>9</td>\n",
       "      <td>15</td>\n",
       "      <td>2</td>\n",
       "    </tr>\n",
       "    <tr>\n",
       "      <th>4</th>\n",
       "      <td>44,301</td>\n",
       "      <td>91.42.47.63</td>\n",
       "      <td>23</td>\n",
       "      <td>tcp</td>\n",
       "      <td>S0</td>\n",
       "      <td>0</td>\n",
       "      <td>S</td>\n",
       "      <td>1</td>\n",
       "      <td>60</td>\n",
       "      <td>0</td>\n",
       "      <td>0</td>\n",
       "      <td>Malicious</td>\n",
       "      <td>2018</td>\n",
       "      <td>5</td>\n",
       "      <td>9</td>\n",
       "      <td>15</td>\n",
       "      <td>2</td>\n",
       "    </tr>\n",
       "  </tbody>\n",
       "</table>\n",
       "</div>"
      ],
      "text/plain": [
       "   id.orig_p        id.resp_h  id.resp_p proto conn_state  missed_bytes  \\\n",
       "0     51,524   65.127.233.163         23   tcp         S0             0   \n",
       "1     56,305    63.150.16.171         23   tcp         S0             0   \n",
       "2     41,101     111.40.23.49         23   tcp         S0             0   \n",
       "3     60,905  131.174.215.147         23   tcp         S0             0   \n",
       "4     44,301      91.42.47.63         23   tcp         S0             0   \n",
       "\n",
       "  history  orig_pkts  orig_ip_bytes  resp_pkts  resp_ip_bytes      label  \\\n",
       "0       S          3            180          0              0  Malicious   \n",
       "1       S          1             60          0              0  Malicious   \n",
       "2       S          1             60          0              0  Malicious   \n",
       "3       S          3            180          0              0  Malicious   \n",
       "4       S          1             60          0              0  Malicious   \n",
       "\n",
       "   anyo  mes  dia  hora  dia_semanal  \n",
       "0  2018    5    9    15            2  \n",
       "1  2018    5    9    15            2  \n",
       "2  2018    5    9    15            2  \n",
       "3  2018    5    9    15            2  \n",
       "4  2018    5    9    15            2  "
      ]
     },
     "execution_count": 105,
     "metadata": {},
     "output_type": "execute_result"
    }
   ],
   "source": [
    "df_malware_origen.head()"
   ]
  },
  {
   "cell_type": "markdown",
   "metadata": {},
   "source": [
    "CONTINUA EN EL NOTEBOOK 1.1"
   ]
  },
  {
   "cell_type": "markdown",
   "metadata": {},
   "source": [
    "1. ANALISIS DE LA TARGET"
   ]
  },
  {
   "cell_type": "code",
   "execution_count": 106,
   "metadata": {},
   "outputs": [
    {
     "data": {
      "image/png": "[encoded data removed]",
      "text/plain": [
       "<Figure size 1300x600 with 1 Axes>"
      ]
     },
     "metadata": {},
     "output_type": "display_data"
    }
   ],
   "source": [
    "plt.figure(figsize=(13, 6))\n",
    "sns.histplot(df_malware_origen[\"label\"], bins=2);"
   ]
  },
  {
   "cell_type": "markdown",
   "metadata": {},
   "source": [
    "Debido a que algunos valores unicos son malicious mas alguna palabra, vamos a sumar estas a malicius para quedarnos con una binaria"
   ]
  },
  {
   "cell_type": "code",
   "execution_count": 107,
   "metadata": {},
   "outputs": [],
   "source": [
    "df_malware_origen['label'] = df_malware_origen['label'].apply(lambda x: 'Malicious' if 'Malicious' in x else x)"
   ]
  },
  {
   "cell_type": "code",
   "execution_count": 108,
   "metadata": {},
   "outputs": [
    {
     "data": {
      "image/png": "[encoded data removed]",
      "text/plain": [
       "<Figure size 1300x600 with 1 Axes>"
      ]
     },
     "metadata": {},
     "output_type": "display_data"
    }
   ],
   "source": [
    "plt.figure(figsize=(13, 6))\n",
    "sns.histplot(df_malware_origen[\"label\"], bins=2);"
   ]
  },
  {
   "cell_type": "markdown",
   "metadata": {},
   "source": [
    "GRAFICO DE LINEAS ENTRE TARGET , AÑO , HORA Y DIASEMANAL EN GRAFICO DE LINEAS"
   ]
  },
  {
   "cell_type": "code",
   "execution_count": 111,
   "metadata": {},
   "outputs": [
    {
     "data": {
      "image/png": "[encoded data removed]",
      "text/plain": [
       "<Figure size 1400x700 with 3 Axes>"
      ]
     },
     "metadata": {},
     "output_type": "display_data"
    }
   ],
   "source": [
    "plt.figure(figsize=(14, 7))\n",
    "\n",
    "# Gráfico de línea para 'anyo'\n",
    "plt.subplot(3, 1, 1)\n",
    "plt.plot(df_malware_origen['anyo'], df_malware_origen['label'], color='red')\n",
    "plt.title('Target vs Año')\n",
    "plt.xlabel('Año')\n",
    "plt.ylabel('Target')\n",
    "\n",
    "# Gráfico de línea para 'hora'\n",
    "plt.subplot(3, 1, 2)\n",
    "plt.plot(df_malware_origen['hora'], df_malware_origen['label'], color='green')\n",
    "plt.title('Target vs Hora')\n",
    "plt.xlabel('Hora')\n",
    "plt.ylabel('Target')\n",
    "\n",
    "# Gráfico de línea para 'dia_semanal'\n",
    "plt.subplot(3, 1, 3)\n",
    "plt.plot(df_malware_origen['dia_semanal'], df_malware_origen['label'], color='blue')\n",
    "plt.title('Target vs Día de la semana')\n",
    "plt.xlabel('Día de la semana')\n",
    "plt.ylabel('Target')\n",
    "\n",
    "plt.tight_layout()\n",
    "plt.show()"
   ]
  },
  {
   "cell_type": "code",
   "execution_count": 114,
   "metadata": {},
   "outputs": [
    {
     "data": {
      "image/png": "[encoded data removed]",
      "text/plain": [
       "<Figure size 1400x700 with 3 Axes>"
      ]
     },
     "metadata": {},
     "output_type": "display_data"
    }
   ],
   "source": [
    "plt.figure(figsize=(14, 7))\n",
    "\n",
    "# Gráfico de línea para 'anyo'\n",
    "plt.subplot(3, 1, 1)\n",
    "plt.scatter(df_malware_origen[df_malware_origen['label'] == 'Benign']['anyo'], range(len(df_malware_origen[df_malware_origen['label'] == 'Benign'])), color='red', label='Benign')\n",
    "plt.scatter(df_malware_origen[df_malware_origen['label'] == 'Malicious']['anyo'], range(len(df_malware_origen[df_malware_origen['label'] == 'Malicious'])), color='blue', label='Malicious')\n",
    "plt.title('Target vs Año')\n",
    "plt.xlabel('Año')\n",
    "plt.ylabel('Target')\n",
    "plt.xticks(df_malware_origen['anyo'].unique()) \n",
    "plt.legend()\n",
    "\n",
    "# Gráfico de línea para 'hora'\n",
    "plt.subplot(3, 1, 2)\n",
    "plt.scatter(df_malware_origen[df_malware_origen['label'] == 'Benign']['hora'], range(len(df_malware_origen[df_malware_origen['label'] == 'Benign'])), color='red', label='Benign')\n",
    "plt.scatter(df_malware_origen[df_malware_origen['label'] == 'Malicious']['hora'], range(len(df_malware_origen[df_malware_origen['label'] == 'Malicious'])), color='blue', label='Malicious')\n",
    "plt.title('Target vs Hora')\n",
    "plt.xlabel('Hora')\n",
    "plt.ylabel('Target')\n",
    "plt.xticks(range(25)) \n",
    "plt.legend()\n",
    "\n",
    "# Gráfico de línea para 'dia_semanal'\n",
    "plt.subplot(3, 1, 3)\n",
    "plt.scatter(df_malware_origen[df_malware_origen['label'] == 'Benign']['dia_semanal'], range(len(df_malware_origen[df_malware_origen['label'] == 'Benign'])), color='red', label='Benign')\n",
    "plt.scatter(df_malware_origen[df_malware_origen['label'] == 'Malicious']['dia_semanal'], range(len(df_malware_origen[df_malware_origen['label'] == 'Malicious'])), color='blue', label='Malicious')\n",
    "plt.title('Target vs Día de la semana')\n",
    "plt.xlabel('Día de la semana')\n",
    "plt.ylabel('Target')\n",
    "plt.xticks(range(1, 8)) \n",
    "plt.legend()\n",
    "\n",
    "# Ajustar el espacio entre los gráficos\n",
    "plt.tight_layout()\n",
    "\n",
    "# Mostrar los gráficos\n",
    "plt.show()"
   ]
  },
  {
   "cell_type": "markdown",
   "metadata": {},
   "source": [
    "CONTINUA EN EL NOTEBOOK MALWARE 1.2"
   ]
  }
 ],
 "metadata": {
  "kernelspec": {
   "display_name": "Python 3",
   "language": "python",
   "name": "python3"
  },
  "language_info": {
   "codemirror_mode": {
    "name": "ipython",
    "version": 3
   },
   "file_extension": ".py",
   "mimetype": "text/x-python",
   "name": "python",
   "nbconvert_exporter": "python",
   "pygments_lexer": "ipython3",
   "version": "3.7.12"
  }
 },
 "nbformat": 4,
 "nbformat_minor": 2
}

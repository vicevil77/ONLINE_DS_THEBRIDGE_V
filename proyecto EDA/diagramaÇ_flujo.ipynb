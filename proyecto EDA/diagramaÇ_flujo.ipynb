{
 "cells": [
  {
   "cell_type": "code",
   "execution_count": 1,
   "metadata": {},
   "outputs": [],
   "source": [
    "import pandas as pd\n",
    "import networkx as nx\n",
    "import matplotlib.pyplot as plt\n",
    "\n",
    "# Lista de archivos CSV que deseas visualizar\n",
    "archivos_csv = ['./cyber_attacks/df_ciber_modificado.csv', './cyber_bulling/data.csv', './cyber_salarios_cyber/Cyber_salaries.csv']\n",
    "\n",
    "# Crear un grafo dirigido\n",
    "G = nx.DiGraph()\n",
    "\n",
    "# Leer cada archivo CSV y agregar nodos al grafo\n",
    "for archivo_csv in archivos_csv:\n",
    "    df = pd.read_csv(archivo_csv)\n",
    "    tabla = archivo_csv.replace('.csv', '')\n",
    "    G.add_node(tabla)\n",
    "    \n",
    "    # Agregar aristas (relaciones) basadas en las columnas compartidas\n",
    "    for columna in df.columns:\n",
    "        relacion = df[columna].dropna().unique()\n",
    "        for valor in relacion:\n",
    "            G.add_edge(tabla, f\"{columna}_{valor}\")\n",
    "\n",
    "# Dibujar el grafo\n",
    "pos = nx.spring_layout(G)\n",
    "nx.draw(G, pos, with_labels=True, font_weight='bold', node_size=700, node_color='skyblue', font_size=8, font_color='black', arrowsize=10)\n",
    "\n",
    "# Mostrar el diagrama\n",
    "plt.show()"
   ]
  }
 ],
 "metadata": {
  "kernelspec": {
   "display_name": "Python 3",
   "language": "python",
   "name": "python3"
  },
  "language_info": {
   "codemirror_mode": {
    "name": "ipython",
    "version": 3
   },
   "file_extension": ".py",
   "mimetype": "text/x-python",
   "name": "python",
   "nbconvert_exporter": "python",
   "pygments_lexer": "ipython3",
   "version": "3.10.11"
  }
 },
 "nbformat": 4,
 "nbformat_minor": 2
}

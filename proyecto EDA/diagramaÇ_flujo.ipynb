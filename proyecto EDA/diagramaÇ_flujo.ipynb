{
 "cells": [
  {
   "cell_type": "code",
   "execution_count": 1,
   "metadata": {},
   "outputs": [
    {
     "name": "stdout",
     "output_type": "stream",
     "text": [
      "Diagrama de flujo guardado en: E:\\Cursos\\BC_Data_Science\\Repositorio\\ONLINE_DS_THEBRIDGE_V\\proyecto EDA\\DIAGRAMAS DE FLUJO\\imagen.png\n"
     ]
    }
   ],
   "source": [
    "from graphviz import Digraph\n",
    "import pandas as pd\n",
    "\n",
    "# Abrir el DataFrame\n",
    "archivos_xlsx = r'E:\\Cursos\\BC_Data_Science\\Repositorio\\ONLINE_DS_THEBRIDGE_V\\proyecto EDA\\DATASETS\\DATASETS MODIFICADOS\\ciber_modificado.xlsx'\n",
    "df_geo = pd.read_excel(archivos_xlsx, engine='openpyxl')\n",
    "\n",
    "# Crear un grafo dirigido (diagrama de flujo)\n",
    "G = Digraph()\n",
    "\n",
    "# Agregar nodos al grafo para cada columna en el DataFrame\n",
    "for col in df_geo.columns:\n",
    "    G.node(col)\n",
    "\n",
    "# Agregar arcos (flechas) entre nodos para representar el flujo de datos\n",
    "for i in range(len(df_geo.columns) - 1):\n",
    "    G.edge(df_geo.columns[i], df_geo.columns[i + 1])\n",
    "\n",
    "# Guardar el grafo como un archivo de imagen (por ejemplo, en formato PNG)\n",
    "imagen_path = r'E:\\Cursos\\BC_Data_Science\\Repositorio\\ONLINE_DS_THEBRIDGE_V\\proyecto EDA\\DIAGRAMAS DE FLUJO\\imagen.png'\n",
    "G.render(imagen_path, format='png', engine='dot', cleanup=True)\n",
    "\n",
    "print(f\"Diagrama de flujo guardado en: {imagen_path}\")\n",
    "\n",
    "\n",
    "\n"
   ]
  }
 ],
 "metadata": {
  "kernelspec": {
   "display_name": "Python 3",
   "language": "python",
   "name": "python3"
  },
  "language_info": {
   "codemirror_mode": {
    "name": "ipython",
    "version": 3
   },
   "file_extension": ".py",
   "mimetype": "text/x-python",
   "name": "python",
   "nbconvert_exporter": "python",
   "pygments_lexer": "ipython3",
   "version": "3.10.11"
  }
 },
 "nbformat": 4,
 "nbformat_minor": 2
}

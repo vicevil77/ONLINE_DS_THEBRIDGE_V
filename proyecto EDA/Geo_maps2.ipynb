{
 "cells": [
  {
   "cell_type": "code",
   "execution_count": 1,
   "metadata": {},
   "outputs": [
    {
     "ename": "ModuleNotFoundError",
     "evalue": "No module named 'pandas'",
     "output_type": "error",
     "traceback": [
      "\u001b[1;31m---------------------------------------------------------------------------\u001b[0m",
      "\u001b[1;31mModuleNotFoundError\u001b[0m                       Traceback (most recent call last)",
      "Cell \u001b[1;32mIn[1], line 2\u001b[0m\n\u001b[0;32m      1\u001b[0m \u001b[38;5;66;03m# carga datos\u001b[39;00m\n\u001b[1;32m----> 2\u001b[0m \u001b[38;5;28;01mimport\u001b[39;00m \u001b[38;5;21;01mpandas\u001b[39;00m \u001b[38;5;28;01mas\u001b[39;00m \u001b[38;5;21;01mpd\u001b[39;00m\n\u001b[0;32m      4\u001b[0m \u001b[38;5;66;03m# Cargar el conjunto de datos\u001b[39;00m\n\u001b[0;32m      5\u001b[0m df \u001b[38;5;241m=\u001b[39m pd\u001b[38;5;241m.\u001b[39mread_excel(\u001b[38;5;124mr\u001b[39m\u001b[38;5;124m'\u001b[39m\u001b[38;5;124mE:\u001b[39m\u001b[38;5;124m\\\u001b[39m\u001b[38;5;124mCursos\u001b[39m\u001b[38;5;124m\\\u001b[39m\u001b[38;5;124mBC_Data_Science\u001b[39m\u001b[38;5;124m\\\u001b[39m\u001b[38;5;124mRepositorio\u001b[39m\u001b[38;5;124m\\\u001b[39m\u001b[38;5;124mONLINE_DS_THEBRIDGE_V\u001b[39m\u001b[38;5;124m\\\u001b[39m\u001b[38;5;124mproyecto EDA\u001b[39m\u001b[38;5;124m\\\u001b[39m\u001b[38;5;124mDATASETS\u001b[39m\u001b[38;5;124m\\\u001b[39m\u001b[38;5;124mDATASETS MODIFICADOS\u001b[39m\u001b[38;5;124m\\\u001b[39m\u001b[38;5;124mciber_modificado.xlsx\u001b[39m\u001b[38;5;124m'\u001b[39m)\n",
      "\u001b[1;31mModuleNotFoundError\u001b[0m: No module named 'pandas'"
     ]
    }
   ],
   "source": [
    "# carga datos\n",
    "import pandas as pd\n",
    "\n",
    "# Cargar el conjunto de datos\n",
    "df = pd.read_excel(r'E:\\Cursos\\BC_Data_Science\\Repositorio\\ONLINE_DS_THEBRIDGE_V\\proyecto EDA\\DATASETS\\DATASETS MODIFICADOS\\ciber_modificado.xlsx')\n",
    "\n",
    "# Filtrar columnas relevantes\n",
    "df = df[['IP Origen', 'Destino IP', 'Tipo_ataque', 'Datos_geolocalización']]\n",
    "\n",
    "# Puedes manejar NaN según tus necesidades\n",
    "# df = df.dropna()  # O manejar los NaN de otra manera\n",
    "\n",
    "# Dividir los datos en dos DataFrames para origen y destino\n",
    "df_origen = df[['IP Origen', 'Datos_geolocalización']].rename(columns={'IP Origen': 'IP'})\n",
    "df_destino = df[['Destino IP', 'Datos_geolocalización']].rename(columns={'Destino IP': 'IP'})\n"
   ]
  },
  {
   "cell_type": "code",
   "execution_count": null,
   "metadata": {},
   "outputs": [],
   "source": []
  },
  {
   "cell_type": "code",
   "execution_count": null,
   "metadata": {},
   "outputs": [],
   "source": []
  },
  {
   "cell_type": "code",
   "execution_count": null,
   "metadata": {},
   "outputs": [],
   "source": []
  },
  {
   "cell_type": "code",
   "execution_count": null,
   "metadata": {},
   "outputs": [],
   "source": []
  },
  {
   "cell_type": "code",
   "execution_count": null,
   "metadata": {},
   "outputs": [],
   "source": []
  }
 ],
 "metadata": {
  "kernelspec": {
   "display_name": "Python 3",
   "language": "python",
   "name": "python3"
  },
  "language_info": {
   "codemirror_mode": {
    "name": "ipython",
    "version": 3
   },
   "file_extension": ".py",
   "mimetype": "text/x-python",
   "name": "python",
   "nbconvert_exporter": "python",
   "pygments_lexer": "ipython3",
   "version": "3.10.11"
  }
 },
 "nbformat": 4,
 "nbformat_minor": 2
}

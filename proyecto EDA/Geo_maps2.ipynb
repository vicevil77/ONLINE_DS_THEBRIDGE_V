{
 "cells": [
  {
   "cell_type": "code",
   "execution_count": 1,
   "metadata": {},
   "outputs": [
    {
     "ename": "ModuleNotFoundError",
     "evalue": "No module named 'pandas'",
     "output_type": "error",
     "traceback": [
      "\u001b[1;31m---------------------------------------------------------------------------\u001b[0m",
      "\u001b[1;31mModuleNotFoundError\u001b[0m                       Traceback (most recent call last)",
      "Cell \u001b[1;32mIn[1], line 2\u001b[0m\n\u001b[0;32m      1\u001b[0m \u001b[38;5;66;03m# carga datos\u001b[39;00m\n\u001b[1;32m----> 2\u001b[0m \u001b[38;5;28;01mimport\u001b[39;00m \u001b[38;5;21;01mpandas\u001b[39;00m \u001b[38;5;28;01mas\u001b[39;00m \u001b[38;5;21;01mpd\u001b[39;00m\n\u001b[0;32m      4\u001b[0m \u001b[38;5;66;03m# Cargar el conjunto de datos\u001b[39;00m\n\u001b[0;32m      5\u001b[0m df \u001b[38;5;241m=\u001b[39m pd\u001b[38;5;241m.\u001b[39mread_excel(\u001b[38;5;124mr\u001b[39m\u001b[38;5;124m'\u001b[39m\u001b[38;5;124mE:\u001b[39m\u001b[38;5;124m\\\u001b[39m\u001b[38;5;124mCursos\u001b[39m\u001b[38;5;124m\\\u001b[39m\u001b[38;5;124mBC_Data_Science\u001b[39m\u001b[38;5;124m\\\u001b[39m\u001b[38;5;124mRepositorio\u001b[39m\u001b[38;5;124m\\\u001b[39m\u001b[38;5;124mONLINE_DS_THEBRIDGE_V\u001b[39m\u001b[38;5;124m\\\u001b[39m\u001b[38;5;124mproyecto EDA\u001b[39m\u001b[38;5;124m\\\u001b[39m\u001b[38;5;124mDATASETS\u001b[39m\u001b[38;5;124m\\\u001b[39m\u001b[38;5;124mDATASETS MODIFICADOS\u001b[39m\u001b[38;5;124m\\\u001b[39m\u001b[38;5;124mciber_modificado.xlsx\u001b[39m\u001b[38;5;124m'\u001b[39m)\n",
      "\u001b[1;31mModuleNotFoundError\u001b[0m: No module named 'pandas'"
     ]
    }
   ],
   "source": [
    "# carga datos\n",
    "import pandas as pd\n",
    "\n",
    "# Cargar el conjunto de datos\n",
    "df = pd.read_excel(r'E:\\Cursos\\BC_Data_Science\\Repositorio\\ONLINE_DS_THEBRIDGE_V\\proyecto EDA\\DATASETS\\DATASETS MODIFICADOS\\ciber_modificado.xlsx')\n",
    "\n",
    "# Filtrar columnas relevantes\n",
    "df = df[['IP Origen', 'Destino IP', 'Tipo_ataque', 'Datos_geolocalización']]\n",
    "\n",
    "# Puedes manejar NaN según tus necesidades\n",
    "# df = df.dropna()  # O manejar los NaN de otra manera\n",
    "\n",
    "# Dividir los datos en dos DataFrames para origen y destino\n",
    "df_origen = df[['IP Origen', 'Datos_geolocalización']].rename(columns={'IP Origen': 'IP'})\n",
    "df_destino = df[['Destino IP', 'Datos_geolocalización']].rename(columns={'Destino IP': 'IP'})\n"
   ]
  },
  {
   "cell_type": "code",
   "execution_count": null,
   "metadata": {},
   "outputs": [],
   "source": []
  },
  {
   "cell_type": "code",
   "execution_count": null,
   "metadata": {},
   "outputs": [],
   "source": []
  },
  {
   "cell_type": "code",
   "execution_count": null,
   "metadata": {},
   "outputs": [],
   "source": []
  },
  {
   "cell_type": "code",
   "execution_count": null,
   "metadata": {},
   "outputs": [],
   "source": []
  },
  {
   "cell_type": "code",
   "execution_count": 2,
   "metadata": {},
   "outputs": [],
   "source": [
    "#Obtener coordenadas geográficas:\n",
    "import gmaps\n",
    "\n",
    "# Configurar la clave de la API de Google Maps\n",
    "gmaps.configure(api_key='15a76686df464312a351a28d89f39a6d')\n",
    "\n",
    "def obtener_coordenadas(ip):\n",
    "    # Lógica para obtener coordenadas de la IP usando la API de Google Maps\n",
    "    # Retorna un objeto con latitud y longitud\n",
    "    pass\n",
    "\n",
    "# Aplicar la función a los DataFrames\n",
    "df_origen['Coordenadas'] = df_origen['IP'].apply(obtener_coordenadas)\n",
    "df_destino['Coordenadas'] = df_destino['IP'].apply(obtener_coordenadas)"
   ]
  },
  {
   "cell_type": "code",
   "execution_count": null,
   "metadata": {},
   "outputs": [],
   "source": []
  },
  {
   "cell_type": "code",
   "execution_count": 3,
   "metadata": {},
   "outputs": [
    {
     "ename": "AttributeError",
     "evalue": "module 'collections' has no attribute 'Iterable'",
     "output_type": "error",
     "traceback": [
      "\u001b[1;31m---------------------------------------------------------------------------\u001b[0m",
      "\u001b[1;31mAttributeError\u001b[0m                            Traceback (most recent call last)",
      "Cell \u001b[1;32mIn[3], line 6\u001b[0m\n\u001b[0;32m      3\u001b[0m fig \u001b[38;5;241m=\u001b[39m gmaps\u001b[38;5;241m.\u001b[39mfigure()\n\u001b[0;32m      5\u001b[0m \u001b[38;5;66;03m# Agregar capas de origen y destino con líneas de conexión\u001b[39;00m\n\u001b[1;32m----> 6\u001b[0m capa_origen \u001b[38;5;241m=\u001b[39m \u001b[43mgmaps\u001b[49m\u001b[38;5;241;43m.\u001b[39;49m\u001b[43msymbol_layer\u001b[49m\u001b[43m(\u001b[49m\u001b[43mdf_origen\u001b[49m\u001b[43m[\u001b[49m\u001b[38;5;124;43m'\u001b[39;49m\u001b[38;5;124;43mCoordenadas\u001b[39;49m\u001b[38;5;124;43m'\u001b[39;49m\u001b[43m]\u001b[49m\u001b[43m,\u001b[49m\u001b[43m \u001b[49m\u001b[43mfill_color\u001b[49m\u001b[38;5;241;43m=\u001b[39;49m\u001b[38;5;124;43m'\u001b[39;49m\u001b[38;5;124;43mgreen\u001b[39;49m\u001b[38;5;124;43m'\u001b[39;49m\u001b[43m,\u001b[49m\u001b[43m \u001b[49m\u001b[43mstroke_color\u001b[49m\u001b[38;5;241;43m=\u001b[39;49m\u001b[38;5;124;43m'\u001b[39;49m\u001b[38;5;124;43mgreen\u001b[39;49m\u001b[38;5;124;43m'\u001b[39;49m\u001b[43m,\u001b[49m\u001b[43m \u001b[49m\u001b[43mscale\u001b[49m\u001b[38;5;241;43m=\u001b[39;49m\u001b[38;5;241;43m2\u001b[39;49m\u001b[43m)\u001b[49m\n\u001b[0;32m      7\u001b[0m capa_destino \u001b[38;5;241m=\u001b[39m gmaps\u001b[38;5;241m.\u001b[39msymbol_layer(df_destino[\u001b[38;5;124m'\u001b[39m\u001b[38;5;124mCoordenadas\u001b[39m\u001b[38;5;124m'\u001b[39m], fill_color\u001b[38;5;241m=\u001b[39m\u001b[38;5;124m'\u001b[39m\u001b[38;5;124mred\u001b[39m\u001b[38;5;124m'\u001b[39m, stroke_color\u001b[38;5;241m=\u001b[39m\u001b[38;5;124m'\u001b[39m\u001b[38;5;124mred\u001b[39m\u001b[38;5;124m'\u001b[39m, scale\u001b[38;5;241m=\u001b[39m\u001b[38;5;241m2\u001b[39m)\n\u001b[0;32m      9\u001b[0m \u001b[38;5;66;03m# Añadir las capas al mapa\u001b[39;00m\n",
      "File \u001b[1;32mc:\\Users\\victo\\AppData\\Local\\Programs\\Python\\Python310\\lib\\site-packages\\gmaps\\marker.py:477\u001b[0m, in \u001b[0;36msymbol_layer\u001b[1;34m(locations, hover_text, fill_color, fill_opacity, stroke_color, stroke_opacity, scale, info_box_content, display_info_box)\u001b[0m\n\u001b[0;32m    328\u001b[0m \u001b[38;5;28;01mdef\u001b[39;00m \u001b[38;5;21msymbol_layer\u001b[39m(\n\u001b[0;32m    329\u001b[0m         locations, hover_text\u001b[38;5;241m=\u001b[39m\u001b[38;5;124m'\u001b[39m\u001b[38;5;124m'\u001b[39m, fill_color\u001b[38;5;241m=\u001b[39m\u001b[38;5;28;01mNone\u001b[39;00m,\n\u001b[0;32m    330\u001b[0m         fill_opacity\u001b[38;5;241m=\u001b[39m\u001b[38;5;241m1.0\u001b[39m, stroke_color\u001b[38;5;241m=\u001b[39m\u001b[38;5;28;01mNone\u001b[39;00m, stroke_opacity\u001b[38;5;241m=\u001b[39m\u001b[38;5;241m1.0\u001b[39m,\n\u001b[0;32m    331\u001b[0m         scale\u001b[38;5;241m=\u001b[39m\u001b[38;5;241m3\u001b[39m, info_box_content\u001b[38;5;241m=\u001b[39m\u001b[38;5;28;01mNone\u001b[39;00m, display_info_box\u001b[38;5;241m=\u001b[39m\u001b[38;5;28;01mNone\u001b[39;00m):\n\u001b[0;32m    332\u001b[0m \u001b[38;5;250m    \u001b[39m\u001b[38;5;124;03m\"\"\"\u001b[39;00m\n\u001b[0;32m    333\u001b[0m \u001b[38;5;124;03m    Symbol layer\u001b[39;00m\n\u001b[0;32m    334\u001b[0m \n\u001b[1;32m   (...)\u001b[0m\n\u001b[0;32m    475\u001b[0m \u001b[38;5;124;03m        A :class:`gmaps.Markers` instance.\u001b[39;00m\n\u001b[0;32m    476\u001b[0m \u001b[38;5;124;03m    \"\"\"\u001b[39;00m\n\u001b[1;32m--> 477\u001b[0m     options \u001b[38;5;241m=\u001b[39m \u001b[43m_symbol_layer_options\u001b[49m\u001b[43m(\u001b[49m\n\u001b[0;32m    478\u001b[0m \u001b[43m        \u001b[49m\u001b[43mlocations\u001b[49m\u001b[43m,\u001b[49m\u001b[43m \u001b[49m\u001b[43mhover_text\u001b[49m\u001b[43m,\u001b[49m\u001b[43m \u001b[49m\u001b[43mfill_color\u001b[49m\u001b[43m,\u001b[49m\n\u001b[0;32m    479\u001b[0m \u001b[43m        \u001b[49m\u001b[43mfill_opacity\u001b[49m\u001b[43m,\u001b[49m\u001b[43m \u001b[49m\u001b[43mstroke_color\u001b[49m\u001b[43m,\u001b[49m\u001b[43m \u001b[49m\u001b[43mstroke_opacity\u001b[49m\u001b[43m,\u001b[49m\u001b[43m \u001b[49m\u001b[43mscale\u001b[49m\u001b[43m,\u001b[49m\n\u001b[0;32m    480\u001b[0m \u001b[43m        \u001b[49m\u001b[43minfo_box_content\u001b[49m\u001b[43m,\u001b[49m\u001b[43m \u001b[49m\u001b[43mdisplay_info_box\u001b[49m\u001b[43m)\u001b[49m\n\u001b[0;32m    481\u001b[0m     symbols \u001b[38;5;241m=\u001b[39m [Symbol(\u001b[38;5;241m*\u001b[39m\u001b[38;5;241m*\u001b[39moption) \u001b[38;5;28;01mfor\u001b[39;00m option \u001b[38;5;129;01min\u001b[39;00m options]\n\u001b[0;32m    482\u001b[0m     \u001b[38;5;28;01mreturn\u001b[39;00m Markers(markers\u001b[38;5;241m=\u001b[39msymbols)\n",
      "File \u001b[1;32mc:\\Users\\victo\\AppData\\Local\\Programs\\Python\\Python310\\lib\\site-packages\\gmaps\\marker.py:275\u001b[0m, in \u001b[0;36m_symbol_layer_options\u001b[1;34m(locations, hover_text, fill_color, fill_opacity, stroke_color, stroke_opacity, scale, info_box_content, display_info_box)\u001b[0m\n\u001b[0;32m    273\u001b[0m \u001b[38;5;28;01mif\u001b[39;00m is_atomic(hover_text):\n\u001b[0;32m    274\u001b[0m     hover_text \u001b[38;5;241m=\u001b[39m [hover_text] \u001b[38;5;241m*\u001b[39m number_markers\n\u001b[1;32m--> 275\u001b[0m \u001b[38;5;28;01mif\u001b[39;00m \u001b[43mis_atomic\u001b[49m\u001b[43m(\u001b[49m\u001b[43mscale\u001b[49m\u001b[43m)\u001b[49m:\n\u001b[0;32m    276\u001b[0m     scale \u001b[38;5;241m=\u001b[39m [scale] \u001b[38;5;241m*\u001b[39m number_markers\n\u001b[0;32m    277\u001b[0m \u001b[38;5;28;01mif\u001b[39;00m is_color_atomic(fill_color):\n",
      "File \u001b[1;32mc:\\Users\\victo\\AppData\\Local\\Programs\\Python\\Python310\\lib\\site-packages\\gmaps\\options.py:40\u001b[0m, in \u001b[0;36mis_atomic\u001b[1;34m(elem)\u001b[0m\n\u001b[0;32m     34\u001b[0m \u001b[38;5;28;01mdef\u001b[39;00m \u001b[38;5;21mis_atomic\u001b[39m(elem):\n\u001b[0;32m     35\u001b[0m \u001b[38;5;250m    \u001b[39m\u001b[38;5;124;03m\"\"\"\u001b[39;00m\n\u001b[0;32m     36\u001b[0m \u001b[38;5;124;03m    True if an element is a single atom and false if it's a collection\u001b[39;00m\n\u001b[0;32m     37\u001b[0m \u001b[38;5;124;03m    \"\"\"\u001b[39;00m\n\u001b[0;32m     38\u001b[0m     \u001b[38;5;28;01mreturn\u001b[39;00m (\n\u001b[0;32m     39\u001b[0m         \u001b[38;5;28misinstance\u001b[39m(elem, string_types) \u001b[38;5;129;01mor\u001b[39;00m\n\u001b[1;32m---> 40\u001b[0m         \u001b[38;5;129;01mnot\u001b[39;00m \u001b[38;5;28misinstance\u001b[39m(elem, \u001b[43mcollections\u001b[49m\u001b[38;5;241;43m.\u001b[39;49m\u001b[43mIterable\u001b[49m)\n\u001b[0;32m     41\u001b[0m     )\n",
      "\u001b[1;31mAttributeError\u001b[0m: module 'collections' has no attribute 'Iterable'"
     ]
    }
   ],
   "source": [
    "#Visualización en el mapa:\n",
    "\n",
    "fig = gmaps.figure()\n",
    "\n",
    "# Agregar capas de origen y destino con líneas de conexión\n",
    "capa_origen = gmaps.symbol_layer(df_origen['Coordenadas'], fill_color='green', stroke_color='green', scale=2)\n",
    "capa_destino = gmaps.symbol_layer(df_destino['Coordenadas'], fill_color='red', stroke_color='red', scale=2)\n",
    "\n",
    "# Añadir las capas al mapa\n",
    "fig.add_layer(capa_origen)\n",
    "fig.add_layer(capa_destino)\n",
    "\n",
    "# Mostrar el mapa\n",
    "fig\n"
   ]
  }
 ],
 "metadata": {
  "kernelspec": {
   "display_name": "Python 3",
   "language": "python",
   "name": "python3"
  },
  "language_info": {
   "codemirror_mode": {
    "name": "ipython",
    "version": 3
   },
   "file_extension": ".py",
   "mimetype": "text/x-python",
   "name": "python",
   "nbconvert_exporter": "python",
   "pygments_lexer": "ipython3",
   "version": "3.10.11"
  }
 },
 "nbformat": 4,
 "nbformat_minor": 2
}

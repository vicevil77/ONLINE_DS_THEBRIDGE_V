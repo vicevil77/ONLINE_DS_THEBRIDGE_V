{
 "cells": [
  {
   "cell_type": "code",
   "execution_count": null,
   "metadata": {},
   "outputs": [],
   "source": [
    "import pandas as pd\n",
    "import folium\n",
    "import folium\n",
    "from folium.plugins import MarkerCluster\n",
    "from folium.plugins import HeatMap\n",
    "from geopy.geocoders import Nominatim"
   ]
  },
  {
   "cell_type": "code",
   "execution_count": null,
   "metadata": {},
   "outputs": [],
   "source": [
    "df_origen_2vez=pd.read_excel(r\"E:\\Cursos\\BC_Data_Science\\Repositorio\\ONLINE_DS_THEBRIDGE_V\\proyecto EDA\\DATASETS\\EXCEL\\ips_origen_2vez.xlsx\")\n",
    "\n"
   ]
  },
  {
   "cell_type": "code",
   "execution_count": null,
   "metadata": {},
   "outputs": [],
   "source": [
    "df_origen_2vez.info()"
   ]
  },
  {
   "cell_type": "code",
   "execution_count": null,
   "metadata": {},
   "outputs": [],
   "source": [
    "# 2 VEZ CON 1426 ipS ORIGEN\"\n",
    "\n",
    "# Convertir la Serie a una lista \n",
    "lista_origen_2vez=df_origen_2vez.values.tolist()\n",
    "\n",
    "# Crear un objeto de mapa centrado en la primera ubicación\n",
    "mapa = folium.Map(location=lista_origen_2vez[0], zoom_start=10)\n",
    "\n",
    "# Agregar un grupo de marcadores\n",
    "marker_cluster = MarkerCluster().add_to(mapa)\n",
    "\n",
    "# Agregar marcadores al grupo con iconos personalizados\n",
    "for tupla in lista_origen_2vez:\n",
    "    # Cargar el ícono personalizado\n",
    "    icono_personalizado = folium.CustomIcon(icon_image=r'C:\\Users\\victo\\Pictures\\internet_icon.png', icon_size=(30, 30))\n",
    "    \n",
    "    # Agregar el marcador con el icono personalizado\n",
    "    folium.Marker(location=tupla, icon=icono_personalizado).add_to(marker_cluster)\n",
    "\n",
    "# Agregar un mapa de calor\n",
    "HeatMap(lista_origen_2vez).add_to(mapa)\n",
    "\n",
    "# Guardar el mapa como un archivo HTML\n",
    "mapa.save('E:\\Cursos\\BC_Data_Science\\Repositorio\\ONLINE_DS_THEBRIDGE_V\\proyecto EDA\\mapa_geolocalizado_ips_origen_2vez.html')\n",
    "\n",
    "# Mostrar el mapa en la notebook\n",
    "display(mapa)"
   ]
  }
 ],
 "metadata": {
  "kernelspec": {
   "display_name": "Python 3",
   "language": "python",
   "name": "python3"
  },
  "language_info": {
   "codemirror_mode": {
    "name": "ipython",
    "version": 3
   },
   "file_extension": ".py",
   "mimetype": "text/x-python",
   "name": "python",
   "nbconvert_exporter": "python",
   "pygments_lexer": "ipython3",
   "version": "3.10.11"
  }
 },
 "nbformat": 4,
 "nbformat_minor": 2
}

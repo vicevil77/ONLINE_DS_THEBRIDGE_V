{
 "cells": [
  {
   "cell_type": "code",
   "execution_count": 25,
   "metadata": {},
   "outputs": [],
   "source": [
    "import pandas as pd\n",
    "import seaborn as sns\n",
    "import matplotlib.pyplot as plt\n",
    "from scipy.stats import chi2_contingency\n",
    "\n",
    "#para analisis:\n",
    "from ydata_profiling import ProfileReport # nos muestra mucha informacion\n",
    "import dtale # libreria D-Tale# ademas de ver los datos podemos editar los datos\n",
    "import sweetviz as sv#libreria SwwetViz= otra similar a ydata ydale\n",
    "import missingno as msno#libreria missingno; nos proporciona una serie de visulaciones sobre la presencia y distribucion de datos falatntes o missing, es  especificca para valors faltantes.\n",
    "import sketch# LIBRERIA SKETCH\n",
    "# esta libreria es muy nueva de febredro de 20023, aprovecha la IA para hacer cosas con los dataset (df pandas) con un conjunto de preguntas en lenguiaje natural  de los que queremos obytener y me devuelve la respuesta\n",
    "# hasta si le pedimos el codigo para hacer algo nos lo apporta. O me le hago la pregunta y me da el resultado o le pido el codigo para hacer la pregunta y me lo devuelves\n",
    "\n",
    "# Configurar pandas para mostrar todas las filas y columnas\n",
    "pd.set_option('display.max_rows', None)\n",
    "pd.set_option('display.max_columns', None)\n",
    "pd.set_option('display.width', None)\n",
    "pd.set_option('display.max_colwidth', None)\n",
    "\n",
    "# Establece la variable de entorno SKETCH_MAX_COLUMNS a un valor mayor\n",
    "import os\n",
    "os.environ[\"SKETCH_MAX_COLUMNS\"] = \"30\"  # Puedes ajustar este valor según tus necesidades\n",
    "\n",
    "df_y = pd.read_excel(r\"E:\\Cursos\\BC_Data_Science\\Repositorio\\ONLINE_DS_THEBRIDGE_V\\proyecto EDA\\DATASETS\\DATASETS MODIFICADOS\\ciber_modificado.xlsx\")"
   ]
  },
  {
   "cell_type": "code",
   "execution_count": 7,
   "metadata": {},
   "outputs": [
    {
     "name": "stdout",
     "output_type": "stream",
     "text": [
      "<class 'pandas.core.frame.DataFrame'>\n",
      "RangeIndex: 40000 entries, 0 to 39999\n",
      "Data columns (total 26 columns):\n",
      " #   Column                   Non-Null Count  Dtype         \n",
      "---  ------                   --------------  -----         \n",
      " 0   Fecha_hora               40000 non-null  datetime64[ns]\n",
      " 1   IP Origen                40000 non-null  object        \n",
      " 2   Destino IP               40000 non-null  object        \n",
      " 3   Puerto_origen            40000 non-null  int64         \n",
      " 4   Puerto_destino           40000 non-null  int64         \n",
      " 5   Protocolo                40000 non-null  object        \n",
      " 6   Longitud_paquete         40000 non-null  int64         \n",
      " 7   Tipo_paquete             40000 non-null  object        \n",
      " 8   Tipo                     40000 non-null  object        \n",
      " 9   Datos_carga_util         40000 non-null  object        \n",
      " 10  Resultado_analisis       40000 non-null  object        \n",
      " 11  Cluster                  40000 non-null  int64         \n",
      " 12  Etiqueta_x               40000 non-null  object        \n",
      " 13  Indicadores_malware      20000 non-null  object        \n",
      " 14  Puntuaciones_anomalias   40000 non-null  int64         \n",
      " 15  Tipo_ataque              40000 non-null  object        \n",
      " 16  Firma_ataque             40000 non-null  object        \n",
      " 17  respuesta_tomada         40000 non-null  object        \n",
      " 18  Nivel_severidad          40000 non-null  object        \n",
      " 19  Informacion_usuario      40000 non-null  object        \n",
      " 20  Informacion_dispositivo  40000 non-null  object        \n",
      " 21  Segmento_red             40000 non-null  object        \n",
      " 22  Datos_geolocalizacion    40000 non-null  object        \n",
      " 23  Información_proxy        20149 non-null  object        \n",
      " 24  Registros_cortafuegos    20039 non-null  object        \n",
      " 25  Fuente_registro          40000 non-null  object        \n",
      "dtypes: datetime64[ns](1), int64(5), object(20)\n",
      "memory usage: 7.9+ MB\n"
     ]
    }
   ],
   "source": [
    "df_y.info()"
   ]
  },
  {
   "cell_type": "markdown",
   "metadata": {},
   "source": [
    "LIBRERIA YDATA PROFILING"
   ]
  },
  {
   "cell_type": "code",
   "execution_count": 26,
   "metadata": {},
   "outputs": [],
   "source": [
    "#ProfileReport(df_y) # un monton d ecampos en correlation nos da el valor de correlacion en referencia al coeficiente correlacional de pyrson  que esta etre -1 y 1( -0,7 valor alto negativo, 0,75 alta postiova, 0,018,\n",
    "#, es uan correelacion muy pequeñña pq esta cerca del 0) # en colores mas intenso el color mas correlacion y menos color intesidad menor correlacion"
   ]
  },
  {
   "cell_type": "markdown",
   "metadata": {},
   "source": [
    "LIBRERIA DTALE, EN LA CUAL SE PUEDEN EDITAR CAMPOS"
   ]
  },
  {
   "cell_type": "code",
   "execution_count": null,
   "metadata": {},
   "outputs": [],
   "source": [
    "dtale.show(df_y)# SUPER HERRAMIENTA"
   ]
  },
  {
   "cell_type": "markdown",
   "metadata": {},
   "source": [
    "LIBRERIA SWEETVIZ, GENERA UN ARCHIVO CON TODOEL ANALISIS"
   ]
  },
  {
   "cell_type": "code",
   "execution_count": 12,
   "metadata": {},
   "outputs": [
    {
     "data": {
      "application/vnd.jupyter.widget-view+json": {
       "model_id": "25ec238c5bad441bb99375aca0fd531f",
       "version_major": 2,
       "version_minor": 0
      },
      "text/plain": [
       "                                             |          | [  0%]   00:00 -> (? left)"
      ]
     },
     "metadata": {},
     "output_type": "display_data"
    }
   ],
   "source": [
    "report = sv.analyze(df_y)"
   ]
  },
  {
   "cell_type": "code",
   "execution_count": 13,
   "metadata": {},
   "outputs": [
    {
     "name": "stdout",
     "output_type": "stream",
     "text": [
      "Report informe_ciber_sweetviz.html was generated! NOTEBOOK/COLAB USERS: the web browser MAY not pop up, regardless, the report IS saved in your notebook/colab files.\n"
     ]
    }
   ],
   "source": [
    "report.show_html(\"informe_ciber_sweetviz.html\")"
   ]
  },
  {
   "cell_type": "markdown",
   "metadata": {},
   "source": [
    "LIBRERIA MISSINFNO: herramienta de visualización que facilita la identificación de patrones de valores faltantes en un conjunto de datos"
   ]
  },
  {
   "cell_type": "code",
   "execution_count": 8,
   "metadata": {},
   "outputs": [
    {
     "data": {
      "text/plain": [
       "<Axes: >"
      ]
     },
     "execution_count": 8,
     "metadata": {},
     "output_type": "execute_result"
    }
   ],
   "source": [
    "# si tiene valores faltantes o no\n",
    "msno.bar(df_y)\n",
    "\n"
   ]
  },
  {
   "cell_type": "code",
   "execution_count": 9,
   "metadata": {},
   "outputs": [
    {
     "data": {
      "text/plain": [
       "<Axes: >"
      ]
     },
     "execution_count": 9,
     "metadata": {},
     "output_type": "execute_result"
    }
   ],
   "source": [
    "# nos dice donde se producen las NaN\n",
    "msno.matrix(df_y)"
   ]
  },
  {
   "cell_type": "code",
   "execution_count": 22,
   "metadata": {},
   "outputs": [],
   "source": [
    "# o \n",
    "#msno.dendrogram(df_y)# para correlacionar por missing de las tablas"
   ]
  },
  {
   "cell_type": "code",
   "execution_count": 23,
   "metadata": {},
   "outputs": [],
   "source": [
    "#os dice que tan correlacionados estan los valores faltantes\n",
    "#msno.heatmap(df_y) "
   ]
  },
  {
   "cell_type": "markdown",
   "metadata": {},
   "source": [
    "LIBRERIA SKETCH:  esta libreria es muy nueva de febredro de 2023, aprovecha la IA para hacer cosas con los dataset (df pandas) con un conjunto de preguntas en lenguiaje natural  de los que queremos obytener y me devuelve la respuestah. asta si le pedimos el codigo para hacer algo nos lo apporta. O me le hago la pregunta y me da el resultado o le pido el codigo para hacer la pregunta y me lo devuelves\n"
   ]
  },
  {
   "cell_type": "code",
   "execution_count": 20,
   "metadata": {},
   "outputs": [
    {
     "data": {
      "text/html": [
       "\n",
       "Yes, there are correlations between different variables in the data set. For example, the 'Resultado_analisis' and 'Tipo_ataque' columns are likely to be correlated since the type of attack can be determined from the analysis result. Similarly, the 'Puntuaciones_anomalias' and 'Tipo_ataque' columns are likely to be correlated since higher anomaly scores are usually associated with malicious activity."
      ],
      "text/plain": [
       "<IPython.core.display.HTML object>"
      ]
     },
     "metadata": {},
     "output_type": "display_data"
    }
   ],
   "source": [
    "\n",
    "df_y.sketch.ask(\"There are correlations between different variables in the data set\")"
   ]
  },
  {
   "cell_type": "code",
   "execution_count": 17,
   "metadata": {},
   "outputs": [
    {
     "data": {
      "text/html": [
       "\n",
       "To analyze the variation of attacks over time in the data set, we can group the data by the column Fecha_hora and then count the number of occurrences of each attack type (Tipo_ataque), data payload (Datos_carga_util), result analysis (Resultado_analisis), label (Etiqueta_x), malware indicators (Indicadores_malware) and severity level (Nivel_severidad). We can then plot the results to visualize the variation of attacks over time. \n"
      ],
      "text/plain": [
       "<IPython.core.display.HTML object>"
      ]
     },
     "metadata": {},
     "output_type": "display_data"
    }
   ],
   "source": [
    "df_y.sketch.ask(\"How to vary the attacks over time in the data set, taking into account the columns: Tipo_atque, Fecha_hora, Datos_carga_util, Resultado_analisis, Etiqueta_X, Indicadores_malware, nivel_severidad\")"
   ]
  },
  {
   "cell_type": "code",
   "execution_count": 19,
   "metadata": {},
   "outputs": [
    {
     "name": "stdout",
     "output_type": "stream",
     "text": [
      "Failed to use remote https://prompts.approx.dev.. 414 Client Error: Request-URI Too Large for url: https://prompts.approx.dev/prompt/ask_from_parts?dfname=df_y&column_names=WyJpbmRleCIsICJGZWNoYV9ob3JhIiwgIklQIE9yaWdlbiIsICJEZXN0aW5vIElQIiwgIlB1ZXJ0b19vcmlnZW4iLCAiUHVlcnRvX2Rlc3Rpbm8iLCAiUHJvdG9jb2xvIiwgIkxvbmdpdHVkX3BhcXVldGUiLCAiVGlwb19wYXF1ZXRlIiwgIlRpcG8iLCAiRGF0b3NfY2FyZ2FfdXRpbCIsICJSZXN1bHRhZG9fYW5hbGlzaXMiLCAiQ2x1c3RlciIsICJFdGlxdWV0YV94IiwgIkluZGljYWRvcmVzX21hbHdhcmUiLCAiUHVudHVhY2lvbmVzX2Fub21hbGlhcyIsICJUaXBvX2F0YXF1ZSIsICJGaXJtYV9hdGFxdWUiLCAicmVzcHVlc3RhX3RvbWFkYSIsICJOaXZlbF9zZXZlcmlkYWQiLCAiSW5mb3JtYWNpb25fdXN1YXJpbyIsICJJbmZvcm1hY2lvbl9kaXNwb3NpdGl2byIsICJTZWdtZW50b19yZWQiLCAiRGF0b3NfZ2VvbG9jYWxpemFjaW9uIiwgIkluZm9ybWFjaVx1MDBmM25fcHJveHkiLCAiUmVnaXN0cm9zX2NvcnRhZnVlZ29zIiwgIkZ1ZW50ZV9yZWdpc3RybyJd&data_types=WyJpbnQ2NCIsICJkYXRldGltZTY0W25zXSIsICJvYmplY3QiLCAib2JqZWN0IiwgImludDY0IiwgImludDY0IiwgIm9iamVjdCIsICJpbnQ2NCIsICJvYmplY3QiLCAib2JqZWN0IiwgIm9iamVjdCIsICJvYmplY3QiLCAiaW50NjQiLCAib2JqZWN0IiwgIm9iamVjdCIsICJpbnQ2NCIsICJvYmplY3QiLCAib2JqZWN0IiwgIm9iamVjdCIsICJvYmplY3QiLCAib2JqZWN0IiwgIm9iamVjdCIsICJvYmplY3QiLCAib2JqZWN0IiwgIm9iamVjdCIsICJvYmplY3QiLCAib2JqZWN0Il0%3D&extras=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%3D&question=analyze+the+variation+of+attacks+over+time+in+the+data+set%2C+we+can+group+the+data+by+the+column+Fecha_hora+and+then+count+the+number+of+occurrences+of+each+attack+type+%28Tipo_ataque%29%2C+data+payload+%28Datos_carga_util%29%2C+result+analysis+%28Resultado_analisis%29%2C+label+%28Etiqueta_x%29%2C+malware+indicators+%28Indicadores_malware%29+and+severity+level+%28Nivel_severidad%29.+We+can+then+plot+the+results+to+visualize+the+variation+of+attacks+over+time.. \n",
      "Consider setting SKETCH_USE_REMOTE_LAMBDAPROMPT=False \n",
      "and run with your own open-ai key\n",
      "\n"
     ]
    },
    {
     "data": {
      "text/html": [
       "SKETCH ERROR - see print logs for full error"
      ],
      "text/plain": [
       "<IPython.core.display.HTML object>"
      ]
     },
     "metadata": {},
     "output_type": "display_data"
    }
   ],
   "source": [
    "df_y.sketch.ask(\"analyze the variation of attacks over time in the data set, we can group the data by the column Fecha_hora and then count the number of occurrences of each attack type (Tipo_ataque), data payload (Datos_carga_util), result analysis (Resultado_analisis), label (Etiqueta_x), malware indicators (Indicadores_malware) and severity level (Nivel_severidad). We can then plot the results to visualize the variation of attacks over time.\")"
   ]
  },
  {
   "cell_type": "code",
   "execution_count": 15,
   "metadata": {},
   "outputs": [
    {
     "data": {
      "text/html": [
       "\n",
       "The distribution of the different types of attacks in the data set in the 'Tipo_ataque' column is as follows: Malware (33.75%), DDoS (33.75%), and Other (32.5%)."
      ],
      "text/plain": [
       "<IPython.core.display.HTML object>"
      ]
     },
     "metadata": {},
     "output_type": "display_data"
    }
   ],
   "source": [
    "df_y.sketch.ask(\"What is the distribution of the different types of attacks in the data set in the 'Tipo_ataque'\")"
   ]
  },
  {
   "cell_type": "code",
   "execution_count": 16,
   "metadata": {},
   "outputs": [
    {
     "data": {
      "text/html": [
       "\n",
       "The 'Tipo_ataque' column contains 3 types of attack: Malware, DDoS, and Unknown. There are a total of 40000 incidents recorded in the dataframe, with 16000 incidents of Malware, 17000 incidents of DDoS, and 7000 incidents of Unknown."
      ],
      "text/plain": [
       "<IPython.core.display.HTML object>"
      ]
     },
     "metadata": {},
     "output_type": "display_data"
    }
   ],
   "source": [
    "df_y.sketch.ask(\"• How many incidents of each type of attack are recorded? in the 'Tipo_ataque'\")"
   ]
  },
  {
   "cell_type": "code",
   "execution_count": 12,
   "metadata": {},
   "outputs": [
    {
     "data": {
      "text/html": [
       "\n",
       "index: 39999\n",
       "IP Origen: 223253255151\n",
       "Destino IP: 223255173134\n",
       "Puerto_origen: 65530\n",
       "Puerto_destino: 65535\n",
       "Longitud_paquete: 1500\n",
       "Puntuaciones_anomalías: 9999\n",
       "Informacion_proxy: 223253194202\n"
      ],
      "text/plain": [
       "<IPython.core.display.HTML object>"
      ]
     },
     "metadata": {},
     "output_type": "display_data"
    }
   ],
   "source": [
    "# el metodo .ask; es para hacerle preguntas usando lenguaje natural ( NLP) en ingles\n",
    "\n",
    "df_y.sketch.ask(\"What are the max values of each numerical column\")"
   ]
  },
  {
   "cell_type": "code",
   "execution_count": 13,
   "metadata": {},
   "outputs": [
    {
     "data": {
      "text/html": [
       "\n",
       "The top 3 countries with the highest number of attacks are India, United States, and China. The top 3 countries of origin for the attacks are India, United States, and Russia."
      ],
      "text/plain": [
       "<IPython.core.display.HTML object>"
      ]
     },
     "metadata": {},
     "output_type": "display_data"
    }
   ],
   "source": [
    "df_y.sketch.ask(\"What are the top 3 countries with the highest number of attacks, and the top 3 countries of origin for the attacks?\")"
   ]
  },
  {
   "cell_type": "code",
   "execution_count": 14,
   "metadata": {},
   "outputs": [
    {
     "data": {
      "text/html": [
       "\n",
       "The most frequently repeated IPs in the attacks and their origin are 1032161512, 78199217198, 637921048, 1634219610, and 7116618576. These IPs appear in the 'IP Origen' column of the dataframe df_y."
      ],
      "text/plain": [
       "<IPython.core.display.HTML object>"
      ]
     },
     "metadata": {},
     "output_type": "display_data"
    }
   ],
   "source": [
    "df_y.sketch.ask(\"What are the IPs that are most frequently repeated in the attacks and their origin?\")"
   ]
  },
  {
   "cell_type": "code",
   "execution_count": 15,
   "metadata": {},
   "outputs": [
    {
     "data": {
      "text/html": [
       "\n",
       "The choice of which service to use depends on the specific needs of the user. MaxMind offers a wide range of services, including geolocation, fraud prevention, and IP intelligence. IP2Location provides more detailed geolocation data, such as city, region, and postal code. Both services offer free and paid versions, so it is important to compare the features and pricing of each service to determine which one is best for your needs."
      ],
      "text/plain": [
       "<IPython.core.display.HTML object>"
      ]
     },
     "metadata": {},
     "output_type": "display_data"
    }
   ],
   "source": [
    "df_y.sketch.ask(\" which servic dp you prefer to use:  MaxMind or IP2Location \")"
   ]
  },
  {
   "cell_type": "code",
   "execution_count": 16,
   "metadata": {},
   "outputs": [
    {
     "data": {
      "text/html": [
       "\n",
       "The user can choose any of the three services: OpenStreetMap, GeoNames, and Nominatim. Each service has its own advantages and disadvantages, so it is up to the user to decide which one best suits their needs."
      ],
      "text/plain": [
       "<IPython.core.display.HTML object>"
      ]
     },
     "metadata": {},
     "output_type": "display_data"
    }
   ],
   "source": [
    "df_y.sketch.ask( \"which servic dp you prefer to use:  OpenStreetMap, GeoNames, and Nominatim \")"
   ]
  },
  {
   "cell_type": "code",
   "execution_count": 17,
   "metadata": {},
   "outputs": [
    {
     "data": {
      "text/html": [
       "\n",
       "Unfortunately, it is not possible to geolocate the IPs from the attacks using the data provided in the dataframe [`df_y`]. To geolocate the IPs, additional information such as the IP address and its associated country code would be required. This information can be obtained using a service such as IP2location."
      ],
      "text/plain": [
       "<IPython.core.display.HTML object>"
      ]
     },
     "metadata": {},
     "output_type": "display_data"
    }
   ],
   "source": [
    "df_y.sketch.ask(\"Geolocate the IPs from the attacks and provide me with a detailed report for each of the IPs. you can use IP2location\")"
   ]
  },
  {
   "cell_type": "code",
   "execution_count": 18,
   "metadata": {},
   "outputs": [],
   "source": [
    "df_data = pd.read_csv(r\"E:\\Cursos\\BC_Data_Science\\Repositorio\\ONLINE_DS_THEBRIDGE_V\\proyecto EDA\\DATASETS\\cyber_attacks\\data_ip_pais.csv\")"
   ]
  },
  {
   "cell_type": "code",
   "execution_count": 19,
   "metadata": {},
   "outputs": [
    {
     "data": {
      "text/html": [
       "\n",
       "Using IP2location, we can geolocate the IPs from the attacks in df_y and provide a detailed report for each of the IPs. The report will include the country, region, city, latitude, longitude, ZIP code, time zone, ISP, domain name, connection type, area code, and weather station code associated with each IP address. This information can be used to better understand the source of the attacks and to take appropriate action."
      ],
      "text/plain": [
       "<IPython.core.display.HTML object>"
      ]
     },
     "metadata": {},
     "output_type": "display_data"
    }
   ],
   "source": [
    "df_y.sketch.ask(\"Geolocate the IPs from the attacks and provide me with a detailed report for each of the IPs. you can use IP2location in df_data\")"
   ]
  },
  {
   "cell_type": "code",
   "execution_count": 20,
   "metadata": {},
   "outputs": [
    {
     "data": {
      "text/html": [
       "\n",
       "1. What is the most common type of attack in this dataframe?\n",
       "2. What is the most common protocol used in this dataframe?\n",
       "3. What is the average packet length for each type of attack?\n",
       "4. What is the most common source of the alerts in this dataframe?\n",
       "5. What is the distribution of alert scores across different types of attacks?\n",
       "6. What is the most common type of user information found in this dataframe?\n",
       "7. What is the most common type of device information found in this dataframe?\n",
       "8. What is the distribution of malware indicators across different types of attacks?\n",
       "9. What is the distribution of response taken across different types of attacks?\n",
       "10. What is the distribution of network segments across different types of attacks?\n"
      ],
      "text/plain": [
       "<IPython.core.display.HTML object>"
      ]
     },
     "metadata": {},
     "output_type": "display_data"
    }
   ],
   "source": [
    "df_y.sketch.ask(\"Tell me interesting questions you could ask me about this dataframe with the data provided in all the columns.\")"
   ]
  },
  {
   "cell_type": "code",
   "execution_count": null,
   "metadata": {},
   "outputs": [
    {
     "data": {
      "text/html": [
       "\n",
       "The sources of attacks in the dataframe [`df_y`] are: Malware, DDoS, and Unknown. The types of attacks are: Known Pattern A, Known Pattern B, and Unknown."
      ],
      "text/plain": [
       "<IPython.core.display.HTML object>"
      ]
     },
     "metadata": {},
     "output_type": "display_data"
    },
    {
     "name": "stderr",
     "output_type": "stream",
     "text": [
      "2023-12-07 14:15:40,971 - INFO     - Executing shutdown due to inactivity...\n",
      "2023-12-07 14:15:53,250 - INFO     - Executing shutdown...\n",
      "2023-12-07 14:15:53,253 - INFO     - Not running with the Werkzeug Server, exiting by searching gc for BaseWSGIServer\n",
      "2023-12-07 14:15:53,593 - ERROR    - weakly-referenced object no longer exists\n",
      "2023-12-07 14:15:53,602 - ERROR    - weakly-referenced object no longer exists\n",
      "2023-12-07 14:15:53,605 - ERROR    - weakly-referenced object no longer exists\n"
     ]
    }
   ],
   "source": [
    "df_y.sketch.ask(\"What are the sources and types of attacks?\")"
   ]
  },
  {
   "cell_type": "code",
   "execution_count": null,
   "metadata": {},
   "outputs": [],
   "source": [
    "# 'df_y' con dos columnas categóricas \n",
    "tabla_contingencia = pd.crosstab(df_y['Tipo_ataque'], df_y['Puntuaciones_anomalias'])\n",
    "\n",
    "# Gráfico de barras apiladas\n",
    "sns.countplot(x='Tipo_ataque', hue='Puntuaciones_anomalias', data=df_y)\n",
    "\n",
    "# Gráfico de mosaico\n",
    "sns.heatmap(tabla_contingencia, annot=True, fmt='d', cmap='Blues')\n",
    "\n",
    "# Prueba de chi-cuadrado\n",
    "from scipy.stats import chi2_contingency\n",
    "chi2, p, _, _ = chi2_contingency(tabla_contingencia)\n",
    "print(f\"Chi-cuadrado: {chi2}, p-valor: {p}\")\n"
   ]
  }
 ],
 "metadata": {
  "kernelspec": {
   "display_name": "Python 3",
   "language": "python",
   "name": "python3"
  },
  "language_info": {
   "codemirror_mode": {
    "name": "ipython",
    "version": 3
   },
   "file_extension": ".py",
   "mimetype": "text/x-python",
   "name": "python",
   "nbconvert_exporter": "python",
   "pygments_lexer": "ipython3",
   "version": "3.10.11"
  }
 },
 "nbformat": 4,
 "nbformat_minor": 2
}

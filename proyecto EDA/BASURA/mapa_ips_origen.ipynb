{
 "cells": [
  {
   "cell_type": "code",
   "execution_count": null,
   "metadata": {},
   "outputs": [],
   "source": [
    "import pandas as pd\n",
    "import numpy as npy\n",
    "import folium\n",
    "from folium.plugins import MarkerCluster, HeatMap\n",
    "from geopy.geocoders import Nominatim\n",
    "from geopy.point import Point\n",
    "import geopandas as gpd\n",
    "\n",
    "\n",
    "# Configurar pandas para mostrar todas las filas y columnas\n",
    "pd.set_option('display.max_rows', None)\n",
    "#pd.set_option('display.max_columns', None)\n",
    "#pd.set_option('display.width', None)\n",
    "#pd.set_option('display.max_colwidth', None)"
   ]
  },
  {
   "cell_type": "code",
   "execution_count": null,
   "metadata": {},
   "outputs": [],
   "source": [
    "df_2_origen=pd.read_excel(r\"E:\\Cursos\\BC_Data_Science\\Repositorio\\ONLINE_DS_THEBRIDGE_V\\proyecto EDA\\DATASETS\\EXCEL\\ips_origen_2vez.xlsx\")"
   ]
  },
  {
   "cell_type": "code",
   "execution_count": null,
   "metadata": {},
   "outputs": [],
   "source": [
    "lista_origen= df_2_origen.values.tolist()"
   ]
  },
  {
   "cell_type": "code",
   "execution_count": null,
   "metadata": {},
   "outputs": [],
   "source": [
    "# ip origen VEZ( 1426 resgrttros solo)\n",
    "\n",
    "#convierto en lista\n",
    "lista_origen=df_2_origen.values.tolist()\n",
    "\n",
    "\n",
    "# Calcular el centro del mapa\n",
    "center_lat = sum(lat for lat, lon in lista_origen) / len(lista_origen)\n",
    "center_lon = sum(lon for lat, lon in lista_origen) / len(lista_origen)\n",
    "\n",
    "# Crear un objeto de mapa centrado en la primera ubicación\n",
    "mapa = folium.Map(location=lista_origen[0], zoom_start=10)\n",
    "\n",
    "# Agregar un grupo de marcadores\n",
    "marker_cluster = MarkerCluster().add_to(mapa)\n",
    "\n",
    "# Agregar marcadores al grupo con iconos personalizados\n",
    "for tupla in lista_origen:\n",
    "    # Cargar el ícono personalizado\n",
    "    icono_personalizado = folium.CustomIcon(icon_image=r'C:\\Users\\victo\\Pictures\\internet_icon.png', icon_size=(30, 30))\n",
    "    \n",
    "    # Agregar el marcador con el icono personalizado\n",
    "    folium.Marker(location=tupla, icon=icono_personalizado).add_to(marker_cluster)\n",
    "\n",
    "# Agregar un mapa de calor\n",
    "HeatMap(lista_origen).add_to(mapa)\n",
    "\n",
    "# Guardar el mapa como un archivo HTML\n",
    "mapa.save(r'E:\\Cursos\\BC_Data_Science\\Repositorio\\ONLINE_DS_THEBRIDGE_V\\proyecto EDA\\DATASETS\\MAPAS\\mapa_geolocalizado_ips_origen_1426.html')\n",
    "\n",
    "# Mostrar el mapa en la notebook\n",
    "display(mapa)"
   ]
  }
 ],
 "metadata": {
  "kernelspec": {
   "display_name": "Python 3",
   "language": "python",
   "name": "python3"
  },
  "language_info": {
   "name": "python",
   "version": "3.10.11"
  }
 },
 "nbformat": 4,
 "nbformat_minor": 2
}

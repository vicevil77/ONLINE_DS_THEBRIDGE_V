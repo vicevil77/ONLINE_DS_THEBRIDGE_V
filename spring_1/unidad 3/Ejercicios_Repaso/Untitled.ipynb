{
 "cells": [
  {
   "cell_type": "code",
   "execution_count": 1,
   "id": "f132f7df-1647-478f-8379-556c2bc51fd0",
   "metadata": {},
   "outputs": [
    {
     "name": "stdout",
     "output_type": "stream",
     "text": [
      "ejer_6 tiene 11 elementos\n",
      "[11, 2, 4.5, ['esto', 'es'], 3, 4.5, ['esto', 'es'], 'quizás', True, True, 11]\n",
      "[11, 2, 4.5, 3, 4.5, 'quizás', True, True, 11, 'esto', 'es', 'esto', 'es']\n"
     ]
    }
   ],
   "source": [
    "ejer_6 = [11, 2, 4.5, [\"esto\", \"es\"], 3, 4.5, [\"esto\",\"es\"], \"quizás\", True, True, 11]\n",
    "print(\"ejer_6 tiene\",len(ejer_6,),\"elementos\")\n",
    "print(ejer_6)\n",
    "# unificar todo en una unica lista , ya que hay dos listas dentro de ejer_6\n",
    "lista_a= ejer_6.pop(3)\n",
    "lista_b=ejer_6.pop(5)\n",
    "lista_ejer_6 = ejer_6 + lista_a + lista_b\n",
    "print(lista_ejer_6)\n",
    "# convertir a set"
   ]
  },
  {
   "cell_type": "code",
   "execution_count": 2,
   "id": "bfeeb3ab-18c2-4d9f-8a1e-42696a029878",
   "metadata": {},
   "outputs": [
    {
     "data": {
      "text/plain": [
       "{11, 2, 3, 4.5, True, 'quizás'}"
      ]
     },
     "execution_count": 2,
     "metadata": {},
     "output_type": "execute_result"
    }
   ],
   "source": [
    "set(ejer_6)"
   ]
  },
  {
   "cell_type": "code",
   "execution_count": 3,
   "id": "af18fb48-5c0b-4f25-9830-96ac3e64a21f",
   "metadata": {},
   "outputs": [
    {
     "data": {
      "text/plain": [
       "{11, 2, 3, 4.5, True, 'es', 'esto', 'quizás'}"
      ]
     },
     "execution_count": 3,
     "metadata": {},
     "output_type": "execute_result"
    }
   ],
   "source": [
    "set(lista_ejer_6)"
   ]
  },
  {
   "cell_type": "code",
   "execution_count": null,
   "id": "65dfcd66-8017-4f26-88ed-7fef508eb414",
   "metadata": {},
   "outputs": [],
   "source": []
  }
 ],
 "metadata": {
  "kernelspec": {
   "display_name": "Python 3 (ipykernel)",
   "language": "python",
   "name": "python3"
  },
  "language_info": {
   "codemirror_mode": {
    "name": "ipython",
    "version": 3
   },
   "file_extension": ".py",
   "mimetype": "text/x-python",
   "name": "python",
   "nbconvert_exporter": "python",
   "pygments_lexer": "ipython3",
   "version": "3.10.11"
  }
 },
 "nbformat": 4,
 "nbformat_minor": 5
}

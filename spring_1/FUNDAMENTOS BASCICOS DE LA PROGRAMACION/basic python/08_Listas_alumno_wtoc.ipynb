{
 "cells": [
  {
   "cell_type": "markdown",
   "metadata": {},
   "source": [
    "<img src = \"./img/TheBridge_logo_RGB_color.jpg\" width = 500>\n",
    "<img src = \"./img/python.jpg\" width = 500>"
   ]
  },
  {
   "cell_type": "markdown",
   "metadata": {},
   "source": [
    "# Python Basics I"
   ]
  },
  {
   "cell_type": "markdown",
   "metadata": {},
   "source": [
    "## Contenidos"
   ]
  },
  {
   "cell_type": "markdown",
   "metadata": {},
   "source": [
    "* [Listas](#Listas)\n",
    "\n",
    "* [Métodos en Listas](#Metodos-en-Listas)\n",
    "\n"
   ]
  },
  {
   "cell_type": "markdown",
   "metadata": {},
   "source": [
    "## Listas\n",
    "[al indice](#Contenidos)  \n",
    "\n",
    "Se trata de otro de los tipos de datos de Python más usados. Dentro de las colecciones, que veremos más adelante, la lista es la colección que normalmente se le da más uso. **Nos permiten almacenar conjuntos de variables u objetos**, y son elementos de lo más versátiles puesto que podemos almacenar objetos de distintos tipos, modificarlos, eliminarlos, meter listas dentro de listas... Sus dos caractrísticas principales son:\n",
    "* **Mutables**: una vez se ha creado la lista, se puede modificar\n",
    "* **Ordenada**: Los elementos tienen un cierto orden, lo que nos permite acceder al elemento que queramos teniendo en cuenta tal orden\n",
    "\n",
    "En cuanto a su sintaxis, cuando declaremos la lista simplemente hay que separar cada elemento con comas, y rodearlo todo con corchetes."
   ]
  },
  {
   "cell_type": "code",
   "execution_count": 3,
   "metadata": {},
   "outputs": [
    {
     "name": "stdout",
     "output_type": "stream",
     "text": [
      "<class 'list'>\n"
     ]
    }
   ],
   "source": [
    "#lista de nuemros\n",
    "numeros =[1,3,5,6]\n",
    "print(type(numeros))"
   ]
  },
  {
   "cell_type": "code",
   "execution_count": 6,
   "metadata": {},
   "outputs": [
    {
     "name": "stdout",
     "output_type": "stream",
     "text": [
      "['esto', 'es', 'una', 'lista']\n",
      "[True, False, True, False, False]\n"
     ]
    }
   ],
   "source": [
    "#lista de string\n",
    "strings = [\"esto\", \"es\", \"una\", \"lista\"]\n",
    "print(strings)\n",
    "# de booleanos\n",
    "booleanos = [True, False, not False, True and False, False or False]\n",
    "print(booleanos)"
   ]
  },
  {
   "cell_type": "code",
   "execution_count": 27,
   "metadata": {},
   "outputs": [
    {
     "name": "stdout",
     "output_type": "stream",
     "text": [
      "['esto', 'es', 12, -34.5, True, False, 'lista']\n",
      "['Gola', '12', 23, [34, True, False]]\n",
      "[['Gola', '12', 23, [34, True, False]], ['esto', 'es', 12, -34.5, True, False, 'lista'], [True, False, True, False, False], ['esto', 'es', 'una', 'lista'], [1, 3, 5, 6]]\n",
      "[['esto', 'es', 12, -34.5, True, False, 'lista', True, False, True, False, False, 'esto', 'es', 'una', 'lista', 1, 3, 5, 6]]\n"
     ]
    }
   ],
   "source": [
    "# lista de tipos mezclados\n",
    "mix =[\"esto\", \"es\", 12, -34.5, True, False,\"lista\"]\n",
    "print(mix)\n",
    "\n",
    "# listas dentro de listas\n",
    "listas =[\"Gola\", \"12\",23,[34,True, False]]\n",
    "print(listas)\n",
    "# lista de las listas anteriores\n",
    "listas_otras =[listas,mix,booleanos,strings,numeros]\n",
    "print(listas_otras)\n",
    "#concatenacion de listas\n",
    "listas_otras_c =[mix + booleanos + strings + numeros]\n",
    "print(listas_otras_c)"
   ]
  },
  {
   "cell_type": "code",
   "execution_count": 33,
   "metadata": {},
   "outputs": [
    {
     "name": "stdout",
     "output_type": "stream",
     "text": [
      "['esto', 'es', 12, -34.5, True, False, 'lista', 'Gola', '12', 23, [34, True, False]]\n",
      "['Gola', '12', 23, [34, True, False], 'esto', 'es', 12, -34.5, True, False, 'lista']\n"
     ]
    }
   ],
   "source": [
    "concatenacion = mix + listas\n",
    "print(concatenacion)\n",
    "concatenacion_2 = listas + mix\n",
    "print(concatenacion_2) # no son iguales, por lo que la propiedad distributiva en listas no se da"
   ]
  },
  {
   "cell_type": "markdown",
   "metadata": {},
   "source": [
    "**NOTA**: ¿Ves por qué los decimales en Python siempre van con puntos y no con comas? Con las colecciones el intérprete de Python se volvería loco.\n",
    "\n",
    "Podemos ver tambien el tipo de la lista"
   ]
  },
  {
   "cell_type": "code",
   "execution_count": 34,
   "metadata": {},
   "outputs": [
    {
     "data": {
      "text/plain": [
       "list"
      ]
     },
     "execution_count": 34,
     "metadata": {},
     "output_type": "execute_result"
    }
   ],
   "source": [
    "type(mix)"
   ]
  },
  {
   "cell_type": "markdown",
   "metadata": {},
   "source": [
    "Calcular la longitud de la misma mediante el método *built-in* ya visto: `len()`"
   ]
  },
  {
   "cell_type": "code",
   "execution_count": 35,
   "metadata": {},
   "outputs": [
    {
     "data": {
      "text/plain": [
       "7"
      ]
     },
     "execution_count": 35,
     "metadata": {},
     "output_type": "execute_result"
    }
   ],
   "source": [
    "len(mix)"
   ]
  },
  {
   "cell_type": "markdown",
   "metadata": {},
   "source": [
    "Accedemos a los elemenos de la lista mediante corchetes `[]`\n",
    "\n",
    "**Importante**. El primer elemento es el 0"
   ]
  },
  {
   "cell_type": "code",
   "execution_count": 49,
   "metadata": {},
   "outputs": [
    {
     "name": "stdout",
     "output_type": "stream",
     "text": [
      "Esto\n",
      "nuevo\n",
      "patata\n",
      "['Esto', 2, 3, 'patata', 'nuevo']\n",
      "['Esto', 2, 3, 'patata']\n",
      "[2, 3, 'patata']\n"
     ]
    }
   ],
   "source": [
    "lista_ejemplo =[\"Esto\", 2,3,\"patata\",\"nuevo\"]\n",
    "print(lista_ejemplo[0])\n",
    "print(lista_ejemplo[-1])\n",
    "print(lista_ejemplo[-2])\n",
    "print(lista_ejemplo[0:])\n",
    "print(lista_ejemplo[:-1]) \n",
    "print(lista_ejemplo[1:-1]) "
   ]
  },
  {
   "cell_type": "markdown",
   "metadata": {},
   "source": [
    "### Metodos en Listas  \n",
    "[al índice](#Contenidos)  \n",
    "\n",
    "Para el tipo de objeto lista, también hay una serie de métodos catacterísticos que nos permiten operar con ellas: añadir valores, quitarlos, indexado, filtrado, etc... En [este enlace](https://www.w3schools.com/python/python_ref_list.asp) puedes encontrar todos los métodos que podrás usar con listas."
   ]
  },
  {
   "cell_type": "code",
   "execution_count": 56,
   "metadata": {},
   "outputs": [
    {
     "name": "stdout",
     "output_type": "stream",
     "text": [
      "['fisica', 'quimica', 'matematicas', 'literatura', 'filosofia']\n",
      "['fisica', 'educacion fisica', 'quimica', 'matematicas', 'literatura', 'filosofia']\n",
      "['fisica', 'quimica', 'matematicas', 'literatura', 'filosofia']\n",
      "['fisica', 'quimica', 'matematicas', 'literatura']\n",
      "['fisica', 'literatura', 'matematicas', 'quimica']\n",
      "[]\n"
     ]
    }
   ],
   "source": [
    "asignaturas = [\"fisica\", \"quimica\", \"matematicas\", \"literatura\"]\n",
    "\n",
    "#añadir un elemnto al final de la lista\n",
    "asignaturas.append(\"filosofia\")\n",
    "print(asignaturas)\n",
    "\n",
    "# añadir en una posicion determinada\n",
    "asignaturas.insert(1,\"educacion fisica\")\n",
    "print(asignaturas)\n",
    "\n",
    "#quitar un elelmento a partir de su indice o posicion\n",
    "asignaturas.pop(1)\n",
    "print(asignaturas)\n",
    "# quitar un elemento por su valor\n",
    "\n",
    "asignaturas.remove(\"filosofia\")\n",
    "print(asignaturas)\n",
    "\n",
    "# pasra ordenar la lista por orden alfabetico\n",
    "\n",
    "asignaturas.sort()\n",
    "print(asignaturas)\n",
    "\n",
    "# paar quitar elementos\n",
    "asignaturas.clear()\n",
    "print(asignaturas)\n",
    "\n"
   ]
  },
  {
   "cell_type": "code",
   "execution_count": null,
   "metadata": {},
   "outputs": [],
   "source": []
  },
  {
   "cell_type": "code",
   "execution_count": null,
   "metadata": {},
   "outputs": [],
   "source": []
  }
 ],
 "metadata": {
  "kernelspec": {
   "display_name": "Python 3 (ipykernel)",
   "language": "python",
   "name": "python3"
  },
  "language_info": {
   "codemirror_mode": {
    "name": "ipython",
    "version": 3
   },
   "file_extension": ".py",
   "mimetype": "text/x-python",
   "name": "python",
   "nbconvert_exporter": "python",
   "pygments_lexer": "ipython3",
   "version": "3.8.10"
  }
 },
 "nbformat": 4,
 "nbformat_minor": 4
}

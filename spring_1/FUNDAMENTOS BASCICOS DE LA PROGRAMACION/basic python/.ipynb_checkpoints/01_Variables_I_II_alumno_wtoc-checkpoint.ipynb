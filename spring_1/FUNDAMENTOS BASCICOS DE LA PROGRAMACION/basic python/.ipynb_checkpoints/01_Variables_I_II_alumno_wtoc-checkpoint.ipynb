{
 "cells": [
  {
   "cell_type": "markdown",
   "metadata": {},
   "source": [
    "<img src=\"./img/TheBridge_logo_RGB_color.jpg\" width = 250>\n",
    "<img src=\"./img/python.jpg\" width = 250>"
   ]
  },
  {
   "cell_type": "markdown",
   "metadata": {},
   "source": [
    "# Python Basics I: Variables\n",
    "\n",
    "\n",
    "Bienvenido a tu primer asalto con Python. Empezamos nuestra aventura declarando variables. \n",
    "\n",
    "Las variables son una manera de etiquetar y conservar los datos del programa para luego poder emplearlos en diferentes sitios."
   ]
  },
  {
   "cell_type": "markdown",
   "metadata": {},
   "source": [
    "## Contenidos"
   ]
  },
  {
   "cell_type": "markdown",
   "metadata": {},
   "source": [
    "* [Variables numéricas](#Variables-numéricas)\n",
    "\n",
    "* [Cadenas de texto](#Cadenas-de-texto)\n",
    "\n",
    "* [Escribir mal el nombre](#Escribir-mal-el-nombre)\n",
    "\n",
    "* [Cerrar bien los strings](#Cerrar-bien-los-strings)\n",
    "\n",
    "* [Prohibido espacios en los nombres de las variables](#Prohibido-espacios-en-los-nombres-de-las-variables)\n",
    "\n",
    "* [Números en el nombre de la variable](#Números-en-el-nombre-de-la-variable)\n",
    "\n",
    "* [Sensible a mayusculas](#Sensible-a-mayusculas)\n",
    "\n",
    "* [Palabras reservadas](#Palabras-reservadas)\n",
    "\n",
    "* [Resumen variables](#Resumen-variables)\n",
    "\n"
   ]
  },
  {
   "cell_type": "markdown",
   "metadata": {},
   "source": [
    "### Variables numéricas  \n",
    "[al indice](#Contenidos)\n",
    "\n",
    "\n"
   ]
  },
  {
   "cell_type": "code",
   "execution_count": 1,
   "metadata": {},
   "outputs": [],
   "source": [
    "ingresos= 1000\n",
    "gastos=400\n"
   ]
  },
  {
   "cell_type": "markdown",
   "metadata": {},
   "source": [
    "**Esto es una asignación**. A la palabra *ingresos*, le asignamos un valor mediante `=`.\n",
    "Si queremos ver el valor de la variable, simplemente escribimos su nombre en una celda."
   ]
  },
  {
   "cell_type": "code",
   "execution_count": 2,
   "metadata": {},
   "outputs": [
    {
     "data": {
      "text/plain": [
       "1000"
      ]
     },
     "execution_count": 2,
     "metadata": {},
     "output_type": "execute_result"
    }
   ],
   "source": [
    "ingresos"
   ]
  },
  {
   "cell_type": "code",
   "execution_count": 3,
   "metadata": {},
   "outputs": [
    {
     "data": {
      "text/plain": [
       "400"
      ]
     },
     "execution_count": 3,
     "metadata": {},
     "output_type": "execute_result"
    }
   ],
   "source": [
    "ingresos\n",
    "gastos"
   ]
  },
  {
   "cell_type": "code",
   "execution_count": 5,
   "metadata": {},
   "outputs": [
    {
     "name": "stdout",
     "output_type": "stream",
     "text": [
      "ingresos, gastos\n"
     ]
    }
   ],
   "source": [
    "print(\"ingresos, gastos\")"
   ]
  },
  {
   "cell_type": "code",
   "execution_count": 7,
   "metadata": {},
   "outputs": [],
   "source": [
    "margen = ingresos - gastos"
   ]
  },
  {
   "cell_type": "code",
   "execution_count": 8,
   "metadata": {},
   "outputs": [
    {
     "data": {
      "text/plain": [
       "600"
      ]
     },
     "execution_count": 8,
     "metadata": {},
     "output_type": "execute_result"
    }
   ],
   "source": [
    "margen"
   ]
  },
  {
   "cell_type": "code",
   "execution_count": 9,
   "metadata": {},
   "outputs": [
    {
     "name": "stdout",
     "output_type": "stream",
     "text": [
      "600\n"
     ]
    }
   ],
   "source": [
    "print(margen)"
   ]
  },
  {
   "cell_type": "markdown",
   "metadata": {},
   "source": [
    "### Cadenas de texto  \n",
    "[al indice](#Contenidos)\n",
    "\n",
    "\n",
    "Las cadenas de texto se declaran con comillas simples o dobles"
   ]
  },
  {
   "cell_type": "code",
   "execution_count": 27,
   "metadata": {},
   "outputs": [
    {
     "name": "stdout",
     "output_type": "stream",
     "text": [
      "Los ingresos han sido altos\n",
      "Los ingresos han sido altos\n"
     ]
    }
   ],
   "source": [
    "ingresos_text=\"Los ingresos han sido altos\"\n",
    "ingresos_alt= \"Los ingresos han sido altos\"\n",
    "print(ingresos_text)\n",
    "print(ingresos_alt)"
   ]
  },
  {
   "cell_type": "code",
   "execution_count": 29,
   "metadata": {},
   "outputs": [],
   "source": [
    "ingresos_text=\" los 'ingresos' han sido altos\""
   ]
  },
  {
   "cell_type": "code",
   "execution_count": 33,
   "metadata": {},
   "outputs": [
    {
     "data": {
      "text/plain": [
       "\" los 'ingresos' han sido altos\""
      ]
     },
     "execution_count": 33,
     "metadata": {},
     "output_type": "execute_result"
    }
   ],
   "source": [
    "ingresos_text"
   ]
  },
  {
   "cell_type": "code",
   "execution_count": 34,
   "metadata": {},
   "outputs": [
    {
     "ename": "SyntaxError",
     "evalue": "invalid syntax (1193425425.py, line 1)",
     "output_type": "error",
     "traceback": [
      "\u001b[0;36m  Cell \u001b[0;32mIn[34], line 1\u001b[0;36m\u001b[0m\n\u001b[0;31m    ingresos_text=\" Los \"ingresos\" han sido altos\"\u001b[0m\n\u001b[0m                         ^\u001b[0m\n\u001b[0;31mSyntaxError\u001b[0m\u001b[0;31m:\u001b[0m invalid syntax\n"
     ]
    }
   ],
   "source": [
    "ingresos_text =\" Los \"ingresos\" han sido altos\""
   ]
  },
  {
   "cell_type": "code",
   "execution_count": null,
   "metadata": {},
   "outputs": [],
   "source": []
  },
  {
   "cell_type": "markdown",
   "metadata": {},
   "source": [
    "Python es un lenguaje dinámico por lo que siempre podremos actualizar los valores de las variables. **Se recomienda usar nombres descriptivos para declarar las variables, pero no excesivamente largos**. Así evitamos sobreescribirlas sin querer.\n",
    "\n",
    "Por otro lado, cuidado con los caracteres ele y uno (`l` vs `1`), así como con cero y o (`0` vs `O`). Se suelen confundir.\n",
    "\n",
    "fatal vs fata1\n",
    "\n",
    "clarO vs clar0\n",
    "\n",
    "Reasignamos valor a gastos"
   ]
  },
  {
   "cell_type": "code",
   "execution_count": 35,
   "metadata": {},
   "outputs": [],
   "source": [
    "gastos= 200"
   ]
  },
  {
   "cell_type": "code",
   "execution_count": 36,
   "metadata": {},
   "outputs": [
    {
     "data": {
      "text/plain": [
       "200"
      ]
     },
     "execution_count": 36,
     "metadata": {},
     "output_type": "execute_result"
    }
   ],
   "source": [
    "gastos"
   ]
  },
  {
   "cell_type": "markdown",
   "metadata": {},
   "source": [
    "Ahora la variable gastos vale 200. Si la última línea de una celda es una variable, su valor será el *output* de la celda: 200.\n",
    "\n",
    "Vale, ¿y de qué nos sirve guardar variables?\n",
    "\n",
    "Podremos usar estos datos posteriormente, en otro lugar del programa. Por ejemplo, si ahora en una celda nueva queremos obtener el beneficio, simplemente restamos los nombres de las variables"
   ]
  },
  {
   "cell_type": "code",
   "execution_count": 37,
   "metadata": {},
   "outputs": [],
   "source": [
    "gastos = 100"
   ]
  },
  {
   "cell_type": "code",
   "execution_count": 39,
   "metadata": {},
   "outputs": [],
   "source": [
    "beneficios = ingresos -gastos"
   ]
  },
  {
   "cell_type": "code",
   "execution_count": 40,
   "metadata": {},
   "outputs": [
    {
     "data": {
      "text/plain": [
       "900"
      ]
     },
     "execution_count": 40,
     "metadata": {},
     "output_type": "execute_result"
    }
   ],
   "source": [
    "beneficios"
   ]
  },
  {
   "cell_type": "markdown",
   "metadata": {},
   "source": [
    "<table align=\"left\">\n",
    " <tr><td width=\"80\"><img src=\"img/error.png\" style=\"width:auto;height:auto\"></td>\n",
    "     <td style=\"text-align:left\">\n",
    "         <h3>ERRORES en variables</h3>\n",
    "         \n",
    " </td></tr>\n",
    "</table>"
   ]
  },
  {
   "cell_type": "markdown",
   "metadata": {},
   "source": [
    "### Escribir mal el nombre  \n",
    "[al indice](#Contenidos)\n",
    "\n",
    "\n",
    "Un error típico cuando declaramos variables es **escribir su nombre mal, o llamar despues a la variable de forma errónea**. En tal caso, aparece un `NameError: name 'variable_que_no_existe' is not defined`"
   ]
  },
  {
   "cell_type": "code",
   "execution_count": 41,
   "metadata": {},
   "outputs": [
    {
     "ename": "NameError",
     "evalue": "name 'gstos' is not defined",
     "output_type": "error",
     "traceback": [
      "\u001b[0;31m---------------------------------------------------------------------------\u001b[0m",
      "\u001b[0;31mNameError\u001b[0m                                 Traceback (most recent call last)",
      "Cell \u001b[0;32mIn[41], line 1\u001b[0m\n\u001b[0;32m----> 1\u001b[0m \u001b[43mgstos\u001b[49m\n",
      "\u001b[0;31mNameError\u001b[0m: name 'gstos' is not defined"
     ]
    }
   ],
   "source": [
    "gstos"
   ]
  },
  {
   "cell_type": "markdown",
   "metadata": {},
   "source": [
    "Fíjate que te indica la línea donde se produce el error, el tipo de error (`NameError`), y una breve descripción del error."
   ]
  },
  {
   "cell_type": "markdown",
   "metadata": {},
   "source": [
    "### Cerrar bien los strings  \n",
    "[al indice](#Contenidos)\n",
    "\n",
    "\n",
    "\n",
    "Cuidado tambien cuando definamos una cadena de texto, y se nos olvide cerrarla con sus correspondientes comillas. Nos dará un `SyntaxError: EOL while scanning string literal` (End Of Line)"
   ]
  },
  {
   "cell_type": "code",
   "execution_count": 42,
   "metadata": {},
   "outputs": [
    {
     "ename": "SyntaxError",
     "evalue": "EOL while scanning string literal (2211738507.py, line 1)",
     "output_type": "error",
     "traceback": [
      "\u001b[0;36m  Cell \u001b[0;32mIn[42], line 1\u001b[0;36m\u001b[0m\n\u001b[0;31m    texto = \"error sin comillas\u001b[0m\n\u001b[0m                               ^\u001b[0m\n\u001b[0;31mSyntaxError\u001b[0m\u001b[0;31m:\u001b[0m EOL while scanning string literal\n"
     ]
    }
   ],
   "source": [
    "texto = \"error sin comillas"
   ]
  },
  {
   "cell_type": "code",
   "execution_count": null,
   "metadata": {},
   "outputs": [],
   "source": []
  },
  {
   "cell_type": "markdown",
   "metadata": {},
   "source": [
    "### Prohibido espacios en los nombres de las variables  \n",
    "[al indice](#Contenidos)\n",
    "\n",
    "\n",
    "\n",
    "También dará error si tenemos un espacio en la declaración de la variable. Se recomienda mínusculas y guiones bajos para simular los espacios.\n",
    "\n",
    "**Los espacios que encuentres alrededor del igual se pueden usar perfectamente**. Es pura estética a la hora de leer el código."
   ]
  },
  {
   "cell_type": "code",
   "execution_count": null,
   "metadata": {},
   "outputs": [],
   "source": []
  },
  {
   "cell_type": "code",
   "execution_count": null,
   "metadata": {},
   "outputs": [],
   "source": []
  },
  {
   "cell_type": "markdown",
   "metadata": {},
   "source": [
    "### Números en el nombre de la variable  \n",
    "[al indice](#Contenidos)\n",
    "\n",
    "\n",
    "Ojo con los números cuando declaremos variables. En ocasiones es determinante describir nuestra variable con algún número. En tal caso, ponlo siempre al final del nombre de la variable, ya que sino saltará un error."
   ]
  },
  {
   "cell_type": "code",
   "execution_count": 43,
   "metadata": {},
   "outputs": [
    {
     "ename": "SyntaxError",
     "evalue": "invalid decimal literal (176038607.py, line 1)",
     "output_type": "error",
     "traceback": [
      "\u001b[0;36m  Cell \u001b[0;32mIn[43], line 1\u001b[0;36m\u001b[0m\n\u001b[0;31m    2009_ingresos\u001b[0m\n\u001b[0m        ^\u001b[0m\n\u001b[0;31mSyntaxError\u001b[0m\u001b[0;31m:\u001b[0m invalid decimal literal\n"
     ]
    }
   ],
   "source": [
    "2009_ingresos"
   ]
  },
  {
   "cell_type": "code",
   "execution_count": 44,
   "metadata": {},
   "outputs": [],
   "source": [
    "ingresos_2009= 34556667"
   ]
  },
  {
   "cell_type": "markdown",
   "metadata": {},
   "source": [
    "### Sensible a mayusculas  \n",
    "[al indice](#Contenidos)\n",
    "\n",
    "\n",
    "\n",
    "Mucho cuidado con las mayusculas y minusculas porque Python no las ignora. Si todas las letras de una variable están en mayusculas, tendremos que usarla en mayusculas, sino dará un error de que no encuentra la variable."
   ]
  },
  {
   "cell_type": "code",
   "execution_count": 45,
   "metadata": {},
   "outputs": [
    {
     "ename": "NameError",
     "evalue": "name 'Ingresos_2009' is not defined",
     "output_type": "error",
     "traceback": [
      "\u001b[0;31m---------------------------------------------------------------------------\u001b[0m",
      "\u001b[0;31mNameError\u001b[0m                                 Traceback (most recent call last)",
      "Cell \u001b[0;32mIn[45], line 1\u001b[0m\n\u001b[0;32m----> 1\u001b[0m \u001b[38;5;28mprint\u001b[39m(\u001b[43mIngresos_2009\u001b[49m)\n",
      "\u001b[0;31mNameError\u001b[0m: name 'Ingresos_2009' is not defined"
     ]
    }
   ],
   "source": [
    "print(Ingresos_2009)"
   ]
  },
  {
   "cell_type": "code",
   "execution_count": 46,
   "metadata": {},
   "outputs": [
    {
     "name": "stdout",
     "output_type": "stream",
     "text": [
      "34556667\n"
     ]
    }
   ],
   "source": [
    "print(ingresos_2009)"
   ]
  },
  {
   "cell_type": "code",
   "execution_count": 49,
   "metadata": {},
   "outputs": [
    {
     "ename": "SyntaxError",
     "evalue": "invalid syntax (3594483855.py, line 1)",
     "output_type": "error",
     "traceback": [
      "\u001b[0;36m  Cell \u001b[0;32mIn[49], line 1\u001b[0;36m\u001b[0m\n\u001b[0;31m    def = 10\u001b[0m\n\u001b[0m        ^\u001b[0m\n\u001b[0;31mSyntaxError\u001b[0m\u001b[0;31m:\u001b[0m invalid syntax\n"
     ]
    }
   ],
   "source": [
    "def = 10"
   ]
  },
  {
   "cell_type": "markdown",
   "metadata": {},
   "source": [
    "### Palabras reservadas\n",
    "[al indice](#Contenidos)\n",
    "\n",
    "\n",
    "\n",
    "En Python, como en otros lenguajes, hay una serie de palabras reservadas que tienen un significado para el intérprete de Python y por lo tanto no podemos usar para ponerle nombre a nuestras variables.\n",
    "\n",
    "Por ejemplo, `def` se usa para definir funciones en Python (lo veremos en otros notebooks), por lo que no podemos emplear `def` para nombrar a nuestras variables"
   ]
  },
  {
   "cell_type": "code",
   "execution_count": null,
   "metadata": {},
   "outputs": [],
   "source": []
  },
  {
   "cell_type": "markdown",
   "metadata": {},
   "source": [
    "Consulta la lista de palabras reservadas de Python"
   ]
  },
  {
   "cell_type": "code",
   "execution_count": 50,
   "metadata": {},
   "outputs": [
    {
     "name": "stdout",
     "output_type": "stream",
     "text": [
      "['False', 'None', 'True', 'and', 'as', 'assert', 'async', 'await', 'break', 'class', 'continue', 'def', 'del', 'elif', 'else', 'except', 'finally', 'for', 'from', 'global', 'if', 'import', 'in', 'is', 'lambda', 'nonlocal', 'not', 'or', 'pass', 'raise', 'return', 'try', 'while', 'with', 'yield']\n"
     ]
    }
   ],
   "source": [
    "import keyword\n",
    "print(keyword.kwlist)# (nombre del modulo. variable)"
   ]
  },
  {
   "cell_type": "code",
   "execution_count": 51,
   "metadata": {},
   "outputs": [
    {
     "name": "stdout",
     "output_type": "stream",
     "text": [
      "Help on module keyword:\n",
      "\n",
      "NAME\n",
      "    keyword - Keywords (from \"Grammar/Grammar\")\n",
      "\n",
      "MODULE REFERENCE\n",
      "    https://docs.python.org/3.8/library/keyword\n",
      "    \n",
      "    The following documentation is automatically generated from the Python\n",
      "    source files.  It may be incomplete, incorrect or include features that\n",
      "    are considered implementation detail and may vary between Python\n",
      "    implementations.  When in doubt, consult the module reference at the\n",
      "    location listed above.\n",
      "\n",
      "DESCRIPTION\n",
      "    This file is automatically generated; please don't muck it up!\n",
      "    \n",
      "    To update the symbols in this file, 'cd' to the top directory of\n",
      "    the python source tree and run:\n",
      "    \n",
      "        python3 -m Parser.pgen.keywordgen Grammar/Grammar                                       Grammar/Tokens                                       Lib/keyword.py\n",
      "    \n",
      "    Alternatively, you can run 'make regen-keyword'.\n",
      "\n",
      "FUNCTIONS\n",
      "    iskeyword = __contains__(...) method of builtins.frozenset instance\n",
      "        x.__contains__(y) <==> y in x.\n",
      "\n",
      "DATA\n",
      "    __all__ = ['iskeyword', 'kwlist']\n",
      "    kwlist = ['False', 'None', 'True', 'and', 'as', 'assert', 'async', 'aw...\n",
      "\n",
      "FILE\n",
      "    /usr/lib/python3.8/keyword.py\n",
      "\n",
      "\n"
     ]
    }
   ],
   "source": [
    "help(\"keyword\")"
   ]
  },
  {
   "cell_type": "markdown",
   "metadata": {},
   "source": [
    "### Resumen variables\n",
    "[al indice](#Contenidos)\n",
    "\n",
    "\n",
    "\n",
    "En resumen:\n",
    "* Usar minusculas. Sensible a mayusculas/minusculas\n",
    "* No usar espacios\n",
    "* No usar palabras reservadas\n",
    "* No usar numeros al principio de la variable\n",
    "* Cuidado con los caracteres `l`, `1`, `O`, `0`"
   ]
  },
  {
   "cell_type": "code",
   "execution_count": null,
   "metadata": {},
   "outputs": [],
   "source": []
  },
  {
   "cell_type": "code",
   "execution_count": null,
   "metadata": {},
   "outputs": [],
   "source": []
  },
  {
   "cell_type": "code",
   "execution_count": null,
   "metadata": {},
   "outputs": [],
   "source": []
  }
 ],
 "metadata": {
  "kernelspec": {
   "display_name": "Python 3 (ipykernel)",
   "language": "python",
   "name": "python3"
  },
  "language_info": {
   "codemirror_mode": {
    "name": "ipython",
    "version": 3
   },
   "file_extension": ".py",
   "mimetype": "text/x-python",
   "name": "python",
   "nbconvert_exporter": "python",
   "pygments_lexer": "ipython3",
   "version": "3.8.10"
  },
  "nbTranslate": {
   "displayLangs": [
    "*"
   ],
   "hotkey": "alt-t",
   "langInMainMenu": true,
   "sourceLang": "en",
   "targetLang": "fr",
   "useGoogleTranslate": true
  },
  "varInspector": {
   "cols": {
    "lenName": 16,
    "lenType": 16,
    "lenVar": 40
   },
   "kernels_config": {
    "python": {
     "delete_cmd_postfix": "",
     "delete_cmd_prefix": "del ",
     "library": "var_list.py",
     "varRefreshCmd": "print(var_dic_list())"
    },
    "r": {
     "delete_cmd_postfix": ") ",
     "delete_cmd_prefix": "rm(",
     "library": "var_list.r",
     "varRefreshCmd": "cat(var_dic_list()) "
    }
   },
   "types_to_exclude": [
    "module",
    "function",
    "builtin_function_or_method",
    "instance",
    "_Feature"
   ],
   "window_display": false
  }
 },
 "nbformat": 4,
 "nbformat_minor": 4
}

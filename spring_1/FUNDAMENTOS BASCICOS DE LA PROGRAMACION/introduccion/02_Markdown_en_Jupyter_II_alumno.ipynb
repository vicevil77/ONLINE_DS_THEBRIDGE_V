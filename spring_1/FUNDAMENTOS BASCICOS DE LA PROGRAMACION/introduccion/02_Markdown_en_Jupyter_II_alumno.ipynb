{
 "cells": [
  {
   "cell_type": "markdown",
   "metadata": {},
   "source": [
    "<img src = \"./img/TheBridge_logo_RGB_color.jpg\" width = 300>"
   ]
  },
  {
   "cell_type": "markdown",
   "metadata": {},
   "source": [
    "# Markdown (II)\n",
    "\n"
   ]
  },
  {
   "cell_type": "markdown",
   "metadata": {},
   "source": [
    "## 6. Saltos de Línea\n",
    "Para poder separar párrafos y líneas en una misma celda, Markdown es un poco especial. No detecta los saltos de línea tal cual. Tenemos que indicarselo de nuevo con una \"marca\"."
   ]
  },
  {
   "cell_type": "markdown",
   "metadata": {},
   "source": [
    "\"en un lugar dela Mancha\"\n",
    "\"veinte años despues frente al peloton de fusilamiento\""
   ]
  },
  {
   "cell_type": "markdown",
   "metadata": {},
   "source": [
    "La marca para indicarle a Markdown que debe considerar una línea nueva son dos espacios seguidos."
   ]
  },
  {
   "cell_type": "markdown",
   "metadata": {},
   "source": [
    "\"en un lugar dela Mancha\"  \n",
    "\"veinte años despues frente al peloton de fusilamiento\""
   ]
  },
  {
   "cell_type": "markdown",
   "metadata": {},
   "source": [
    "## 7. Listas\n",
    "Hay dos opciones. **Listas ordenadas o sin ordenar**. Si queremos listas ordenadas, simplemente usamos números"
   ]
  },
  {
   "cell_type": "markdown",
   "metadata": {},
   "source": [
    "1.primer eleemnto  \n",
    "2. segundo elemento"
   ]
  },
  {
   "cell_type": "markdown",
   "metadata": {},
   "source": [
    "Lista no ordenada"
   ]
  },
  {
   "cell_type": "markdown",
   "metadata": {},
   "source": [
    "* elemento 1\n",
    "* elemento 2\n",
    "* elemento 3\n",
    "* elemento 4"
   ]
  },
  {
   "cell_type": "markdown",
   "metadata": {},
   "source": [
    "## 8. Código de Python\n",
    "Es otra manera de enseñar código. Se suele usar cuando lo único que quieres es mostrar un fragmento de código, pero sin ejecutarlo\n"
   ]
  },
  {
   "cell_type": "markdown",
   "metadata": {},
   "source": [
    "```Python\n",
    "variable = \"esto es una variable \" ```"
   ]
  },
  {
   "cell_type": "markdown",
   "metadata": {},
   "source": [
    "## 9. Líneas de separación\n",
    "Para separar secciones utilizamos líneas horizontales. Hay varias opciones en markdown para insertar una lína horizontal. En este ejemplo se usa o asteriscos o guiones.\n"
   ]
  },
  {
   "cell_type": "markdown",
   "metadata": {},
   "source": [
    "## 10. Links y enlaces\n",
    "Para crear enlaces externos, a páginas web, se usa la sintaxis `[ enlace ] (web)`\n",
    "\n",
    "Primero con los links a internet, en la parte de enlace [RODEA ENLACE] pon el identificador que quieras, y entre paréntesis el link como aquí [SEÑALA LA LINEA DE ABAJO]\n",
    "\n",
    "[enlace con texto cambiado](http://www.google.es)\n",
    "\n",
    "Y si lo vamos a usar mucho podemos definir un enlace que lo abrevie como se ve a continuación con mi_web\n",
    "\n",
    "Tambien podemos definir [un enlace][mi_web].\n",
    "\n",
    "A una [web][mi_web] a la que podemos referenciar mas adelante\n",
    "\n",
    "[mi_web]: http://www.google.es\n",
    "\n",
    "\n",
    "Por otro lado, podemos definir links que vayan a otras partes del Notebook, como por ejemplo a una cabecera concreta. Si haces clik en [este enlace](#Markdown-(II)), volverás al inicio del notebook.Con [este otro enlace](#6.-Saltos-de-Línea) vas al primer apartado.\n",
    "\n",
    "¿Cómo linkarlos? Copiamos el nombre de la cabecera, sustituimos espacios por guiones, le añadimos en hashtag al principio, y eso es lo que va dentro de los paréntesis."
   ]
  },
  {
   "cell_type": "markdown",
   "metadata": {},
   "source": [
    "## 11. Imágenes\n",
    "Si tenemos una imagen en el ordenador, en general le vamos a decir a Markdown que apunte a esa imagen. Lo normal es tener todas las imagenes agrupadas en una carpeta dentro de tu repositorio.\n",
    "\n",
    "Usamos la sintaxis ![ nombre cualqueira](ruta de la imagen)."
   ]
  },
  {
   "cell_type": "markdown",
   "metadata": {},
   "source": [
    "La imagen tiene que estar en la misma carpeta que este notebook, debido a la sintaxis `./imagen.png`. Con el `./` Jupyter entiende que tiene que buscar en la carpeta de este notebook:\n",
    "\n",
    "1. `./imagen.png` si la imagen esta en el mismo directorio donde está este Notebook\n",
    "2. `./img/imagen.png` si dentro del directorio donde se encuentra este Notebook, hay una carpeta llamada \"img\", y dentro se encuentra la imagen."
   ]
  },
  {
   "cell_type": "markdown",
   "metadata": {},
   "source": [
    "#### Imagen en el mismo directorio que el Notebook"
   ]
  },
  {
   "cell_type": "markdown",
   "metadata": {},
   "source": [
    "![esta en el mismo directorio](./error.png)"
   ]
  },
  {
   "cell_type": "markdown",
   "metadata": {},
   "source": [
    "#### Imagen en el directorio \"img\""
   ]
  },
  {
   "cell_type": "markdown",
   "metadata": {},
   "source": [
    "![este es un ejemplo de imagen no esta en directorio](./img/error.png)"
   ]
  },
  {
   "cell_type": "markdown",
   "metadata": {},
   "source": [
    "Otra forma de cargar imágenes controlando además el tambaño es emplear la siguiente sintaxis"
   ]
  },
  {
   "cell_type": "markdown",
   "metadata": {},
   "source": [
    "\n"
   ]
  },
  {
   "cell_type": "code",
   "execution_count": null,
   "metadata": {},
   "outputs": [],
   "source": [
    "< im"
   ]
  },
  {
   "cell_type": "markdown",
   "metadata": {},
   "source": [
    "En las versiones actuales puedes copiar y pegar una imagen en una celda Markdown y esta se adjunta al notebook. Prueba a hacerlo con alguna imagen de las que tengas en tu ordenador."
   ]
  },
  {
   "cell_type": "markdown",
   "metadata": {},
   "source": [
    "## 12. Documentación\n",
    "Hay muchísimas guías para escribir markdown en Internet. Con lo visto en este notebook tienes más que de sobra para darle color y forma a tus Notebooks de Python... De Python, de R, documentación para GitHub, tu blog de data scientist... Como te dije al principio, markdown es un lenguaje muy popular al que se le puede sacar mucho jugo.\n",
    "\n",
    "Aun así, si quieres aprender más de este lenguaje, te dejo algunos enlaces interesantes.\n",
    "\n",
    "[Este](https://www.markdownguide.org/basic-syntax/)\n",
    "\n",
    "[Este otro](https://daringfireball.net/projects/markdown/syntax)\n",
    "\n",
    "[Y este tambien](https://medium.com/analytics-vidhya/the-ultimate-markdown-guide-for-jupyter-notebook-d5e5abf728fd)"
   ]
  }
 ],
 "metadata": {
  "kernelspec": {
   "display_name": "Python 3 (ipykernel)",
   "language": "python",
   "name": "python3"
  },
  "language_info": {
   "codemirror_mode": {
    "name": "ipython",
    "version": 3
   },
   "file_extension": ".py",
   "mimetype": "text/x-python",
   "name": "python",
   "nbconvert_exporter": "python",
   "pygments_lexer": "ipython3",
   "version": "3.8.10"
  },
  "vscode": {
   "interpreter": {
    "hash": "252189e587d1e2aeba4a06e91fa71896c7a7f6e22e918b9407c7cde4ef2d5985"
   }
  }
 },
 "nbformat": 4,
 "nbformat_minor": 4
}

{
 "cells": [
  {
   "cell_type": "markdown",
   "id": "90679738-751d-4652-8993-b9619114571b",
   "metadata": {},
   "source": []
  },
  {
   "cell_type": "markdown",
   "id": "a1b0ce77-e39e-45c3-a360-ae2acd8af8fb",
   "metadata": {},
   "source": [
    "**Mis primeros pasos con MArkdown** ....son muy buenos"
   ]
  },
  {
   "cell_type": "code",
   "execution_count": null,
   "id": "67894e81-0c1a-4d72-9f93-f83886a7487f",
   "metadata": {},
   "outputs": [],
   "source": [
    "#este codigo es de python\n",
    "# es habitual acompañar con esto y markdown"
   ]
  }
 ],
 "metadata": {
  "kernelspec": {
   "display_name": "Python 3 (ipykernel)",
   "language": "python",
   "name": "python3"
  },
  "language_info": {
   "codemirror_mode": {
    "name": "ipython",
    "version": 3
   },
   "file_extension": ".py",
   "mimetype": "text/x-python",
   "name": "python",
   "nbconvert_exporter": "python",
   "pygments_lexer": "ipython3",
   "version": "3.8.10"
  }
 },
 "nbformat": 4,
 "nbformat_minor": 5
}

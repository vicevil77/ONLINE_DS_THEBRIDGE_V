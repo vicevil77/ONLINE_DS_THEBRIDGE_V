{
 "cells": [
  {
   "cell_type": "markdown",
   "metadata": {},
   "source": [
    "<img src = \"./img/TheBridge_logo_RGB_color.jpg\" width = 300>"
   ]
  },
  {
   "cell_type": "markdown",
   "metadata": {},
   "source": [
    "# Markdown (I)              \n",
    "\n",
    "### ¿Qué es?\n",
    "Lenguaje de marcado que nos permite aplicar formato a nuestros textos mediante unos caracteres especiales. Este lenguaje está pensado para web, pero es muy común utilizarlo en cualquier tipo de texto, independientemente de su destino.\n",
    "\n",
    "Lo bueno que tiene es que se edita en **texto plano y está integrado en muchísimas herramientas**, como Jupyter Notebook o RStudio.\n",
    "\n",
    "### Markdown vs HTML\n",
    "Tenemos un viejo conocido en cuanto a programación web: HTML. Son lenguajes muy diferentes. Con HTML podemos construir un complejo **árbol de tags**, mientras que markdown se desarrolla en texto plano. Por supuesto, las finalidades también son distintas. Ya verás a lo largo de este notebook que ambos lenguajes son perfectamente compatibles.\n",
    "\n",
    "### ¿Cómo funciona?\n",
    "Contiene una serie de **caracteres especiales** que le dan forma a los textos. \n",
    "\n",
    "### ¿De qué nos va a servir?\n",
    "En Jupyter lo normal será crear celdas con código, pero también tenemos la posibilidad de insertar celdas de markdown, donde podremos poner **imágenes, títulos, enumerar texto, listar, citar y mucho más!**"
   ]
  },
  {
   "cell_type": "markdown",
   "metadata": {},
   "source": [
    "## 1. Primera celda\n",
    "Haz doble clik en esta celda y verás cómo cambia el texto. Significa que estás en el **modo edición** de Markdown.\n",
    "\n",
    "Hola\n",
    "\n",
    "Haz ctrl + enter para ejecuta la celda (o botón de play de arriba). Así abandonamos el modo edición y nuestro texto obtiene el formato que deseábamos.\n",
    "\n",
    "**¡Tu turno!** Crea una celda nueva en el menu de arriba y selecciona la opción Markdown. Y luego intenta replicar la celda siguiente a la de la imagen"
   ]
  },
  {
   "cell_type": "markdown",
   "metadata": {},
   "source": [
    "![imagen](./img/crea_celda.png)"
   ]
  },
  {
   "cell_type": "markdown",
   "metadata": {},
   "source": [
    "**Mis primeros pasos con Markdown**\n"
   ]
  },
  {
   "cell_type": "code",
   "execution_count": 1,
   "metadata": {},
   "outputs": [],
   "source": [
    "# Esto es código de Python.\n",
    "# Va a ser muy habitual en el curso, acompañar el código de Python mediante celdas de markdown.\n"
   ]
  },
  {
   "cell_type": "markdown",
   "metadata": {},
   "source": [
    "**TIP**: cuando estemos escribiendo markdown, un buen indicador de que lo estamos haciendo bien es que **la letra cambia de color o de forma**."
   ]
  },
  {
   "cell_type": "markdown",
   "metadata": {},
   "source": [
    "# Markdown\n",
    "\n",
    "## 2. Cabeceras\n",
    "Ya has visto que en el apartado anterior usábamos dos hashtag para poner una cabecera. ¿Por qué dos? Cuantos más hashtags, menor es el tamaño del título.\n"
   ]
  },
  {
   "cell_type": "markdown",
   "metadata": {},
   "source": [
    "# Cabecera 1\n",
    "## Cabecera 2"
   ]
  },
  {
   "cell_type": "markdown",
   "metadata": {},
   "source": [
    "El tamaño mínimo lo obtenemos con 6 hashtags. Es decir, tenemos hasta 6 niveles de profundidad para aplicar a los apartados de nuestro notebook."
   ]
  },
  {
   "cell_type": "markdown",
   "metadata": {},
   "source": [
    "### Cabecera 3\n",
    "#### Cabecera 4\n",
    "##### Cabecera 5\n",
    "###### Cabecera 6"
   ]
  },
  {
   "cell_type": "markdown",
   "metadata": {},
   "source": [
    "## 3. HTML\n",
    "Markdown nos ofrece la posibilidad de escribir código HTML, dentro de una celda markdown. Si te manejas bien con HTML y quieres insertar una porción de código de este lenguaje, markdown lo va a interpretar.\n"
   ]
  },
  {
   "cell_type": "markdown",
   "metadata": {},
   "source": [
    "<h1> Header 1 </h1>\n",
    "<h2> Header 2 </h2>\n",
    "<h3> Header 3 </h3>"
   ]
  },
  {
   "cell_type": "markdown",
   "metadata": {},
   "source": [
    "## 4. Negrita, cursiva\n",
    "Paara resaltar texto en negrita tenemos que rodearlo con asteriscos. En el caso en que queramos cursiva, será un único asterisco, y si deseamos combinar negrita con cursiva, son 3 asteriscos.\n"
   ]
  },
  {
   "cell_type": "markdown",
   "metadata": {},
   "source": [
    "**negrita**\n",
    "\n",
    "*cursiva*\n",
    "\n",
    "***negrita y cursiva***"
   ]
  },
  {
   "cell_type": "markdown",
   "metadata": {},
   "source": [
    "Cuidado con dejar espacios entre los asteriscos y el texto. Es decir, si queremos escribir en negrita, inmediatamente despues de los asteriscos tiene que ir el texto: ** No es negrita **"
   ]
  },
  {
   "cell_type": "markdown",
   "metadata": {},
   "source": [
    "## 5. Citar\n",
    "En ocasiones resulta útil poner una citación, o una nota, destacándola con un margen. Esto lo podemos hacer mediante el símbolo mayor que \">\"\n"
   ]
  },
  {
   "cell_type": "markdown",
   "metadata": {},
   "source": []
  }
 ],
 "metadata": {
  "kernelspec": {
   "display_name": "Python 3 (ipykernel)",
   "language": "python",
   "name": "python3"
  },
  "language_info": {
   "codemirror_mode": {
    "name": "ipython",
    "version": 3
   },
   "file_extension": ".py",
   "mimetype": "text/x-python",
   "name": "python",
   "nbconvert_exporter": "python",
   "pygments_lexer": "ipython3",
   "version": "3.8.10"
  },
  "vscode": {
   "interpreter": {
    "hash": "252189e587d1e2aeba4a06e91fa71896c7a7f6e22e918b9407c7cde4ef2d5985"
   }
  }
 },
 "nbformat": 4,
 "nbformat_minor": 4
}

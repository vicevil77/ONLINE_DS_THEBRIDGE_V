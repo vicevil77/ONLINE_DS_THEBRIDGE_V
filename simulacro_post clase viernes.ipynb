{
 "cells": [
  {
   "attachments": {},
   "cell_type": "markdown",
   "metadata": {},
   "source": [
    "# Simulacro Rampup"
   ]
  },
  {
   "cell_type": "code",
   "execution_count": 1,
   "metadata": {},
   "outputs": [],
   "source": [
    "# Escribe tu nombre y apellidos (apellido si solo tienes uno) en las variables:\n",
    "nombre = \"Victor\"\n",
    "apellidos = \"Martinez\""
   ]
  },
  {
   "cell_type": "code",
   "execution_count": 2,
   "metadata": {},
   "outputs": [
    {
     "name": "stdout",
     "output_type": "stream",
     "text": [
      "Bienvenido Victor Martinez. Mucha suerte!\n"
     ]
    }
   ],
   "source": [
    "# Solo ejecutar\n",
    "nombre_apellidos = nombre + ' ' + apellidos\n",
    "print(\"Bienvenido\", nombre_apellidos + '. Mucha suerte!')"
   ]
  },
  {
   "cell_type": "markdown",
   "metadata": {},
   "source": [
    "### Ejercicio 1: Calculadoras (3 puntos)\n"
   ]
  },
  {
   "cell_type": "markdown",
   "metadata": {},
   "source": [
    "Construye un programa que:\n",
    "\n",
    "- Salude al usuario por su nombre\n",
    "- Le pregunte si quiere sumar, restar, multiplicar o dividir\n",
    "- Pida que introduzca 2 números de manera sucesiva\n",
    "- Devuelva el resultado de manera formal con un mensaje apropiado \n",
    "\n",
    "**Ayuda**: No se puede dividir por 0"
   ]
  },
  {
   "cell_type": "code",
   "execution_count": 9,
   "metadata": {},
   "outputs": [
    {
     "name": "stdout",
     "output_type": "stream",
     "text": [
      "hola soy un ser virtual, como te llamas?\n",
      "encantando de conocerte, victor\n",
      "¿ que quieres hacer:\n",
      "            1)sumar\n",
      "            2)restar\n",
      "            3)multiplicar\n",
      "            4)dividir\n",
      "      \n",
      "la division de los numeros elegidos es 1.0\n"
     ]
    }
   ],
   "source": [
    "\n",
    "print (\"hola soy un ser virtual, como te llamas?\")\n",
    "name = input(\"nombre\")\n",
    "print( \"encantando de conocerte,\",name)\n",
    "print(\"\"\"¿ que quieres hacer:\n",
    "            1)sumar\n",
    "            2)restar\n",
    "            3)multiplicar\n",
    "            4)dividir\n",
    "      \"\"\")\n",
    "elige = input( \"elige entre las opciones que te muestro\")\n",
    "\n",
    "if elige == \"1\" :\n",
    "    primer_num= (float(input(\"elige el primer numero\")))\n",
    "    otro_num = (float(input(\"elige el segundo numero\")))\n",
    "    sumar = primer_num + otro_num\n",
    "    print(f\"la suma total de los numeros elegidos es {sumar}\")\n",
    "elif elige == \"2\" :\n",
    "    primer_num= (float(input(\"elige el primer numero\")))\n",
    "    otro_num = (float(input(\"elige el segundo numero\")))\n",
    "    restar = primer_num - otro_num\n",
    "    print(f\"la resta total de los numeros elegidos es {restar}\")\n",
    "elif elige == \"3\" :\n",
    "    primer_num= (float(input(\"elige el primer numero\")))\n",
    "    otro_num = (float(input(\"elige el segundo numero\")))\n",
    "    multiplicar = primer_num * otro_num\n",
    "    print(f\"la multiplicacion total de los numeros elegidos es {multiplicar}\")\n",
    "elif elige == \"4\":\n",
    "    primer_num= (float(input(\"elige el primer numero\")))\n",
    "    otro_num = (float(input(\"elige el segundo numero\")))\n",
    "    dividir = primer_num / otro_num\n",
    "    print(f\"la division de los numeros elegidos es {dividir}\")\n",
    "else:\n",
    "    print(\"introduce un numero del 1 al 4)\")\n",
    "\n",
    "\n",
    "   \n"
   ]
  },
  {
   "cell_type": "markdown",
   "metadata": {},
   "source": [
    "\n",
    "Construye una calculadora que sea como la anterior pero:\n",
    "\n",
    "- Acepte tantos valores de entrada como queramos\n",
    "- Devuelva mensajes con las cuentas que se van haciendo.\n",
    "- Permita salir con una palabra clave (exit, quit, ...)"
   ]
  },
  {
   "cell_type": "code",
   "execution_count": 14,
   "metadata": {},
   "outputs": [
    {
     "name": "stdout",
     "output_type": "stream",
     "text": [
      "hola soy un ser virtual, como te llamas?\n",
      "encantando de conocerte, victor\n",
      "¿ que quieres hacer:\n",
      "            1)sumar\n",
      "            2)restar\n",
      "            3)multiplicar\n",
      "            4)dividir\n",
      "la division de los numeros elegidos es 0.75\n",
      "la suma total de los numeros elegidos es 3.0\n"
     ]
    }
   ],
   "source": [
    "print (\"hola soy un ser virtual, como te llamas?\")\n",
    "name = input()\n",
    "print( \"encantando de conocerte,\",name)\n",
    "print(\"\"\"¿ que quieres hacer:\n",
    "            1)sumar\n",
    "            2)restar\n",
    "            3)multiplicar\n",
    "            4)dividir\"\"\")\n",
    "\n",
    "comprobar = True\n",
    "while comprobar:\n",
    "    elige = input( \"elige entre las opciones que te muestro( escriba exit o quit para salir)\")\n",
    "\n",
    "    if elige == \"1\" :\n",
    "        primer_num= (float(input(\"elige el primer numero\")))\n",
    "        otro_num = (float(input(\"elige el segundo numero\")))\n",
    "        sumar = primer_num + otro_num\n",
    "        print(f\"la suma total de los numeros elegidos es {sumar}\")\n",
    "    elif elige == \"2\" :\n",
    "        primer_num= (float(input(\"elige el primer numero\")))\n",
    "        otro_num = (float(input(\"elige el segundo numero\")))\n",
    "        restar = primer_num - otro_num\n",
    "        print(f\"la resta total de los numeros elegidos es {restar}\")\n",
    "    elif elige == \"3\" :\n",
    "        primer_num= (float(input(\"elige el primer numero\")))\n",
    "        otro_num = (float(input(\"elige el segundo numero\")))\n",
    "        multiplicar = primer_num * otro_num\n",
    "        print(f\"la multiplicacion total de los numeros elegidos es {multiplicar}\")\n",
    "    elif elige == \"4\":\n",
    "        primer_num= (float(input(\"elige el primer numero\")))\n",
    "        otro_num = (float(input(\"elige el segundo numero\")))\n",
    "        dividir = primer_num / otro_num\n",
    "        print(f\"la division de los numeros elegidos es {dividir}\")\n",
    "    else:\n",
    "        if exit or quit:\n",
    "            comprobar = False\n",
    "      \n",
    "        \n",
    "\n",
    "            \n"
   ]
  },
  {
   "cell_type": "markdown",
   "metadata": {},
   "source": [
    "### Ejercicio 2 (4 puntos)\n",
    "\n",
    "Escribe un programa que trabaje con 3 listas:\n",
    "\n",
    "La lista ***grupo_musical*** contiene strings.\n",
    "\n",
    "La lista ***generos*** contiene strings.\n",
    "\n",
    "La lista ***anios*** puede contener un entero o tuplas.\n",
    "\n",
    "Ejemplo de datos:\n",
    "\n",
    ">\"ABBA\"\n",
    ">\n",
    ">\"pop\"\n",
    ">\n",
    ">(1972, 1982)\n",
    "\n",
    "Otro ejemplo:\n",
    "\n",
    ">\"Madonna\"\n",
    ">\n",
    ">\"pop\"\n",
    ">\n",
    ">1983\n",
    "\n",
    "Otro ejemplo:\n",
    "\n",
    ">\"Kölsch\"\n",
    ">\n",
    ">\"electronica\"\n",
    ">\n",
    ">1995\n",
    "\n",
    "Un grupo musical solo puede tener un género musical.\n",
    "Un grupo musical debe tener como mínimo un año de formación, que es un entero.\n",
    "Un grupo musical, si tuviese año de disolución, la información se guardaría en una tupla.\n",
    "\n",
    "Se pide implementar:\n",
    "\n",
    "a. Una función llamada *inserta* que acepte 4 parámetros (grupo, genero, comienzo, fin). El fin por defecto debe ser un objeto nulo. El grupo se inserta en la lista de grupos. El genero se inserta en la lista de géneros. El comienzo o comienzo y fin se inserta en la lista de años. La función no tiene valor retornado.\n",
    "\n",
    "b. Una función *busca_genero* con un parámetro de tipo string (genero) y devuelve una lista con todos los grupos de ese género.\n",
    "\n",
    "c. Una función *busca_grupos* con un parámetro booleano llamado *activos* con un valor por defecto verdadero. Cuando el valor es verdadero, devuelve solo los grupos activos en una lista. Cuando *activos* es falso, devuelve todos los grupos disueltos en una lista.\n",
    "\n",
    "d. Una función *busca_genero_indice* con un parámetro de tipo string (genero) que devuelve una lista con los índices donde se encuentra ese género.\n",
    "\n",
    "e. Una función *filtra_listas_genero* con un parámetro de tipo string (genero) que devuelve una tupla con las 3 listas filtradas y ***llame*** a busca_genero_indice\n",
    "\n",
    "f. Una función *anios_activos* que no tenga parámetros de entrada ni valor retornado que imprima línea a línea la información: grupo musical ---> años activos. Es decir: \n",
    "\n",
    ">ABBA ---> 10 años activos\n",
    ">\n",
    ">Madonna --> 40 años activos\n",
    ">\n",
    ">Kölsch --> 25 años activos\n",
    "\n",
    "\n",
    "Nota: si no te sale un apartado después de un tiempo prudencial, ¡pasa al siguiente!"
   ]
  },
  {
   "cell_type": "code",
   "execution_count": 15,
   "metadata": {},
   "outputs": [],
   "source": [
    "grupos =[]\n",
    "generos=[]\n",
    "anios = []\n",
    "\n",
    "def inserta(grupo, genero, comienzo, fin= None):\n",
    "   grupo.append(grupos)\n",
    "   genero.append(genero)\n",
    "   if type == tuple:\n",
    "      inicio_fin = (comienzo, fin)\n",
    "      anios.append(inicio_fin)\n",
    "   else:\n",
    "        anios.append(comienzo)\n",
    "        return grupos, genero, comienzo, fin\n",
    "\n",
    "\n",
    "\n",
    "def busca_genero(genero):\n",
    "   lista_grupo =[]\n",
    "   for i,v in enumerate (generos):\n",
    "      if genero == v:\n",
    "         lista_grupo.append(grupos[i])\n",
    "   return grupos\n",
    "\n",
    "def busca_grupos(activos = True):\n",
    "   activos = []\n",
    "   disueltos =[]\n",
    "   #grupo_res=[]\n",
    "   for i,v in enumerate(anios):\n",
    "      if type(anios) == int and activos:\n",
    "         activos.append(grupos[i])\n",
    "      elif type(anios) == tuple and not activos:\n",
    "         disueltos.append(grupos[i])\n",
    "      return activos, disueltos\n",
    "\n",
    "\n",
    "def busca_genero_indice(genero):\n",
    "   lista_indice =[]\n",
    "   for i,v in enumerate (generos):\n",
    "      if genero == v:\n",
    "         lista_indice.append(grupos[i])\n",
    "         return lista_indice\n",
    "\n",
    "\n",
    "def filtra_genero(genero):\n",
    "   indices = busca_genero(genero)\n",
    "   lista_grupos= []\n",
    "   lista_generos =[]\n",
    "   lista_anios = []\n",
    "   for i in indices:\n",
    "      lista_grupos.append(grupos[i])\n",
    "      lista_generos.append(grupos[i])\n",
    "      lista_anios.append(grupos[i])\n",
    "\n",
    "def agnos(activos):\n",
    "   agno_actual = 2023\n",
    "   for i, v in enumerate(grupos):\n",
    "      datos_tiempo = anios[i]\n",
    "      if type(datos_tiempo) == int:\n",
    "         activos = agno_actual - datos_tiempo\n",
    "         return activos\n",
    "\n",
    "\n",
    "    "
   ]
  },
  {
   "cell_type": "code",
   "execution_count": null,
   "metadata": {},
   "outputs": [],
   "source": []
  },
  {
   "attachments": {},
   "cell_type": "markdown",
   "metadata": {},
   "source": [
    "### Ejercicio 3 (3 puntos)\n",
    "\n",
    "#### Crear un programa que calcule la cuota de una hipoteca\n",
    "\n",
    "Las cuotas hipotecarias se calculan utilizando la fórmula del interés francés. \n",
    "\n",
    "La fórmula del interés francés es la siguiente:\n",
    "\\begin{align*}\n",
    "C=V \\frac{(1+i)^n i}{(1+i)^n -1}\n",
    "\\end{align*}\n",
    "\n",
    "\n",
    "    C = cuota a pagar (mensual)\n",
    "    V = volumen del préstamo hipotecario\n",
    "    i = tipo de interés del período (mensual)\n",
    "    n = número de cuotas (mensuales)\n",
    "\n"
   ]
  },
  {
   "attachments": {},
   "cell_type": "markdown",
   "metadata": {},
   "source": [
    "1. Crea un programa que solicite al usuario los datos de su hipoteca mediante input() los datos (volumen, interés **anual**, y plazo en **años**) y le devuelva la cuota **mensual** a pagar. No es necesario encapsularlo en funciones. (0.4)"
   ]
  },
  {
   "cell_type": "code",
   "execution_count": 34,
   "metadata": {},
   "outputs": [
    {
     "name": "stdout",
     "output_type": "stream",
     "text": [
      "vamos a calcular el valor de su cuota hipotecaria\n",
      "EL valor de la cuota mensual de su prestamo es 954.8305909309076\n"
     ]
    }
   ],
   "source": [
    "print(\"vamos a calcular el valor de su cuota hipotecaria\")\n",
    "v = (float(input(\"cual es el volumen de su prestamo?\")))\n",
    "interes_anual = (float(input(\"cual es el interes anual de su prestamo?\")))\n",
    "i = (interes_anual/100)/12 # la cuota es mensual\n",
    "plazo = (float(input(\"cual es el plazo en años de su prestamo?\")))\n",
    "n = plazo*12\n",
    "\n",
    "p_arriba =((1 + i)**n) *i\n",
    "p_abajo = ((1 + i)**n )- 1\n",
    "\n",
    "cuota = v * p_arriba/p_abajo\n",
    "\n",
    "print(f\"EL valor de la cuota mensual de su prestamo es {cuota}\")\n"
   ]
  },
  {
   "cell_type": "code",
   "execution_count": null,
   "metadata": {},
   "outputs": [],
   "source": []
  },
  {
   "attachments": {},
   "cell_type": "markdown",
   "metadata": {},
   "source": [
    "2. Crea una función `calcular_hip` que realiza el cálculo y cuyos argumentos de entrada sean `volumen`, `interes_anual` y `años`, devolviendo la couta mensual(float). El argumento de `años` deberá de tener un valor por defecto de 30. Documenta la función con el estilo de Google.  (0.4)"
   ]
  },
  {
   "cell_type": "code",
   "execution_count": 8,
   "metadata": {},
   "outputs": [],
   "source": [
    "def calcular_hip(volumen, interes_anual, anios= 30):\n",
    "\n",
    "    \"\"\" esta funcion dara el resultado del pago mensual de un prestamo hipotecario con la formula del tipo frances.\n",
    "        argumentos : volumen, interes anual y plazo\n",
    "\n",
    "        salida: calculo de la cuota mensual\n",
    "        \"\"\"\n",
    "    v = (float(input(\"cual es el volumen de su prestamo?\")))\n",
    "    interes_anual = (float(input(\"cual es el interes anual de su prestamo?\")))\n",
    "    i = (interes_anual/100)/12 # la cuota es mensual\n",
    "    plazo = (float(input(\"cual es el plazo en años de su prestamo?\")))\n",
    "    n = plazo*12\n",
    "    p_arriba =((1 + i)**n) *i\n",
    "    p_abajo = ((1 + i)**n )- 1\n",
    "    cuota = round(v * p_arriba/p_abajo, 2)\n",
    "    print(calcular_hip.__doc__)\n",
    "    return cuota\n"
   ]
  },
  {
   "cell_type": "code",
   "execution_count": 10,
   "metadata": {},
   "outputs": [
    {
     "name": "stdout",
     "output_type": "stream",
     "text": [
      " esta funcion dara el resultado del pago mensual de un prestamo hipotecario con la formula del tipo frances.\n",
      "        argumentos : volumen, interes anual y plazo\n",
      "\n",
      "        salida: calculo de la cuota mensual\n",
      "        \n"
     ]
    },
    {
     "data": {
      "text/plain": [
       "1878.88"
      ]
     },
     "execution_count": 10,
     "metadata": {},
     "output_type": "execute_result"
    }
   ],
   "source": [
    "calcular_hip(350000,5)\n"
   ]
  },
  {
   "attachments": {},
   "cell_type": "markdown",
   "metadata": {},
   "source": [
    "3. Calcula la cuota y guárdala en la variable `res_cuota` si la cantidad de la hipoteca son 350000 euros, el interés anual es del 5% y la quiere pagar en 20 años a partir de la función `calcular_hip`. (0.4)\n",
    "\n"
   ]
  },
  {
   "cell_type": "code",
   "execution_count": 78,
   "metadata": {},
   "outputs": [
    {
     "name": "stdout",
     "output_type": "stream",
     "text": [
      "2309.85\n"
     ]
    }
   ],
   "source": [
    "res_calcular= calcular_hip(350000,5,20)\n",
    "print(res_calcular)"
   ]
  },
  {
   "attachments": {},
   "cell_type": "markdown",
   "metadata": {},
   "source": [
    "4. Crea una función `gasto_vivienda`, con dos argumentos de entrada `ingreso` y `lista_hip`. Esta lista tendrá los 3 valores de los argumentos de entrada de `calcular_hip`, llamando a esta función desde dentro de `gasto_vivienda`. Tiene que devolver el valor del porcentaje de gasto en la hipoteca respecto a los ingresos. (Entre 0 y 1, es decir 0.5 si es del 50%) Documenta la función. (0.4)"
   ]
  },
  {
   "cell_type": "code",
   "execution_count": 14,
   "metadata": {},
   "outputs": [
    {
     "name": "stdout",
     "output_type": "stream",
     "text": [
      " esta funciona permite calcular el porcentaje que inviertes en tu hipoteca \n",
      "    en relacion a los ingresos mensuales\n",
      "    arg: ingresos y lista_hip)\n",
      "    salida: % sueldo\n"
     ]
    },
    {
     "data": {
      "text/plain": [
       "'el porcentaje de inversion en vivienda es de 62.63%'"
      ]
     },
     "execution_count": 14,
     "metadata": {},
     "output_type": "execute_result"
    }
   ],
   "source": [
    "def gasto_vivienda(ingresos,lista_hip=700):\n",
    "    \"\"\" esta funciona permite calcular el porcentaje que inviertes en tu hipoteca \n",
    "    en relacion a los ingresos mensuales\n",
    "    arg: ingresos y lista_hip)\n",
    "    salida: % sueldo\"\"\"\n",
    "\n",
    "    #llamo a la funcion anterior\n",
    "    v = (float(input(\"cual es el volumen de su prestamo?\")))\n",
    "    interes_anual = (float(input(\"cual es el interes anual de su prestamo?\")))\n",
    "    i = (interes_anual/100)/12 # la cuota es mensual\n",
    "    plazo = (float(input(\"cual es el plazo en años de su prestamo?\")))\n",
    "    n = plazo*12\n",
    "    p_arriba =((1 + i)**n) *i\n",
    "    p_abajo = ((1 + i)**n )- 1\n",
    "    lista_hip = v * p_arriba/p_abajo\n",
    "    # prosigo con la nueva funcion\n",
    "    ingresos = (float(input(\"cuantos son sus ingresos mensuales\")))\n",
    "    gasto = round((lista_hip *100)/ ingresos, 2)\n",
    "    print(gasto_vivienda.__doc__)\n",
    "    return(f\"el porcentaje de inversion en vivienda es de {gasto}%\")\n",
    "\n",
    "gasto_vivienda(3000)\n",
    "    "
   ]
  },
  {
   "attachments": {},
   "cell_type": "markdown",
   "metadata": {},
   "source": [
    "5. Calcula el porcentaje de gasto en la hipoteca si el ingreso es de 1700 euros y guárdalo en la variable `res_porcentaje` a partir de la función `gasto_vivienda`. (0.4)\n"
   ]
  },
  {
   "cell_type": "code",
   "execution_count": 79,
   "metadata": {},
   "outputs": [
    {
     "data": {
      "text/plain": [
       "'el porcentaje de inversion en vivienda es de 110.52%'"
      ]
     },
     "execution_count": 79,
     "metadata": {},
     "output_type": "execute_result"
    }
   ],
   "source": [
    "gasto_vivienda(1700,lista_hip )\n",
    "    "
   ]
  },
  {
   "cell_type": "code",
   "execution_count": null,
   "metadata": {},
   "outputs": [],
   "source": []
  }
 ],
 "metadata": {
  "kernelspec": {
   "display_name": "Python 3 (ipykernel)",
   "language": "python",
   "name": "python3"
  },
  "language_info": {
   "codemirror_mode": {
    "name": "ipython",
    "version": 3
   },
   "file_extension": ".py",
   "mimetype": "text/x-python",
   "name": "python",
   "nbconvert_exporter": "python",
   "pygments_lexer": "ipython3",
   "version": "3.10.11"
  },
  "vscode": {
   "interpreter": {
    "hash": "90139cb9a825bf3d63f6f6704e828dbd1ff7edbd4d0c6e906a71235d6efc74af"
   }
  }
 },
 "nbformat": 4,
 "nbformat_minor": 4
}

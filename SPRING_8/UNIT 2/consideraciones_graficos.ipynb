{
 "cells": [
  {
   "cell_type": "markdown",
   "metadata": {},
   "source": [
    " ### Consideraciones Generales en Visualización TEMA 1 UNIT 2:"
   ]
  },
  {
   "cell_type": "markdown",
   "metadata": {},
   "source": [
    "* La visualización para el **análisis NO es** la visualización para **presentar el resultado** del análisis"
   ]
  },
  {
   "cell_type": "markdown",
   "metadata": {},
   "source": [
    "Esto es lo primero que te tiene que quedar claro, y ¿por qué es así? \n",
    "\n",
    "+ Primero, porque **TIENEN OBJETIVOS DISTINTOS**. El análisis nos sirve para extraer información importante, respuestas a nuestras preguntas. La presentación de resultados tiene como objetivo como mostrar esa información de la forma más relevante para el destinatrario de esos resultados. Ojo, si el destinatario eres tú mismo... O no hace falta que hagas una presentación a ti mismo, o entonces tú no eres el destinatario del resultado :-). \n",
    "\n",
    "Segundo, porque generalmente **TIENEN PÚBLICOS DISTINTOS**. El análisis es para ti o para un grupo de colaboradores (el análisis no es para tus jefes, salvo que sea colaborador en el proyecto, si tienes que mostrar el análisis a jefes consideralo una Presentación aunque en esa sí puedas/debas enseñar mucho del cómo). La presentación es para el que ha encargado el proyecto, para convencer a un tercero, para informar, para quedar tú como el gran sultán de los datos (es decir para un conjunto de \"espectadores\"), etc, etc."
   ]
  },
  {
   "cell_type": "markdown",
   "metadata": {},
   "source": [
    "De lo anterior surgen dos primeras guías importantes para  las visualizaciones:\n",
    "\n",
    "+ En una ánalisis tus visualizaciones pueden contener todos los datos comparados que tu cerebro pueda admitir. El límite lo pones tú o el grupo de trabajo.\n",
    "\n",
    "+ En una presentación la cantidad de información de la visualización depende del objetivo de la presentación. Si:\n",
    "\n",
    "    * Es una **presentación de resultados y conclusiones**: La visualización debe contener **uno o como mucho dos DATOS destacados**, el resto aparecer como complemento estético o comparativo (no importa el dato en sí sino lo que refuerza o debilita a los anteriores), **por mensaje**. Y esos dos DATOS no son cualesquiera son los que mejor y más apoyen el mensaje que quieres transmitir.\n",
    "\n",
    "    * Es una **exposición** de los mismos, por ejemplo **una infografía**: Entonces debe contener la mayor cantidad de **datos relevantes**, expuestos de la forma más **clara, significativa y separada** posible. \n",
    "\n",
    "\n",
    "Nosotros no vamos a ver el segundo caso. Para el arte de hacer infografías y EXPONER datos, algunas referencias: [Edward Tufte](https://es.wikipedia.org/wiki/Edward_Tufte) y su [página web](https://www.edwardtufte.com/), y una lista de blogs de infografías y visualizaciones expositivas, [aquí](https://www.webdatarocks.com/blog/top-data-visualization-blogs-to-follow/)"
   ]
  },
  {
   "cell_type": "markdown",
   "metadata": {},
   "source": [
    "### Gráficas y consideraciones TEMA 2 UNIT 2"
   ]
  },
  {
   "cell_type": "markdown",
   "metadata": {},
   "source": [
    "Veremos las siguientes:\n",
    "- Diagrama de barras para frecuencias(para frecuencias absolutas y relativas)\n",
    "- Diagrama de esferas/círculos para frecuencias( absolutas y relativas)\n",
    "- Quesos, donuts y otras cosas de comer: lolipops( para la primera parte en F relativas y la 2 parte con f_absolutas )\n"
   ]
  },
  {
   "cell_type": "markdown",
   "metadata": {},
   "source": [
    "#### Consideraciones generales: "
   ]
  },
  {
   "cell_type": "markdown",
   "metadata": {},
   "source": [
    "* **Cuándo**: Análisis univariante de caracter categorico de frecuencias y presentación de distribución de valores cuando esto aporte algo (en general para introducciones y dar contexto con diagramas de barras). Los diagramas de tarta y queso funcionan mejor con frecuencias relativas que con absolutas. Los lolipops no son de mi gusto, pero para que tengas otros.\n",
    "\n",
    "* **Cuándo no**: Incluso en la situación de que sea necesario por dar contexto hablar de los valores de una variable categórica, si la cardinalidad es mayor de 5 (más o menos) reducirla mostrando 4-5 valores como mucho colapsando los no interesantes en un grupo \"otros\" (ojo, los no interesantes no son los de menor frecuencia son los que no aporten nada a los mensajes a transmitir )"
   ]
  },
  {
   "cell_type": "markdown",
   "metadata": {},
   "source": [
    "### Gráficas y consideraciones T3 U.2"
   ]
  },
  {
   "cell_type": "markdown",
   "metadata": {},
   "source": []
  },
  {
   "cell_type": "markdown",
   "metadata": {},
   "source": [
    "Vamos a ver:\n",
    "- Histrogramas, Funciones de densidad, Combinado de ambas\n",
    "- Diagramas de \"cajas\": Boxplot, Diagramas de enjambre, Diagramas de violín\n",
    "- Diagramas de evolución/series temporales: Lineas y áreas (gráficos de evolución/se)"
   ]
  },
  {
   "cell_type": "markdown",
   "metadata": {},
   "source": [
    "* **Cuándo**: \n",
    "    1. Para análisis univariante de dispersión y de outliers. \n",
    "    2. Para presentación: Solo para mostrar la forma de la distribución (por ejemplo como justificación de usar una medida de tendencia central, de asumir propiedades de distribuciones con esa forma, etc), buscar la manera de que no sea excesivamente \"informativa\" (no poner ejes o ponerlos solo con valores minimo y máximo), si hay que resaltar un número poner ese numero bien claro marcándolo. En general no usar boxplots ni similares salvo que la situación lo requiera (contextos científicos, donde se sepa que es un IQR, etc). \n",
    "    3. Para series (temporales o secuencias) y diagramas de evolución en Presentaciones: Mostrar la forma y usarlo como complemento estético, contextual o de refuerzo del verdadero mensaje (normalmente periodos de caída, de subida, momentos o puntos de inflexión) y remarcar el mensaje de alguna forma (rodear la zona, anotarla con matplotlib, sobredestacarla...)  \n",
    "\n",
    "* **Cuándo no**: En presentaciones: Si te los puedes ahorrar mejor :-), salvo que el mensaje sea la propia distribución, evolución, claro."
   ]
  },
  {
   "cell_type": "markdown",
   "metadata": {},
   "source": [
    "## Categóricas(2 VARIABLES) T.4 U.2"
   ]
  },
  {
   "cell_type": "markdown",
   "metadata": {},
   "source": []
  },
  {
   "cell_type": "markdown",
   "metadata": {},
   "source": [
    "### Gráficos y consideraciones"
   ]
  },
  {
   "cell_type": "markdown",
   "metadata": {},
   "source": [
    "Vamos a ver:\n",
    "* Comparativa de frecuencias por valores de una de las variables (con diagramas de barras y catplot)\n",
    "* Tablas de contigencia (como mapas de calor)"
   ]
  },
  {
   "cell_type": "markdown",
   "metadata": {},
   "source": [
    "* **Cuándo**: En análisis bivariantes los dos tipos son convenientes, nos dara una visualizacion rapida de las propias relaciones, si existen o no (recuerda: si estas trabajando con una muestra de datos y quieres extrapolar tienes que hacer tus series de significacion estadistica). En presentaciones( **es mejor los graficos de barras comparadas)** las tablas de contigencia suelen ser demasiado \"informativas\" (Como todos los heatmaps si llevan números), pero son visualmente \"atractivas\" si se usan bien los colores. De usar tablas/mapas de calor quitar los numeros, remarcar la zona donde esté el dato importante que justifique nuestro mensaje.\n",
    "\n",
    "* **Cuándo no**: En presentaciones, no usar tablas (casi) NUNCA (sí eso nunca, demasiados números y estás out), bueno savo que alguien te haya pedido que quiere ver los números de esa tabla o la tabla sea de dos por dos. Los mapas de calor sin números salvo en las casillas realmente relevantes.\n",
    "\n",
    "* **Genérico**: Además si las variables tienen cardinalidades altas, en presentación aplica lo que ya dijimos crear categorías otros para poner allí las categorias no relevantes de una y otra variable (si es necesario no mostrarla)(recomiendo: que reduzca la cardinalidad quedandote con 3 o 4 valores de esa variable categorica por cada variable(2) quedandome con los que ayuden a reforzar el mensaje que quieres trasmitir: justificando tu tesis y servirte de apoyo aqunue no lo justifique del todo)"
   ]
  },
  {
   "cell_type": "markdown",
   "metadata": {},
   "source": []
  },
  {
   "cell_type": "markdown",
   "metadata": {},
   "source": [
    "### Gráficos y consideraciones CATEGORTICA Y NUMERICA T.5 U.2"
   ]
  },
  {
   "cell_type": "markdown",
   "metadata": {},
   "source": []
  },
  {
   "cell_type": "markdown",
   "metadata": {},
   "source": [
    "Vamosa  ver, en general, comparación de distribuciones o evoluciones por valor de la variable categóricas:\n",
    "- Comparación de diagramas de caja, por valor de categoria\n",
    "- Comparación de histrogramas y fuciones de densidad, por variable categorica\n",
    "- Comparación con agregaciones de la numérica: Treemaps ( agregaciones de operaciones numericas comparando esas agregaciones con la categorica)"
   ]
  },
  {
   "cell_type": "markdown",
   "metadata": {},
   "source": [
    "* **Cuándo**: \n",
    "    1. En análisis bivariantes todos son útiles, pero alguno repetitivo y si la cardinalidad de la variable categórica es alta comparar histogramas se hace casi imposibe, en ese caso utilizar sólo comparación de cajas. Si se trata de variables de una serie o evolución temporal siempre comparar líneas. \n",
    "    2. En presentaciones (para información no temporal o series) siempre recordar la maxima de no abrumar con información (los árboles no dejarán ver el bosque). Cuando tenemos tanta información visual posible siempre debe ser un acompañamiento de refuerzo o estético visual al mensaje que queramos dar (es decir que usemos  ejes sencillos, no poner datos númericos salvo los relevantes, que se vea claramente que grafica es cual). Si estamos comparando formas o líneas, por ejemplo, usar mejor KDE que histograma, marcar las regiones que queremos resaltar como parecidas o diferentes. \n",
    "    3. En presentación de datos que son evoluciones temporales en cambio estas visualizaciones ayudan bastante y rigen los mismos principios: no abrumar con números o textos, marcar las regiones o puntos realmente informativos para el mensaje que se quiere dar. \n",
    "  \n",
    "\n",
    "  \n",
    "* **Cuándo no**: En presentaciones, en general, NO USAR HISTOGRAMAS (salvo que el público lo demande) son muchas barras :-), NI DIAGRAMAS DE CAJAS, si tienes que poner una \"caja\": usa Violines. Los treemap son muy visuales pero son una variante del mapa de calor, así que escoge bien el patrón de colores, destaca el dato que refuerce tu mensaje, no abrumes con textos y números (sólo lo relevante, salvo que te lo hayan pedido)\n",
    "\n",
    "* **Genérico**: Además si las variables tienen cardinalidades altas, en presentación también aplica lo que ya dijimos crear categorías otros para poner allí las categorias no relevantes de una y otra variable (si es necesario no mostrarla)"
   ]
  },
  {
   "cell_type": "markdown",
   "metadata": {},
   "source": []
  },
  {
   "cell_type": "markdown",
   "metadata": {},
   "source": []
  },
  {
   "cell_type": "markdown",
   "metadata": {},
   "source": []
  }
 ],
 "metadata": {
  "language_info": {
   "name": "python"
  }
 },
 "nbformat": 4,
 "nbformat_minor": 2
}

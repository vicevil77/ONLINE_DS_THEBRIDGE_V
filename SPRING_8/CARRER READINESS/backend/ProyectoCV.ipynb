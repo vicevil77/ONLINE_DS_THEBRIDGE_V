{
 "cells": [
  {
   "cell_type": "markdown",
   "metadata": {},
   "source": [
    "- TuProyecto\n",
    "  - index.html\n",
    "  - gracias.html\n",
    "  - error.html\n",
    "  - backend\n",
    "    - procesar_formulario.php\n",
    "  - CV_estilos.css\n"
   ]
  }
 ],
 "metadata": {
  "language_info": {
   "name": "python"
  }
 },
 "nbformat": 4,
 "nbformat_minor": 2
}

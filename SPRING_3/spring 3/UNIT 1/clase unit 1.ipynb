{
 "cells": [
  {
   "cell_type": "code",
   "execution_count": 30,
   "metadata": {},
   "outputs": [
    {
     "name": "stdout",
     "output_type": "stream",
     "text": [
      "{'Toy Story': array([[0],\n",
      "       [1],\n",
      "       [1],\n",
      "       [1],\n",
      "       [0]]), 'jumanjy': array([[0],\n",
      "       [1],\n",
      "       [0],\n",
      "       [0]]), 'Mortal Kombat': array([[1],\n",
      "       [1],\n",
      "       [0],\n",
      "       [0],\n",
      "       [0]]), 'Pocahontas': array([[0],\n",
      "       [0],\n",
      "       [1],\n",
      "       [0],\n",
      "       [1]])}\n"
     ]
    }
   ],
   "source": [
    "import numpy as np\n",
    "\n",
    "peliculas ={}\n",
    "\n",
    "Toy_Story = np.array([[0],[1],[1],[1],[0]])\n",
    "Jumanjy = np.array([[0],[1],[0],[0]])\n",
    "Mortal_Kombat = np.array([[1],[1],[0],[0],[0]])\n",
    "Pocahontas = np.array([[0],[0],[1],[0],[1]])\n",
    "\n",
    "\n",
    "peliculas [\"Toy Story\"] = Toy_Story\n",
    "peliculas [\"jumanjy\"] = Jumanjy\n",
    "peliculas[\"Mortal Kombat\"] = Mortal_Kombat\n",
    "peliculas[\"Pocahontas\"] = Pocahontas\n",
    "\n",
    "\n",
    "matriz_peliculas= np.array(peliculas)\n",
    "\n",
    "print(matriz_peliculas)"
   ]
  },
  {
   "cell_type": "code",
   "execution_count": null,
   "metadata": {},
   "outputs": [],
   "source": [
    "# funcion flatten() te deja "
   ]
  },
  {
   "cell_type": "code",
   "execution_count": 31,
   "metadata": {},
   "outputs": [
    {
     "ename": "AttributeError",
     "evalue": "'dict' object has no attribute 'T'",
     "output_type": "error",
     "traceback": [
      "\u001b[1;31m---------------------------------------------------------------------------\u001b[0m",
      "\u001b[1;31mAttributeError\u001b[0m                            Traceback (most recent call last)",
      "\u001b[1;32me:\\Cursos\\BC_Data_Science\\Repositorio\\ONLINE_DS_THEBRIDGE_V\\SPRING_3\\Nuevo documento de texto.ipynb Celda 3\u001b[0m line \u001b[0;36m1\n\u001b[1;32m----> <a href='vscode-notebook-cell:/e%3A/Cursos/BC_Data_Science/Repositorio/ONLINE_DS_THEBRIDGE_V/SPRING_3/Nuevo%20documento%20de%20texto.ipynb#W1sZmlsZQ%3D%3D?line=0'>1</a>\u001b[0m matriz_peliculas \u001b[39m=\u001b[39m peliculas\u001b[39m.\u001b[39;49mT\n",
      "\u001b[1;31mAttributeError\u001b[0m: 'dict' object has no attribute 'T'"
     ]
    }
   ],
   "source": [
    "matriz_peliculas = peliculas.T"
   ]
  },
  {
   "cell_type": "code",
   "execution_count": 23,
   "metadata": {},
   "outputs": [],
   "source": [
    "def calcular_coseno(vector1, vector2):\n",
    "    producto_escalar = np.dot(vector1, vector2)\n",
    "    norm_vector1 = np.linalg.norm(vector1)\n",
    "    norm_vector2 = np.linalg.norm(vector2)\n",
    "    coseno = producto_escalar / (norm_vector1*norm_vector2)\n",
    "    return coseno"
   ]
  },
  {
   "cell_type": "code",
   "execution_count": 27,
   "metadata": {},
   "outputs": [
    {
     "ename": "ValueError",
     "evalue": "shapes (5,) and (4,1) not aligned: 5 (dim 0) != 4 (dim 0)",
     "output_type": "error",
     "traceback": [
      "\u001b[1;31m---------------------------------------------------------------------------\u001b[0m",
      "\u001b[1;31mValueError\u001b[0m                                Traceback (most recent call last)",
      "\u001b[1;32me:\\Cursos\\BC_Data_Science\\Repositorio\\ONLINE_DS_THEBRIDGE_V\\SPRING_3\\Nuevo documento de texto.ipynb Celda 5\u001b[0m line \u001b[0;36m5\n\u001b[0;32m      <a href='vscode-notebook-cell:/e%3A/Cursos/BC_Data_Science/Repositorio/ONLINE_DS_THEBRIDGE_V/SPRING_3/Nuevo%20documento%20de%20texto.ipynb#W4sZmlsZQ%3D%3D?line=2'>3</a>\u001b[0m     \u001b[39mfor\u001b[39;00m pelicula2, vector2 \u001b[39min\u001b[39;00m peliculas\u001b[39m.\u001b[39mitems():\n\u001b[0;32m      <a href='vscode-notebook-cell:/e%3A/Cursos/BC_Data_Science/Repositorio/ONLINE_DS_THEBRIDGE_V/SPRING_3/Nuevo%20documento%20de%20texto.ipynb#W4sZmlsZQ%3D%3D?line=3'>4</a>\u001b[0m         \u001b[39mif\u001b[39;00m pelicula1 \u001b[39m!=\u001b[39m pelicula2:\n\u001b[1;32m----> <a href='vscode-notebook-cell:/e%3A/Cursos/BC_Data_Science/Repositorio/ONLINE_DS_THEBRIDGE_V/SPRING_3/Nuevo%20documento%20de%20texto.ipynb#W4sZmlsZQ%3D%3D?line=4'>5</a>\u001b[0m             coseno_similitud \u001b[39m=\u001b[39m calcular_coseno(vector1\u001b[39m.\u001b[39;49mflatten(),vector2)\n\u001b[0;32m      <a href='vscode-notebook-cell:/e%3A/Cursos/BC_Data_Science/Repositorio/ONLINE_DS_THEBRIDGE_V/SPRING_3/Nuevo%20documento%20de%20texto.ipynb#W4sZmlsZQ%3D%3D?line=5'>6</a>\u001b[0m             similitud[(pelicula1,pelicula2)] \u001b[39m=\u001b[39m coseno_similitud\n\u001b[0;32m      <a href='vscode-notebook-cell:/e%3A/Cursos/BC_Data_Science/Repositorio/ONLINE_DS_THEBRIDGE_V/SPRING_3/Nuevo%20documento%20de%20texto.ipynb#W4sZmlsZQ%3D%3D?line=7'>8</a>\u001b[0m \u001b[39mprint\u001b[39m(similitud)\n",
      "\u001b[1;32me:\\Cursos\\BC_Data_Science\\Repositorio\\ONLINE_DS_THEBRIDGE_V\\SPRING_3\\Nuevo documento de texto.ipynb Celda 5\u001b[0m line \u001b[0;36m2\n\u001b[0;32m      <a href='vscode-notebook-cell:/e%3A/Cursos/BC_Data_Science/Repositorio/ONLINE_DS_THEBRIDGE_V/SPRING_3/Nuevo%20documento%20de%20texto.ipynb#W4sZmlsZQ%3D%3D?line=0'>1</a>\u001b[0m \u001b[39mdef\u001b[39;00m \u001b[39mcalcular_coseno\u001b[39m(vector1, vector2):\n\u001b[1;32m----> <a href='vscode-notebook-cell:/e%3A/Cursos/BC_Data_Science/Repositorio/ONLINE_DS_THEBRIDGE_V/SPRING_3/Nuevo%20documento%20de%20texto.ipynb#W4sZmlsZQ%3D%3D?line=1'>2</a>\u001b[0m     producto_escalar \u001b[39m=\u001b[39m np\u001b[39m.\u001b[39;49mdot(vector1, vector2)\n\u001b[0;32m      <a href='vscode-notebook-cell:/e%3A/Cursos/BC_Data_Science/Repositorio/ONLINE_DS_THEBRIDGE_V/SPRING_3/Nuevo%20documento%20de%20texto.ipynb#W4sZmlsZQ%3D%3D?line=2'>3</a>\u001b[0m     norm_vector1 \u001b[39m=\u001b[39m np\u001b[39m.\u001b[39mlinalg\u001b[39m.\u001b[39mnorm(vector1)\n\u001b[0;32m      <a href='vscode-notebook-cell:/e%3A/Cursos/BC_Data_Science/Repositorio/ONLINE_DS_THEBRIDGE_V/SPRING_3/Nuevo%20documento%20de%20texto.ipynb#W4sZmlsZQ%3D%3D?line=3'>4</a>\u001b[0m     norm_vector2 \u001b[39m=\u001b[39m np\u001b[39m.\u001b[39mlinalg\u001b[39m.\u001b[39mnorm(vector2)\n",
      "\u001b[1;31mValueError\u001b[0m: shapes (5,) and (4,1) not aligned: 5 (dim 0) != 4 (dim 0)"
     ]
    }
   ],
   "source": [
    "similitud = {}\n",
    "for pelicula1, vector1 in peliculas.items():\n",
    "    similitud[pelicula1] = \"\"\n",
    "    coseno_maximo = -1\n",
    "    for pelicula2, vector2 in peliculas.items():\n",
    "        if pelicula1 != pelicula2:\n",
    "            coseno_similitud = calcular_coseno(vector1.flatten(),vector2)\n",
    "            if coseno_similitud > coseno_maximo\n",
    "            similitud[pelicula1] = pelicula2\n",
    "            coseno_maximo = coseno_similitud\n",
    "\n",
    "print(similitud)\n",
    "lista_peliculas = peliculas.keys()\n"
   ]
  },
  {
   "cell_type": "code",
   "execution_count": null,
   "metadata": {},
   "outputs": [],
   "source": []
  }
 ],
 "metadata": {
  "kernelspec": {
   "display_name": "Python 3",
   "language": "python",
   "name": "python3"
  },
  "language_info": {
   "codemirror_mode": {
    "name": "ipython",
    "version": 3
   },
   "file_extension": ".py",
   "mimetype": "text/x-python",
   "name": "python",
   "nbconvert_exporter": "python",
   "pygments_lexer": "ipython3",
   "version": "3.10.11"
  }
 },
 "nbformat": 4,
 "nbformat_minor": 2
}

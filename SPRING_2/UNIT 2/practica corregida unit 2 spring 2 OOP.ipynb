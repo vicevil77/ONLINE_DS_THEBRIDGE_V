{
 "cells": [
  {
   "cell_type": "code",
   "execution_count": 14,
   "metadata": {},
   "outputs": [
    {
     "ename": "SyntaxError",
     "evalue": "unterminated string literal (detected at line 37) (3368509667.py, line 37)",
     "output_type": "error",
     "traceback": [
      "\u001b[1;36m  Cell \u001b[1;32mIn[14], line 37\u001b[1;36m\u001b[0m\n\u001b[1;33m    usuario_vane = Cliente(\"vane\",20000,True\")\u001b[0m\n\u001b[1;37m                                            ^\u001b[0m\n\u001b[1;31mSyntaxError\u001b[0m\u001b[1;31m:\u001b[0m unterminated string literal (detected at line 37)\n"
     ]
    }
   ],
   "source": [
    "class Cliente(object):\n",
    "\n",
    "\n",
    "    def __ini__(self, nombre, saldo,verificar_cuenta= True):\n",
    "             self.nombre = nombre\n",
    "             self.saldo = int(saldo)\n",
    "             self.verificar_cuenta = verificar_cuenta\n",
    "\n",
    "\n",
    "    def withdraw(self, cantidad_a_retirar):\n",
    "        if self.sald0 > cantidad_a_retirar:\n",
    "                self.saldo-=cantidad_a_retirar\n",
    "                mensaje = f\"{self.nombre} tiene {self.saldo}\"\n",
    "        else:              \n",
    "            raise ValueError (\"fondos insuficientes para realziar la operacion\")\n",
    "\n",
    "    def add(self, cantidad_a_sumar): \n",
    "            self.saldo += cantidad_a_sumar \n",
    "            mensaje =f\"{self.nombre}tiene {self.saldo}\"\n",
    "            return mensaje \n",
    "    \n",
    "    def show_saldo(self):\n",
    "           mensaje = f\"{self.nombre} tiene {self.saldo}\"\n",
    "           return mensaje \n",
    "    \n",
    "    def check(self, otro_usuario, cantidad_a_transferir):\n",
    "            if otro_usuario.saldo >= cantidad_a_transferir:\n",
    "                if not otro_usuario.verificar_cuenta:\n",
    "                    mensaje_1 = self.add(cantidad_a_transferir)\n",
    "                    mensaje_2 = otro_usuario.withdraw(cantidad_a_transferir)\n",
    "                    mensaje_final = f\"{mensaje_1} y {mensaje_2}\"\n",
    "                else:\n",
    "                     raise ValueError (f\"{otro_usuario.nombre} no permite transferecnias\")\n",
    "            else:\n",
    "                raise ValueError(f\"{otro_usuario.nombre} no tiene suficiente dinero\")\n",
    "\n",
    "usuario_vane = Cliente(\"vane\",20000,True\")\n",
    "usuaro_samuel = Cliente(\"samuel\", 10, False)\n"
   ]
  },
  {
   "cell_type": "code",
   "execution_count": null,
   "metadata": {},
   "outputs": [],
   "source": [
    "mensaje = usuario_vane.withdraw(10000)\n",
    "print"
   ]
  },
  {
   "cell_type": "markdown",
   "metadata": {},
   "source": []
  },
  {
   "cell_type": "markdown",
   "metadata": {},
   "source": []
  }
 ],
 "metadata": {
  "kernelspec": {
   "display_name": "Python 3",
   "language": "python",
   "name": "python3"
  },
  "language_info": {
   "codemirror_mode": {
    "name": "ipython",
    "version": 3
   },
   "file_extension": ".py",
   "mimetype": "text/x-python",
   "name": "python",
   "nbconvert_exporter": "python",
   "pygments_lexer": "ipython3",
   "version": "3.10.11"
  }
 },
 "nbformat": 4,
 "nbformat_minor": 2
}

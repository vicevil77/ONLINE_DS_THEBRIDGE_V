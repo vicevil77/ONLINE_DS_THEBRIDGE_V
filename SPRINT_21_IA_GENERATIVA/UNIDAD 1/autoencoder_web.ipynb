{
  "cells": [
    {
      "cell_type": "markdown",
      "metadata": {
        "id": "Ndo4ERqnwQOU"
      },
      "source": [
        "##### Copyright 2020 The TensorFlow Authors."
      ]
    },
    {
      "cell_type": "code",
      "execution_count": 1,
      "metadata": {},
      "outputs": [
        {
          "name": "stdout",
          "output_type": "stream",
          "text": [
            "Num GPUs Available:  1\n"
          ]
        }
      ],
      "source": [
        "import tensorflow as tf\n",
        "import absl\n",
        "print(\"Num GPUs Available: \", len(tf.config.list_physical_devices('GPU')))"
      ]
    },
    {
      "cell_type": "code",
      "execution_count": 189,
      "metadata": {
        "cellView": "form",
        "id": "MTKwbguKwT4R"
      },
      "outputs": [],
      "source": [
        "#@title Licensed under the Apache License, Version 2.0 (the \"License\");\n",
        "# you may not use this file except in compliance with the License.\n",
        "# You may obtain a copy of the License at\n",
        "#\n",
        "# https://www.apache.org/licenses/LICENSE-2.0\n",
        "#\n",
        "# Unless required by applicable law or agreed to in writing, software\n",
        "# distributed under the License is distributed on an \"AS IS\" BASIS,\n",
        "# WITHOUT WARRANTIES OR CONDITIONS OF ANY KIND, either express or implied.\n",
        "# See the License for the specific language governing permissions and\n",
        "# limitations under the License."
      ]
    },
    {
      "cell_type": "markdown",
      "metadata": {
        "id": "xfNT-mlFwxVM"
      },
      "source": [
        "# Intro to Autoencoders"
      ]
    },
    {
      "cell_type": "markdown",
      "metadata": {
        "id": "0TD5ZrvEMbhZ"
      },
      "source": [
        "<table class=\"tfo-notebook-buttons\" align=\"left\">\n",
        "  <td>\n",
        "    <a target=\"_blank\" href=\"https://www.tensorflow.org/tutorials/generative/autoencoder\">\n",
        "    <img src=\"https://www.tensorflow.org/images/tf_logo_32px.png\" />\n",
        "    View on TensorFlow.org</a>\n",
        "  </td>\n",
        "  <td>\n",
        "    <a target=\"_blank\" href=\"https://colab.research.google.com/github/tensorflow/docs/blob/master/site/en/tutorials/generative/autoencoder.ipynb\">\n",
        "    <img src=\"https://www.tensorflow.org/images/colab_logo_32px.png\" />\n",
        "    Run in Google Colab</a>\n",
        "  </td>\n",
        "  <td>\n",
        "    <a target=\"_blank\" href=\"https://github.com/tensorflow/docs/blob/master/site/en/tutorials/generative/autoencoder.ipynb\">\n",
        "    <img src=\"https://www.tensorflow.org/images/GitHub-Mark-32px.png\" />\n",
        "    View source on GitHub</a>\n",
        "  </td>\n",
        "  <td>\n",
        "    <a href=\"https://storage.googleapis.com/tensorflow_docs/docs/site/en/tutorials/generative/autoencoder.ipynb\"><img src=\"https://www.tensorflow.org/images/download_logo_32px.png\" />Download notebook</a>\n",
        "  </td>\n",
        "</table>"
      ]
    },
    {
      "cell_type": "markdown",
      "metadata": {
        "id": "ITZuApL56Mny"
      },
      "source": [
        "This tutorial introduces autoencoders with three examples: the basics, image denoising, and anomaly detection.\n",
        "\n",
        "An autoencoder is a special type of neural network that is trained to copy its input to its output. For example, given an image of a handwritten digit, an autoencoder first encodes the image into a lower dimensional latent representation, then decodes the latent representation back to an image. An autoencoder learns to compress the data while minimizing the reconstruction error. \n",
        "\n",
        "To learn more about autoencoders, please consider reading chapter 14 from [Deep Learning](https://www.deeplearningbook.org/) by Ian Goodfellow, Yoshua Bengio, and Aaron Courville."
      ]
    },
    {
      "cell_type": "markdown",
      "metadata": {
        "id": "e1_Y75QXJS6h"
      },
      "source": [
        "## Import TensorFlow and other libraries"
      ]
    },
    {
      "cell_type": "code",
      "execution_count": 2,
      "metadata": {
        "id": "YfIk2es3hJEd"
      },
      "outputs": [],
      "source": [
        "import matplotlib.pyplot as plt\n",
        "import numpy as np\n",
        "import pandas as pd\n",
        "import tensorflow as tf\n",
        "\n",
        "from sklearn.metrics import accuracy_score, precision_score, recall_score\n",
        "from sklearn.model_selection import train_test_split\n",
        "from tensorflow.keras import layers, losses\n",
        "from tensorflow.keras.datasets import fashion_mnist\n",
        "from tensorflow.keras.models import Model\n",
        "from sklearn.metrics import mean_absolute_error, mean_squared_error, mean_absolute_percentage_error,r2_score, mean_squared_log_error"
      ]
    },
    {
      "cell_type": "markdown",
      "metadata": {
        "id": "iYn4MdZnKCey"
      },
      "source": [
        "## Load the dataset\n",
        "To start, you will train the basic autoencoder using the Fashion MNIST dataset. Each image in this dataset is 28x28 pixels. "
      ]
    },
    {
      "cell_type": "code",
      "execution_count": 191,
      "metadata": {},
      "outputs": [],
      "source": [
        "(x_train, y_train), (x_test, y_test) = fashion_mnist.load_data()"
      ]
    },
    {
      "cell_type": "code",
      "execution_count": 192,
      "metadata": {},
      "outputs": [
        {
          "name": "stdout",
          "output_type": "stream",
          "text": [
            "(60000, 28, 28)\n",
            "(10000, 28, 28)\n",
            "(60000,)\n",
            "(10000,)\n"
          ]
        }
      ],
      "source": [
        "x_train = x_train.astype('float32') / 255.\n",
        "y_train = y_train.astype('float32') / 255.\n",
        "x_test = x_test.astype('float32') / 255.\n",
        "y_test = y_test.astype('float32') / 255.\n",
        "\n",
        "print (x_train.shape)\n",
        "print (x_test.shape)\n",
        "print(y_train.shape)\n",
        "print(y_test.shape)"
      ]
    },
    {
      "cell_type": "markdown",
      "metadata": {
        "id": "VEdCXSwCoKok"
      },
      "source": [
        "## First example: Basic autoencoder\n",
        "![Basic autoencoder results](images/intro_autoencoder_result.png)\n",
        "\n",
        "Define an autoencoder with two Dense layers: an `encoder`, which compresses the images into a 64 dimensional latent vector, and a `decoder`, that reconstructs the original image from the latent space.\n",
        "\n",
        "To define your model, use the [Keras Model Subclassing API](https://www.tensorflow.org/guide/keras/custom_layers_and_models).\n"
      ]
    },
    {
      "cell_type": "code",
      "execution_count": 193,
      "metadata": {},
      "outputs": [
        {
          "name": "stdout",
          "output_type": "stream",
          "text": [
            "Epoch 1/10\n",
            "119/235 [==============>...............] - ETA: 0s - loss: 0.4363 - accuracy: 0.0619"
          ]
        },
        {
          "name": "stdout",
          "output_type": "stream",
          "text": [
            "235/235 [==============================] - 2s 6ms/step - loss: 0.3883 - accuracy: 0.0754 - val_loss: 0.3289 - val_accuracy: 0.0948\n",
            "Epoch 2/10\n",
            "235/235 [==============================] - 1s 6ms/step - loss: 0.3156 - accuracy: 0.1040 - val_loss: 0.3082 - val_accuracy: 0.1154\n",
            "Epoch 3/10\n",
            "235/235 [==============================] - 1s 6ms/step - loss: 0.2998 - accuracy: 0.1237 - val_loss: 0.2960 - val_accuracy: 0.1319\n",
            "Epoch 4/10\n",
            "235/235 [==============================] - 2s 7ms/step - loss: 0.2901 - accuracy: 0.1417 - val_loss: 0.2886 - val_accuracy: 0.1502\n",
            "Epoch 5/10\n",
            "235/235 [==============================] - 1s 6ms/step - loss: 0.2841 - accuracy: 0.1580 - val_loss: 0.2848 - val_accuracy: 0.1654\n",
            "Epoch 6/10\n",
            "235/235 [==============================] - 1s 6ms/step - loss: 0.2808 - accuracy: 0.1706 - val_loss: 0.2818 - val_accuracy: 0.1761\n",
            "Epoch 7/10\n",
            "235/235 [==============================] - 1s 6ms/step - loss: 0.2787 - accuracy: 0.1797 - val_loss: 0.2800 - val_accuracy: 0.1842\n",
            "Epoch 8/10\n",
            "235/235 [==============================] - 1s 6ms/step - loss: 0.2772 - accuracy: 0.1871 - val_loss: 0.2788 - val_accuracy: 0.1905\n",
            "Epoch 9/10\n",
            "235/235 [==============================] - 1s 6ms/step - loss: 0.2760 - accuracy: 0.1933 - val_loss: 0.2777 - val_accuracy: 0.1980\n",
            "Epoch 10/10\n",
            "235/235 [==============================] - 1s 6ms/step - loss: 0.2751 - accuracy: 0.1983 - val_loss: 0.2769 - val_accuracy: 0.1997\n"
          ]
        }
      ],
      "source": [
        "\n",
        "tf.random.set_seed(42)  \n",
        "\n",
        "l_dim = 64\n",
        "\n",
        " #limipia la memoria\n",
        "tf.keras.backend.clear_session()\n",
        "\n",
        "model = tf.keras.models.Sequential([\n",
        "  tf.keras.layers.Flatten(input_shape=(28, 28)),\n",
        "  tf.keras.layers.Dense(l_dim, activation='relu'),\n",
        "  tf.keras.layers.Dense(784, activation='sigmoid'), \n",
        "  tf.keras.layers.Reshape((28, 28))\n",
        " \n",
        "])\n",
        "model.compile(optimizer='adam', loss='binary_crossentropy', metrics=['accuracy'])\n",
        "#entrenamos el modelo con x_train y x_train como entrada y salida, ya que el autoencoder cogera la imagen la comprime y descomprime a la salida\n",
        "history=model.fit(x_train, x_train, epochs=10, batch_size=256, shuffle=True, validation_data=(x_test, x_test))"
      ]
    },
    {
      "cell_type": "code",
      "execution_count": 194,
      "metadata": {},
      "outputs": [
        {
          "name": "stdout",
          "output_type": "stream",
          "text": [
            "Model: \"sequential\"\n",
            "_________________________________________________________________\n",
            " Layer (type)                Output Shape              Param #   \n",
            "=================================================================\n",
            " flatten (Flatten)           (None, 784)               0         \n",
            "                                                                 \n",
            " dense (Dense)               (None, 64)                50240     \n",
            "                                                                 \n",
            " dense_1 (Dense)             (None, 784)               50960     \n",
            "                                                                 \n",
            " reshape (Reshape)           (None, 28, 28)            0         \n",
            "                                                                 \n",
            "=================================================================\n",
            "Total params: 101200 (395.31 KB)\n",
            "Trainable params: 101200 (395.31 KB)\n",
            "Non-trainable params: 0 (0.00 Byte)\n",
            "_________________________________________________________________\n",
            "(60000, 28, 28)\n"
          ]
        }
      ],
      "source": [
        "model.summary()\n",
        "print(x_train.shape)\n"
      ]
    },
    {
      "cell_type": "markdown",
      "metadata": {},
      "source": [
        "Train the model using `x_train` as both the input and the target. The `encoder` will learn to compress the dataset from 784 dimensions to the latent space, and the `decoder` will learn to reconstruct the original images.\n"
      ]
    },
    {
      "cell_type": "code",
      "execution_count": 195,
      "metadata": {},
      "outputs": [
        {
          "data": {
            "text/html": [
              "<div>\n",
              "<style scoped>\n",
              "    .dataframe tbody tr th:only-of-type {\n",
              "        vertical-align: middle;\n",
              "    }\n",
              "\n",
              "    .dataframe tbody tr th {\n",
              "        vertical-align: top;\n",
              "    }\n",
              "\n",
              "    .dataframe thead th {\n",
              "        text-align: right;\n",
              "    }\n",
              "</style>\n",
              "<table border=\"1\" class=\"dataframe\">\n",
              "  <thead>\n",
              "    <tr style=\"text-align: right;\">\n",
              "      <th></th>\n",
              "      <th>loss</th>\n",
              "      <th>accuracy</th>\n",
              "      <th>val_loss</th>\n",
              "      <th>val_accuracy</th>\n",
              "    </tr>\n",
              "  </thead>\n",
              "  <tbody>\n",
              "    <tr>\n",
              "      <th>0</th>\n",
              "      <td>0.388281</td>\n",
              "      <td>0.075380</td>\n",
              "      <td>0.328883</td>\n",
              "      <td>0.094793</td>\n",
              "    </tr>\n",
              "    <tr>\n",
              "      <th>1</th>\n",
              "      <td>0.315566</td>\n",
              "      <td>0.103992</td>\n",
              "      <td>0.308164</td>\n",
              "      <td>0.115446</td>\n",
              "    </tr>\n",
              "    <tr>\n",
              "      <th>2</th>\n",
              "      <td>0.299785</td>\n",
              "      <td>0.123740</td>\n",
              "      <td>0.296035</td>\n",
              "      <td>0.131854</td>\n",
              "    </tr>\n",
              "    <tr>\n",
              "      <th>3</th>\n",
              "      <td>0.290100</td>\n",
              "      <td>0.141727</td>\n",
              "      <td>0.288603</td>\n",
              "      <td>0.150243</td>\n",
              "    </tr>\n",
              "    <tr>\n",
              "      <th>4</th>\n",
              "      <td>0.284126</td>\n",
              "      <td>0.157993</td>\n",
              "      <td>0.284809</td>\n",
              "      <td>0.165350</td>\n",
              "    </tr>\n",
              "    <tr>\n",
              "      <th>5</th>\n",
              "      <td>0.280806</td>\n",
              "      <td>0.170643</td>\n",
              "      <td>0.281790</td>\n",
              "      <td>0.176129</td>\n",
              "    </tr>\n",
              "    <tr>\n",
              "      <th>6</th>\n",
              "      <td>0.278738</td>\n",
              "      <td>0.179680</td>\n",
              "      <td>0.280017</td>\n",
              "      <td>0.184214</td>\n",
              "    </tr>\n",
              "    <tr>\n",
              "      <th>7</th>\n",
              "      <td>0.277180</td>\n",
              "      <td>0.187127</td>\n",
              "      <td>0.278783</td>\n",
              "      <td>0.190529</td>\n",
              "    </tr>\n",
              "    <tr>\n",
              "      <th>8</th>\n",
              "      <td>0.275965</td>\n",
              "      <td>0.193286</td>\n",
              "      <td>0.277740</td>\n",
              "      <td>0.198039</td>\n",
              "    </tr>\n",
              "    <tr>\n",
              "      <th>9</th>\n",
              "      <td>0.275077</td>\n",
              "      <td>0.198274</td>\n",
              "      <td>0.276913</td>\n",
              "      <td>0.199714</td>\n",
              "    </tr>\n",
              "  </tbody>\n",
              "</table>\n",
              "</div>"
            ],
            "text/plain": [
              "       loss  accuracy  val_loss  val_accuracy\n",
              "0  0.388281  0.075380  0.328883      0.094793\n",
              "1  0.315566  0.103992  0.308164      0.115446\n",
              "2  0.299785  0.123740  0.296035      0.131854\n",
              "3  0.290100  0.141727  0.288603      0.150243\n",
              "4  0.284126  0.157993  0.284809      0.165350\n",
              "5  0.280806  0.170643  0.281790      0.176129\n",
              "6  0.278738  0.179680  0.280017      0.184214\n",
              "7  0.277180  0.187127  0.278783      0.190529\n",
              "8  0.275965  0.193286  0.277740      0.198039\n",
              "9  0.275077  0.198274  0.276913      0.199714"
            ]
          },
          "execution_count": 195,
          "metadata": {},
          "output_type": "execute_result"
        }
      ],
      "source": [
        "history_dict = history.history\n",
        "df_history = pd.DataFrame(history_dict)\n",
        "df_history"
      ]
    },
    {
      "cell_type": "code",
      "execution_count": 196,
      "metadata": {},
      "outputs": [
        {
          "name": "stdout",
          "output_type": "stream",
          "text": [
            "313/313 [==============================] - 1s 1ms/step - loss: 0.2769 - accuracy: 0.1997\n",
            "313/313 [==============================] - 0s 1ms/step\n"
          ]
        }
      ],
      "source": [
        "model.compile(optimizer='adam', loss='binary_crossentropy', metrics=['accuracy'])\n",
        "evaluacion = model.evaluate(x_test, x_test)\n",
        "\n",
        "y_pred=model.predict(x_test)\n",
        "y_pred_class = np.argmax(y_pred, axis=1)\n",
        "\n"
      ]
    },
    {
      "cell_type": "code",
      "execution_count": 197,
      "metadata": {},
      "outputs": [
        {
          "name": "stdout",
          "output_type": "stream",
          "text": [
            "(10000, 28, 28)\n"
          ]
        },
        {
          "data": {
            "text/plain": [
              "(10000, 784)"
            ]
          },
          "execution_count": 197,
          "metadata": {},
          "output_type": "execute_result"
        }
      ],
      "source": [
        "print(x_test.shape)\n",
        "#redimensionamos las imagenes para poder mostrarlas\n",
        "x_test_flat = x_test.reshape(x_test.shape[0], -1)\n",
        "x_test_flat.shape"
      ]
    },
    {
      "cell_type": "markdown",
      "metadata": {},
      "source": [
        "Now that the model is trained, let's test it by encoding and decoding images from the test set."
      ]
    },
    {
      "cell_type": "code",
      "execution_count": 198,
      "metadata": {},
      "outputs": [],
      "source": [
        "\n",
        "enconded_imgs = model.layers[1](x_test_flat).numpy()\n",
        "decoded_imgs=model.layers[2](enconded_imgs).numpy()\n"
      ]
    },
    {
      "cell_type": "code",
      "execution_count": 199,
      "metadata": {},
      "outputs": [
        {
          "data": {
            "image/png": "[encoded data removed]",
            "text/plain": [
              "<Figure size 2000x600 with 16 Axes>"
            ]
          },
          "metadata": {},
          "output_type": "display_data"
        }
      ],
      "source": [
        "#graficamos las imaganes original y recosntrusidas\n",
        "plt.figure(figsize=(20,6))\n",
        "\n",
        "for i in range(8):\n",
        "    plt.subplot(2,8,i+1)\n",
        "    plt.imshow(x_test[i], cmap=\"gray\")\n",
        "    \n",
        "    \n",
        "    plt.subplot(2,8,i+9)\n",
        "    plt.imshow(decoded_imgs[i].reshape(28,28), cmap=\"gray\")\n"
      ]
    },
    {
      "cell_type": "markdown",
      "metadata": {},
      "source": [
        "## second example: Image denoising"
      ]
    },
    {
      "cell_type": "code",
      "execution_count": 200,
      "metadata": {},
      "outputs": [
        {
          "data": {
            "image/png": "[encoded data removed]",
            "text/plain": [
              "<Figure size 2000x600 with 16 Axes>"
            ]
          },
          "metadata": {},
          "output_type": "display_data"
        }
      ],
      "source": [
        "#graficamos las imaganes original y recosntrusidas\n",
        "plt.figure(figsize=(20,6))\n",
        "\n",
        "for i in range(8):\n",
        "    plt.subplot(2,8,i+1)\n",
        "    plt.imshow(x_test[i], cmap=\"gray\")\n",
        "    \n",
        "    \n",
        "    plt.subplot(2,8,i+9)\n",
        "    plt.imshow(decoded_imgs[i].reshape(28,28), cmap=\"gray\")"
      ]
    },
    {
      "cell_type": "markdown",
      "metadata": {
        "id": "r4gv6G8PoRQE"
      },
      "source": [
        "\n",
        "An autoencoder can also be trained to remove noise from images. In the following section, you will create a noisy version of the Fashion MNIST dataset by applying random noise to each image. You will then train an autoencoder using the noisy image as input, and the original image as the target.\n",
        "\n",
        "Let's reimport the dataset to omit the modifications made earlier."
      ]
    },
    {
      "cell_type": "code",
      "execution_count": 201,
      "metadata": {
        "id": "gDYHJA2PCQ3m"
      },
      "outputs": [],
      "source": [
        "df_minist = fashion_mnist.load_data()"
      ]
    },
    {
      "cell_type": "code",
      "execution_count": 202,
      "metadata": {
        "id": "uJZ-TcaqDBr5"
      },
      "outputs": [
        {
          "name": "stdout",
          "output_type": "stream",
          "text": [
            "(60000, 28, 28)\n",
            "(10000, 28, 28)\n"
          ]
        }
      ],
      "source": [
        "#cargamos daortos train y test normalizandolos al dividirlos entre 255\n",
        "x_train = x_train.astype('float32') / 255.\n",
        "x_test = x_test.astype('float32') / 255.\n",
        "print(x_train.shape)\n",
        "print(x_test.shape)"
      ]
    },
    {
      "cell_type": "markdown",
      "metadata": {},
      "source": [
        "agregamos 1 dimension mas "
      ]
    },
    {
      "cell_type": "code",
      "execution_count": 203,
      "metadata": {},
      "outputs": [
        {
          "name": "stdout",
          "output_type": "stream",
          "text": [
            "(60000, 28, 28, 1)\n"
          ]
        }
      ],
      "source": [
        "x_train = x_train[:,:,:, tf.newaxis]#cada ; es una dimension, y donde se pone tf.newasis añade una nueva dimension en esa posicion\n",
        "x_test = x_test[:,:,:, tf.newaxis]\n",
        "\n",
        "print(x_train.shape)"
      ]
    },
    {
      "cell_type": "markdown",
      "metadata": {
        "id": "aPZl_6P65_8R"
      },
      "source": [
        "añadimos ruido a las imagenes y las recalculamos para que tengan valores 0 y 1"
      ]
    },
    {
      "cell_type": "code",
      "execution_count": 204,
      "metadata": {
        "id": "axSMyxC354fc"
      },
      "outputs": [],
      "source": [
        "noise_factor = 0.5\n",
        "x_train_noisy = x_train + noise_factor * tf.random.normal(shape=x_train.shape) #funcion de tensor que crea untensor aleatorio con las mimsa forma en gausiana\n",
        "x_test_noisy = x_test + noise_factor * tf.random.normal(shape=x_test.shape) \n",
        "\n",
        "x_train_noisy = tf.clip_by_value(x_train_noisy, clip_value_min=0., clip_value_max=1.)#limita los valor al rango minimo de 0 y maximo de 1 por el tema de los pixeles\n",
        "x_test_noisy = tf.clip_by_value(x_test_noisy, clip_value_min=0., clip_value_max=1.)"
      ]
    },
    {
      "cell_type": "markdown",
      "metadata": {
        "id": "wRxHe4XXltNd"
      },
      "source": [
        "Plot the noisy images.\n"
      ]
    },
    {
      "cell_type": "code",
      "execution_count": 205,
      "metadata": {},
      "outputs": [
        {
          "data": {
            "text/plain": [
              "TensorShape([10000, 28, 28, 1])"
            ]
          },
          "execution_count": 205,
          "metadata": {},
          "output_type": "execute_result"
        }
      ],
      "source": [
        "x_test_noisy.shape"
      ]
    },
    {
      "cell_type": "markdown",
      "metadata": {},
      "source": [
        "le quitameos la dimension de mas para pintar"
      ]
    },
    {
      "cell_type": "code",
      "execution_count": 206,
      "metadata": {},
      "outputs": [
        {
          "data": {
            "text/plain": [
              "(10000, 28, 28)"
            ]
          },
          "execution_count": 206,
          "metadata": {},
          "output_type": "execute_result"
        }
      ],
      "source": [
        "x_test_pintar=x_test_noisy.numpy().reshape(-1, 28,28)\n",
        "x_test_pintar.shape"
      ]
    },
    {
      "cell_type": "code",
      "execution_count": 207,
      "metadata": {
        "id": "thKUmbVVCQpt"
      },
      "outputs": [
        {
          "data": {
            "image/png": "[encoded data removed]",
            "text/plain": [
              "<Figure size 2000x600 with 10 Axes>"
            ]
          },
          "metadata": {},
          "output_type": "display_data"
        }
      ],
      "source": [
        "\n",
        "plt.figure(figsize=(20, 6))\n",
        "for i in range(10):\n",
        "    ax = plt.subplot(1, 10, i + 1)\n",
        "    plt.title(\"orig con ruido\")\n",
        "    plt.imshow(x_test_pintar[i])#tf.squeeze elimna todas las dimensiones con el numero 1, se puede usar aqui directamente a x_test_noisy tb)\n",
        "    plt.gray()\n",
        "plt.show()"
      ]
    },
    {
      "cell_type": "markdown",
      "metadata": {},
      "source": [
        "hemos introduico rudio en las imagenes y ahoras con el autoencoder vamos a codificar con capas convolucionales, apliaciones de ellas y decodificar con la convolucion inversa mas una ca de ampliacion de pixeles"
      ]
    },
    {
      "cell_type": "code",
      "execution_count": 497,
      "metadata": {},
      "outputs": [],
      "source": [
        "from tensorflow import keras\n",
        "from tensorflow.keras.layers import Dense, Reshape, Conv2D, MaxPooling2D, UpSampling2D, Conv2DTranspose"
      ]
    },
    {
      "cell_type": "code",
      "execution_count": 507,
      "metadata": {},
      "outputs": [],
      "source": [
        "input_img = tf.keras.layers.Input(shape=(28,28,1))  \n",
        "\n",
        "model_encoded = tf.keras.models.Sequential([\n",
        "    input_img,\n",
        "    tf.keras.layers.Conv2D(128,(3,3), activation=\"relu\",padding=\"same\"),#realiza la convolucion de la imagen con el filtro parate a parte para dar una salida de un solo numero\n",
        "    tf.keras.layers.MaxPooling2D((2,2), padding=\"same\"),#realiza una reduccion de la imagen a 4x4\n",
        "    tf.keras.layers.Conv2D(64,(3,3), activation=\"relu\", padding=\"same\"),\n",
        "    tf.keras.layers.MaxPooling2D((2,2),padding=\"same\"),\n",
        "    tf.keras.layers.Conv2D(32, (3, 3), activation='relu', padding=\"same\"),\n",
        " \n",
        "\n",
        "])\n",
        "encoded = model_encoded(input_img)\n",
        "\n",
        "model_decoded = tf.keras.models.Sequential([\n",
        "    tf.keras.layers.Input(shape=(7,7,32)),\n",
        "    tf.keras.layers.UpSampling2D((2,2)),\n",
        "    tf.keras.layers.Conv2DTranspose(64,(3,3), activation=\"relu\",padding=\"same\"),#esta capa se encarga de realziar la operacion inversa a la capa concolucional, es decir descomprime la imagen\n",
        "    tf.keras.layers.UpSampling2D((2,2)),\n",
        "    tf.keras.layers.Conv2DTranspose(1,(3,3), activation=\"sigmoid\", padding=\"same\")\n",
        "    ])\n"
      ]
    },
    {
      "cell_type": "code",
      "execution_count": 508,
      "metadata": {},
      "outputs": [
        {
          "name": "stdout",
          "output_type": "stream",
          "text": [
            "Model: \"sequential_139\"\n",
            "_________________________________________________________________\n",
            " Layer (type)                Output Shape              Param #   \n",
            "=================================================================\n",
            " conv2d_165 (Conv2D)         (None, 28, 28, 128)       1280      \n",
            "                                                                 \n",
            " max_pooling2d_161 (MaxPool  (None, 14, 14, 128)       0         \n",
            " ing2D)                                                          \n",
            "                                                                 \n",
            " conv2d_166 (Conv2D)         (None, 14, 14, 64)        73792     \n",
            "                                                                 \n",
            " max_pooling2d_162 (MaxPool  (None, 7, 7, 64)          0         \n",
            " ing2D)                                                          \n",
            "                                                                 \n",
            " conv2d_167 (Conv2D)         (None, 7, 7, 32)          18464     \n",
            "                                                                 \n",
            "=================================================================\n",
            "Total params: 93536 (365.38 KB)\n",
            "Trainable params: 93536 (365.38 KB)\n",
            "Non-trainable params: 0 (0.00 Byte)\n",
            "_________________________________________________________________\n"
          ]
        }
      ],
      "source": [
        "model_encoded.summary()"
      ]
    },
    {
      "cell_type": "code",
      "execution_count": 509,
      "metadata": {},
      "outputs": [
        {
          "name": "stdout",
          "output_type": "stream",
          "text": [
            "Model: \"sequential_140\"\n",
            "_________________________________________________________________\n",
            " Layer (type)                Output Shape              Param #   \n",
            "=================================================================\n",
            " up_sampling2d_139 (UpSampl  (None, 14, 14, 32)        0         \n",
            " ing2D)                                                          \n",
            "                                                                 \n",
            " conv2d_transpose_140 (Conv  (None, 14, 14, 64)        18496     \n",
            " 2DTranspose)                                                    \n",
            "                                                                 \n",
            " up_sampling2d_140 (UpSampl  (None, 28, 28, 64)        0         \n",
            " ing2D)                                                          \n",
            "                                                                 \n",
            " conv2d_transpose_141 (Conv  (None, 28, 28, 1)         577       \n",
            " 2DTranspose)                                                    \n",
            "                                                                 \n",
            "=================================================================\n",
            "Total params: 19073 (74.50 KB)\n",
            "Trainable params: 19073 (74.50 KB)\n",
            "Non-trainable params: 0 (0.00 Byte)\n",
            "_________________________________________________________________\n"
          ]
        }
      ],
      "source": [
        "model_decoded.summary()"
      ]
    },
    {
      "cell_type": "code",
      "execution_count": 510,
      "metadata": {},
      "outputs": [],
      "source": [
        "encoded=...\n",
        "decoded=..."
      ]
    },
    {
      "cell_type": "code",
      "execution_count": 511,
      "metadata": {},
      "outputs": [
        {
          "name": "stdout",
          "output_type": "stream",
          "text": [
            "(None, 7, 7, 32)\n"
          ]
        }
      ],
      "source": [
        "#aaplicamos una entrada de imagen a encoded\n",
        "encoded=model_encoded(input_img)\n",
        "print(encoded.shape)\n"
      ]
    },
    {
      "cell_type": "code",
      "execution_count": 512,
      "metadata": {},
      "outputs": [
        {
          "name": "stdout",
          "output_type": "stream",
          "text": [
            "(None, 28, 28, 1)\n"
          ]
        }
      ],
      "source": [
        "decoded= model_decoded(encoded)\n",
        "print(decoded.shape)"
      ]
    },
    {
      "cell_type": "code",
      "execution_count": 513,
      "metadata": {},
      "outputs": [],
      "source": [
        "decoded = model_decoded(encoded)"
      ]
    },
    {
      "cell_type": "code",
      "execution_count": 514,
      "metadata": {},
      "outputs": [],
      "source": [
        "autoencoder = keras.Model(inputs=input_img, outputs=decoded)"
      ]
    },
    {
      "cell_type": "code",
      "execution_count": 515,
      "metadata": {},
      "outputs": [
        {
          "name": "stdout",
          "output_type": "stream",
          "text": [
            "(None, 7, 7, 32)\n",
            "<dtype: 'float32'>\n",
            "(None, 28, 28, 1)\n",
            "<dtype: 'float32'>\n"
          ]
        }
      ],
      "source": [
        "print(encoded.shape) \n",
        "print(encoded.dtype) \n",
        "print(decoded.shape) \n",
        "print(decoded.dtype)\n"
      ]
    },
    {
      "cell_type": "code",
      "execution_count": 516,
      "metadata": {},
      "outputs": [
        {
          "name": "stdout",
          "output_type": "stream",
          "text": [
            "Model: \"model_7\"\n",
            "_________________________________________________________________\n",
            " Layer (type)                Output Shape              Param #   \n",
            "=================================================================\n",
            " input_127 (InputLayer)      [(None, 28, 28, 1)]       0         \n",
            "                                                                 \n",
            " sequential_139 (Sequential  (None, 7, 7, 32)          93536     \n",
            " )                                                               \n",
            "                                                                 \n",
            " sequential_140 (Sequential  (None, 28, 28, 1)         19073     \n",
            " )                                                               \n",
            "                                                                 \n",
            "=================================================================\n",
            "Total params: 112609 (439.88 KB)\n",
            "Trainable params: 112609 (439.88 KB)\n",
            "Non-trainable params: 0 (0.00 Byte)\n",
            "_________________________________________________________________\n"
          ]
        }
      ],
      "source": [
        "autoencoder.summary()"
      ]
    },
    {
      "cell_type": "code",
      "execution_count": 517,
      "metadata": {},
      "outputs": [
        {
          "name": "stdout",
          "output_type": "stream",
          "text": [
            "Epoch 1/10\n",
            "235/235 [==============================] - 82s 344ms/step - loss: 0.0214 - accuracy: 0.5020 - val_loss: 0.0086 - val_accuracy: 0.4999\n",
            "Epoch 2/10\n",
            "235/235 [==============================] - 81s 344ms/step - loss: 0.0086 - accuracy: 0.5021 - val_loss: 0.0086 - val_accuracy: 0.4999\n",
            "Epoch 3/10\n",
            "235/235 [==============================] - 79s 337ms/step - loss: 0.0085 - accuracy: 0.5021 - val_loss: 0.0085 - val_accuracy: 0.4999\n",
            "Epoch 4/10\n",
            "235/235 [==============================] - 80s 339ms/step - loss: 0.0085 - accuracy: 0.5021 - val_loss: 0.0085 - val_accuracy: 0.4999\n",
            "Epoch 5/10\n",
            "235/235 [==============================] - 80s 339ms/step - loss: 0.0085 - accuracy: 0.5021 - val_loss: 0.0085 - val_accuracy: 0.4999\n",
            "Epoch 6/10\n",
            "235/235 [==============================] - 79s 337ms/step - loss: 0.0085 - accuracy: 0.5021 - val_loss: 0.0085 - val_accuracy: 0.4999\n",
            "Epoch 7/10\n",
            "235/235 [==============================] - 79s 336ms/step - loss: 0.0084 - accuracy: 0.5021 - val_loss: 0.0085 - val_accuracy: 0.4999\n",
            "Epoch 8/10\n",
            "235/235 [==============================] - 81s 343ms/step - loss: 0.0084 - accuracy: 0.5021 - val_loss: 0.0085 - val_accuracy: 0.4999\n",
            "Epoch 9/10\n",
            "235/235 [==============================] - 85s 360ms/step - loss: 0.0084 - accuracy: 0.5021 - val_loss: 0.0085 - val_accuracy: 0.4999\n",
            "Epoch 10/10\n",
            "235/235 [==============================] - 79s 337ms/step - loss: 0.0084 - accuracy: 0.5021 - val_loss: 0.0085 - val_accuracy: 0.4999\n"
          ]
        }
      ],
      "source": [
        "autoencoder.compile(optimizer=\"adam\", loss=\"binary_crossentropy\", metrics=[\"accuracy\"])\n",
        "\n",
        "historia=autoencoder.fit(x_train_noisy, x_train, epochs=10, batch_size=256, validation_data=(x_test_noisy, x_test))"
      ]
    },
    {
      "cell_type": "code",
      "execution_count": 524,
      "metadata": {},
      "outputs": [
        {
          "name": "stdout",
          "output_type": "stream",
          "text": [
            "313/313 [==============================] - 5s 16ms/step\n"
          ]
        }
      ],
      "source": [
        "encoder_img= autoencoder.predict(x_test)"
      ]
    },
    {
      "cell_type": "code",
      "execution_count": 526,
      "metadata": {},
      "outputs": [
        {
          "name": "stdout",
          "output_type": "stream",
          "text": [
            "313/313 [==============================] - 5s 15ms/step\n"
          ]
        }
      ],
      "source": [
        "decoder_img= autoencoder.predict(encoder_img)"
      ]
    },
    {
      "cell_type": "code",
      "execution_count": 530,
      "metadata": {},
      "outputs": [
        {
          "data": {
            "image/png": "[encoded data removed]",
            "text/plain": [
              "<Figure size 2000x600 with 20 Axes>"
            ]
          },
          "metadata": {},
          "output_type": "display_data"
        }
      ],
      "source": [
        "plt.figure(figsize=(20, 6))\n",
        "for i in range(10):\n",
        "    plt.subplot(2, 10, i + 1)\n",
        "    plt.title(\"original + noise\")\n",
        "    plt.imshow(tf.squeeze(x_test_noisy[i]))#quita las dimensiones que sean 1\n",
        "    plt.gray()\n",
        "     \n",
        "    plt.subplot(2, 10, i + 10 + 1)\n",
        "    plt.title(\"reconstruccion\")\n",
        "    plt.imshow(tf.squeeze(decoder_img[i]))\n",
        "    plt.gray()\n",
        "   \n",
        "plt.show()"
      ]
    },
    {
      "cell_type": "markdown",
      "metadata": {
        "id": "vT_BhZngWMwp"
      },
      "source": [
        "In this example, you will train a convolutional autoencoder using  [Conv2D](https://www.tensorflow.org/api_docs/python/tf/keras/layers/Conv2D) layers in the `encoder`, and [Conv2DTranspose](https://www.tensorflow.org/api_docs/python/tf/keras/layers/Conv2DTranspose) layers in the `decoder`."
      ]
    },
    {
      "cell_type": "markdown",
      "metadata": {
        "id": "ErGrTnWHoUYl"
      },
      "source": [
        "## Third example: Anomaly detection\n",
        "\n",
        "## Overview\n",
        "\n",
        "\n",
        "In this example, you will train an autoencoder to detect anomalies on the [ECG5000 dataset](http://www.timeseriesclassification.com/description.php?Dataset=ECG5000). This dataset contains 5,000 [Electrocardiograms](https://en.wikipedia.org/wiki/Electrocardiography), each with 140 data points. You will use a simplified version of the dataset, where each example has been labeled either `0` (corresponding to an abnormal rhythm), or `1` (corresponding to a normal rhythm). You are interested in identifying the abnormal rhythms.\n",
        "\n",
        "Note: This is a labeled dataset, so you could phrase this as a supervised learning problem. The goal of this example is to illustrate anomaly detection concepts you can apply to larger datasets, where you do not have labels available (for example, if you had many thousands of normal rhythms, and only a small number of abnormal rhythms).\n",
        "\n",
        "How will you detect anomalies using an autoencoder? Recall that an autoencoder is trained to minimize reconstruction error. You will train an autoencoder on the normal rhythms only, then use it to reconstruct all the data. Our hypothesis is that the abnormal rhythms will have higher reconstruction error. You will then classify a rhythm as an anomaly if the reconstruction error surpasses a fixed threshold."
      ]
    },
    {
      "cell_type": "markdown",
      "metadata": {
        "id": "i5estNaur_Mh"
      },
      "source": [
        "### Load ECG data"
      ]
    },
    {
      "cell_type": "markdown",
      "metadata": {
        "id": "y35nsXLPsDNX"
      },
      "source": [
        "The dataset you will use is based on one from [timeseriesclassification.com](http://www.timeseriesclassification.com/description.php?Dataset=ECG5000).\n"
      ]
    },
    {
      "cell_type": "code",
      "execution_count": null,
      "metadata": {
        "id": "KmKRDJWgsFYa"
      },
      "outputs": [],
      "source": [
        "# Download the dataset\n",
        "dataframe = pd.read_csv('http://storage.googleapis.com/download.tensorflow.org/data/ecg.csv', header=None)\n",
        "raw_data = dataframe.values\n",
        "dataframe.head()"
      ]
    },
    {
      "cell_type": "code",
      "execution_count": null,
      "metadata": {
        "id": "UmuCPVYKsKKx"
      },
      "outputs": [],
      "source": [
        "# The last element contains the labels\n",
        "labels = raw_data[:, -1]\n",
        "\n",
        "# The other data points are the electrocadriogram data\n",
        "data = raw_data[:, 0:-1]\n",
        "\n",
        "train_data, test_data, train_labels, test_labels = train_test_split(\n",
        "    data, labels, test_size=0.2, random_state=21\n",
        ")"
      ]
    },
    {
      "cell_type": "markdown",
      "metadata": {
        "id": "byK2vP7hsMbz"
      },
      "source": [
        "Normalize the data to `[0,1]`.\n"
      ]
    },
    {
      "cell_type": "code",
      "execution_count": null,
      "metadata": {
        "id": "tgMZVWRKsPx6"
      },
      "outputs": [],
      "source": [
        "min_val = tf.reduce_min(train_data)\n",
        "max_val = tf.reduce_max(train_data)\n",
        "\n",
        "train_data = (train_data - min_val) / (max_val - min_val)\n",
        "test_data = (test_data - min_val) / (max_val - min_val)\n",
        "\n",
        "train_data = tf.cast(train_data, tf.float32)\n",
        "test_data = tf.cast(test_data, tf.float32)"
      ]
    },
    {
      "cell_type": "markdown",
      "metadata": {
        "id": "BdSYr2IPsTiz"
      },
      "source": [
        "You will train the autoencoder using only the normal rhythms, which are labeled in this dataset as `1`. Separate the normal rhythms from the abnormal rhythms."
      ]
    },
    {
      "cell_type": "code",
      "execution_count": null,
      "metadata": {
        "id": "VvK4NRe8sVhE"
      },
      "outputs": [],
      "source": [
        "train_labels = train_labels.astype(bool)\n",
        "test_labels = test_labels.astype(bool)\n",
        "\n",
        "normal_train_data = train_data[train_labels]\n",
        "normal_test_data = test_data[test_labels]\n",
        "\n",
        "anomalous_train_data = train_data[~train_labels]\n",
        "anomalous_test_data = test_data[~test_labels]"
      ]
    },
    {
      "cell_type": "markdown",
      "metadata": {
        "id": "wVcTBDo-CqFS"
      },
      "source": [
        "Plot a normal ECG. "
      ]
    },
    {
      "cell_type": "code",
      "execution_count": null,
      "metadata": {
        "id": "ZTlMIrpmseYe"
      },
      "outputs": [],
      "source": [
        "plt.grid()\n",
        "plt.plot(np.arange(140), normal_train_data[0])\n",
        "plt.title(\"A Normal ECG\")\n",
        "plt.show()"
      ]
    },
    {
      "cell_type": "markdown",
      "metadata": {
        "id": "QpI9by2ZA0NN"
      },
      "source": [
        "Plot an anomalous ECG."
      ]
    },
    {
      "cell_type": "code",
      "execution_count": null,
      "metadata": {
        "id": "zrpXREF2siBr"
      },
      "outputs": [],
      "source": [
        "plt.grid()\n",
        "plt.plot(np.arange(140), anomalous_train_data[0])\n",
        "plt.title(\"An Anomalous ECG\")\n",
        "plt.show()"
      ]
    },
    {
      "cell_type": "markdown",
      "metadata": {
        "id": "0DS6QKZJslZz"
      },
      "source": [
        "### Build the model"
      ]
    },
    {
      "cell_type": "code",
      "execution_count": null,
      "metadata": {
        "id": "bf6owZQDsp9y"
      },
      "outputs": [],
      "source": [
        "class AnomalyDetector(Model):\n",
        "  def __init__(self):\n",
        "    super(AnomalyDetector, self).__init__()\n",
        "    self.encoder = tf.keras.Sequential([\n",
        "      layers.Dense(32, activation=\"relu\"),\n",
        "      layers.Dense(16, activation=\"relu\"),\n",
        "      layers.Dense(8, activation=\"relu\")])\n",
        "    \n",
        "    self.decoder = tf.keras.Sequential([\n",
        "      layers.Dense(16, activation=\"relu\"),\n",
        "      layers.Dense(32, activation=\"relu\"),\n",
        "      layers.Dense(140, activation=\"sigmoid\")])\n",
        "    \n",
        "  def call(self, x):\n",
        "    encoded = self.encoder(x)\n",
        "    decoded = self.decoder(encoded)\n",
        "    return decoded\n",
        "\n",
        "autoencoder = AnomalyDetector()"
      ]
    },
    {
      "cell_type": "code",
      "execution_count": null,
      "metadata": {
        "id": "gwRpBBbg463S"
      },
      "outputs": [],
      "source": [
        "autoencoder.compile(optimizer='adam', loss='mae')"
      ]
    },
    {
      "cell_type": "markdown",
      "metadata": {
        "id": "zuTy60STBEy4"
      },
      "source": [
        "Notice that the autoencoder is trained using only the normal ECGs, but is evaluated using the full test set."
      ]
    },
    {
      "cell_type": "code",
      "execution_count": null,
      "metadata": {
        "id": "V6NFSs-jsty2"
      },
      "outputs": [],
      "source": [
        "history = autoencoder.fit(normal_train_data, normal_train_data, \n",
        "          epochs=20, \n",
        "          batch_size=512,\n",
        "          validation_data=(test_data, test_data),\n",
        "          shuffle=True)"
      ]
    },
    {
      "cell_type": "code",
      "execution_count": null,
      "metadata": {
        "id": "OEexphFwwTQS"
      },
      "outputs": [],
      "source": [
        "plt.plot(history.history[\"loss\"], label=\"Training Loss\")\n",
        "plt.plot(history.history[\"val_loss\"], label=\"Validation Loss\")\n",
        "plt.legend()"
      ]
    },
    {
      "cell_type": "markdown",
      "metadata": {
        "id": "ceI5lKv1BT-A"
      },
      "source": [
        "You will soon classify an ECG as anomalous if the reconstruction error is greater than one standard deviation from the normal training examples. First, let's plot a normal ECG from the training set, the reconstruction after it's encoded and decoded by the autoencoder, and the reconstruction error."
      ]
    },
    {
      "cell_type": "code",
      "execution_count": null,
      "metadata": {
        "id": "hmsk4DuktxJ2"
      },
      "outputs": [],
      "source": [
        "encoded_data = autoencoder.encoder(normal_test_data).numpy()\n",
        "decoded_data = autoencoder.decoder(encoded_data).numpy()\n",
        "\n",
        "plt.plot(normal_test_data[0], 'b')\n",
        "plt.plot(decoded_data[0], 'r')\n",
        "plt.fill_between(np.arange(140), decoded_data[0], normal_test_data[0], color='lightcoral')\n",
        "plt.legend(labels=[\"Input\", \"Reconstruction\", \"Error\"])\n",
        "plt.show()"
      ]
    },
    {
      "cell_type": "markdown",
      "metadata": {
        "id": "ocA_q9ufB_aF"
      },
      "source": [
        "Create a similar plot, this time for an anomalous test example."
      ]
    },
    {
      "cell_type": "code",
      "execution_count": null,
      "metadata": {
        "id": "vNFTuPhLwTBn"
      },
      "outputs": [],
      "source": [
        "encoded_data = autoencoder.encoder(anomalous_test_data).numpy()\n",
        "decoded_data = autoencoder.decoder(encoded_data).numpy()\n",
        "\n",
        "plt.plot(anomalous_test_data[0], 'b')\n",
        "plt.plot(decoded_data[0], 'r')\n",
        "plt.fill_between(np.arange(140), decoded_data[0], anomalous_test_data[0], color='lightcoral')\n",
        "plt.legend(labels=[\"Input\", \"Reconstruction\", \"Error\"])\n",
        "plt.show()"
      ]
    },
    {
      "cell_type": "markdown",
      "metadata": {
        "id": "ocimg3MBswdS"
      },
      "source": [
        "### Detect anomalies"
      ]
    },
    {
      "cell_type": "markdown",
      "metadata": {
        "id": "Xnh8wmkDsypN"
      },
      "source": [
        "Detect anomalies by calculating whether the reconstruction loss is greater than a fixed threshold. In this tutorial, you will calculate the mean average error for normal examples from the training set, then classify future examples as anomalous if the reconstruction error is higher than one standard deviation from the training set.\n"
      ]
    },
    {
      "cell_type": "markdown",
      "metadata": {
        "id": "TeuT8uTA5Y_w"
      },
      "source": [
        "Plot the reconstruction error on normal ECGs from the training set"
      ]
    },
    {
      "cell_type": "code",
      "execution_count": null,
      "metadata": {
        "id": "N7FltOnHu4-l"
      },
      "outputs": [],
      "source": [
        "reconstructions = autoencoder.predict(normal_train_data)\n",
        "train_loss = tf.keras.losses.mae(reconstructions, normal_train_data)\n",
        "\n",
        "plt.hist(train_loss[None,:], bins=50)\n",
        "plt.xlabel(\"Train loss\")\n",
        "plt.ylabel(\"No of examples\")\n",
        "plt.show()"
      ]
    },
    {
      "cell_type": "markdown",
      "metadata": {
        "id": "mh-3ChEF5hog"
      },
      "source": [
        "Choose a threshold value that is one standard deviations above the mean."
      ]
    },
    {
      "cell_type": "code",
      "execution_count": null,
      "metadata": {
        "id": "82hkl0Chs3P_"
      },
      "outputs": [],
      "source": [
        "threshold = np.mean(train_loss) + np.std(train_loss)\n",
        "print(\"Threshold: \", threshold)"
      ]
    },
    {
      "cell_type": "markdown",
      "metadata": {
        "id": "uEGlA1Be50Nj"
      },
      "source": [
        "Note: There are other strategies you could use to select a threshold value above which test examples should be classified as anomalous, the correct approach will depend on your dataset. You can learn more with the links at the end of this tutorial. "
      ]
    },
    {
      "cell_type": "markdown",
      "metadata": {
        "id": "zpLSDAeb51D_"
      },
      "source": [
        "If you examine the reconstruction error for the anomalous examples in the test set, you'll notice most have greater reconstruction error than the threshold. By varing the threshold, you can adjust the [precision](https://developers.google.com/machine-learning/glossary#precision) and [recall](https://developers.google.com/machine-learning/glossary#recall) of your classifier. "
      ]
    },
    {
      "cell_type": "code",
      "execution_count": null,
      "metadata": {
        "id": "sKVwjQK955Wy"
      },
      "outputs": [],
      "source": [
        "reconstructions = autoencoder.predict(anomalous_test_data)\n",
        "test_loss = tf.keras.losses.mae(reconstructions, anomalous_test_data)\n",
        "\n",
        "plt.hist(test_loss[None, :], bins=50)\n",
        "plt.xlabel(\"Test loss\")\n",
        "plt.ylabel(\"No of examples\")\n",
        "plt.show()"
      ]
    },
    {
      "cell_type": "markdown",
      "metadata": {
        "id": "PFVk_XGE6AX2"
      },
      "source": [
        "Classify an ECG as an anomaly if the reconstruction error is greater than the threshold."
      ]
    },
    {
      "cell_type": "code",
      "execution_count": null,
      "metadata": {
        "id": "mkgJZfhh6CHr"
      },
      "outputs": [],
      "source": [
        "def predict(model, data, threshold):\n",
        "  reconstructions = model(data)\n",
        "  loss = tf.keras.losses.mae(reconstructions, data)\n",
        "  return tf.math.less(loss, threshold)\n",
        "\n",
        "def print_stats(predictions, labels):\n",
        "  print(\"Accuracy = {}\".format(accuracy_score(labels, predictions)))\n",
        "  print(\"Precision = {}\".format(precision_score(labels, predictions)))\n",
        "  print(\"Recall = {}\".format(recall_score(labels, predictions)))"
      ]
    },
    {
      "cell_type": "code",
      "execution_count": null,
      "metadata": {
        "id": "sOcfXfXq6FBd"
      },
      "outputs": [],
      "source": [
        "preds = predict(autoencoder, test_data, threshold)\n",
        "print_stats(preds, test_labels)"
      ]
    },
    {
      "cell_type": "markdown",
      "metadata": {
        "id": "HrJRef8Ln945"
      },
      "source": [
        "## Next steps\n",
        "\n",
        "To learn more about anomaly detection with autoencoders, check out this excellent [interactive example](https://anomagram.fastforwardlabs.com/#/) built with TensorFlow.js by Victor Dibia. For a real-world use case, you can learn how [Airbus Detects Anomalies in ISS Telemetry Data](https://blog.tensorflow.org/2020/04/how-airbus-detects-anomalies-iss-telemetry-data-tfx.html) using TensorFlow. To learn more about the basics, consider reading this [blog post](https://blog.keras.io/building-autoencoders-in-keras.html) by François Chollet. For more details, check out chapter 14 from [Deep Learning](https://www.deeplearningbook.org/) by Ian Goodfellow, Yoshua Bengio, and Aaron Courville.\n"
      ]
    }
  ],
  "metadata": {
    "accelerator": "GPU",
    "colab": {
      "collapsed_sections": [],
      "name": "autoencoder.ipynb",
      "toc_visible": true
    },
    "kernelspec": {
      "display_name": "Python 3",
      "name": "python3"
    },
    "language_info": {
      "codemirror_mode": {
        "name": "ipython",
        "version": 3
      },
      "file_extension": ".py",
      "mimetype": "text/x-python",
      "name": "python",
      "nbconvert_exporter": "python",
      "pygments_lexer": "ipython3",
      "version": "3.8.19"
    }
  },
  "nbformat": 4,
  "nbformat_minor": 0
}
